{
 "cells": [
  {
   "cell_type": "code",
   "execution_count": 2,
   "id": "cac52b90-5b22-46e0-9d7c-e318ef53a925",
   "metadata": {
    "tags": []
   },
   "outputs": [],
   "source": [
    "import math\n",
    "import statistics\n",
    "import numpy as np\n",
    "import scipy.stats\n",
    "import pandas as pd"
   ]
  },
  {
   "cell_type": "code",
   "execution_count": 3,
   "id": "3605b934-35d5-4c58-b8a0-cedf5165950b",
   "metadata": {
    "tags": []
   },
   "outputs": [
    {
     "name": "stdout",
     "output_type": "stream",
     "text": [
      "[8.0, 1, 2.5, 4, 28.0]\n",
      "[8.0, 1, 2.5, nan, 4, 28.0]\n"
     ]
    }
   ],
   "source": [
    "x = [8.0, 1, 2.5, 4, 28.0]\n",
    "x_with_nan = [8.0, 1, 2.5, math.nan, 4, 28.0]\n",
    "print(x)\n",
    "print(x_with_nan)"
   ]
  },
  {
   "cell_type": "code",
   "execution_count": 4,
   "id": "8a634b71-7d7b-462c-866e-d8c634c08b12",
   "metadata": {
    "tags": []
   },
   "outputs": [
    {
     "name": "stdout",
     "output_type": "stream",
     "text": [
      "[ 8.   1.   2.5  4.  28. ]\n",
      "[ 8.   1.   2.5  nan  4.  28. ]\n",
      "0     8.0\n",
      "1     1.0\n",
      "2     2.5\n",
      "3     4.0\n",
      "4    28.0\n",
      "dtype: float64\n",
      "0     8.0\n",
      "1     1.0\n",
      "2     2.5\n",
      "3     NaN\n",
      "4     4.0\n",
      "5    28.0\n",
      "dtype: float64\n"
     ]
    }
   ],
   "source": [
    "y, y_with_nan = np.array(x), np.array(x_with_nan)\n",
    "z, z_with_nan = pd.Series(x), pd.Series(x_with_nan)\n",
    "print(y)\n",
    "print(y_with_nan)\n",
    "print(z)\n",
    "print(z_with_nan)"
   ]
  },
  {
   "cell_type": "code",
   "execution_count": 5,
   "id": "484f3dff-e568-4b05-882b-3ca727c6095b",
   "metadata": {
    "tags": []
   },
   "outputs": [],
   "source": [
    "#measures of central tendency "
   ]
  },
  {
   "cell_type": "code",
   "execution_count": 7,
   "id": "99d621db-2f74-4d23-b75f-604f8d3321be",
   "metadata": {
    "tags": []
   },
   "outputs": [
    {
     "data": {
      "text/plain": [
       "8.7"
      ]
     },
     "execution_count": 7,
     "metadata": {},
     "output_type": "execute_result"
    }
   ],
   "source": [
    "mean_ = sum(x) / len(x)\n",
    "mean_"
   ]
  },
  {
   "cell_type": "code",
   "execution_count": 8,
   "id": "9f78e5de-8d03-4211-bba0-f7401f829689",
   "metadata": {
    "tags": []
   },
   "outputs": [
    {
     "name": "stdout",
     "output_type": "stream",
     "text": [
      "8.7\n"
     ]
    }
   ],
   "source": [
    "mean_ = statistics.mean(x)\n",
    "print(mean_)"
   ]
  },
  {
   "cell_type": "code",
   "execution_count": 9,
   "id": "0661d030-1640-4d12-825b-006299fe04cc",
   "metadata": {
    "tags": []
   },
   "outputs": [
    {
     "name": "stdout",
     "output_type": "stream",
     "text": [
      "nan\n"
     ]
    }
   ],
   "source": [
    "mean_ = statistics.mean(x_with_nan)\n",
    "print(mean_)"
   ]
  },
  {
   "cell_type": "code",
   "execution_count": 10,
   "id": "17f24245-4742-4c34-8cd2-b45a11a1a0a2",
   "metadata": {
    "tags": []
   },
   "outputs": [
    {
     "data": {
      "text/plain": [
       "nan"
      ]
     },
     "execution_count": 10,
     "metadata": {},
     "output_type": "execute_result"
    }
   ],
   "source": [
    "sum(x_with_nan)"
   ]
  },
  {
   "cell_type": "code",
   "execution_count": 11,
   "id": "bf8ec5e8-eb2f-40ef-9664-d1634eff7126",
   "metadata": {
    "tags": []
   },
   "outputs": [
    {
     "data": {
      "text/plain": [
       "8.7"
      ]
     },
     "execution_count": 11,
     "metadata": {},
     "output_type": "execute_result"
    }
   ],
   "source": [
    "mean_ = np.mean(y)\n",
    "mean_"
   ]
  },
  {
   "cell_type": "code",
   "execution_count": 12,
   "id": "3092f349-2fd9-46eb-91a3-b767eac56749",
   "metadata": {
    "tags": []
   },
   "outputs": [
    {
     "data": {
      "text/plain": [
       "8.7"
      ]
     },
     "execution_count": 12,
     "metadata": {},
     "output_type": "execute_result"
    }
   ],
   "source": [
    "mean_ = y.mean()\n",
    "mean_"
   ]
  },
  {
   "cell_type": "code",
   "execution_count": 13,
   "id": "7c6107cb-f654-41c1-89e6-d23fa61c1e0a",
   "metadata": {
    "tags": []
   },
   "outputs": [
    {
     "name": "stdout",
     "output_type": "stream",
     "text": [
      "nan\n",
      "nan\n"
     ]
    }
   ],
   "source": [
    "print(np.mean(y_with_nan))\n",
    "print(y_with_nan.mean())"
   ]
  },
  {
   "cell_type": "code",
   "execution_count": 14,
   "id": "b1eb1f19-c2f3-47ef-9045-6cdf4e9d7d74",
   "metadata": {
    "tags": []
   },
   "outputs": [
    {
     "data": {
      "text/plain": [
       "8.7"
      ]
     },
     "execution_count": 14,
     "metadata": {},
     "output_type": "execute_result"
    }
   ],
   "source": [
    "np.nanmean(y_with_nan)"
   ]
  },
  {
   "cell_type": "code",
   "execution_count": 15,
   "id": "794f5511-33e2-4925-b58f-952132d02778",
   "metadata": {
    "tags": []
   },
   "outputs": [
    {
     "data": {
      "text/plain": [
       "8.7"
      ]
     },
     "execution_count": 15,
     "metadata": {},
     "output_type": "execute_result"
    }
   ],
   "source": [
    "mean = z.mean()\n",
    "mean_"
   ]
  },
  {
   "cell_type": "code",
   "execution_count": 16,
   "id": "e7c0d488-4dac-41a6-8422-5193182adfb5",
   "metadata": {
    "tags": []
   },
   "outputs": [
    {
     "data": {
      "text/plain": [
       "8.7"
      ]
     },
     "execution_count": 16,
     "metadata": {},
     "output_type": "execute_result"
    }
   ],
   "source": [
    "z_with_nan.mean()"
   ]
  },
  {
   "cell_type": "code",
   "execution_count": 17,
   "id": "e98fe2b0-0f4c-4630-aa00-c4e8219000dc",
   "metadata": {
    "tags": []
   },
   "outputs": [],
   "source": [
    "#Weighted Mean"
   ]
  },
  {
   "cell_type": "code",
   "execution_count": 19,
   "id": "729a8d17-be19-4553-9b28-889e59e59993",
   "metadata": {
    "tags": []
   },
   "outputs": [
    {
     "name": "stdout",
     "output_type": "stream",
     "text": [
      "6.95\n",
      "6.95\n"
     ]
    }
   ],
   "source": [
    "x = [8.0, 1, 2.5, 4, 28.0]\n",
    "w = [0.1, 0.2, 0.3, 0.25, 0.15]\n",
    "\n",
    "wmean = sum(w[i] * x[i] for i in range(len(x))) / sum(w)\n",
    "print(wmean)\n",
    "            \n",
    "wmean = sum(x_ * w_ for (x_, w_) in zip(x, w)) / sum(w)\n",
    "print(wmean)"
   ]
  },
  {
   "cell_type": "code",
   "execution_count": 20,
   "id": "f9f40fd1-dda4-45a8-ad64-f3cc1c8ada76",
   "metadata": {
    "tags": []
   },
   "outputs": [
    {
     "name": "stdout",
     "output_type": "stream",
     "text": [
      "6.95\n",
      "6.95\n"
     ]
    }
   ],
   "source": [
    "y, z, w = np.array(x), pd.Series(x), np.array(w)\n",
    "\n",
    "wmean = np.average(y, weights = w)\n",
    "print(wmean)\n",
    "\n",
    "wmean = np.average(z, weights = w)\n",
    "print(wmean)"
   ]
  },
  {
   "cell_type": "code",
   "execution_count": 21,
   "id": "9c0cea54-a8c9-4adc-bb2f-99022aa94035",
   "metadata": {
    "tags": []
   },
   "outputs": [
    {
     "data": {
      "text/plain": [
       "6.95"
      ]
     },
     "execution_count": 21,
     "metadata": {},
     "output_type": "execute_result"
    }
   ],
   "source": [
    "(w * y).sum() / w.sum()"
   ]
  },
  {
   "cell_type": "code",
   "execution_count": 22,
   "id": "fb5fabc6-4cb6-4dda-b85f-561e509b2cb0",
   "metadata": {
    "tags": []
   },
   "outputs": [],
   "source": [
    "#HARMONIC MEAN"
   ]
  },
  {
   "cell_type": "code",
   "execution_count": 23,
   "id": "1588d80b-ddf1-4f03-a3fd-91f713b99a9d",
   "metadata": {
    "tags": []
   },
   "outputs": [
    {
     "data": {
      "text/plain": [
       "2.7613412228796843"
      ]
     },
     "execution_count": 23,
     "metadata": {},
     "output_type": "execute_result"
    }
   ],
   "source": [
    "hmean = len(x)/ sum(1 / item for item in x)\n",
    "hmean"
   ]
  },
  {
   "cell_type": "code",
   "execution_count": 24,
   "id": "4fbe2a8d-817a-4997-af26-e15fbefff13a",
   "metadata": {
    "tags": []
   },
   "outputs": [
    {
     "data": {
      "text/plain": [
       "2.7613412228796843"
      ]
     },
     "execution_count": 24,
     "metadata": {},
     "output_type": "execute_result"
    }
   ],
   "source": [
    "hmean = statistics.harmonic_mean(x)\n",
    "hmean"
   ]
  },
  {
   "cell_type": "code",
   "execution_count": 25,
   "id": "3c4d433c-7cd5-49e8-a4af-103c502a9248",
   "metadata": {
    "tags": []
   },
   "outputs": [
    {
     "data": {
      "text/plain": [
       "2.7613412228796843"
      ]
     },
     "execution_count": 25,
     "metadata": {},
     "output_type": "execute_result"
    }
   ],
   "source": [
    "scipy.stats.hmean(z)"
   ]
  },
  {
   "cell_type": "code",
   "execution_count": 26,
   "id": "c4b4044a-639e-4ce6-afd4-73f4dabc1ae1",
   "metadata": {
    "tags": []
   },
   "outputs": [
    {
     "data": {
      "text/plain": [
       "2.7613412228796843"
      ]
     },
     "execution_count": 26,
     "metadata": {},
     "output_type": "execute_result"
    }
   ],
   "source": [
    "scipy.stats.hmean(y)"
   ]
  },
  {
   "cell_type": "code",
   "execution_count": 27,
   "id": "02712c46-7c5e-44ed-ba6f-639e8340617c",
   "metadata": {
    "tags": []
   },
   "outputs": [],
   "source": [
    "#GEOMETRIC MEAN"
   ]
  },
  {
   "cell_type": "code",
   "execution_count": 28,
   "id": "5badff61-423a-4721-a4ba-ec3097bb8cf5",
   "metadata": {
    "tags": []
   },
   "outputs": [
    {
     "data": {
      "text/plain": [
       "4.677885674856041"
      ]
     },
     "execution_count": 28,
     "metadata": {},
     "output_type": "execute_result"
    }
   ],
   "source": [
    "gmean = 1\n",
    "\n",
    "for item in x:\n",
    "    gmean *= item\n",
    "    \n",
    "gmean **=1 / len(x)\n",
    "gmean "
   ]
  },
  {
   "cell_type": "code",
   "execution_count": 29,
   "id": "1c5b2fb1-8299-4dab-8e76-8572e88faa84",
   "metadata": {
    "tags": []
   },
   "outputs": [
    {
     "data": {
      "text/plain": [
       "[8.0, 1, 2.5, 4, 28.0]"
      ]
     },
     "execution_count": 29,
     "metadata": {},
     "output_type": "execute_result"
    }
   ],
   "source": [
    "x"
   ]
  },
  {
   "cell_type": "code",
   "execution_count": 31,
   "id": "5fc356c1-6b30-43f8-abde-79dff9f16da7",
   "metadata": {
    "tags": []
   },
   "outputs": [
    {
     "data": {
      "text/plain": [
       "4.67788567485604"
      ]
     },
     "execution_count": 31,
     "metadata": {},
     "output_type": "execute_result"
    }
   ],
   "source": [
    "scipy.stats.gmean(y)"
   ]
  },
  {
   "cell_type": "code",
   "execution_count": 32,
   "id": "d4e02ebf-dcf3-4e6b-b0e9-941d5ef6be07",
   "metadata": {
    "tags": []
   },
   "outputs": [
    {
     "data": {
      "text/plain": [
       "4.67788567485604"
      ]
     },
     "execution_count": 32,
     "metadata": {},
     "output_type": "execute_result"
    }
   ],
   "source": [
    "scipy.stats.gmean(z)"
   ]
  },
  {
   "cell_type": "code",
   "execution_count": 33,
   "id": "e0c45e6b-9810-4eb1-aa51-8fef98878880",
   "metadata": {
    "tags": []
   },
   "outputs": [],
   "source": [
    "#MEDIAANNNNN"
   ]
  },
  {
   "cell_type": "code",
   "execution_count": 34,
   "id": "f83461ef-0815-4e91-aab9-a625e6ff4c75",
   "metadata": {
    "tags": []
   },
   "outputs": [
    {
     "data": {
      "text/plain": [
       "4"
      ]
     },
     "execution_count": 34,
     "metadata": {},
     "output_type": "execute_result"
    }
   ],
   "source": [
    "n = len(x)\n",
    "if n % 2:\n",
    "    median_ = sorted(x)[round(0.5*(n-1))]\n",
    "else:\n",
    "    x_ord, index = sorted(x), round(0.5*n)\n",
    "    median_ = 0.5 * (x_ord[index-1] + x_ord[index])\n",
    "median_"
   ]
  },
  {
   "cell_type": "code",
   "execution_count": 37,
   "id": "2a2ccb78-1ff0-4c15-98e9-d7471748bb19",
   "metadata": {
    "tags": []
   },
   "outputs": [
    {
     "name": "stdout",
     "output_type": "stream",
     "text": [
      "[1, 2.5, 4, 8.0, 28.0]\n",
      "2.5\n",
      "4\n"
     ]
    }
   ],
   "source": [
    "print(sorted(x))\n",
    "print(statistics.median_low(x[:-1]))\n",
    "print(statistics.median_high(x[:-1]))\n"
   ]
  },
  {
   "cell_type": "code",
   "execution_count": 38,
   "id": "581c2294-d7db-4b71-bae0-daffb6d57212",
   "metadata": {
    "tags": []
   },
   "outputs": [
    {
     "name": "stdout",
     "output_type": "stream",
     "text": [
      "6.0\n",
      "4\n",
      "8.0\n"
     ]
    }
   ],
   "source": [
    "print(statistics.median(x_with_nan))\n",
    "print(statistics.median_low(x_with_nan))\n",
    "print(statistics.median_high(x_with_nan))"
   ]
  },
  {
   "cell_type": "code",
   "execution_count": 39,
   "id": "979a4455-d121-43ca-bd65-fe523f951df4",
   "metadata": {
    "tags": []
   },
   "outputs": [
    {
     "data": {
      "text/plain": [
       "[1, 2.5, 4, 8.0, nan, 28.0]"
      ]
     },
     "execution_count": 39,
     "metadata": {},
     "output_type": "execute_result"
    }
   ],
   "source": [
    "sorted(x_with_nan)"
   ]
  },
  {
   "cell_type": "code",
   "execution_count": 40,
   "id": "1e6a5686-493d-424c-943e-505affe38c00",
   "metadata": {
    "tags": []
   },
   "outputs": [
    {
     "name": "stdout",
     "output_type": "stream",
     "text": [
      "4.0\n"
     ]
    }
   ],
   "source": [
    "median_ = np.median(y)\n",
    "print(median_)"
   ]
  },
  {
   "cell_type": "code",
   "execution_count": 42,
   "id": "92653a53-af51-4250-aedb-510f2832cec3",
   "metadata": {
    "tags": []
   },
   "outputs": [
    {
     "name": "stdout",
     "output_type": "stream",
     "text": [
      "3.25\n"
     ]
    }
   ],
   "source": [
    "median_ = np.median(y[:-1])\n",
    "print(median_)"
   ]
  },
  {
   "cell_type": "code",
   "execution_count": 43,
   "id": "7a72395c-cece-4b55-986f-d3d953a1aec5",
   "metadata": {
    "tags": []
   },
   "outputs": [],
   "source": [
    "#MODEEE"
   ]
  },
  {
   "cell_type": "code",
   "execution_count": 46,
   "id": "a4aec002-99b4-412c-bd5b-4c88be8b4ee2",
   "metadata": {
    "tags": []
   },
   "outputs": [
    {
     "data": {
      "text/plain": [
       "3"
      ]
     },
     "execution_count": 46,
     "metadata": {},
     "output_type": "execute_result"
    }
   ],
   "source": [
    "u = [2,3,2,8,12,3,3,3]\n",
    "v = [12,15,12,15,21,15,12]\n",
    "\n",
    "mode_ = max((u.count(item), item) for item in set(u))[1]\n",
    "mode_"
   ]
  },
  {
   "cell_type": "code",
   "execution_count": 47,
   "id": "c5ab7f5f-533d-41bc-b37e-f2793ecae807",
   "metadata": {
    "tags": []
   },
   "outputs": [
    {
     "data": {
      "text/plain": [
       "(4, 3)"
      ]
     },
     "execution_count": 47,
     "metadata": {},
     "output_type": "execute_result"
    }
   ],
   "source": [
    "max((u.count(item), item) for item in set (u))"
   ]
  },
  {
   "cell_type": "code",
   "execution_count": 49,
   "id": "aa384562-e156-43c0-b415-80bfe63587b1",
   "metadata": {
    "tags": []
   },
   "outputs": [
    {
     "data": {
      "text/plain": [
       "3"
      ]
     },
     "execution_count": 49,
     "metadata": {},
     "output_type": "execute_result"
    }
   ],
   "source": [
    "mode_ = statistics.mode(u)\n",
    "mode_"
   ]
  },
  {
   "cell_type": "code",
   "execution_count": 50,
   "id": "2fab8514-a698-4c26-b911-2368b5cc21eb",
   "metadata": {
    "tags": []
   },
   "outputs": [
    {
     "name": "stdout",
     "output_type": "stream",
     "text": [
      "3\n"
     ]
    },
    {
     "name": "stderr",
     "output_type": "stream",
     "text": [
      "C:\\Users\\Anggita\\AppData\\Local\\Temp\\ipykernel_25056\\2066971199.py:2: FutureWarning: Unlike other reduction functions (e.g. `skew`, `kurtosis`), the default behavior of `mode` typically preserves the axis it acts along. In SciPy 1.11.0, this behavior will change: the default value of `keepdims` will become False, the `axis` over which the statistic is taken will be eliminated, and the value None will no longer be accepted. Set `keepdims` to True or False to avoid this warning.\n",
      "  mode = scipy.stats.mode(u)\n"
     ]
    }
   ],
   "source": [
    "u, v = np.array(u), np.array(v)\n",
    "mode = scipy.stats.mode(u)\n",
    "print(mode_)"
   ]
  },
  {
   "cell_type": "code",
   "execution_count": 51,
   "id": "06197372-24a2-4bdb-89e2-78d1bc76ce9b",
   "metadata": {
    "tags": []
   },
   "outputs": [
    {
     "name": "stderr",
     "output_type": "stream",
     "text": [
      "C:\\Users\\Anggita\\AppData\\Local\\Temp\\ipykernel_25056\\4273125489.py:1: FutureWarning: Unlike other reduction functions (e.g. `skew`, `kurtosis`), the default behavior of `mode` typically preserves the axis it acts along. In SciPy 1.11.0, this behavior will change: the default value of `keepdims` will become False, the `axis` over which the statistic is taken will be eliminated, and the value None will no longer be accepted. Set `keepdims` to True or False to avoid this warning.\n",
      "  mode_ = scipy.stats.mode(v)\n"
     ]
    },
    {
     "data": {
      "text/plain": [
       "ModeResult(mode=array([12]), count=array([3]))"
      ]
     },
     "execution_count": 51,
     "metadata": {},
     "output_type": "execute_result"
    }
   ],
   "source": [
    "mode_ = scipy.stats.mode(v)\n",
    "mode_"
   ]
  },
  {
   "cell_type": "code",
   "execution_count": 52,
   "id": "6d8fb5ce-1a47-45f7-b350-62c651bfbebb",
   "metadata": {
    "tags": []
   },
   "outputs": [
    {
     "name": "stdout",
     "output_type": "stream",
     "text": [
      "[12]\n",
      "[3]\n"
     ]
    }
   ],
   "source": [
    "print(mode_.mode)\n",
    "print(mode_.count)"
   ]
  },
  {
   "cell_type": "code",
   "execution_count": 53,
   "id": "7a4b1718-3ca9-451d-8376-bfcae58ed7fe",
   "metadata": {
    "tags": []
   },
   "outputs": [
    {
     "name": "stdout",
     "output_type": "stream",
     "text": [
      "0    3\n",
      "dtype: int32\n",
      "0    12\n",
      "1    15\n",
      "dtype: int32\n",
      "0    2.0\n",
      "dtype: float64\n"
     ]
    }
   ],
   "source": [
    "u, v, w = pd.Series(u), pd.Series(v), pd.Series([2,2, math.nan])\n",
    "\n",
    "print(u.mode())\n",
    "\n",
    "print(v.mode())\n",
    "\n",
    "print(w.mode())"
   ]
  },
  {
   "cell_type": "code",
   "execution_count": 54,
   "id": "1d7dfa58-6f6b-4b97-94ce-d6b6d86fbed8",
   "metadata": {
    "tags": []
   },
   "outputs": [
    {
     "data": {
      "text/plain": [
       "123.19999999999999"
      ]
     },
     "execution_count": 54,
     "metadata": {},
     "output_type": "execute_result"
    }
   ],
   "source": [
    "n = len(x)\n",
    "mean_ = sum(x)/n\n",
    "var_ = sum((item - mean_)**2 for item in x) / (n-1)\n",
    "var_"
   ]
  },
  {
   "cell_type": "code",
   "execution_count": 56,
   "id": "de67867e-c67b-4422-8f13-4980566c0db4",
   "metadata": {
    "tags": []
   },
   "outputs": [
    {
     "data": {
      "text/plain": [
       "123.2"
      ]
     },
     "execution_count": 56,
     "metadata": {},
     "output_type": "execute_result"
    }
   ],
   "source": [
    "var_ = statistics.variance(x)\n",
    "var_"
   ]
  },
  {
   "cell_type": "code",
   "execution_count": 57,
   "id": "fe56d740-194e-46ae-a08f-3ea314573363",
   "metadata": {
    "tags": []
   },
   "outputs": [
    {
     "data": {
      "text/plain": [
       "123.19999999999999"
      ]
     },
     "execution_count": 57,
     "metadata": {},
     "output_type": "execute_result"
    }
   ],
   "source": [
    "var_ = np.var(y, ddof=1)\n",
    "var_"
   ]
  },
  {
   "cell_type": "code",
   "execution_count": 58,
   "id": "1f51c5b6-1297-4530-838c-5fb485571dff",
   "metadata": {
    "tags": []
   },
   "outputs": [
    {
     "data": {
      "text/plain": [
       "123.19999999999999"
      ]
     },
     "execution_count": 58,
     "metadata": {},
     "output_type": "execute_result"
    }
   ],
   "source": [
    "var_ = y.var(ddof=1)\n",
    "var_"
   ]
  },
  {
   "cell_type": "code",
   "execution_count": 59,
   "id": "2ac0415f-0f5b-4ca9-b125-b8576ac3b146",
   "metadata": {
    "tags": []
   },
   "outputs": [
    {
     "data": {
      "text/plain": [
       "123.19999999999999"
      ]
     },
     "execution_count": 59,
     "metadata": {},
     "output_type": "execute_result"
    }
   ],
   "source": [
    "z.var(ddof=1)"
   ]
  },
  {
   "cell_type": "code",
   "execution_count": 60,
   "id": "4d730371-44cb-4fe3-895a-d3ac64110cfb",
   "metadata": {
    "tags": []
   },
   "outputs": [
    {
     "data": {
      "text/plain": [
       "[8.0, 1, 2.5, 4, 28.0]"
      ]
     },
     "execution_count": 60,
     "metadata": {},
     "output_type": "execute_result"
    }
   ],
   "source": [
    "x "
   ]
  },
  {
   "cell_type": "code",
   "execution_count": 61,
   "id": "deffaa6f-1101-44bb-8e61-09b710a07647",
   "metadata": {
    "tags": []
   },
   "outputs": [
    {
     "data": {
      "text/plain": [
       "array([ 8. ,  1. ,  2.5,  4. , 28. ])"
      ]
     },
     "execution_count": 61,
     "metadata": {},
     "output_type": "execute_result"
    }
   ],
   "source": [
    "y"
   ]
  },
  {
   "cell_type": "code",
   "execution_count": 62,
   "id": "c90d6a26-d291-4f20-9fe5-0b778506163e",
   "metadata": {
    "tags": []
   },
   "outputs": [
    {
     "data": {
      "text/plain": [
       "0    2.0\n",
       "1    2.0\n",
       "2    NaN\n",
       "dtype: float64"
      ]
     },
     "execution_count": 62,
     "metadata": {},
     "output_type": "execute_result"
    }
   ],
   "source": [
    "w"
   ]
  },
  {
   "cell_type": "code",
   "execution_count": 63,
   "id": "304c8f89-1948-45ab-8c4d-ec7fcd6b3c10",
   "metadata": {
    "tags": []
   },
   "outputs": [
    {
     "data": {
      "text/plain": [
       "0     8.0\n",
       "1     1.0\n",
       "2     2.5\n",
       "3     4.0\n",
       "4    28.0\n",
       "dtype: float64"
      ]
     },
     "execution_count": 63,
     "metadata": {},
     "output_type": "execute_result"
    }
   ],
   "source": [
    "z"
   ]
  },
  {
   "cell_type": "code",
   "execution_count": 64,
   "id": "5a63287b-7599-4eee-8dfa-350f838c5a8d",
   "metadata": {
    "tags": []
   },
   "outputs": [
    {
     "data": {
      "text/plain": [
       "98.55999999999999"
      ]
     },
     "execution_count": 64,
     "metadata": {},
     "output_type": "execute_result"
    }
   ],
   "source": [
    "z.var(ddof=0)"
   ]
  },
  {
   "cell_type": "code",
   "execution_count": 67,
   "id": "31c1501f-6f70-4180-9490-0543c838beab",
   "metadata": {
    "tags": []
   },
   "outputs": [
    {
     "data": {
      "text/plain": [
       "98.56"
      ]
     },
     "execution_count": 67,
     "metadata": {},
     "output_type": "execute_result"
    }
   ],
   "source": [
    "pvar_ = statistics.pvariance(x)\n",
    "pvar_"
   ]
  },
  {
   "cell_type": "code",
   "execution_count": 68,
   "id": "9f97e92b-a22a-43d7-85ca-1f573373b3dc",
   "metadata": {
    "tags": []
   },
   "outputs": [],
   "source": [
    "#STANDAR DEVIASIIII"
   ]
  },
  {
   "cell_type": "code",
   "execution_count": 66,
   "id": "d34adf98-c78a-4809-b819-c1c646ff18ae",
   "metadata": {
    "tags": []
   },
   "outputs": [
    {
     "data": {
      "text/plain": [
       "11.099549540409285"
      ]
     },
     "execution_count": 66,
     "metadata": {},
     "output_type": "execute_result"
    }
   ],
   "source": [
    "std_ = var_ ** 0.5\n",
    "std_"
   ]
  },
  {
   "cell_type": "code",
   "execution_count": 70,
   "id": "a5a592e8-d9e1-4231-9984-a4d9c0cbb5e8",
   "metadata": {
    "tags": []
   },
   "outputs": [
    {
     "data": {
      "text/plain": [
       "11.099549540409287"
      ]
     },
     "execution_count": 70,
     "metadata": {},
     "output_type": "execute_result"
    }
   ],
   "source": [
    "#stdev dipake kalo gapunya varians \n",
    "std_ = statistics.stdev(x)\n",
    "std_"
   ]
  },
  {
   "cell_type": "code",
   "execution_count": 71,
   "id": "8436f93e-f33d-4ca7-93d7-8b76fad153c1",
   "metadata": {
    "tags": []
   },
   "outputs": [
    {
     "data": {
      "text/plain": [
       "11.099549540409287"
      ]
     },
     "execution_count": 71,
     "metadata": {},
     "output_type": "execute_result"
    }
   ],
   "source": [
    "std_ = statistics.stdev(x, mean_)\n",
    "std_"
   ]
  },
  {
   "cell_type": "code",
   "execution_count": 72,
   "id": "9912aa01-0245-4acf-9778-087aa044e604",
   "metadata": {
    "tags": []
   },
   "outputs": [
    {
     "data": {
      "text/plain": [
       "11.099549540409285"
      ]
     },
     "execution_count": 72,
     "metadata": {},
     "output_type": "execute_result"
    }
   ],
   "source": [
    "np.std(y, ddof=1)"
   ]
  },
  {
   "cell_type": "code",
   "execution_count": 73,
   "id": "8aa000c3-55cf-47f4-b6cd-ed24046961a7",
   "metadata": {
    "tags": []
   },
   "outputs": [
    {
     "data": {
      "text/plain": [
       "11.099549540409285"
      ]
     },
     "execution_count": 73,
     "metadata": {},
     "output_type": "execute_result"
    }
   ],
   "source": [
    "y.std(ddof=1)"
   ]
  },
  {
   "cell_type": "code",
   "execution_count": 74,
   "id": "aa9bd88f-1578-4bc3-a998-216a7c23c5d0",
   "metadata": {
    "tags": []
   },
   "outputs": [
    {
     "data": {
      "text/plain": [
       "9.927738916792684"
      ]
     },
     "execution_count": 74,
     "metadata": {},
     "output_type": "execute_result"
    }
   ],
   "source": [
    "np.nanstd(y_with_nan)"
   ]
  },
  {
   "cell_type": "code",
   "execution_count": 75,
   "id": "96e1be1e-bbde-4b30-8e4e-0e7d99677bb7",
   "metadata": {
    "tags": []
   },
   "outputs": [
    {
     "data": {
      "text/plain": [
       "11.099549540409285"
      ]
     },
     "execution_count": 75,
     "metadata": {},
     "output_type": "execute_result"
    }
   ],
   "source": [
    "np.nanstd(y_with_nan, ddof=1)"
   ]
  },
  {
   "cell_type": "code",
   "execution_count": 76,
   "id": "ca46b685-706b-4789-b003-5d672bdfd199",
   "metadata": {
    "tags": []
   },
   "outputs": [
    {
     "data": {
      "text/plain": [
       "11.099549540409285"
      ]
     },
     "execution_count": 76,
     "metadata": {},
     "output_type": "execute_result"
    }
   ],
   "source": [
    "np.nanstd(y_with_nan, ddof=1)"
   ]
  },
  {
   "cell_type": "code",
   "execution_count": 77,
   "id": "8ed8b41b-ae3d-47f5-8230-91fbdd7fa33c",
   "metadata": {
    "tags": []
   },
   "outputs": [
    {
     "data": {
      "text/plain": [
       "11.099549540409285"
      ]
     },
     "execution_count": 77,
     "metadata": {},
     "output_type": "execute_result"
    }
   ],
   "source": [
    "z.std(ddof=1)"
   ]
  },
  {
   "cell_type": "code",
   "execution_count": 78,
   "id": "7d5fc291-cad6-4903-bce7-50c0f953c905",
   "metadata": {
    "tags": []
   },
   "outputs": [],
   "source": [
    "#SKEWNESSSSSS"
   ]
  },
  {
   "cell_type": "code",
   "execution_count": 86,
   "id": "ffd76463-924b-4598-a442-7b7515feaee3",
   "metadata": {
    "tags": []
   },
   "outputs": [
    {
     "data": {
      "text/plain": [
       "1.9470432273905929"
      ]
     },
     "execution_count": 86,
     "metadata": {},
     "output_type": "execute_result"
    }
   ],
   "source": [
    "n = len(x)\n",
    "\n",
    "mean_ = sum(x) / n\n",
    "var_ = sum((item - mean_)**2 for item in x) / (n-1)\n",
    "std_ = var_ ** 0.5\n",
    "\n",
    "skew_ = (sum((item - mean_)**3 for item in x) * n / ((n-1) * (n-2) * std_**3))\n",
    "skew_"
   ]
  },
  {
   "cell_type": "code",
   "execution_count": 82,
   "id": "ad476646-4883-4fea-b94b-267e86063ff9",
   "metadata": {
    "tags": []
   },
   "outputs": [
    {
     "data": {
      "text/plain": [
       "nan"
      ]
     },
     "execution_count": 82,
     "metadata": {},
     "output_type": "execute_result"
    }
   ],
   "source": [
    "y, y_with_nan = np.array(x), np.array(x_with_nan)\n",
    "\n",
    "scipy.stats.skew(y_with_nan, bias = False)"
   ]
  },
  {
   "cell_type": "code",
   "execution_count": 83,
   "id": "e10608ef-bc9a-47e9-89e6-b771cbad0156",
   "metadata": {
    "tags": []
   },
   "outputs": [
    {
     "data": {
      "text/plain": [
       "1.9470432273905924"
      ]
     },
     "execution_count": 83,
     "metadata": {},
     "output_type": "execute_result"
    }
   ],
   "source": [
    "z, z_with_nan = pd.Series(x), pd.Series(x_with_nan)\n",
    "\n",
    "z.skew()"
   ]
  },
  {
   "cell_type": "code",
   "execution_count": 84,
   "id": "3a53ff6e-84f6-41e5-a2ea-92ff2cc125b0",
   "metadata": {
    "tags": []
   },
   "outputs": [
    {
     "data": {
      "text/plain": [
       "1.9470432273905924"
      ]
     },
     "execution_count": 84,
     "metadata": {},
     "output_type": "execute_result"
    }
   ],
   "source": [
    "z_with_nan.skew()"
   ]
  },
  {
   "cell_type": "code",
   "execution_count": 87,
   "id": "e58fa814-2463-411a-8ed5-69f65326ac21",
   "metadata": {
    "tags": []
   },
   "outputs": [],
   "source": [
    "#PERCENTILES"
   ]
  },
  {
   "cell_type": "code",
   "execution_count": 88,
   "id": "d174bc91-d7cc-4674-9544-634772f34ca2",
   "metadata": {
    "tags": []
   },
   "outputs": [],
   "source": [
    "x = [-5.0, -1.1, 0.1, 2.0, 8.0, 12.8, 21.0, 25.8, 41.0]"
   ]
  },
  {
   "cell_type": "code",
   "execution_count": 90,
   "id": "24185336-f3d1-46b4-ae50-3975d8710c8e",
   "metadata": {
    "tags": []
   },
   "outputs": [
    {
     "data": {
      "text/plain": [
       "[8.0]"
      ]
     },
     "execution_count": 90,
     "metadata": {},
     "output_type": "execute_result"
    }
   ],
   "source": [
    "statistics.quantiles(x, n=2)"
   ]
  },
  {
   "cell_type": "code",
   "execution_count": 91,
   "id": "c91e0d25-df72-4b46-91ff-36bde96eece0",
   "metadata": {
    "tags": []
   },
   "outputs": [
    {
     "data": {
      "text/plain": [
       "[0.1, 8.0, 21.0]"
      ]
     },
     "execution_count": 91,
     "metadata": {},
     "output_type": "execute_result"
    }
   ],
   "source": [
    "statistics.quantiles(x, n=4, method='inclusive')"
   ]
  },
  {
   "cell_type": "code",
   "execution_count": 92,
   "id": "883be759-38a9-418d-a2e1-9f8b89261774",
   "metadata": {
    "tags": []
   },
   "outputs": [
    {
     "name": "stdout",
     "output_type": "stream",
     "text": [
      "-3.44\n"
     ]
    },
    {
     "data": {
      "text/plain": [
       "34.919999999999995"
      ]
     },
     "execution_count": 92,
     "metadata": {},
     "output_type": "execute_result"
    }
   ],
   "source": [
    "y = np.array(x)\n",
    "print(np.percentile(y,5))\n",
    "np.percentile(y,95)"
   ]
  },
  {
   "cell_type": "code",
   "execution_count": 93,
   "id": "335f73bb-dd86-41f8-8437-3cb0182bebdb",
   "metadata": {
    "tags": []
   },
   "outputs": [
    {
     "data": {
      "text/plain": [
       "array([ 0.1,  8. , 21. ])"
      ]
     },
     "execution_count": 93,
     "metadata": {},
     "output_type": "execute_result"
    }
   ],
   "source": [
    "np.percentile(y, [25, 50, 75])"
   ]
  },
  {
   "cell_type": "code",
   "execution_count": 94,
   "id": "ea0b0c5f-c1a6-44f1-9d62-6970297f2646",
   "metadata": {
    "tags": []
   },
   "outputs": [
    {
     "data": {
      "text/plain": [
       "array([ 0.1,  8. , 21. ])"
      ]
     },
     "execution_count": 94,
     "metadata": {},
     "output_type": "execute_result"
    }
   ],
   "source": [
    "y_with_nan = np.insert(y, 2, np.nan)\n",
    "np.nanpercentile(y_with_nan, [25, 50, 75])"
   ]
  },
  {
   "cell_type": "code",
   "execution_count": 95,
   "id": "24bc0eeb-bf8d-49b4-8f69-d80083a65116",
   "metadata": {
    "tags": []
   },
   "outputs": [
    {
     "data": {
      "text/plain": [
       "-3.44"
      ]
     },
     "execution_count": 95,
     "metadata": {},
     "output_type": "execute_result"
    }
   ],
   "source": [
    "np.quantile(y, 0.05)"
   ]
  },
  {
   "cell_type": "code",
   "execution_count": 97,
   "id": "d7c3b372-5c8f-44c1-8b98-fc7e373876f0",
   "metadata": {
    "tags": []
   },
   "outputs": [
    {
     "data": {
      "text/plain": [
       "34.919999999999995"
      ]
     },
     "execution_count": 97,
     "metadata": {},
     "output_type": "execute_result"
    }
   ],
   "source": [
    "np.quantile(y, 0.95)"
   ]
  },
  {
   "cell_type": "code",
   "execution_count": 98,
   "id": "704377f2-0952-4b7b-a777-20a6a40e4ec0",
   "metadata": {
    "tags": []
   },
   "outputs": [
    {
     "data": {
      "text/plain": [
       "array([ 0.1,  8. , 21. ])"
      ]
     },
     "execution_count": 98,
     "metadata": {},
     "output_type": "execute_result"
    }
   ],
   "source": [
    "np.nanquantile(y_with_nan, [0.25, 0.5, 0.75])"
   ]
  },
  {
   "cell_type": "code",
   "execution_count": 99,
   "id": "a62badf0-500a-4a8e-b0d8-fdfb97e531fa",
   "metadata": {
    "tags": []
   },
   "outputs": [],
   "source": [
    "z, z_with_nan = pd.Series(y), pd.Series(y_with_nan)"
   ]
  },
  {
   "cell_type": "code",
   "execution_count": 100,
   "id": "fe1780d1-9763-4092-a782-0fc35234363a",
   "metadata": {
    "tags": []
   },
   "outputs": [
    {
     "data": {
      "text/plain": [
       "-3.44"
      ]
     },
     "execution_count": 100,
     "metadata": {},
     "output_type": "execute_result"
    }
   ],
   "source": [
    "z.quantile(0.05)"
   ]
  },
  {
   "cell_type": "code",
   "execution_count": 101,
   "id": "a41dae3d-fa59-4719-aa32-3209bc9abff3",
   "metadata": {
    "tags": []
   },
   "outputs": [
    {
     "data": {
      "text/plain": [
       "0.25     0.1\n",
       "0.50     8.0\n",
       "0.75    21.0\n",
       "dtype: float64"
      ]
     },
     "execution_count": 101,
     "metadata": {},
     "output_type": "execute_result"
    }
   ],
   "source": [
    "z.quantile([0.25, 0.5, 0.75])"
   ]
  },
  {
   "cell_type": "code",
   "execution_count": 102,
   "id": "c15ac371-e7ad-4e8c-9ec4-259498dde8ce",
   "metadata": {
    "tags": []
   },
   "outputs": [],
   "source": [
    "#RANGEEEEE"
   ]
  },
  {
   "cell_type": "code",
   "execution_count": 103,
   "id": "2e64a5c7-fbbb-458f-84a5-f14bdb1d0caa",
   "metadata": {
    "tags": []
   },
   "outputs": [
    {
     "data": {
      "text/plain": [
       "nan"
      ]
     },
     "execution_count": 103,
     "metadata": {},
     "output_type": "execute_result"
    }
   ],
   "source": [
    "np.ptp(y)\n",
    "np.ptp(z)\n",
    "np.ptp(y_with_nan)\n",
    "np.ptp(z_with_nan)"
   ]
  },
  {
   "cell_type": "code",
   "execution_count": 104,
   "id": "ae0cdf59-9330-4f25-8c4c-f88e5e68c13c",
   "metadata": {
    "tags": []
   },
   "outputs": [
    {
     "data": {
      "text/plain": [
       "46.0"
      ]
     },
     "execution_count": 104,
     "metadata": {},
     "output_type": "execute_result"
    }
   ],
   "source": [
    "np.amax(y) - np.amin(y)\n",
    "np.nanmax(y_with_nan) - np.nanmin(y_with_nan)\n",
    "y.max() - y.min()\n",
    "z.max() - z.min()\n",
    "z_with_nan.max() - z_with_nan.min()"
   ]
  },
  {
   "cell_type": "code",
   "execution_count": 105,
   "id": "e0c6d9e2-969b-496e-af07-16130d7f296e",
   "metadata": {
    "tags": []
   },
   "outputs": [],
   "source": [
    "#INTERQUARTILE RANGE"
   ]
  },
  {
   "cell_type": "code",
   "execution_count": 106,
   "id": "648d87a4-bfcd-461e-ab06-fec1e3842693",
   "metadata": {
    "tags": []
   },
   "outputs": [
    {
     "data": {
      "text/plain": [
       "20.9"
      ]
     },
     "execution_count": 106,
     "metadata": {},
     "output_type": "execute_result"
    }
   ],
   "source": [
    "quartiles = np.quantile(y, [0.25, 0.75])\n",
    "quartiles[1] - quartiles[0]"
   ]
  },
  {
   "cell_type": "code",
   "execution_count": 107,
   "id": "812a16ea-de02-40b0-a05b-c35160b0d5fb",
   "metadata": {
    "tags": []
   },
   "outputs": [
    {
     "data": {
      "text/plain": [
       "20.9"
      ]
     },
     "execution_count": 107,
     "metadata": {},
     "output_type": "execute_result"
    }
   ],
   "source": [
    "quartiles = z.quantile([0.25, 0.75])\n",
    "quartiles[0.75] - quartiles[0.25]"
   ]
  },
  {
   "cell_type": "code",
   "execution_count": 108,
   "id": "2de62abd-fd42-411d-8119-3c50ebc75518",
   "metadata": {
    "tags": []
   },
   "outputs": [],
   "source": [
    "#SUMMARY OF DESCRIPTIVE STATISTICS "
   ]
  },
  {
   "cell_type": "code",
   "execution_count": 109,
   "id": "8ede0e3c-efe0-42f5-8c62-edd4b881f62e",
   "metadata": {
    "tags": []
   },
   "outputs": [
    {
     "data": {
      "text/plain": [
       "DescribeResult(nobs=9, minmax=(-5.0, 41.0), mean=11.622222222222222, variance=228.75194444444446, skewness=0.9249043136685094, kurtosis=0.14770623629658886)"
      ]
     },
     "execution_count": 109,
     "metadata": {},
     "output_type": "execute_result"
    }
   ],
   "source": [
    "result = scipy.stats.describe(y, ddof=1, bias=False)\n",
    "result"
   ]
  },
  {
   "cell_type": "code",
   "execution_count": 112,
   "id": "de0955f9-cf41-49fc-a99a-d3147ec7d53a",
   "metadata": {
    "tags": []
   },
   "outputs": [
    {
     "data": {
      "text/plain": [
       "9"
      ]
     },
     "execution_count": 112,
     "metadata": {},
     "output_type": "execute_result"
    }
   ],
   "source": [
    "result.nobs"
   ]
  },
  {
   "cell_type": "code",
   "execution_count": 113,
   "id": "1c04af43-b117-433e-a533-d60a6bcaede1",
   "metadata": {
    "tags": []
   },
   "outputs": [
    {
     "data": {
      "text/plain": [
       "41.0"
      ]
     },
     "execution_count": 113,
     "metadata": {},
     "output_type": "execute_result"
    }
   ],
   "source": [
    "result.minmax[0]\n",
    "result.minmax[1]"
   ]
  },
  {
   "cell_type": "code",
   "execution_count": 110,
   "id": "d9c6e865-831b-4683-bfaa-f96fb8da2e11",
   "metadata": {
    "tags": []
   },
   "outputs": [
    {
     "data": {
      "text/plain": [
       "count     9.000000\n",
       "mean     11.622222\n",
       "std      15.124548\n",
       "min      -5.000000\n",
       "25%       0.100000\n",
       "50%       8.000000\n",
       "75%      21.000000\n",
       "max      41.000000\n",
       "dtype: float64"
      ]
     },
     "execution_count": 110,
     "metadata": {},
     "output_type": "execute_result"
    }
   ],
   "source": [
    "z.describe()"
   ]
  },
  {
   "cell_type": "code",
   "execution_count": 114,
   "id": "41cee8d4-6083-40db-8e72-be64826f3871",
   "metadata": {
    "tags": []
   },
   "outputs": [
    {
     "data": {
      "text/plain": [
       "count     9.000000\n",
       "mean     11.622222\n",
       "std      15.124548\n",
       "min      -5.000000\n",
       "25%       0.100000\n",
       "50%       8.000000\n",
       "75%      21.000000\n",
       "max      41.000000\n",
       "dtype: float64"
      ]
     },
     "execution_count": 114,
     "metadata": {},
     "output_type": "execute_result"
    }
   ],
   "source": [
    "result = z.describe()\n",
    "result"
   ]
  },
  {
   "cell_type": "code",
   "execution_count": 115,
   "id": "c5724aff-cb0a-44f0-9d84-4ba5f920a8e5",
   "metadata": {
    "tags": []
   },
   "outputs": [
    {
     "data": {
      "text/plain": [
       "11.622222222222222"
      ]
     },
     "execution_count": 115,
     "metadata": {},
     "output_type": "execute_result"
    }
   ],
   "source": [
    "result['mean']"
   ]
  },
  {
   "cell_type": "code",
   "execution_count": 123,
   "id": "62b8839e-aa74-4e8d-9627-9ef665844feb",
   "metadata": {
    "tags": []
   },
   "outputs": [
    {
     "data": {
      "text/plain": [
       "9.0"
      ]
     },
     "execution_count": 123,
     "metadata": {},
     "output_type": "execute_result"
    }
   ],
   "source": [
    "result['count']"
   ]
  },
  {
   "cell_type": "code",
   "execution_count": 116,
   "id": "9c9c287b-1406-45f7-b088-b9c11dbf16db",
   "metadata": {
    "tags": []
   },
   "outputs": [
    {
     "data": {
      "text/plain": [
       "15.12454774346805"
      ]
     },
     "execution_count": 116,
     "metadata": {},
     "output_type": "execute_result"
    }
   ],
   "source": [
    "result['std']"
   ]
  },
  {
   "cell_type": "code",
   "execution_count": 117,
   "id": "36764a36-2402-4612-85cc-0ced491d57a5",
   "metadata": {
    "tags": []
   },
   "outputs": [
    {
     "data": {
      "text/plain": [
       "-5.0"
      ]
     },
     "execution_count": 117,
     "metadata": {},
     "output_type": "execute_result"
    }
   ],
   "source": [
    "result['min']"
   ]
  },
  {
   "cell_type": "code",
   "execution_count": 118,
   "id": "87950792-6809-4bc3-b773-313e367765e0",
   "metadata": {
    "tags": []
   },
   "outputs": [
    {
     "data": {
      "text/plain": [
       "41.0"
      ]
     },
     "execution_count": 118,
     "metadata": {},
     "output_type": "execute_result"
    }
   ],
   "source": [
    "result['max']"
   ]
  },
  {
   "cell_type": "code",
   "execution_count": 119,
   "id": "283b09f5-1a42-44a0-988a-d6f577f05436",
   "metadata": {
    "tags": []
   },
   "outputs": [
    {
     "data": {
      "text/plain": [
       "0.1"
      ]
     },
     "execution_count": 119,
     "metadata": {},
     "output_type": "execute_result"
    }
   ],
   "source": [
    "result['25%']"
   ]
  },
  {
   "cell_type": "code",
   "execution_count": 120,
   "id": "71a44e3e-d1c8-44d1-a424-35b18d467152",
   "metadata": {
    "tags": []
   },
   "outputs": [
    {
     "data": {
      "text/plain": [
       "8.0"
      ]
     },
     "execution_count": 120,
     "metadata": {},
     "output_type": "execute_result"
    }
   ],
   "source": [
    "result['50%']"
   ]
  },
  {
   "cell_type": "code",
   "execution_count": 121,
   "id": "59a45b85-cce9-4485-b29c-cfed6a25751c",
   "metadata": {
    "tags": []
   },
   "outputs": [
    {
     "data": {
      "text/plain": [
       "21.0"
      ]
     },
     "execution_count": 121,
     "metadata": {},
     "output_type": "execute_result"
    }
   ],
   "source": [
    "result['75%']"
   ]
  },
  {
   "cell_type": "code",
   "execution_count": 122,
   "id": "a804bdf0-8831-44e3-8eaa-cfc9b6e03447",
   "metadata": {
    "tags": []
   },
   "outputs": [],
   "source": [
    "#MEASURES OF CORRELATION BETWEEN PAIRS OF DATA"
   ]
  },
  {
   "cell_type": "code",
   "execution_count": 125,
   "id": "b5779fb0-37c9-43db-babc-20d3b6995d13",
   "metadata": {
    "tags": []
   },
   "outputs": [],
   "source": [
    "x = list(range(-10, 11))\n",
    "y = [0, 2, 2, 2, 2, 3, 3, 6, 7, 4, 7, 6, 6, 9, 4, 5, 5, 10, 11, 12, 14]\n",
    "x_, y_ = np.array(x), np.array(y)\n",
    "x__, y__ = pd.Series(x_), pd.Series(y_)"
   ]
  },
  {
   "cell_type": "code",
   "execution_count": 126,
   "id": "7853ea45-5ccc-487f-b8e6-bcf5bede40e3",
   "metadata": {
    "tags": []
   },
   "outputs": [],
   "source": [
    "#COVARIANCE "
   ]
  },
  {
   "cell_type": "code",
   "execution_count": 127,
   "id": "f5cb093c-83f3-4a24-9941-474f7e87864b",
   "metadata": {
    "tags": []
   },
   "outputs": [
    {
     "data": {
      "text/plain": [
       "19.95"
      ]
     },
     "execution_count": 127,
     "metadata": {},
     "output_type": "execute_result"
    }
   ],
   "source": [
    "n = len(x)\n",
    "mean_x, mean_y = sum(x) / n, sum(y) / n\n",
    "cov_xy = (sum((x[k] - mean_x) * (y[k] - mean_y) for k in range(n)) / (n-1))\n",
    "cov_xy"
   ]
  },
  {
   "cell_type": "code",
   "execution_count": 128,
   "id": "d7363791-2089-4538-85c0-673e92daae57",
   "metadata": {
    "tags": []
   },
   "outputs": [
    {
     "data": {
      "text/plain": [
       "array([[38.5       , 19.95      ],\n",
       "       [19.95      , 13.91428571]])"
      ]
     },
     "execution_count": 128,
     "metadata": {},
     "output_type": "execute_result"
    }
   ],
   "source": [
    "cov_matrix = np.cov(x_, y_)\n",
    "cov_matrix"
   ]
  },
  {
   "cell_type": "code",
   "execution_count": 129,
   "id": "8738a03e-f205-4c4e-af8b-6df1dc663943",
   "metadata": {
    "tags": []
   },
   "outputs": [
    {
     "data": {
      "text/plain": [
       "38.5"
      ]
     },
     "execution_count": 129,
     "metadata": {},
     "output_type": "execute_result"
    }
   ],
   "source": [
    "x_.var(ddof=1)"
   ]
  },
  {
   "cell_type": "code",
   "execution_count": 130,
   "id": "5a5b7192-98ba-4237-bd1e-102c88b1865f",
   "metadata": {
    "tags": []
   },
   "outputs": [
    {
     "data": {
      "text/plain": [
       "13.914285714285711"
      ]
     },
     "execution_count": 130,
     "metadata": {},
     "output_type": "execute_result"
    }
   ],
   "source": [
    "y_.var(ddof=1)"
   ]
  },
  {
   "cell_type": "code",
   "execution_count": 131,
   "id": "07f59de8-d73c-4f24-b905-d9bf2c927e5e",
   "metadata": {
    "tags": []
   },
   "outputs": [
    {
     "data": {
      "text/plain": [
       "19.95"
      ]
     },
     "execution_count": 131,
     "metadata": {},
     "output_type": "execute_result"
    }
   ],
   "source": [
    "cov_xy = cov_matrix[0, 1]\n",
    "cov_xy"
   ]
  },
  {
   "cell_type": "code",
   "execution_count": 132,
   "id": "14c9f20a-1fc5-4e31-a00d-2561086b65ea",
   "metadata": {
    "tags": []
   },
   "outputs": [
    {
     "data": {
      "text/plain": [
       "19.95"
      ]
     },
     "execution_count": 132,
     "metadata": {},
     "output_type": "execute_result"
    }
   ],
   "source": [
    "cov_xy = cov_matrix[1, 0]\n",
    "cov_xy"
   ]
  },
  {
   "cell_type": "code",
   "execution_count": 134,
   "id": "80f7a8dc-e627-47a1-8d9b-020d03fe40a1",
   "metadata": {
    "tags": []
   },
   "outputs": [
    {
     "data": {
      "text/plain": [
       "19.95"
      ]
     },
     "execution_count": 134,
     "metadata": {},
     "output_type": "execute_result"
    }
   ],
   "source": [
    "cov_xy = x__.cov(y__)\n",
    "cov_xy"
   ]
  },
  {
   "cell_type": "code",
   "execution_count": 135,
   "id": "055f48ba-0e38-42dd-a3c3-fe4ef15c21fe",
   "metadata": {
    "tags": []
   },
   "outputs": [
    {
     "data": {
      "text/plain": [
       "19.95"
      ]
     },
     "execution_count": 135,
     "metadata": {},
     "output_type": "execute_result"
    }
   ],
   "source": [
    "cov_xy = y__.cov(x__)\n",
    "cov_xy"
   ]
  },
  {
   "cell_type": "code",
   "execution_count": 136,
   "id": "bf675a72-a857-49ef-ab06-464e77c76e37",
   "metadata": {
    "tags": []
   },
   "outputs": [],
   "source": [
    "#CORRELATION COEFFICIENT"
   ]
  },
  {
   "cell_type": "code",
   "execution_count": 137,
   "id": "95f7d903-f5e6-43d6-acfe-0efd95711015",
   "metadata": {
    "tags": []
   },
   "outputs": [
    {
     "data": {
      "text/plain": [
       "0.861950005631606"
      ]
     },
     "execution_count": 137,
     "metadata": {},
     "output_type": "execute_result"
    }
   ],
   "source": [
    "var_x = sum((item - mean_x)**2 for item in x) / (n-1)\n",
    "var_y = sum((item - mean_y)**2 for item in y) / (n-1)\n",
    "std_x, std_y = var_x ** 0.5, var_y ** 0.5\n",
    "r = cov_xy / (std_x * std_y)\n",
    "r"
   ]
  },
  {
   "cell_type": "code",
   "execution_count": 139,
   "id": "7093c01b-7e1b-42c1-82c0-969c1b64dd84",
   "metadata": {
    "tags": []
   },
   "outputs": [
    {
     "data": {
      "text/plain": [
       "0.861950005631606"
      ]
     },
     "execution_count": 139,
     "metadata": {},
     "output_type": "execute_result"
    }
   ],
   "source": [
    "r, p = scipy.stats.pearsonr(x_, y_)\n",
    "r"
   ]
  },
  {
   "cell_type": "code",
   "execution_count": 140,
   "id": "7cd86e8d-7b7f-4c24-83a9-d9c5abee9f97",
   "metadata": {
    "tags": []
   },
   "outputs": [
    {
     "data": {
      "text/plain": [
       "array([[1.        , 0.86195001],\n",
       "       [0.86195001, 1.        ]])"
      ]
     },
     "execution_count": 140,
     "metadata": {},
     "output_type": "execute_result"
    }
   ],
   "source": [
    "corr_matrix = np.corrcoef(x_, y_)\n",
    "corr_matrix"
   ]
  },
  {
   "cell_type": "code",
   "execution_count": 141,
   "id": "e8b88c2b-4b33-4129-8c07-53111c7d5508",
   "metadata": {
    "tags": []
   },
   "outputs": [
    {
     "data": {
      "text/plain": [
       "LinregressResult(slope=0.5181818181818181, intercept=5.714285714285714, rvalue=0.861950005631606, pvalue=5.122760847201164e-07, stderr=0.06992387660074979, intercept_stderr=0.4234100995002589)"
      ]
     },
     "execution_count": 141,
     "metadata": {},
     "output_type": "execute_result"
    }
   ],
   "source": [
    "scipy.stats.linregress(x_, y_)"
   ]
  },
  {
   "cell_type": "code",
   "execution_count": 142,
   "id": "4be334b2-6f6f-4348-8212-e650ab91a8cd",
   "metadata": {
    "tags": []
   },
   "outputs": [
    {
     "data": {
      "text/plain": [
       "0.861950005631606"
      ]
     },
     "execution_count": 142,
     "metadata": {},
     "output_type": "execute_result"
    }
   ],
   "source": [
    "result = scipy.stats.linregress(x_, y_)\n",
    "r = result.rvalue\n",
    "r"
   ]
  },
  {
   "cell_type": "code",
   "execution_count": 143,
   "id": "aaa6a767-1301-496b-99a0-1550d101d5e4",
   "metadata": {
    "tags": []
   },
   "outputs": [
    {
     "data": {
      "text/plain": [
       "0.8619500056316061"
      ]
     },
     "execution_count": 143,
     "metadata": {},
     "output_type": "execute_result"
    }
   ],
   "source": [
    "r = x__.corr(y__)\n",
    "r"
   ]
  },
  {
   "cell_type": "code",
   "execution_count": 144,
   "id": "e3ea74a7-fa2a-4916-a4b8-62ab2c3e29f5",
   "metadata": {
    "tags": []
   },
   "outputs": [
    {
     "data": {
      "text/plain": [
       "0.861950005631606"
      ]
     },
     "execution_count": 144,
     "metadata": {},
     "output_type": "execute_result"
    }
   ],
   "source": [
    "r = y__.corr(x__)\n",
    "r"
   ]
  },
  {
   "cell_type": "code",
   "execution_count": 145,
   "id": "78836770-c36f-4e9a-861d-de35ae4631b8",
   "metadata": {
    "tags": []
   },
   "outputs": [],
   "source": [
    "#WORKING WITH 2D DATA "
   ]
  },
  {
   "cell_type": "code",
   "execution_count": 147,
   "id": "33399eb5-9af9-4416-9d4c-a2397bb38724",
   "metadata": {
    "tags": []
   },
   "outputs": [],
   "source": [
    "a = np.array([[1,1,1],\n",
    "             [2,3,1],\n",
    "             [4,9,2],\n",
    "             [8,27,4],\n",
    "             [16,1,1]])"
   ]
  },
  {
   "cell_type": "code",
   "execution_count": 148,
   "id": "f434ce29-c635-4288-96fe-76ac2e08c97e",
   "metadata": {
    "tags": []
   },
   "outputs": [
    {
     "data": {
      "text/plain": [
       "array([[ 1,  1,  1],\n",
       "       [ 2,  3,  1],\n",
       "       [ 4,  9,  2],\n",
       "       [ 8, 27,  4],\n",
       "       [16,  1,  1]])"
      ]
     },
     "execution_count": 148,
     "metadata": {},
     "output_type": "execute_result"
    }
   ],
   "source": [
    "a"
   ]
  },
  {
   "cell_type": "code",
   "execution_count": 149,
   "id": "a623ffa5-e56d-4ac0-83d8-682ce0038fbe",
   "metadata": {
    "tags": []
   },
   "outputs": [
    {
     "data": {
      "text/plain": [
       "5.4"
      ]
     },
     "execution_count": 149,
     "metadata": {},
     "output_type": "execute_result"
    }
   ],
   "source": [
    "np.mean(a)"
   ]
  },
  {
   "cell_type": "code",
   "execution_count": 150,
   "id": "98fa5fb6-f250-4453-bdb1-a03d4687b140",
   "metadata": {
    "tags": []
   },
   "outputs": [
    {
     "data": {
      "text/plain": [
       "5.4"
      ]
     },
     "execution_count": 150,
     "metadata": {},
     "output_type": "execute_result"
    }
   ],
   "source": [
    "a.mean()"
   ]
  },
  {
   "cell_type": "code",
   "execution_count": 151,
   "id": "2349bce2-a1a1-4259-bc00-9e867fa5dbb4",
   "metadata": {
    "tags": []
   },
   "outputs": [
    {
     "data": {
      "text/plain": [
       "2.0"
      ]
     },
     "execution_count": 151,
     "metadata": {},
     "output_type": "execute_result"
    }
   ],
   "source": [
    "np.median(a)"
   ]
  },
  {
   "cell_type": "code",
   "execution_count": 152,
   "id": "b8d9a6ed-bc3d-4c8d-be7c-e3d1b7dea1f3",
   "metadata": {
    "tags": []
   },
   "outputs": [
    {
     "data": {
      "text/plain": [
       "53.40000000000001"
      ]
     },
     "execution_count": 152,
     "metadata": {},
     "output_type": "execute_result"
    }
   ],
   "source": [
    "a.var(ddof=1)"
   ]
  },
  {
   "cell_type": "code",
   "execution_count": 153,
   "id": "7ff89109-c054-44e3-ae8c-847a83241ce7",
   "metadata": {
    "tags": []
   },
   "outputs": [
    {
     "data": {
      "text/plain": [
       "array([6.2, 8.2, 1.8])"
      ]
     },
     "execution_count": 153,
     "metadata": {},
     "output_type": "execute_result"
    }
   ],
   "source": [
    "np.mean(a, axis=0)"
   ]
  },
  {
   "cell_type": "code",
   "execution_count": 154,
   "id": "aa4a975c-b316-4496-9d0d-f34aedb28075",
   "metadata": {
    "tags": []
   },
   "outputs": [
    {
     "data": {
      "text/plain": [
       "array([6.2, 8.2, 1.8])"
      ]
     },
     "execution_count": 154,
     "metadata": {},
     "output_type": "execute_result"
    }
   ],
   "source": [
    "a.mean(axis=0)"
   ]
  },
  {
   "cell_type": "code",
   "execution_count": 155,
   "id": "0eb44917-a74b-47b5-881d-41c21e103725",
   "metadata": {
    "tags": []
   },
   "outputs": [
    {
     "data": {
      "text/plain": [
       "array([ 1.,  2.,  5., 13.,  6.])"
      ]
     },
     "execution_count": 155,
     "metadata": {},
     "output_type": "execute_result"
    }
   ],
   "source": [
    "np.mean(a, axis=1)"
   ]
  },
  {
   "cell_type": "code",
   "execution_count": 156,
   "id": "d4e077a0-ad8a-47b6-88d9-f7ff624aa16a",
   "metadata": {
    "tags": []
   },
   "outputs": [
    {
     "data": {
      "text/plain": [
       "array([4., 3., 1.])"
      ]
     },
     "execution_count": 156,
     "metadata": {},
     "output_type": "execute_result"
    }
   ],
   "source": [
    "np.median(a, axis=0)"
   ]
  },
  {
   "cell_type": "code",
   "execution_count": 157,
   "id": "6cadd23a-b364-43bb-b410-5739b92ba052",
   "metadata": {
    "tags": []
   },
   "outputs": [
    {
     "data": {
      "text/plain": [
       "array([1., 2., 4., 8., 1.])"
      ]
     },
     "execution_count": 157,
     "metadata": {},
     "output_type": "execute_result"
    }
   ],
   "source": [
    "np.median(a, axis=1)"
   ]
  },
  {
   "cell_type": "code",
   "execution_count": 158,
   "id": "45d6dbab-9436-4362-917a-df012203c0a1",
   "metadata": {
    "tags": []
   },
   "outputs": [
    {
     "data": {
      "text/plain": [
       "array([ 37.2, 121.2,   1.7])"
      ]
     },
     "execution_count": 158,
     "metadata": {},
     "output_type": "execute_result"
    }
   ],
   "source": [
    "a.var(axis=0, ddof=1)"
   ]
  },
  {
   "cell_type": "code",
   "execution_count": 159,
   "id": "81e80914-a0cf-4851-946f-9311e497d300",
   "metadata": {
    "tags": []
   },
   "outputs": [
    {
     "data": {
      "text/plain": [
       "array([  0.,   1.,  13., 151.,  75.])"
      ]
     },
     "execution_count": 159,
     "metadata": {},
     "output_type": "execute_result"
    }
   ],
   "source": [
    "a.var(axis=1, ddof=1)"
   ]
  },
  {
   "cell_type": "code",
   "execution_count": 160,
   "id": "21c14472-a052-4aa4-a5c8-6ec1f7093e2c",
   "metadata": {
    "tags": []
   },
   "outputs": [
    {
     "data": {
      "text/plain": [
       "array([4.        , 3.73719282, 1.51571657])"
      ]
     },
     "execution_count": 160,
     "metadata": {},
     "output_type": "execute_result"
    }
   ],
   "source": [
    "scipy.stats.gmean(a)"
   ]
  },
  {
   "cell_type": "code",
   "execution_count": 161,
   "id": "918adf4e-b868-4c6b-b00a-95d51cc4cc3c",
   "metadata": {
    "tags": []
   },
   "outputs": [
    {
     "data": {
      "text/plain": [
       "array([1.        , 1.81712059, 4.16016765, 9.52440631, 2.5198421 ])"
      ]
     },
     "execution_count": 161,
     "metadata": {},
     "output_type": "execute_result"
    }
   ],
   "source": [
    "scipy.stats.gmean(a, axis=1)"
   ]
  },
  {
   "cell_type": "code",
   "execution_count": 162,
   "id": "6d9264ee-5466-42c9-b5f4-68620c08fef3",
   "metadata": {
    "tags": []
   },
   "outputs": [
    {
     "data": {
      "text/plain": [
       "2.829705017016332"
      ]
     },
     "execution_count": 162,
     "metadata": {},
     "output_type": "execute_result"
    }
   ],
   "source": [
    "scipy.stats.gmean(a, axis=None)"
   ]
  },
  {
   "cell_type": "code",
   "execution_count": 163,
   "id": "d1550306-eb04-4bd0-855d-5e54287392f9",
   "metadata": {
    "tags": []
   },
   "outputs": [
    {
     "data": {
      "text/plain": [
       "DescribeResult(nobs=15, minmax=(1, 27), mean=5.4, variance=53.40000000000001, skewness=2.264965290423389, kurtosis=5.212690982795767)"
      ]
     },
     "execution_count": 163,
     "metadata": {},
     "output_type": "execute_result"
    }
   ],
   "source": [
    "scipy.stats.describe(a, axis=None, ddof=1, bias=False)"
   ]
  },
  {
   "cell_type": "code",
   "execution_count": 164,
   "id": "87edc71b-e5b0-40d2-ae4f-23720fa7c7f6",
   "metadata": {
    "tags": []
   },
   "outputs": [
    {
     "data": {
      "text/plain": [
       "DescribeResult(nobs=5, minmax=(array([1, 1, 1]), array([16, 27,  4])), mean=array([6.2, 8.2, 1.8]), variance=array([ 37.2, 121.2,   1.7]), skewness=array([1.32531471, 1.79809454, 1.71439233]), kurtosis=array([1.30376344, 3.14969121, 2.66435986]))"
      ]
     },
     "execution_count": 164,
     "metadata": {},
     "output_type": "execute_result"
    }
   ],
   "source": [
    "scipy.stats.describe(a, ddof=1, bias=False)"
   ]
  },
  {
   "cell_type": "code",
   "execution_count": 165,
   "id": "09e10d20-e892-4894-83b5-0b2a58facc93",
   "metadata": {
    "tags": []
   },
   "outputs": [],
   "source": [
    "#DATAFRAME "
   ]
  },
  {
   "cell_type": "code",
   "execution_count": 166,
   "id": "7fc84d37-ff38-4b48-998e-112ec91f5d17",
   "metadata": {
    "tags": []
   },
   "outputs": [
    {
     "data": {
      "text/html": [
       "<div>\n",
       "<style scoped>\n",
       "    .dataframe tbody tr th:only-of-type {\n",
       "        vertical-align: middle;\n",
       "    }\n",
       "\n",
       "    .dataframe tbody tr th {\n",
       "        vertical-align: top;\n",
       "    }\n",
       "\n",
       "    .dataframe thead th {\n",
       "        text-align: right;\n",
       "    }\n",
       "</style>\n",
       "<table border=\"1\" class=\"dataframe\">\n",
       "  <thead>\n",
       "    <tr style=\"text-align: right;\">\n",
       "      <th></th>\n",
       "      <th>A</th>\n",
       "      <th>B</th>\n",
       "      <th>C</th>\n",
       "    </tr>\n",
       "  </thead>\n",
       "  <tbody>\n",
       "    <tr>\n",
       "      <th>first</th>\n",
       "      <td>1</td>\n",
       "      <td>1</td>\n",
       "      <td>1</td>\n",
       "    </tr>\n",
       "    <tr>\n",
       "      <th>second</th>\n",
       "      <td>2</td>\n",
       "      <td>3</td>\n",
       "      <td>1</td>\n",
       "    </tr>\n",
       "    <tr>\n",
       "      <th>third</th>\n",
       "      <td>4</td>\n",
       "      <td>9</td>\n",
       "      <td>2</td>\n",
       "    </tr>\n",
       "    <tr>\n",
       "      <th>fourth</th>\n",
       "      <td>8</td>\n",
       "      <td>27</td>\n",
       "      <td>4</td>\n",
       "    </tr>\n",
       "    <tr>\n",
       "      <th>fifth</th>\n",
       "      <td>16</td>\n",
       "      <td>1</td>\n",
       "      <td>1</td>\n",
       "    </tr>\n",
       "  </tbody>\n",
       "</table>\n",
       "</div>"
      ],
      "text/plain": [
       "         A   B  C\n",
       "first    1   1  1\n",
       "second   2   3  1\n",
       "third    4   9  2\n",
       "fourth   8  27  4\n",
       "fifth   16   1  1"
      ]
     },
     "execution_count": 166,
     "metadata": {},
     "output_type": "execute_result"
    }
   ],
   "source": [
    "row_names = ['first', 'second', 'third', 'fourth', 'fifth']\n",
    "col_names = ['A', 'B', 'C']\n",
    "df = pd.DataFrame(a, index = row_names, columns=col_names)\n",
    "df"
   ]
  },
  {
   "cell_type": "code",
   "execution_count": 167,
   "id": "aa35fa41-c197-43b6-9c50-2f43479e6e7d",
   "metadata": {
    "tags": []
   },
   "outputs": [
    {
     "data": {
      "text/plain": [
       "A    6.2\n",
       "B    8.2\n",
       "C    1.8\n",
       "dtype: float64"
      ]
     },
     "execution_count": 167,
     "metadata": {},
     "output_type": "execute_result"
    }
   ],
   "source": [
    "df.mean()"
   ]
  },
  {
   "cell_type": "code",
   "execution_count": 168,
   "id": "5152f066-ed14-4322-bbb1-0976a8b614c7",
   "metadata": {
    "tags": []
   },
   "outputs": [
    {
     "data": {
      "text/plain": [
       "A     37.2\n",
       "B    121.2\n",
       "C      1.7\n",
       "dtype: float64"
      ]
     },
     "execution_count": 168,
     "metadata": {},
     "output_type": "execute_result"
    }
   ],
   "source": [
    "df.var()"
   ]
  },
  {
   "cell_type": "code",
   "execution_count": 169,
   "id": "322f988d-d31a-4deb-a7a1-26b6bde16214",
   "metadata": {
    "tags": []
   },
   "outputs": [
    {
     "data": {
      "text/plain": [
       "first      1.0\n",
       "second     2.0\n",
       "third      5.0\n",
       "fourth    13.0\n",
       "fifth      6.0\n",
       "dtype: float64"
      ]
     },
     "execution_count": 169,
     "metadata": {},
     "output_type": "execute_result"
    }
   ],
   "source": [
    "df.mean(axis = 1)"
   ]
  },
  {
   "cell_type": "code",
   "execution_count": 170,
   "id": "9d6d279d-183e-4a02-a72e-e936397e7de5",
   "metadata": {
    "tags": []
   },
   "outputs": [
    {
     "data": {
      "text/plain": [
       "6.2"
      ]
     },
     "execution_count": 170,
     "metadata": {},
     "output_type": "execute_result"
    }
   ],
   "source": [
    "df['A'].mean()"
   ]
  },
  {
   "cell_type": "code",
   "execution_count": 171,
   "id": "2ba9f967-3cb6-4a5e-b0a3-7eca4739db74",
   "metadata": {
    "tags": []
   },
   "outputs": [
    {
     "data": {
      "text/plain": [
       "array([[ 1,  1,  1],\n",
       "       [ 2,  3,  1],\n",
       "       [ 4,  9,  2],\n",
       "       [ 8, 27,  4],\n",
       "       [16,  1,  1]])"
      ]
     },
     "execution_count": 171,
     "metadata": {},
     "output_type": "execute_result"
    }
   ],
   "source": [
    "df.values"
   ]
  },
  {
   "cell_type": "code",
   "execution_count": 172,
   "id": "51aeb6b0-81bc-4e7b-99dd-b5e35d001ba0",
   "metadata": {
    "tags": []
   },
   "outputs": [
    {
     "data": {
      "text/plain": [
       "array([[ 1,  1,  1],\n",
       "       [ 2,  3,  1],\n",
       "       [ 4,  9,  2],\n",
       "       [ 8, 27,  4],\n",
       "       [16,  1,  1]])"
      ]
     },
     "execution_count": 172,
     "metadata": {},
     "output_type": "execute_result"
    }
   ],
   "source": [
    "df.to_numpy()"
   ]
  },
  {
   "cell_type": "code",
   "execution_count": 173,
   "id": "045ee4f7-17c2-465e-8f31-47da3210c388",
   "metadata": {
    "tags": []
   },
   "outputs": [
    {
     "data": {
      "text/html": [
       "<div>\n",
       "<style scoped>\n",
       "    .dataframe tbody tr th:only-of-type {\n",
       "        vertical-align: middle;\n",
       "    }\n",
       "\n",
       "    .dataframe tbody tr th {\n",
       "        vertical-align: top;\n",
       "    }\n",
       "\n",
       "    .dataframe thead th {\n",
       "        text-align: right;\n",
       "    }\n",
       "</style>\n",
       "<table border=\"1\" class=\"dataframe\">\n",
       "  <thead>\n",
       "    <tr style=\"text-align: right;\">\n",
       "      <th></th>\n",
       "      <th>A</th>\n",
       "      <th>B</th>\n",
       "      <th>C</th>\n",
       "    </tr>\n",
       "  </thead>\n",
       "  <tbody>\n",
       "    <tr>\n",
       "      <th>count</th>\n",
       "      <td>5.00000</td>\n",
       "      <td>5.000000</td>\n",
       "      <td>5.00000</td>\n",
       "    </tr>\n",
       "    <tr>\n",
       "      <th>mean</th>\n",
       "      <td>6.20000</td>\n",
       "      <td>8.200000</td>\n",
       "      <td>1.80000</td>\n",
       "    </tr>\n",
       "    <tr>\n",
       "      <th>std</th>\n",
       "      <td>6.09918</td>\n",
       "      <td>11.009087</td>\n",
       "      <td>1.30384</td>\n",
       "    </tr>\n",
       "    <tr>\n",
       "      <th>min</th>\n",
       "      <td>1.00000</td>\n",
       "      <td>1.000000</td>\n",
       "      <td>1.00000</td>\n",
       "    </tr>\n",
       "    <tr>\n",
       "      <th>25%</th>\n",
       "      <td>2.00000</td>\n",
       "      <td>1.000000</td>\n",
       "      <td>1.00000</td>\n",
       "    </tr>\n",
       "    <tr>\n",
       "      <th>50%</th>\n",
       "      <td>4.00000</td>\n",
       "      <td>3.000000</td>\n",
       "      <td>1.00000</td>\n",
       "    </tr>\n",
       "    <tr>\n",
       "      <th>75%</th>\n",
       "      <td>8.00000</td>\n",
       "      <td>9.000000</td>\n",
       "      <td>2.00000</td>\n",
       "    </tr>\n",
       "    <tr>\n",
       "      <th>max</th>\n",
       "      <td>16.00000</td>\n",
       "      <td>27.000000</td>\n",
       "      <td>4.00000</td>\n",
       "    </tr>\n",
       "  </tbody>\n",
       "</table>\n",
       "</div>"
      ],
      "text/plain": [
       "              A          B        C\n",
       "count   5.00000   5.000000  5.00000\n",
       "mean    6.20000   8.200000  1.80000\n",
       "std     6.09918  11.009087  1.30384\n",
       "min     1.00000   1.000000  1.00000\n",
       "25%     2.00000   1.000000  1.00000\n",
       "50%     4.00000   3.000000  1.00000\n",
       "75%     8.00000   9.000000  2.00000\n",
       "max    16.00000  27.000000  4.00000"
      ]
     },
     "execution_count": 173,
     "metadata": {},
     "output_type": "execute_result"
    }
   ],
   "source": [
    "df.describe()"
   ]
  },
  {
   "cell_type": "code",
   "execution_count": 174,
   "id": "83fa2ed5-7fc5-411c-9b79-e65521ced0bb",
   "metadata": {
    "tags": []
   },
   "outputs": [
    {
     "data": {
      "text/plain": [
       "6.2"
      ]
     },
     "execution_count": 174,
     "metadata": {},
     "output_type": "execute_result"
    }
   ],
   "source": [
    "df.describe().at['mean', 'A']"
   ]
  },
  {
   "cell_type": "code",
   "execution_count": 175,
   "id": "6b1b49e0-42b0-4169-a10b-4564a1ac73c0",
   "metadata": {
    "tags": []
   },
   "outputs": [
    {
     "data": {
      "text/plain": [
       "3.0"
      ]
     },
     "execution_count": 175,
     "metadata": {},
     "output_type": "execute_result"
    }
   ],
   "source": [
    "df.describe().at['50%', 'B']"
   ]
  },
  {
   "cell_type": "code",
   "execution_count": 176,
   "id": "4990b6d3-3496-4341-8514-05351d8dd20b",
   "metadata": {
    "tags": []
   },
   "outputs": [],
   "source": [
    "#VISUALIZING DATA "
   ]
  },
  {
   "cell_type": "code",
   "execution_count": 177,
   "id": "0bfb33bd-c7d7-47bb-aa8d-f2cbef49e00d",
   "metadata": {
    "tags": []
   },
   "outputs": [],
   "source": [
    "import matplotlib.pyplot as plt\n",
    "plt.style.use('ggplot')"
   ]
  },
  {
   "cell_type": "code",
   "execution_count": 178,
   "id": "5f1e561a-f3b4-4ab7-bf85-64b7c0a08c73",
   "metadata": {
    "tags": []
   },
   "outputs": [],
   "source": [
    "#BOX PLOTSSS"
   ]
  },
  {
   "cell_type": "code",
   "execution_count": 179,
   "id": "9ed99fd2-efc1-43bc-b5f8-ca93d16bbc39",
   "metadata": {
    "tags": []
   },
   "outputs": [],
   "source": [
    "np.random.seed(seed=0)\n",
    "x = np.random.randn(1000)\n",
    "y = np.random.randn(100)\n",
    "z = np.random.randn(10)"
   ]
  },
  {
   "cell_type": "code",
   "execution_count": 180,
   "id": "36f06b51-9687-4815-95a4-0bdf000777f8",
   "metadata": {
    "tags": []
   },
   "outputs": [
    {
     "data": {
      "text/plain": [
       "array([ 1.76405235e+00,  4.00157208e-01,  9.78737984e-01,  2.24089320e+00,\n",
       "        1.86755799e+00, -9.77277880e-01,  9.50088418e-01, -1.51357208e-01,\n",
       "       -1.03218852e-01,  4.10598502e-01,  1.44043571e-01,  1.45427351e+00,\n",
       "        7.61037725e-01,  1.21675016e-01,  4.43863233e-01,  3.33674327e-01,\n",
       "        1.49407907e+00, -2.05158264e-01,  3.13067702e-01, -8.54095739e-01,\n",
       "       -2.55298982e+00,  6.53618595e-01,  8.64436199e-01, -7.42165020e-01,\n",
       "        2.26975462e+00, -1.45436567e+00,  4.57585173e-02, -1.87183850e-01,\n",
       "        1.53277921e+00,  1.46935877e+00,  1.54947426e-01,  3.78162520e-01,\n",
       "       -8.87785748e-01, -1.98079647e+00, -3.47912149e-01,  1.56348969e-01,\n",
       "        1.23029068e+00,  1.20237985e+00, -3.87326817e-01, -3.02302751e-01,\n",
       "       -1.04855297e+00, -1.42001794e+00, -1.70627019e+00,  1.95077540e+00,\n",
       "       -5.09652182e-01, -4.38074302e-01, -1.25279536e+00,  7.77490356e-01,\n",
       "       -1.61389785e+00, -2.12740280e-01, -8.95466561e-01,  3.86902498e-01,\n",
       "       -5.10805138e-01, -1.18063218e+00, -2.81822283e-02,  4.28331871e-01,\n",
       "        6.65172224e-02,  3.02471898e-01, -6.34322094e-01, -3.62741166e-01,\n",
       "       -6.72460448e-01, -3.59553162e-01, -8.13146282e-01, -1.72628260e+00,\n",
       "        1.77426142e-01, -4.01780936e-01, -1.63019835e+00,  4.62782256e-01,\n",
       "       -9.07298364e-01,  5.19453958e-02,  7.29090562e-01,  1.28982911e-01,\n",
       "        1.13940068e+00, -1.23482582e+00,  4.02341641e-01, -6.84810091e-01,\n",
       "       -8.70797149e-01, -5.78849665e-01, -3.11552532e-01,  5.61653422e-02,\n",
       "       -1.16514984e+00,  9.00826487e-01,  4.65662440e-01, -1.53624369e+00,\n",
       "        1.48825219e+00,  1.89588918e+00,  1.17877957e+00, -1.79924836e-01,\n",
       "       -1.07075262e+00,  1.05445173e+00, -4.03176947e-01,  1.22244507e+00,\n",
       "        2.08274978e-01,  9.76639036e-01,  3.56366397e-01,  7.06573168e-01,\n",
       "        1.05000207e-02,  1.78587049e+00,  1.26912093e-01,  4.01989363e-01,\n",
       "        1.88315070e+00, -1.34775906e+00, -1.27048500e+00,  9.69396708e-01,\n",
       "       -1.17312341e+00,  1.94362119e+00, -4.13618981e-01, -7.47454811e-01,\n",
       "        1.92294203e+00,  1.48051479e+00,  1.86755896e+00,  9.06044658e-01,\n",
       "       -8.61225685e-01,  1.91006495e+00, -2.68003371e-01,  8.02456396e-01,\n",
       "        9.47251968e-01, -1.55010093e-01,  6.14079370e-01,  9.22206672e-01,\n",
       "        3.76425531e-01, -1.09940079e+00,  2.98238174e-01,  1.32638590e+00,\n",
       "       -6.94567860e-01, -1.49634540e-01, -4.35153552e-01,  1.84926373e+00,\n",
       "        6.72294757e-01,  4.07461836e-01, -7.69916074e-01,  5.39249191e-01,\n",
       "       -6.74332661e-01,  3.18305583e-02, -6.35846078e-01,  6.76433295e-01,\n",
       "        5.76590817e-01, -2.08298756e-01,  3.96006713e-01, -1.09306151e+00,\n",
       "       -1.49125759e+00,  4.39391701e-01,  1.66673495e-01,  6.35031437e-01,\n",
       "        2.38314477e+00,  9.44479487e-01, -9.12822225e-01,  1.11701629e+00,\n",
       "       -1.31590741e+00, -4.61584605e-01, -6.82416053e-02,  1.71334272e+00,\n",
       "       -7.44754822e-01, -8.26438539e-01, -9.84525244e-02, -6.63478286e-01,\n",
       "        1.12663592e+00, -1.07993151e+00, -1.14746865e+00, -4.37820045e-01,\n",
       "       -4.98032451e-01,  1.92953205e+00,  9.49420807e-01,  8.75512414e-02,\n",
       "       -1.22543552e+00,  8.44362976e-01, -1.00021535e+00, -1.54477110e+00,\n",
       "        1.18802979e+00,  3.16942612e-01,  9.20858824e-01,  3.18727653e-01,\n",
       "        8.56830612e-01, -6.51025593e-01, -1.03424284e+00,  6.81594518e-01,\n",
       "       -8.03409664e-01, -6.89549778e-01, -4.55532504e-01,  1.74791590e-02,\n",
       "       -3.53993911e-01, -1.37495129e+00, -6.43618403e-01, -2.22340315e+00,\n",
       "        6.25231451e-01, -1.60205766e+00, -1.10438334e+00,  5.21650793e-02,\n",
       "       -7.39562996e-01,  1.54301460e+00, -1.29285691e+00,  2.67050869e-01,\n",
       "       -3.92828182e-02, -1.16809350e+00,  5.23276661e-01, -1.71546331e-01,\n",
       "        7.71790551e-01,  8.23504154e-01,  2.16323595e+00,  1.33652795e+00,\n",
       "       -3.69181838e-01, -2.39379178e-01,  1.09965960e+00,  6.55263731e-01,\n",
       "        6.40131526e-01, -1.61695604e+00, -2.43261244e-02, -7.38030909e-01,\n",
       "        2.79924599e-01, -9.81503896e-02,  9.10178908e-01,  3.17218215e-01,\n",
       "        7.86327962e-01, -4.66419097e-01, -9.44446256e-01, -4.10049693e-01,\n",
       "       -1.70204139e-02,  3.79151736e-01,  2.25930895e+00, -4.22571517e-02,\n",
       "       -9.55945000e-01, -3.45981776e-01, -4.63595975e-01,  4.81481474e-01,\n",
       "       -1.54079701e+00,  6.32619942e-02,  1.56506538e-01,  2.32181036e-01,\n",
       "       -5.97316069e-01, -2.37921730e-01, -1.42406091e+00, -4.93319883e-01,\n",
       "       -5.42861476e-01,  4.16050046e-01, -1.15618243e+00,  7.81198102e-01,\n",
       "        1.49448454e+00, -2.06998503e+00,  4.26258731e-01,  6.76908035e-01,\n",
       "       -6.37437026e-01, -3.97271814e-01, -1.32880578e-01, -2.97790879e-01,\n",
       "       -3.09012969e-01, -1.67600381e+00,  1.15233156e+00,  1.07961859e+00,\n",
       "       -8.13364259e-01, -1.46642433e+00,  5.21064876e-01, -5.75787970e-01,\n",
       "        1.41953163e-01, -3.19328417e-01,  6.91538751e-01,  6.94749144e-01,\n",
       "       -7.25597378e-01, -1.38336396e+00, -1.58293840e+00,  6.10379379e-01,\n",
       "       -1.18885926e+00, -5.06816354e-01, -5.96314038e-01, -5.25672963e-02,\n",
       "       -1.93627981e+00,  1.88778597e-01,  5.23891024e-01,  8.84220870e-02,\n",
       "       -3.10886172e-01,  9.74001663e-02,  3.99046346e-01, -2.77259276e+00,\n",
       "        1.95591231e+00,  3.90093323e-01, -6.52408582e-01, -3.90953375e-01,\n",
       "        4.93741777e-01, -1.16103939e-01, -2.03068447e+00,  2.06449286e+00,\n",
       "       -1.10540657e-01,  1.02017271e+00, -6.92049848e-01,  1.53637705e+00,\n",
       "        2.86343689e-01,  6.08843834e-01, -1.04525337e+00,  1.21114529e+00,\n",
       "        6.89818165e-01,  1.30184623e+00, -6.28087560e-01, -4.81027118e-01,\n",
       "        2.30391670e+00, -1.06001582e+00, -1.35949701e-01,  1.13689136e+00,\n",
       "        9.77249677e-02,  5.82953680e-01, -3.99449029e-01,  3.70055888e-01,\n",
       "       -1.30652685e+00,  1.65813068e+00, -1.18164045e-01, -6.80178204e-01,\n",
       "        6.66383082e-01, -4.60719787e-01, -1.33425847e+00, -1.34671751e+00,\n",
       "        6.93773153e-01, -1.59573438e-01, -1.33701560e-01,  1.07774381e+00,\n",
       "       -1.12682581e+00, -7.30677753e-01, -3.84879809e-01,  9.43515893e-02,\n",
       "       -4.21714513e-02, -2.86887192e-01, -6.16264021e-02, -1.07305276e-01,\n",
       "       -7.19604389e-01, -8.12992989e-01,  2.74516358e-01, -8.90915083e-01,\n",
       "       -1.15735526e+00, -3.12292251e-01, -1.57667016e-01,  2.25672350e+00,\n",
       "       -7.04700276e-01,  9.43260725e-01,  7.47188334e-01, -1.18894496e+00,\n",
       "        7.73252977e-01, -1.18388064e+00, -2.65917224e+00,  6.06319524e-01,\n",
       "       -1.75589058e+00,  4.50934462e-01, -6.84010898e-01,  1.65955080e+00,\n",
       "        1.06850940e+00, -4.53385804e-01, -6.87837611e-01, -1.21407740e+00,\n",
       "       -4.40922632e-01, -2.80355495e-01, -3.64693544e-01,  1.56703855e-01,\n",
       "        5.78521498e-01,  3.49654457e-01, -7.64143924e-01, -1.43779147e+00,\n",
       "        1.36453185e+00, -6.89449185e-01, -6.52293600e-01, -5.21189312e-01,\n",
       "       -1.84306955e+00, -4.77974004e-01, -4.79655814e-01,  6.20358298e-01,\n",
       "        6.98457149e-01,  3.77088909e-03,  9.31848374e-01,  3.39964984e-01,\n",
       "       -1.56821116e-02,  1.60928168e-01, -1.90653494e-01, -3.94849514e-01,\n",
       "       -2.67733537e-01, -1.12801133e+00,  2.80441705e-01, -9.93123611e-01,\n",
       "        8.41631264e-01, -2.49458580e-01,  4.94949817e-02,  4.93836776e-01,\n",
       "        6.43314465e-01, -1.57062341e+00, -2.06903676e-01,  8.80178912e-01,\n",
       "       -1.69810582e+00,  3.87280475e-01, -2.25556423e+00, -1.02250684e+00,\n",
       "        3.86305518e-02, -1.65671510e+00, -9.85510738e-01, -1.47183501e+00,\n",
       "        1.64813493e+00,  1.64227755e-01,  5.67290278e-01, -2.22675101e-01,\n",
       "       -3.53431749e-01, -1.61647419e+00, -2.91837363e-01, -7.61492212e-01,\n",
       "        8.57923924e-01,  1.14110187e+00,  1.46657872e+00,  8.52551939e-01,\n",
       "       -5.98653937e-01, -1.11589699e+00,  7.66663182e-01,  3.56292817e-01,\n",
       "       -1.76853845e+00,  3.55481793e-01,  8.14519822e-01,  5.89255892e-02,\n",
       "       -1.85053671e-01, -8.07648488e-01, -1.44653470e+00,  8.00297949e-01,\n",
       "       -3.09114445e-01, -2.33466662e-01,  1.73272119e+00,  6.84501107e-01,\n",
       "        3.70825001e-01,  1.42061805e-01,  1.51999486e+00,  1.71958931e+00,\n",
       "        9.29505111e-01,  5.82224591e-01, -2.09460307e+00,  1.23721914e-01,\n",
       "       -1.30106954e-01,  9.39532294e-02,  9.43046087e-01, -2.73967717e+00,\n",
       "       -5.69312053e-01,  2.69904355e-01, -4.66845546e-01, -1.41690611e+00,\n",
       "        8.68963487e-01,  2.76871906e-01, -9.71104570e-01,  3.14817205e-01,\n",
       "        8.21585712e-01,  5.29264630e-03,  8.00564803e-01,  7.82601752e-02,\n",
       "       -3.95228983e-01, -1.15942052e+00, -8.59307670e-02,  1.94292938e-01,\n",
       "        8.75832762e-01, -1.15107468e-01,  4.57415606e-01, -9.64612014e-01,\n",
       "       -7.82629156e-01, -1.10389299e-01, -1.05462846e+00,  8.20247837e-01,\n",
       "        4.63130329e-01,  2.79095764e-01,  3.38904125e-01,  2.02104356e+00,\n",
       "       -4.68864188e-01, -2.20144129e+00,  1.99300197e-01, -5.06035410e-02,\n",
       "       -5.17519043e-01, -9.78829859e-01, -4.39189522e-01,  1.81338429e-01,\n",
       "       -5.02816701e-01,  2.41245368e+00, -9.60504382e-01, -7.93117363e-01,\n",
       "       -2.28862004e+00,  2.51484415e-01, -2.01640663e+00, -5.39454633e-01,\n",
       "       -2.75670535e-01, -7.09727966e-01,  1.73887268e+00,  9.94394391e-01,\n",
       "        1.31913688e+00, -8.82418819e-01,  1.12859406e+00,  4.96000946e-01,\n",
       "        7.71405949e-01,  1.02943883e+00, -9.08763246e-01, -4.24317621e-01,\n",
       "        8.62596011e-01, -2.65561909e+00,  1.51332808e+00,  5.53132064e-01,\n",
       "       -4.57039607e-02,  2.20507656e-01, -1.02993528e+00, -3.49943365e-01,\n",
       "        1.10028434e+00,  1.29802197e+00,  2.69622405e+00, -7.39246663e-02,\n",
       "       -6.58552967e-01, -5.14233966e-01, -1.01804188e+00, -7.78547559e-02,\n",
       "        3.82732430e-01, -3.42422805e-02,  1.09634685e+00, -2.34215801e-01,\n",
       "       -3.47450652e-01, -5.81268477e-01, -1.63263453e+00, -1.56776772e+00,\n",
       "       -1.17915793e+00,  1.30142807e+00,  8.95260273e-01,  1.37496407e+00,\n",
       "       -1.33221165e+00, -1.96862469e+00, -6.60056320e-01,  1.75818953e-01,\n",
       "        4.98690275e-01,  1.04797216e+00,  2.84279671e-01,  1.74266878e+00,\n",
       "       -2.22605681e-01, -9.13079218e-01, -1.68121822e+00, -8.88971358e-01,\n",
       "        2.42117961e-01, -8.88720257e-01,  9.36742464e-01,  1.41232771e+00,\n",
       "       -2.36958691e+00,  8.64052300e-01, -2.23960406e+00,  4.01499055e-01,\n",
       "        1.22487056e+00,  6.48561063e-02, -1.27968917e+00, -5.85431204e-01,\n",
       "       -2.61645446e-01, -1.82244784e-01, -2.02896841e-01, -1.09882779e-01,\n",
       "        2.13480049e-01, -1.20857365e+00, -2.42019830e-01,  1.51826117e+00,\n",
       "       -3.84645423e-01, -4.43836093e-01,  1.07819730e+00, -2.55918467e+00,\n",
       "        1.18137860e+00, -6.31903758e-01,  1.63928572e-01,  9.63213559e-02,\n",
       "        9.42468119e-01, -2.67594746e-01, -6.78025782e-01,  1.29784579e+00,\n",
       "       -2.36417382e+00,  2.03341817e-02, -1.34792542e+00, -7.61573388e-01,\n",
       "        2.01125668e+00, -4.45954265e-02,  1.95069697e-01, -1.78156286e+00,\n",
       "       -7.29044659e-01,  1.96557401e-01,  3.54757693e-01,  6.16886554e-01,\n",
       "        8.62789892e-03,  5.27004208e-01,  4.53781913e-01, -1.82974041e+00,\n",
       "        3.70057219e-02,  7.67902408e-01,  5.89879821e-01, -3.63858810e-01,\n",
       "       -8.05626508e-01, -1.11831192e+00, -1.31054012e-01,  1.13307988e+00,\n",
       "       -1.95180410e+00, -6.59891730e-01, -1.13980246e+00,  7.84957521e-01,\n",
       "       -5.54309627e-01, -4.70637658e-01, -2.16949570e-01,  4.45393251e-01,\n",
       "       -3.92388998e-01, -3.04614305e+00,  5.43311891e-01,  4.39042958e-01,\n",
       "       -2.19541028e-01, -1.08403662e+00,  3.51780111e-01,  3.79235534e-01,\n",
       "       -4.70032883e-01, -2.16731471e-01, -9.30156503e-01, -1.78589092e-01,\n",
       "       -1.55042935e+00,  4.17318821e-01, -9.44368491e-01,  2.38103148e-01,\n",
       "       -1.40596292e+00, -5.90057646e-01, -1.10489405e-01, -1.66069981e+00,\n",
       "        1.15147873e-01, -3.79147563e-01, -1.74235620e+00, -1.30324275e+00,\n",
       "        6.05120084e-01,  8.95555986e-01, -1.31908640e-01,  4.04761812e-01,\n",
       "        2.23843563e-01,  3.29622982e-01,  1.28598401e+00, -1.50699840e+00,\n",
       "        6.76460732e-01, -3.82008956e-01, -2.24258934e-01, -3.02249730e-01,\n",
       "       -3.75147117e-01, -1.22619619e+00,  1.83339199e-01,  1.67094303e+00,\n",
       "       -5.61330204e-02, -1.38504274e-03, -6.87299037e-01, -1.17474546e-01,\n",
       "        4.66166426e-01, -3.70242441e-01, -4.53804041e-01,  4.03264540e-01,\n",
       "       -9.18004770e-01,  2.52496627e-01,  8.20321797e-01,  1.35994854e+00,\n",
       "       -9.03820073e-02,  1.36759724e+00,  1.03440989e+00, -9.96212640e-01,\n",
       "       -1.21793851e+00, -3.04963638e-01,  1.02893549e+00, -7.22870076e-02,\n",
       "       -6.00657558e-01,  1.55224318e+00,  2.86904488e-01, -2.32059428e+00,\n",
       "        3.17160626e-01,  5.20040615e-01,  2.25608654e-01,  4.49712100e-01,\n",
       "       -6.72756089e-02, -1.31839587e+00, -3.70704003e-01, -9.45615796e-01,\n",
       "       -9.32740911e-01, -1.26306835e+00,  4.52489093e-01,  9.78961454e-02,\n",
       "       -4.48165363e-01, -6.49337928e-01, -2.34231050e-02,  1.07919473e+00,\n",
       "       -2.00421572e+00,  3.76876521e-01, -5.45711974e-01, -1.88458584e+00,\n",
       "       -1.94570308e+00, -9.12783494e-01,  2.19509556e-01,  3.93062934e-01,\n",
       "       -9.38981573e-01,  1.01702099e+00,  1.42298350e+00,  3.96086585e-01,\n",
       "       -5.91402668e-01,  1.12441918e+00,  7.55395696e-01,  8.67407411e-01,\n",
       "       -6.56463675e-01, -2.83455451e+00,  2.11679102e+00, -1.61087840e+00,\n",
       "       -3.57680719e-02,  2.38074535e+00,  3.30576756e-01,  9.49246474e-01,\n",
       "       -1.50239657e+00, -1.77766695e+00, -5.32702792e-01,  1.09074973e+00,\n",
       "       -3.46249448e-01, -7.94636321e-01,  1.97967290e-01,  1.08193522e+00,\n",
       "       -1.44494020e+00, -1.21054299e+00, -7.88669255e-01,  1.09463837e+00,\n",
       "        2.34821526e-01,  2.13215341e+00,  9.36445726e-01, -3.50951769e-02,\n",
       "        1.26507784e+00,  2.11497013e-01, -7.04921353e-01,  6.79974844e-01,\n",
       "       -6.96326654e-01, -2.90397101e-01,  1.32778270e+00, -1.01281486e-01,\n",
       "       -8.03141387e-01, -4.64337691e-01,  1.02179059e+00, -5.52540673e-01,\n",
       "       -3.86870847e-01, -5.10292740e-01,  1.83925494e-01, -3.85489760e-01,\n",
       "       -1.60183605e+00, -8.87180942e-01, -9.32789042e-01,  1.24331938e+00,\n",
       "        8.12674042e-01,  5.87259379e-01, -5.05358317e-01, -8.15791542e-01,\n",
       "       -5.07517602e-01, -1.05188010e+00,  2.49720039e+00, -2.24532165e+00,\n",
       "        5.64008535e-01, -1.28455230e+00, -1.04343491e-01, -9.88001942e-01,\n",
       "       -1.17762896e+00, -1.14019630e+00,  1.75498615e+00, -1.32988422e-01,\n",
       "       -7.65702194e-01,  5.55786964e-01,  1.03493146e-02,  7.20033759e-01,\n",
       "       -1.82425666e+00,  3.03603904e-01,  7.72694837e-01, -1.66159829e+00,\n",
       "        4.48195284e-01,  1.69618157e+00, -1.48577034e-02,  8.21405937e-01,\n",
       "        6.70570450e-01, -7.07505698e-01,  3.97667346e-02, -1.56699471e+00,\n",
       "       -4.51303037e-01,  2.65687975e-01,  7.23100494e-01,  2.46121252e-02,\n",
       "        7.19983730e-01, -1.10290621e+00, -1.01697275e-01,  1.92793845e-02,\n",
       "        1.84959125e+00, -2.14166656e-01, -4.99016638e-01,  2.13512238e-02,\n",
       "       -9.19113445e-01,  1.92753849e-01, -3.65055217e-01, -1.79132755e+00,\n",
       "       -5.85865511e-02, -3.17543094e-01, -1.63242330e+00, -6.71341546e-02,\n",
       "        1.48935596e+00,  5.21303748e-01,  6.11927193e-01, -1.34149673e+00,\n",
       "        4.76898369e-01,  1.48449581e-01,  5.29045238e-01,  4.22628622e-01,\n",
       "       -1.35978073e+00, -4.14008116e-02, -7.57870860e-01, -5.00840943e-02,\n",
       "       -8.97400927e-01,  1.31247037e+00, -8.58972388e-01, -8.98942156e-01,\n",
       "        7.45864065e-02, -1.07709907e+00, -4.24663302e-01, -8.29964598e-01,\n",
       "        1.41117206e+00,  7.85803827e-01, -5.74695185e-02, -3.91217052e-01,\n",
       "        9.40917615e-01,  4.05204080e-01,  4.98052405e-01, -2.61922373e-02,\n",
       "       -1.68823003e+00, -1.12465983e-01, -5.32489919e-01,  6.45055273e-01,\n",
       "        1.01184243e+00, -6.57951045e-01,  4.68385234e-01,  1.73587900e+00,\n",
       "       -6.67712721e-01,  1.68192174e+00, -8.52585847e-01,  2.29597556e-02,\n",
       "       -1.11456118e-02,  1.14988999e-02, -8.37678042e-01, -5.91183104e-01,\n",
       "       -6.67720286e-01,  3.26962595e-01,  3.30035115e-01,  2.22594433e+00,\n",
       "        1.37098901e+00, -5.09843242e-01,  3.24869616e-01,  9.97117981e-01,\n",
       "        3.06018243e-02, -6.96415784e-02,  5.15749428e-02,  8.67276629e-01,\n",
       "       -8.48320523e-01, -3.25669469e-01,  4.70433145e-01,  3.11447072e-01,\n",
       "        2.39582760e-01, -3.69801166e-01,  9.72535789e-01,  2.13386825e+00,\n",
       "        4.06415494e-01, -1.93176702e-01,  7.55740289e-01, -5.39132637e-01,\n",
       "       -7.49690345e-01,  3.28087476e-02, -2.58279663e+00, -1.15395036e+00,\n",
       "       -3.47961856e-01, -1.35338886e+00, -1.03264310e+00, -4.36748337e-01,\n",
       "       -1.64296529e+00, -4.06071796e-01, -5.35270165e-01,  2.54052084e-02,\n",
       "        1.15418403e+00,  1.72504416e-01,  2.10620213e-02,  9.94544570e-02,\n",
       "        2.27392775e-01, -1.01673865e+00, -1.14775325e-01,  3.08751242e-01,\n",
       "       -1.37075998e+00,  8.65652923e-01,  1.08137603e+00, -6.31375988e-01,\n",
       "       -2.41337791e-01, -8.78190343e-01,  6.99380484e-01, -1.06122229e+00,\n",
       "       -2.22477010e-01, -8.58919908e-01,  5.09542770e-02, -1.79422927e+00,\n",
       "        1.32646164e+00, -9.64606424e-01,  5.98946831e-02, -2.12523045e-01,\n",
       "       -7.62114512e-01, -8.87780137e-01,  9.36398544e-01, -5.25640593e-01,\n",
       "        2.71170185e-01, -8.01496885e-01, -6.47181432e-01,  4.72247150e-01,\n",
       "        9.30408496e-01, -1.75316402e-01, -1.42191987e+00,  1.99795608e+00,\n",
       "       -8.56549308e-01, -1.54158740e+00,  2.59442459e+00, -4.04032294e-01,\n",
       "       -1.46173269e+00, -6.83439767e-01,  3.67544896e-01,  1.90311558e-01,\n",
       "       -8.51729197e-01,  1.82272360e+00, -5.21579678e-01, -1.18468659e+00,\n",
       "        9.60693398e-01,  1.32906285e+00, -8.17493098e-01, -1.40134729e+00,\n",
       "        1.03043827e+00, -2.04732361e+00, -1.22662166e+00,  9.67446150e-01,\n",
       "       -5.53525480e-02, -2.63937349e-01,  3.52816606e-01, -1.52774424e-01,\n",
       "       -1.29868672e+00,  1.27607535e+00,  1.32501405e+00,  2.05332564e-01,\n",
       "        4.51340154e-02,  2.33962481e+00, -2.76432845e-01, -2.59576982e-01,\n",
       "        3.64481249e-01,  1.47132196e+00,  1.59277075e+00, -2.58572632e-01,\n",
       "        3.08331246e-01, -1.37808347e+00, -3.11976108e-01, -8.40290395e-01,\n",
       "       -1.00683175e+00,  1.68157672e+00, -7.92286662e-01, -5.31605908e-01,\n",
       "        3.65848788e-01,  1.29782527e+00,  4.81115126e-01,  2.75935511e+00,\n",
       "       -7.46679783e-02,  2.58716440e-01,  2.75600674e-01,  1.43504939e+00,\n",
       "        5.07238951e-01, -1.16229700e-01, -9.47488595e-01,  2.44443456e-01,\n",
       "        1.40134483e+00, -4.10381794e-01,  5.28943618e-01,  2.46147789e-01,\n",
       "        8.63519658e-01, -8.04753741e-01,  2.34664703e+00, -1.27916111e+00,\n",
       "       -3.65551090e-01,  9.38092541e-01,  2.96733172e-01,  8.29986159e-01,\n",
       "       -4.96102334e-01, -7.48049827e-02,  1.22319836e-02,  1.56925961e+00,\n",
       "        6.90429024e-01,  7.96672108e-01, -6.57926093e-01,  9.68882639e-01,\n",
       "        2.25581664e-01,  1.38914532e+00,  2.01406015e+00, -3.06765776e-01,\n",
       "       -4.06303130e-01, -8.64044991e-01, -1.43579512e-01, -3.82025449e-01,\n",
       "        3.59504400e-01, -1.44566817e-01, -3.61599281e-01,  1.06458514e+00,\n",
       "       -9.37880231e-01,  4.33107953e-01, -4.05941727e-01,  7.24368505e-01,\n",
       "        1.38526155e+00, -3.03098253e-01,  4.41032907e-01,  1.78792866e-01,\n",
       "       -7.99422400e-01,  2.40787510e-01,  2.89120505e-01,  4.12870820e-01,\n",
       "       -1.98398897e-01,  9.41923003e-02, -1.14761094e+00, -3.58114075e-01])"
      ]
     },
     "execution_count": 180,
     "metadata": {},
     "output_type": "execute_result"
    }
   ],
   "source": [
    "x"
   ]
  },
  {
   "cell_type": "code",
   "execution_count": 181,
   "id": "cc435d99-8ecd-44f4-a220-85d8724e48b8",
   "metadata": {
    "tags": []
   },
   "outputs": [
    {
     "data": {
      "image/png": "[encoded data removed]",
      "text/plain": [
       "<Figure size 640x480 with 1 Axes>"
      ]
     },
     "metadata": {},
     "output_type": "display_data"
    }
   ],
   "source": [
    "fig, ax = plt.subplots()\n",
    "ax.boxplot((x,y,z), vert=False, showmeans=True, meanline=True, labels=('x', 'y', 'z'), patch_artist=True, medianprops={'linewidth':2, 'color':'purple'}, meanprops={'linewidth':2, 'color':'red'})\n",
    "plt.show()"
   ]
  },
  {
   "cell_type": "code",
   "execution_count": 182,
   "id": "3d9a6ce7-a492-4558-9013-dac1a33b41a6",
   "metadata": {
    "tags": []
   },
   "outputs": [],
   "source": [
    "#HISTOGRAMMMMM\n"
   ]
  },
  {
   "cell_type": "code",
   "execution_count": 183,
   "id": "5c6a56f7-4744-4d9d-b975-c41d1a81e414",
   "metadata": {
    "tags": []
   },
   "outputs": [
    {
     "data": {
      "text/plain": [
       "array([  9,  20,  70, 146, 217, 239, 160,  86,  38,  15], dtype=int64)"
      ]
     },
     "execution_count": 183,
     "metadata": {},
     "output_type": "execute_result"
    }
   ],
   "source": [
    "hist, bin_edges = np.histogram(x, bins=10)\n",
    "hist"
   ]
  },
  {
   "cell_type": "code",
   "execution_count": 184,
   "id": "9ee4045b-40d6-415b-9ff1-f56dbdc20448",
   "metadata": {
    "tags": []
   },
   "outputs": [
    {
     "data": {
      "text/plain": [
       "array([-3.04614305, -2.46559324, -1.88504342, -1.3044936 , -0.72394379,\n",
       "       -0.14339397,  0.43715585,  1.01770566,  1.59825548,  2.1788053 ,\n",
       "        2.75935511])"
      ]
     },
     "execution_count": 184,
     "metadata": {},
     "output_type": "execute_result"
    }
   ],
   "source": [
    "bin_edges"
   ]
  },
  {
   "cell_type": "code",
   "execution_count": 185,
   "id": "ceb53164-df70-4402-a7da-7ba9437f2e40",
   "metadata": {
    "tags": []
   },
   "outputs": [
    {
     "data": {
      "image/png": "[encoded data removed]",
      "text/plain": [
       "<Figure size 640x480 with 1 Axes>"
      ]
     },
     "metadata": {},
     "output_type": "display_data"
    }
   ],
   "source": [
    "fig, ax = plt.subplots()\n",
    "ax.hist(x, bin_edges, cumulative=False)\n",
    "ax.set_xlabel('x')\n",
    "ax.set_ylabel('Frequency')\n",
    "plt.show()"
   ]
  },
  {
   "cell_type": "code",
   "execution_count": 186,
   "id": "b04c4a03-1e30-47e1-99ef-df4f23b0c5d3",
   "metadata": {
    "tags": []
   },
   "outputs": [
    {
     "data": {
      "image/png": "[encoded data removed]",
      "text/plain": [
       "<Figure size 640x480 with 1 Axes>"
      ]
     },
     "metadata": {},
     "output_type": "display_data"
    }
   ],
   "source": [
    "fig, ax = plt.subplots()\n",
    "ax.hist(x, bin_edges, cumulative=True)\n",
    "ax.set_xlabel('x')\n",
    "ax.set_ylabel('Frequency')\n",
    "plt.show()"
   ]
  },
  {
   "cell_type": "code",
   "execution_count": 187,
   "id": "6c5e5af5-22c8-4e94-964f-bad19bc4e666",
   "metadata": {
    "tags": []
   },
   "outputs": [],
   "source": [
    "#PIE CHARTS "
   ]
  },
  {
   "cell_type": "code",
   "execution_count": 188,
   "id": "4728d590-bcd5-4743-bf87-85b3c0097274",
   "metadata": {
    "tags": []
   },
   "outputs": [],
   "source": [
    "x, y, z = 128, 256, 1024"
   ]
  },
  {
   "cell_type": "code",
   "execution_count": 191,
   "id": "cc0d6c17-a072-427b-89b2-73582be6422e",
   "metadata": {
    "tags": []
   },
   "outputs": [
    {
     "data": {
      "image/png": "[encoded data removed]",
      "text/plain": [
       "<Figure size 640x480 with 1 Axes>"
      ]
     },
     "metadata": {},
     "output_type": "display_data"
    }
   ],
   "source": [
    "fig, ax = plt.subplots()\n",
    "ax.pie((x, y, z), labels=('x', 'y', 'z'), autopct='%1.1f%%')\n",
    "plt.show()"
   ]
  },
  {
   "cell_type": "code",
   "execution_count": 192,
   "id": "3d627827-993e-444e-84a8-420dbbdee2fc",
   "metadata": {
    "tags": []
   },
   "outputs": [],
   "source": [
    "#BAR CHARTSSSS"
   ]
  },
  {
   "cell_type": "code",
   "execution_count": 193,
   "id": "6c8b168c-8924-438e-82ab-70c331a9d87a",
   "metadata": {
    "tags": []
   },
   "outputs": [],
   "source": [
    "x = np.arange(21)\n",
    "y = np.random.randint(21, size=21)\n",
    "err = np.random.randn(21)"
   ]
  },
  {
   "cell_type": "code",
   "execution_count": 194,
   "id": "1de0987b-2c3f-4fc7-975c-0c8ae5d67e77",
   "metadata": {
    "tags": []
   },
   "outputs": [
    {
     "ename": "ValueError",
     "evalue": "'yerr' must not contain negative values",
     "output_type": "error",
     "traceback": [
      "\u001b[1;31m---------------------------------------------------------------------------\u001b[0m",
      "\u001b[1;31mValueError\u001b[0m                                Traceback (most recent call last)",
      "Cell \u001b[1;32mIn[194], line 2\u001b[0m\n\u001b[0;32m      1\u001b[0m fig, ax \u001b[38;5;241m=\u001b[39m plt\u001b[38;5;241m.\u001b[39msubplots()\n\u001b[1;32m----> 2\u001b[0m ax\u001b[38;5;241m.\u001b[39mbar(x, y, yerr\u001b[38;5;241m=\u001b[39merr)\n\u001b[0;32m      3\u001b[0m ax\u001b[38;5;241m.\u001b[39mset_xlabel(\u001b[38;5;124m'\u001b[39m\u001b[38;5;124mx\u001b[39m\u001b[38;5;124m'\u001b[39m)\n\u001b[0;32m      4\u001b[0m ax\u001b[38;5;241m.\u001b[39mset_ylabel(\u001b[38;5;124m'\u001b[39m\u001b[38;5;124my\u001b[39m\u001b[38;5;124m'\u001b[39m)\n",
      "File \u001b[1;32m~\\anaconda3\\Lib\\site-packages\\matplotlib\\__init__.py:1442\u001b[0m, in \u001b[0;36m_preprocess_data.<locals>.inner\u001b[1;34m(ax, data, *args, **kwargs)\u001b[0m\n\u001b[0;32m   1439\u001b[0m \u001b[38;5;129m@functools\u001b[39m\u001b[38;5;241m.\u001b[39mwraps(func)\n\u001b[0;32m   1440\u001b[0m \u001b[38;5;28;01mdef\u001b[39;00m \u001b[38;5;21minner\u001b[39m(ax, \u001b[38;5;241m*\u001b[39margs, data\u001b[38;5;241m=\u001b[39m\u001b[38;5;28;01mNone\u001b[39;00m, \u001b[38;5;241m*\u001b[39m\u001b[38;5;241m*\u001b[39mkwargs):\n\u001b[0;32m   1441\u001b[0m     \u001b[38;5;28;01mif\u001b[39;00m data \u001b[38;5;129;01mis\u001b[39;00m \u001b[38;5;28;01mNone\u001b[39;00m:\n\u001b[1;32m-> 1442\u001b[0m         \u001b[38;5;28;01mreturn\u001b[39;00m func(ax, \u001b[38;5;241m*\u001b[39m\u001b[38;5;28mmap\u001b[39m(sanitize_sequence, args), \u001b[38;5;241m*\u001b[39m\u001b[38;5;241m*\u001b[39mkwargs)\n\u001b[0;32m   1444\u001b[0m     bound \u001b[38;5;241m=\u001b[39m new_sig\u001b[38;5;241m.\u001b[39mbind(ax, \u001b[38;5;241m*\u001b[39margs, \u001b[38;5;241m*\u001b[39m\u001b[38;5;241m*\u001b[39mkwargs)\n\u001b[0;32m   1445\u001b[0m     auto_label \u001b[38;5;241m=\u001b[39m (bound\u001b[38;5;241m.\u001b[39marguments\u001b[38;5;241m.\u001b[39mget(label_namer)\n\u001b[0;32m   1446\u001b[0m                   \u001b[38;5;129;01mor\u001b[39;00m bound\u001b[38;5;241m.\u001b[39mkwargs\u001b[38;5;241m.\u001b[39mget(label_namer))\n",
      "File \u001b[1;32m~\\anaconda3\\Lib\\site-packages\\matplotlib\\axes\\_axes.py:2510\u001b[0m, in \u001b[0;36mAxes.bar\u001b[1;34m(self, x, height, width, bottom, align, **kwargs)\u001b[0m\n\u001b[0;32m   2506\u001b[0m         ey \u001b[38;5;241m=\u001b[39m [b \u001b[38;5;241m+\u001b[39m \u001b[38;5;241m0.5\u001b[39m \u001b[38;5;241m*\u001b[39m h \u001b[38;5;28;01mfor\u001b[39;00m b, h \u001b[38;5;129;01min\u001b[39;00m \u001b[38;5;28mzip\u001b[39m(bottom, height)]\n\u001b[0;32m   2508\u001b[0m     error_kw\u001b[38;5;241m.\u001b[39msetdefault(\u001b[38;5;124m\"\u001b[39m\u001b[38;5;124mlabel\u001b[39m\u001b[38;5;124m\"\u001b[39m, \u001b[38;5;124m'\u001b[39m\u001b[38;5;124m_nolegend_\u001b[39m\u001b[38;5;124m'\u001b[39m)\n\u001b[1;32m-> 2510\u001b[0m     errorbar \u001b[38;5;241m=\u001b[39m \u001b[38;5;28mself\u001b[39m\u001b[38;5;241m.\u001b[39merrorbar(ex, ey,\n\u001b[0;32m   2511\u001b[0m                              yerr\u001b[38;5;241m=\u001b[39myerr, xerr\u001b[38;5;241m=\u001b[39mxerr,\n\u001b[0;32m   2512\u001b[0m                              fmt\u001b[38;5;241m=\u001b[39m\u001b[38;5;124m'\u001b[39m\u001b[38;5;124mnone\u001b[39m\u001b[38;5;124m'\u001b[39m, \u001b[38;5;241m*\u001b[39m\u001b[38;5;241m*\u001b[39merror_kw)\n\u001b[0;32m   2513\u001b[0m \u001b[38;5;28;01melse\u001b[39;00m:\n\u001b[0;32m   2514\u001b[0m     errorbar \u001b[38;5;241m=\u001b[39m \u001b[38;5;28;01mNone\u001b[39;00m\n",
      "File \u001b[1;32m~\\anaconda3\\Lib\\site-packages\\matplotlib\\__init__.py:1442\u001b[0m, in \u001b[0;36m_preprocess_data.<locals>.inner\u001b[1;34m(ax, data, *args, **kwargs)\u001b[0m\n\u001b[0;32m   1439\u001b[0m \u001b[38;5;129m@functools\u001b[39m\u001b[38;5;241m.\u001b[39mwraps(func)\n\u001b[0;32m   1440\u001b[0m \u001b[38;5;28;01mdef\u001b[39;00m \u001b[38;5;21minner\u001b[39m(ax, \u001b[38;5;241m*\u001b[39margs, data\u001b[38;5;241m=\u001b[39m\u001b[38;5;28;01mNone\u001b[39;00m, \u001b[38;5;241m*\u001b[39m\u001b[38;5;241m*\u001b[39mkwargs):\n\u001b[0;32m   1441\u001b[0m     \u001b[38;5;28;01mif\u001b[39;00m data \u001b[38;5;129;01mis\u001b[39;00m \u001b[38;5;28;01mNone\u001b[39;00m:\n\u001b[1;32m-> 1442\u001b[0m         \u001b[38;5;28;01mreturn\u001b[39;00m func(ax, \u001b[38;5;241m*\u001b[39m\u001b[38;5;28mmap\u001b[39m(sanitize_sequence, args), \u001b[38;5;241m*\u001b[39m\u001b[38;5;241m*\u001b[39mkwargs)\n\u001b[0;32m   1444\u001b[0m     bound \u001b[38;5;241m=\u001b[39m new_sig\u001b[38;5;241m.\u001b[39mbind(ax, \u001b[38;5;241m*\u001b[39margs, \u001b[38;5;241m*\u001b[39m\u001b[38;5;241m*\u001b[39mkwargs)\n\u001b[0;32m   1445\u001b[0m     auto_label \u001b[38;5;241m=\u001b[39m (bound\u001b[38;5;241m.\u001b[39marguments\u001b[38;5;241m.\u001b[39mget(label_namer)\n\u001b[0;32m   1446\u001b[0m                   \u001b[38;5;129;01mor\u001b[39;00m bound\u001b[38;5;241m.\u001b[39mkwargs\u001b[38;5;241m.\u001b[39mget(label_namer))\n",
      "File \u001b[1;32m~\\anaconda3\\Lib\\site-packages\\matplotlib\\axes\\_axes.py:3642\u001b[0m, in \u001b[0;36mAxes.errorbar\u001b[1;34m(self, x, y, yerr, xerr, fmt, ecolor, elinewidth, capsize, barsabove, lolims, uplims, xlolims, xuplims, errorevery, capthick, **kwargs)\u001b[0m\n\u001b[0;32m   3639\u001b[0m res \u001b[38;5;241m=\u001b[39m np\u001b[38;5;241m.\u001b[39mzeros(err\u001b[38;5;241m.\u001b[39mshape, dtype\u001b[38;5;241m=\u001b[39m\u001b[38;5;28mbool\u001b[39m)  \u001b[38;5;66;03m# Default in case of nan\u001b[39;00m\n\u001b[0;32m   3640\u001b[0m \u001b[38;5;28;01mif\u001b[39;00m np\u001b[38;5;241m.\u001b[39many(np\u001b[38;5;241m.\u001b[39mless(err, \u001b[38;5;241m-\u001b[39merr, out\u001b[38;5;241m=\u001b[39mres, where\u001b[38;5;241m=\u001b[39m(err \u001b[38;5;241m==\u001b[39m err))):\n\u001b[0;32m   3641\u001b[0m     \u001b[38;5;66;03m# like err<0, but also works for timedelta and nan.\u001b[39;00m\n\u001b[1;32m-> 3642\u001b[0m     \u001b[38;5;28;01mraise\u001b[39;00m \u001b[38;5;167;01mValueError\u001b[39;00m(\n\u001b[0;32m   3643\u001b[0m         \u001b[38;5;124mf\u001b[39m\u001b[38;5;124m\"\u001b[39m\u001b[38;5;124m'\u001b[39m\u001b[38;5;132;01m{\u001b[39;00mdep_axis\u001b[38;5;132;01m}\u001b[39;00m\u001b[38;5;124merr\u001b[39m\u001b[38;5;124m'\u001b[39m\u001b[38;5;124m must not contain negative values\u001b[39m\u001b[38;5;124m\"\u001b[39m)\n\u001b[0;32m   3644\u001b[0m \u001b[38;5;66;03m# This is like\u001b[39;00m\n\u001b[0;32m   3645\u001b[0m \u001b[38;5;66;03m#     elow, ehigh = np.broadcast_to(...)\u001b[39;00m\n\u001b[0;32m   3646\u001b[0m \u001b[38;5;66;03m#     return dep - elow * ~lolims, dep + ehigh * ~uplims\u001b[39;00m\n\u001b[0;32m   3647\u001b[0m \u001b[38;5;66;03m# except that broadcast_to would strip units.\u001b[39;00m\n\u001b[0;32m   3648\u001b[0m low, high \u001b[38;5;241m=\u001b[39m dep \u001b[38;5;241m+\u001b[39m np\u001b[38;5;241m.\u001b[39mrow_stack([\u001b[38;5;241m-\u001b[39m(\u001b[38;5;241m1\u001b[39m \u001b[38;5;241m-\u001b[39m lolims), \u001b[38;5;241m1\u001b[39m \u001b[38;5;241m-\u001b[39m uplims]) \u001b[38;5;241m*\u001b[39m err\n",
      "\u001b[1;31mValueError\u001b[0m: 'yerr' must not contain negative values"
     ]
    },
    {
     "data": {
      "image/png": "[encoded data removed]",
      "text/plain": [
       "<Figure size 640x480 with 1 Axes>"
      ]
     },
     "metadata": {},
     "output_type": "display_data"
    }
   ],
   "source": [
    "fig, ax = plt.subplots()\n",
    "ax.bar(x, y, yerr=err)\n",
    "ax.set_xlabel('x')\n",
    "ax.set_ylabel('y')\n",
    "plt.show()"
   ]
  },
  {
   "cell_type": "code",
   "execution_count": 196,
   "id": "569e39e9-374a-4a5f-b333-000983d60587",
   "metadata": {
    "tags": []
   },
   "outputs": [
    {
     "data": {
      "text/plain": [
       "array([-0.80656479,  2.01621342, -0.30215182,  0.67375184,  1.66826442,\n",
       "       -2.9163849 ,  0.43166367, -0.72905029,  0.11509943,  0.3143407 ,\n",
       "        0.03632548,  0.53540839, -0.50008969,  1.20285171, -1.25813641,\n",
       "       -1.51082149, -1.23405636,  1.38609134, -0.29442511, -1.50657565,\n",
       "       -0.46735128])"
      ]
     },
     "execution_count": 196,
     "metadata": {},
     "output_type": "execute_result"
    }
   ],
   "source": [
    "err"
   ]
  },
  {
   "cell_type": "code",
   "execution_count": 198,
   "id": "d59376b6-b36f-41e2-9996-5db37bac4ec6",
   "metadata": {
    "tags": []
   },
   "outputs": [],
   "source": [
    "#X-Y PLORRRR OR SCATTER PLOT"
   ]
  },
  {
   "cell_type": "code",
   "execution_count": 199,
   "id": "d4d7ac1f-3145-456e-b504-1ed6e2b6f93d",
   "metadata": {
    "tags": []
   },
   "outputs": [],
   "source": [
    "x = np.arange(21)\n",
    "y = 5 + 2 * x + 2 * np.random .randn(21)\n",
    "slope, intercept, r, *__ = scipy.stats.linregress(x,y)\n",
    "line = f'Regression line: y={intercept:.2f}+{slope:.2f}x, r={r:.2f}'"
   ]
  },
  {
   "cell_type": "code",
   "execution_count": 200,
   "id": "86545634-4bee-42a9-9524-18fa9c49d86e",
   "metadata": {
    "tags": []
   },
   "outputs": [
    {
     "data": {
      "image/png": "[encoded data removed]",
      "text/plain": [
       "<Figure size 640x480 with 1 Axes>"
      ]
     },
     "metadata": {},
     "output_type": "display_data"
    }
   ],
   "source": [
    "fig, ax = plt.subplots()\n",
    "ax.plot(x,y, linewidth=0, marker='s', label='Data Points')\n",
    "ax.plot(x, intercept + slope * x, label=line)\n",
    "ax.set_xlabel('x')\n",
    "ax.set_ylabel('y')\n",
    "ax.legend(facecolor='white')\n",
    "plt.show()"
   ]
  },
  {
   "cell_type": "code",
   "execution_count": 201,
   "id": "33358be3-a09d-4b3b-8708-862c8a7e0ca7",
   "metadata": {
    "tags": []
   },
   "outputs": [],
   "source": [
    "#HEATMAP"
   ]
  },
  {
   "cell_type": "code",
   "execution_count": 207,
   "id": "64d5ecb7-3ccf-47d0-8d6c-cb63627c5ca1",
   "metadata": {
    "tags": []
   },
   "outputs": [
    {
     "data": {
      "image/png": "[encoded data removed]",
      "text/plain": [
       "<Figure size 640x480 with 1 Axes>"
      ]
     },
     "metadata": {},
     "output_type": "display_data"
    }
   ],
   "source": [
    "matrix = np.cov(x,y).round(decimals=2)\n",
    "fig, ax = plt.subplots()\n",
    "ax.imshow(matrix)\n",
    "ax.grid(False)\n",
    "ax.xaxis.set(ticks=(0,1), ticklabels=('x', 'y'))\n",
    "ax.yaxis.set(ticks=(0,1), ticklabels=('x', 'y'))\n",
    "ax.set_ylim(1.5, -0.5)\n",
    "for i in range(2):      \n",
    "    for j in range(2):          \n",
    "        ax.text(j, i, matrix[i,j], ha='center', va='center', color='w')\n",
    "plt.show()"
   ]
  },
  {
   "cell_type": "code",
   "execution_count": 208,
   "id": "4a6ebb6b-1252-4d70-b555-bd13bb2f9d22",
   "metadata": {
    "tags": []
   },
   "outputs": [
    {
     "data": {
      "image/png": "[encoded data removed]",
      "text/plain": [
       "<Figure size 640x480 with 1 Axes>"
      ]
     },
     "metadata": {},
     "output_type": "display_data"
    }
   ],
   "source": [
    "matrix = np.corrcoef(x,y).round(decimals=2)\n",
    "fig, ax = plt.subplots()\n",
    "ax.imshow(matrix)\n",
    "ax.grid(False)\n",
    "ax.xaxis.set(ticks=(0,1), ticklabels=('x', 'y'))\n",
    "ax.yaxis.set(ticks=(0,1), ticklabels=('x', 'y'))\n",
    "ax.set_ylim(1.5, -0.5)\n",
    "for i in range(2):\n",
    "    for j in range(2):\n",
    "        ax.text(j, i, matrix[i,j], ha='center', va='center', color='w')\n",
    "\n",
    "plt.show()\n",
    "        "
   ]
  },
  {
   "cell_type": "code",
   "execution_count": null,
   "id": "369fec12-d06b-480d-9d86-cde771ec1472",
   "metadata": {},
   "outputs": [],
   "source": []
  }
 ],
 "metadata": {
  "kernelspec": {
   "display_name": "Python 3 (ipykernel)",
   "language": "python",
   "name": "python3"
  },
  "language_info": {
   "codemirror_mode": {
    "name": "ipython",
    "version": 3
   },
   "file_extension": ".py",
   "mimetype": "text/x-python",
   "name": "python",
   "nbconvert_exporter": "python",
   "pygments_lexer": "ipython3",
   "version": "3.11.4"
  }
 },
 "nbformat": 4,
 "nbformat_minor": 5
}
