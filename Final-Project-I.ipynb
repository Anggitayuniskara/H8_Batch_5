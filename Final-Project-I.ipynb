{
 "cells": [
  {
   "cell_type": "markdown",
   "id": "14702046",
   "metadata": {},
   "source": [
    "<h1 align=\"center\">Final Project I</h1>\n",
    "\n",
    "**Anggota Kelompok 5 :**\n",
    "- Dhelya Apriliani Putri\n",
    "- Anggita Yuniskara\n",
    "- M Rinande Ansutia\n",
    "- Rizky Mardhatillah\n",
    "\n",
    "# Pendahuluan \n",
    "## Uber and Lyft Dataset Boston, MA\n",
    "From 11-26-2018 to 12-18-2018\n",
    "\n",
    "Dataset yang akan di olah kali ini adalah Uber and Lyft Dataset Boston, MA. Dataset mengandung banyak nilai NA. Ini adalah kumpulan data yang bagus untuk menggunakan Model Regresi Linier dan melihat pola antara predektor yang berbeda seperti jam dan harga.\n",
    "\n",
    "Bagian yang menarik dari kumpulan data ini adalah data ini menyertakan data cuaca yang sesuai untuk jam tersebut dengan ringkasan singkat tentang cuaca. Faktor penting lainnya adalah suhu, angin, dan matahari terbenam. \n",
    "\n",
    "Semoga dengan data ini kami dapat menggunakan Model Regresi Linier dengan baik."
   ]
  },
  {
   "cell_type": "markdown",
   "id": "5d01b2eb",
   "metadata": {},
   "source": [
    "## Import Library yang dibutuhkan"
   ]
  },
  {
   "cell_type": "code",
   "execution_count": 52,
   "id": "3309ce32",
   "metadata": {},
   "outputs": [],
   "source": [
    "import pandas as pd\n",
    "import numpy as np\n",
    "from PIL import Image \n",
    "import matplotlib.pyplot as plt\n",
    "import seaborn as sns\n",
    "from sklearn.tree import DecisionTreeClassifier\n",
    "from sklearn.model_selection import train_test_split\n",
    "from sklearn import metrics"
   ]
  },
  {
   "cell_type": "code",
   "execution_count": 53,
   "id": "07e4bd35-9b54-4dcd-a3b0-e5e8c6d3dd2a",
   "metadata": {},
   "outputs": [],
   "source": [
    "from sklearn.model_selection import train_test_split, GridSearchCV, KFold, cross_validate, cross_val_score\n",
    "from sklearn.metrics import r2_score, mean_squared_error, accuracy_score, f1_score, precision_score, recall_score, roc_auc_score\n",
    "from sklearn.metrics import make_scorer, confusion_matrix, ConfusionMatrixDisplay, roc_curve, auc\n",
    "from sklearn.preprocessing import MinMaxScaler, StandardScaler\n",
    "from sklearn.naive_bayes import GaussianNB\n",
    "from sklearn.neighbors import KNeighborsClassifier"
   ]
  },
  {
   "cell_type": "code",
   "execution_count": 54,
   "id": "676583fa",
   "metadata": {},
   "outputs": [],
   "source": [
    "#import file\n",
    "df_can = pd.read_csv('rideshare_kaggle.csv')"
   ]
  },
  {
   "cell_type": "code",
   "execution_count": 55,
   "id": "5ef64e2b",
   "metadata": {},
   "outputs": [
    {
     "data": {
      "text/html": [
       "<div>\n",
       "<style scoped>\n",
       "    .dataframe tbody tr th:only-of-type {\n",
       "        vertical-align: middle;\n",
       "    }\n",
       "\n",
       "    .dataframe tbody tr th {\n",
       "        vertical-align: top;\n",
       "    }\n",
       "\n",
       "    .dataframe thead th {\n",
       "        text-align: right;\n",
       "    }\n",
       "</style>\n",
       "<table border=\"1\" class=\"dataframe\">\n",
       "  <thead>\n",
       "    <tr style=\"text-align: right;\">\n",
       "      <th></th>\n",
       "      <th>id</th>\n",
       "      <th>timestamp</th>\n",
       "      <th>hour</th>\n",
       "      <th>day</th>\n",
       "      <th>month</th>\n",
       "      <th>datetime</th>\n",
       "      <th>timezone</th>\n",
       "      <th>source</th>\n",
       "      <th>destination</th>\n",
       "      <th>cab_type</th>\n",
       "      <th>...</th>\n",
       "      <th>precipIntensityMax</th>\n",
       "      <th>uvIndexTime</th>\n",
       "      <th>temperatureMin</th>\n",
       "      <th>temperatureMinTime</th>\n",
       "      <th>temperatureMax</th>\n",
       "      <th>temperatureMaxTime</th>\n",
       "      <th>apparentTemperatureMin</th>\n",
       "      <th>apparentTemperatureMinTime</th>\n",
       "      <th>apparentTemperatureMax</th>\n",
       "      <th>apparentTemperatureMaxTime</th>\n",
       "    </tr>\n",
       "  </thead>\n",
       "  <tbody>\n",
       "    <tr>\n",
       "      <th>0</th>\n",
       "      <td>424553bb-7174-41ea-aeb4-fe06d4f4b9d7</td>\n",
       "      <td>1.544953e+09</td>\n",
       "      <td>9</td>\n",
       "      <td>16</td>\n",
       "      <td>12</td>\n",
       "      <td>2018-12-16 09:30:07</td>\n",
       "      <td>America/New_York</td>\n",
       "      <td>Haymarket Square</td>\n",
       "      <td>North Station</td>\n",
       "      <td>Lyft</td>\n",
       "      <td>...</td>\n",
       "      <td>0.1276</td>\n",
       "      <td>1544979600</td>\n",
       "      <td>39.89</td>\n",
       "      <td>1545012000</td>\n",
       "      <td>43.68</td>\n",
       "      <td>1544968800</td>\n",
       "      <td>33.73</td>\n",
       "      <td>1545012000</td>\n",
       "      <td>38.07</td>\n",
       "      <td>1544958000</td>\n",
       "    </tr>\n",
       "    <tr>\n",
       "      <th>1</th>\n",
       "      <td>4bd23055-6827-41c6-b23b-3c491f24e74d</td>\n",
       "      <td>1.543284e+09</td>\n",
       "      <td>2</td>\n",
       "      <td>27</td>\n",
       "      <td>11</td>\n",
       "      <td>2018-11-27 02:00:23</td>\n",
       "      <td>America/New_York</td>\n",
       "      <td>Haymarket Square</td>\n",
       "      <td>North Station</td>\n",
       "      <td>Lyft</td>\n",
       "      <td>...</td>\n",
       "      <td>0.1300</td>\n",
       "      <td>1543251600</td>\n",
       "      <td>40.49</td>\n",
       "      <td>1543233600</td>\n",
       "      <td>47.30</td>\n",
       "      <td>1543251600</td>\n",
       "      <td>36.20</td>\n",
       "      <td>1543291200</td>\n",
       "      <td>43.92</td>\n",
       "      <td>1543251600</td>\n",
       "    </tr>\n",
       "    <tr>\n",
       "      <th>2</th>\n",
       "      <td>981a3613-77af-4620-a42a-0c0866077d1e</td>\n",
       "      <td>1.543367e+09</td>\n",
       "      <td>1</td>\n",
       "      <td>28</td>\n",
       "      <td>11</td>\n",
       "      <td>2018-11-28 01:00:22</td>\n",
       "      <td>America/New_York</td>\n",
       "      <td>Haymarket Square</td>\n",
       "      <td>North Station</td>\n",
       "      <td>Lyft</td>\n",
       "      <td>...</td>\n",
       "      <td>0.1064</td>\n",
       "      <td>1543338000</td>\n",
       "      <td>35.36</td>\n",
       "      <td>1543377600</td>\n",
       "      <td>47.55</td>\n",
       "      <td>1543320000</td>\n",
       "      <td>31.04</td>\n",
       "      <td>1543377600</td>\n",
       "      <td>44.12</td>\n",
       "      <td>1543320000</td>\n",
       "    </tr>\n",
       "    <tr>\n",
       "      <th>3</th>\n",
       "      <td>c2d88af2-d278-4bfd-a8d0-29ca77cc5512</td>\n",
       "      <td>1.543554e+09</td>\n",
       "      <td>4</td>\n",
       "      <td>30</td>\n",
       "      <td>11</td>\n",
       "      <td>2018-11-30 04:53:02</td>\n",
       "      <td>America/New_York</td>\n",
       "      <td>Haymarket Square</td>\n",
       "      <td>North Station</td>\n",
       "      <td>Lyft</td>\n",
       "      <td>...</td>\n",
       "      <td>0.0000</td>\n",
       "      <td>1543507200</td>\n",
       "      <td>34.67</td>\n",
       "      <td>1543550400</td>\n",
       "      <td>45.03</td>\n",
       "      <td>1543510800</td>\n",
       "      <td>30.30</td>\n",
       "      <td>1543550400</td>\n",
       "      <td>38.53</td>\n",
       "      <td>1543510800</td>\n",
       "    </tr>\n",
       "    <tr>\n",
       "      <th>4</th>\n",
       "      <td>e0126e1f-8ca9-4f2e-82b3-50505a09db9a</td>\n",
       "      <td>1.543463e+09</td>\n",
       "      <td>3</td>\n",
       "      <td>29</td>\n",
       "      <td>11</td>\n",
       "      <td>2018-11-29 03:49:20</td>\n",
       "      <td>America/New_York</td>\n",
       "      <td>Haymarket Square</td>\n",
       "      <td>North Station</td>\n",
       "      <td>Lyft</td>\n",
       "      <td>...</td>\n",
       "      <td>0.0001</td>\n",
       "      <td>1543420800</td>\n",
       "      <td>33.10</td>\n",
       "      <td>1543402800</td>\n",
       "      <td>42.18</td>\n",
       "      <td>1543420800</td>\n",
       "      <td>29.11</td>\n",
       "      <td>1543392000</td>\n",
       "      <td>35.75</td>\n",
       "      <td>1543420800</td>\n",
       "    </tr>\n",
       "  </tbody>\n",
       "</table>\n",
       "<p>5 rows × 57 columns</p>\n",
       "</div>"
      ],
      "text/plain": [
       "                                     id     timestamp  hour  day  month  \\\n",
       "0  424553bb-7174-41ea-aeb4-fe06d4f4b9d7  1.544953e+09     9   16     12   \n",
       "1  4bd23055-6827-41c6-b23b-3c491f24e74d  1.543284e+09     2   27     11   \n",
       "2  981a3613-77af-4620-a42a-0c0866077d1e  1.543367e+09     1   28     11   \n",
       "3  c2d88af2-d278-4bfd-a8d0-29ca77cc5512  1.543554e+09     4   30     11   \n",
       "4  e0126e1f-8ca9-4f2e-82b3-50505a09db9a  1.543463e+09     3   29     11   \n",
       "\n",
       "              datetime          timezone            source    destination  \\\n",
       "0  2018-12-16 09:30:07  America/New_York  Haymarket Square  North Station   \n",
       "1  2018-11-27 02:00:23  America/New_York  Haymarket Square  North Station   \n",
       "2  2018-11-28 01:00:22  America/New_York  Haymarket Square  North Station   \n",
       "3  2018-11-30 04:53:02  America/New_York  Haymarket Square  North Station   \n",
       "4  2018-11-29 03:49:20  America/New_York  Haymarket Square  North Station   \n",
       "\n",
       "  cab_type  ... precipIntensityMax uvIndexTime  temperatureMin  \\\n",
       "0     Lyft  ...             0.1276  1544979600           39.89   \n",
       "1     Lyft  ...             0.1300  1543251600           40.49   \n",
       "2     Lyft  ...             0.1064  1543338000           35.36   \n",
       "3     Lyft  ...             0.0000  1543507200           34.67   \n",
       "4     Lyft  ...             0.0001  1543420800           33.10   \n",
       "\n",
       "   temperatureMinTime  temperatureMax  temperatureMaxTime  \\\n",
       "0          1545012000           43.68          1544968800   \n",
       "1          1543233600           47.30          1543251600   \n",
       "2          1543377600           47.55          1543320000   \n",
       "3          1543550400           45.03          1543510800   \n",
       "4          1543402800           42.18          1543420800   \n",
       "\n",
       "   apparentTemperatureMin  apparentTemperatureMinTime  apparentTemperatureMax  \\\n",
       "0                   33.73                  1545012000                   38.07   \n",
       "1                   36.20                  1543291200                   43.92   \n",
       "2                   31.04                  1543377600                   44.12   \n",
       "3                   30.30                  1543550400                   38.53   \n",
       "4                   29.11                  1543392000                   35.75   \n",
       "\n",
       "  apparentTemperatureMaxTime  \n",
       "0                 1544958000  \n",
       "1                 1543251600  \n",
       "2                 1543320000  \n",
       "3                 1543510800  \n",
       "4                 1543420800  \n",
       "\n",
       "[5 rows x 57 columns]"
      ]
     },
     "execution_count": 55,
     "metadata": {},
     "output_type": "execute_result"
    }
   ],
   "source": [
    "#lima item pertama dalam dataset\n",
    "df_can.head()"
   ]
  },
  {
   "cell_type": "code",
   "execution_count": 56,
   "id": "5b0ee4ab",
   "metadata": {},
   "outputs": [
    {
     "data": {
      "text/plain": [
       "Index(['id', 'timestamp', 'hour', 'day', 'month', 'datetime', 'timezone',\n",
       "       'source', 'destination', 'cab_type', 'product_id', 'name', 'price',\n",
       "       'distance', 'surge_multiplier', 'latitude', 'longitude', 'temperature',\n",
       "       'apparentTemperature', 'short_summary', 'long_summary',\n",
       "       'precipIntensity', 'precipProbability', 'humidity', 'windSpeed',\n",
       "       'windGust', 'windGustTime', 'visibility', 'temperatureHigh',\n",
       "       'temperatureHighTime', 'temperatureLow', 'temperatureLowTime',\n",
       "       'apparentTemperatureHigh', 'apparentTemperatureHighTime',\n",
       "       'apparentTemperatureLow', 'apparentTemperatureLowTime', 'icon',\n",
       "       'dewPoint', 'pressure', 'windBearing', 'cloudCover', 'uvIndex',\n",
       "       'visibility.1', 'ozone', 'sunriseTime', 'sunsetTime', 'moonPhase',\n",
       "       'precipIntensityMax', 'uvIndexTime', 'temperatureMin',\n",
       "       'temperatureMinTime', 'temperatureMax', 'temperatureMaxTime',\n",
       "       'apparentTemperatureMin', 'apparentTemperatureMinTime',\n",
       "       'apparentTemperatureMax', 'apparentTemperatureMaxTime'],\n",
       "      dtype='object')"
      ]
     },
     "execution_count": 56,
     "metadata": {},
     "output_type": "execute_result"
    }
   ],
   "source": [
    "df_can.columns"
   ]
  },
  {
   "cell_type": "code",
   "execution_count": 57,
   "id": "69b52a75",
   "metadata": {},
   "outputs": [
    {
     "data": {
      "text/html": [
       "<div>\n",
       "<style scoped>\n",
       "    .dataframe tbody tr th:only-of-type {\n",
       "        vertical-align: middle;\n",
       "    }\n",
       "\n",
       "    .dataframe tbody tr th {\n",
       "        vertical-align: top;\n",
       "    }\n",
       "\n",
       "    .dataframe thead th {\n",
       "        text-align: right;\n",
       "    }\n",
       "</style>\n",
       "<table border=\"1\" class=\"dataframe\">\n",
       "  <thead>\n",
       "    <tr style=\"text-align: right;\">\n",
       "      <th></th>\n",
       "      <th>id</th>\n",
       "      <th>timestamp</th>\n",
       "      <th>hour</th>\n",
       "      <th>day</th>\n",
       "      <th>month</th>\n",
       "      <th>datetime</th>\n",
       "      <th>timezone</th>\n",
       "      <th>source</th>\n",
       "      <th>destination</th>\n",
       "      <th>cab_type</th>\n",
       "      <th>...</th>\n",
       "      <th>precipIntensityMax</th>\n",
       "      <th>uvIndexTime</th>\n",
       "      <th>temperatureMin</th>\n",
       "      <th>temperatureMinTime</th>\n",
       "      <th>temperatureMax</th>\n",
       "      <th>temperatureMaxTime</th>\n",
       "      <th>apparentTemperatureMin</th>\n",
       "      <th>apparentTemperatureMinTime</th>\n",
       "      <th>apparentTemperatureMax</th>\n",
       "      <th>apparentTemperatureMaxTime</th>\n",
       "    </tr>\n",
       "  </thead>\n",
       "  <tbody>\n",
       "    <tr>\n",
       "      <th>693066</th>\n",
       "      <td>616d3611-1820-450a-9845-a9ff304a4842</td>\n",
       "      <td>1.543708e+09</td>\n",
       "      <td>23</td>\n",
       "      <td>1</td>\n",
       "      <td>12</td>\n",
       "      <td>2018-12-01 23:53:05</td>\n",
       "      <td>America/New_York</td>\n",
       "      <td>West End</td>\n",
       "      <td>North End</td>\n",
       "      <td>Uber</td>\n",
       "      <td>...</td>\n",
       "      <td>0.0</td>\n",
       "      <td>1543683600</td>\n",
       "      <td>31.42</td>\n",
       "      <td>1543658400</td>\n",
       "      <td>44.76</td>\n",
       "      <td>1543690800</td>\n",
       "      <td>27.77</td>\n",
       "      <td>1543658400</td>\n",
       "      <td>44.09</td>\n",
       "      <td>1543690800</td>\n",
       "    </tr>\n",
       "    <tr>\n",
       "      <th>693067</th>\n",
       "      <td>633a3fc3-1f86-4b9e-9d48-2b7132112341</td>\n",
       "      <td>1.543708e+09</td>\n",
       "      <td>23</td>\n",
       "      <td>1</td>\n",
       "      <td>12</td>\n",
       "      <td>2018-12-01 23:53:05</td>\n",
       "      <td>America/New_York</td>\n",
       "      <td>West End</td>\n",
       "      <td>North End</td>\n",
       "      <td>Uber</td>\n",
       "      <td>...</td>\n",
       "      <td>0.0</td>\n",
       "      <td>1543683600</td>\n",
       "      <td>31.42</td>\n",
       "      <td>1543658400</td>\n",
       "      <td>44.76</td>\n",
       "      <td>1543690800</td>\n",
       "      <td>27.77</td>\n",
       "      <td>1543658400</td>\n",
       "      <td>44.09</td>\n",
       "      <td>1543690800</td>\n",
       "    </tr>\n",
       "    <tr>\n",
       "      <th>693068</th>\n",
       "      <td>64d451d0-639f-47a4-9b7c-6fd92fbd264f</td>\n",
       "      <td>1.543708e+09</td>\n",
       "      <td>23</td>\n",
       "      <td>1</td>\n",
       "      <td>12</td>\n",
       "      <td>2018-12-01 23:53:05</td>\n",
       "      <td>America/New_York</td>\n",
       "      <td>West End</td>\n",
       "      <td>North End</td>\n",
       "      <td>Uber</td>\n",
       "      <td>...</td>\n",
       "      <td>0.0</td>\n",
       "      <td>1543683600</td>\n",
       "      <td>31.42</td>\n",
       "      <td>1543658400</td>\n",
       "      <td>44.76</td>\n",
       "      <td>1543690800</td>\n",
       "      <td>27.77</td>\n",
       "      <td>1543658400</td>\n",
       "      <td>44.09</td>\n",
       "      <td>1543690800</td>\n",
       "    </tr>\n",
       "    <tr>\n",
       "      <th>693069</th>\n",
       "      <td>727e5f07-a96b-4ad1-a2c7-9abc3ad55b4e</td>\n",
       "      <td>1.543708e+09</td>\n",
       "      <td>23</td>\n",
       "      <td>1</td>\n",
       "      <td>12</td>\n",
       "      <td>2018-12-01 23:53:05</td>\n",
       "      <td>America/New_York</td>\n",
       "      <td>West End</td>\n",
       "      <td>North End</td>\n",
       "      <td>Uber</td>\n",
       "      <td>...</td>\n",
       "      <td>0.0</td>\n",
       "      <td>1543683600</td>\n",
       "      <td>31.42</td>\n",
       "      <td>1543658400</td>\n",
       "      <td>44.76</td>\n",
       "      <td>1543690800</td>\n",
       "      <td>27.77</td>\n",
       "      <td>1543658400</td>\n",
       "      <td>44.09</td>\n",
       "      <td>1543690800</td>\n",
       "    </tr>\n",
       "    <tr>\n",
       "      <th>693070</th>\n",
       "      <td>e7fdc087-fe86-40a5-a3c3-3b2a8badcbda</td>\n",
       "      <td>1.543708e+09</td>\n",
       "      <td>23</td>\n",
       "      <td>1</td>\n",
       "      <td>12</td>\n",
       "      <td>2018-12-01 23:53:05</td>\n",
       "      <td>America/New_York</td>\n",
       "      <td>West End</td>\n",
       "      <td>North End</td>\n",
       "      <td>Uber</td>\n",
       "      <td>...</td>\n",
       "      <td>0.0</td>\n",
       "      <td>1543683600</td>\n",
       "      <td>31.42</td>\n",
       "      <td>1543658400</td>\n",
       "      <td>44.76</td>\n",
       "      <td>1543690800</td>\n",
       "      <td>27.77</td>\n",
       "      <td>1543658400</td>\n",
       "      <td>44.09</td>\n",
       "      <td>1543690800</td>\n",
       "    </tr>\n",
       "  </tbody>\n",
       "</table>\n",
       "<p>5 rows × 57 columns</p>\n",
       "</div>"
      ],
      "text/plain": [
       "                                          id     timestamp  hour  day  month  \\\n",
       "693066  616d3611-1820-450a-9845-a9ff304a4842  1.543708e+09    23    1     12   \n",
       "693067  633a3fc3-1f86-4b9e-9d48-2b7132112341  1.543708e+09    23    1     12   \n",
       "693068  64d451d0-639f-47a4-9b7c-6fd92fbd264f  1.543708e+09    23    1     12   \n",
       "693069  727e5f07-a96b-4ad1-a2c7-9abc3ad55b4e  1.543708e+09    23    1     12   \n",
       "693070  e7fdc087-fe86-40a5-a3c3-3b2a8badcbda  1.543708e+09    23    1     12   \n",
       "\n",
       "                   datetime          timezone    source destination cab_type  \\\n",
       "693066  2018-12-01 23:53:05  America/New_York  West End   North End     Uber   \n",
       "693067  2018-12-01 23:53:05  America/New_York  West End   North End     Uber   \n",
       "693068  2018-12-01 23:53:05  America/New_York  West End   North End     Uber   \n",
       "693069  2018-12-01 23:53:05  America/New_York  West End   North End     Uber   \n",
       "693070  2018-12-01 23:53:05  America/New_York  West End   North End     Uber   \n",
       "\n",
       "        ... precipIntensityMax uvIndexTime  temperatureMin  \\\n",
       "693066  ...                0.0  1543683600           31.42   \n",
       "693067  ...                0.0  1543683600           31.42   \n",
       "693068  ...                0.0  1543683600           31.42   \n",
       "693069  ...                0.0  1543683600           31.42   \n",
       "693070  ...                0.0  1543683600           31.42   \n",
       "\n",
       "        temperatureMinTime  temperatureMax  temperatureMaxTime  \\\n",
       "693066          1543658400           44.76          1543690800   \n",
       "693067          1543658400           44.76          1543690800   \n",
       "693068          1543658400           44.76          1543690800   \n",
       "693069          1543658400           44.76          1543690800   \n",
       "693070          1543658400           44.76          1543690800   \n",
       "\n",
       "        apparentTemperatureMin  apparentTemperatureMinTime  \\\n",
       "693066                   27.77                  1543658400   \n",
       "693067                   27.77                  1543658400   \n",
       "693068                   27.77                  1543658400   \n",
       "693069                   27.77                  1543658400   \n",
       "693070                   27.77                  1543658400   \n",
       "\n",
       "        apparentTemperatureMax apparentTemperatureMaxTime  \n",
       "693066                   44.09                 1543690800  \n",
       "693067                   44.09                 1543690800  \n",
       "693068                   44.09                 1543690800  \n",
       "693069                   44.09                 1543690800  \n",
       "693070                   44.09                 1543690800  \n",
       "\n",
       "[5 rows x 57 columns]"
      ]
     },
     "execution_count": 57,
     "metadata": {},
     "output_type": "execute_result"
    }
   ],
   "source": [
    "#5 item terakhir dalam datset\n",
    "df_can.tail()"
   ]
  },
  {
   "cell_type": "code",
   "execution_count": 58,
   "id": "7367de81",
   "metadata": {},
   "outputs": [
    {
     "name": "stdout",
     "output_type": "stream",
     "text": [
      "<class 'pandas.core.frame.DataFrame'>\n",
      "RangeIndex: 693071 entries, 0 to 693070\n",
      "Data columns (total 57 columns):\n",
      " #   Column                       Non-Null Count   Dtype  \n",
      "---  ------                       --------------   -----  \n",
      " 0   id                           693071 non-null  object \n",
      " 1   timestamp                    693071 non-null  float64\n",
      " 2   hour                         693071 non-null  int64  \n",
      " 3   day                          693071 non-null  int64  \n",
      " 4   month                        693071 non-null  int64  \n",
      " 5   datetime                     693071 non-null  object \n",
      " 6   timezone                     693071 non-null  object \n",
      " 7   source                       693071 non-null  object \n",
      " 8   destination                  693071 non-null  object \n",
      " 9   cab_type                     693071 non-null  object \n",
      " 10  product_id                   693071 non-null  object \n",
      " 11  name                         693071 non-null  object \n",
      " 12  price                        637976 non-null  float64\n",
      " 13  distance                     693071 non-null  float64\n",
      " 14  surge_multiplier             693071 non-null  float64\n",
      " 15  latitude                     693071 non-null  float64\n",
      " 16  longitude                    693071 non-null  float64\n",
      " 17  temperature                  693071 non-null  float64\n",
      " 18  apparentTemperature          693071 non-null  float64\n",
      " 19  short_summary                693071 non-null  object \n",
      " 20  long_summary                 693071 non-null  object \n",
      " 21  precipIntensity              693071 non-null  float64\n",
      " 22  precipProbability            693071 non-null  float64\n",
      " 23  humidity                     693071 non-null  float64\n",
      " 24  windSpeed                    693071 non-null  float64\n",
      " 25  windGust                     693071 non-null  float64\n",
      " 26  windGustTime                 693071 non-null  int64  \n",
      " 27  visibility                   693071 non-null  float64\n",
      " 28  temperatureHigh              693071 non-null  float64\n",
      " 29  temperatureHighTime          693071 non-null  int64  \n",
      " 30  temperatureLow               693071 non-null  float64\n",
      " 31  temperatureLowTime           693071 non-null  int64  \n",
      " 32  apparentTemperatureHigh      693071 non-null  float64\n",
      " 33  apparentTemperatureHighTime  693071 non-null  int64  \n",
      " 34  apparentTemperatureLow       693071 non-null  float64\n",
      " 35  apparentTemperatureLowTime   693071 non-null  int64  \n",
      " 36  icon                         693071 non-null  object \n",
      " 37  dewPoint                     693071 non-null  float64\n",
      " 38  pressure                     693071 non-null  float64\n",
      " 39  windBearing                  693071 non-null  int64  \n",
      " 40  cloudCover                   693071 non-null  float64\n",
      " 41  uvIndex                      693071 non-null  int64  \n",
      " 42  visibility.1                 693071 non-null  float64\n",
      " 43  ozone                        693071 non-null  float64\n",
      " 44  sunriseTime                  693071 non-null  int64  \n",
      " 45  sunsetTime                   693071 non-null  int64  \n",
      " 46  moonPhase                    693071 non-null  float64\n",
      " 47  precipIntensityMax           693071 non-null  float64\n",
      " 48  uvIndexTime                  693071 non-null  int64  \n",
      " 49  temperatureMin               693071 non-null  float64\n",
      " 50  temperatureMinTime           693071 non-null  int64  \n",
      " 51  temperatureMax               693071 non-null  float64\n",
      " 52  temperatureMaxTime           693071 non-null  int64  \n",
      " 53  apparentTemperatureMin       693071 non-null  float64\n",
      " 54  apparentTemperatureMinTime   693071 non-null  int64  \n",
      " 55  apparentTemperatureMax       693071 non-null  float64\n",
      " 56  apparentTemperatureMaxTime   693071 non-null  int64  \n",
      "dtypes: float64(29), int64(17), object(11)\n",
      "memory usage: 301.4+ MB\n"
     ]
    }
   ],
   "source": [
    "# Melihhat tipe data\n",
    "df_can.info()"
   ]
  },
  {
   "cell_type": "code",
   "execution_count": 59,
   "id": "96039946",
   "metadata": {},
   "outputs": [
    {
     "name": "stdout",
     "output_type": "stream",
     "text": [
      "(693071, 57)\n"
     ]
    }
   ],
   "source": [
    "# Melihat jumlah rows dan columns\n",
    "print(df_can.shape)"
   ]
  },
  {
   "cell_type": "markdown",
   "id": "43f7528c",
   "metadata": {},
   "source": [
    "## Data Cleaning"
   ]
  },
  {
   "cell_type": "code",
   "execution_count": 60,
   "id": "d0671779",
   "metadata": {},
   "outputs": [],
   "source": [
    "# Menjumlah kan missing values\n",
    "missing_values = df_can.isnull().sum()"
   ]
  },
  {
   "cell_type": "code",
   "execution_count": 61,
   "id": "6b68f2f7",
   "metadata": {},
   "outputs": [
    {
     "name": "stdout",
     "output_type": "stream",
     "text": [
      "price    55095\n",
      "dtype: int64\n"
     ]
    }
   ],
   "source": [
    "print(missing_values[missing_values > 0])"
   ]
  },
  {
   "cell_type": "code",
   "execution_count": 62,
   "id": "9513aded",
   "metadata": {},
   "outputs": [],
   "source": [
    "# Menghapus Null values\n",
    "df_can.dropna(subset=['price'], inplace=True)"
   ]
  },
  {
   "cell_type": "code",
   "execution_count": 63,
   "id": "41ded392",
   "metadata": {},
   "outputs": [
    {
     "data": {
      "text/plain": [
       "(637976, 57)"
      ]
     },
     "execution_count": 63,
     "metadata": {},
     "output_type": "execute_result"
    }
   ],
   "source": [
    "df_can.shape"
   ]
  },
  {
   "cell_type": "code",
   "execution_count": 64,
   "id": "be146bf9",
   "metadata": {},
   "outputs": [
    {
     "data": {
      "text/plain": [
       "id                             0\n",
       "timestamp                      0\n",
       "hour                           0\n",
       "day                            0\n",
       "month                          0\n",
       "datetime                       0\n",
       "timezone                       0\n",
       "source                         0\n",
       "destination                    0\n",
       "cab_type                       0\n",
       "product_id                     0\n",
       "name                           0\n",
       "price                          0\n",
       "distance                       0\n",
       "surge_multiplier               0\n",
       "latitude                       0\n",
       "longitude                      0\n",
       "temperature                    0\n",
       "apparentTemperature            0\n",
       "short_summary                  0\n",
       "long_summary                   0\n",
       "precipIntensity                0\n",
       "precipProbability              0\n",
       "humidity                       0\n",
       "windSpeed                      0\n",
       "windGust                       0\n",
       "windGustTime                   0\n",
       "visibility                     0\n",
       "temperatureHigh                0\n",
       "temperatureHighTime            0\n",
       "temperatureLow                 0\n",
       "temperatureLowTime             0\n",
       "apparentTemperatureHigh        0\n",
       "apparentTemperatureHighTime    0\n",
       "apparentTemperatureLow         0\n",
       "apparentTemperatureLowTime     0\n",
       "icon                           0\n",
       "dewPoint                       0\n",
       "pressure                       0\n",
       "windBearing                    0\n",
       "cloudCover                     0\n",
       "uvIndex                        0\n",
       "visibility.1                   0\n",
       "ozone                          0\n",
       "sunriseTime                    0\n",
       "sunsetTime                     0\n",
       "moonPhase                      0\n",
       "precipIntensityMax             0\n",
       "uvIndexTime                    0\n",
       "temperatureMin                 0\n",
       "temperatureMinTime             0\n",
       "temperatureMax                 0\n",
       "temperatureMaxTime             0\n",
       "apparentTemperatureMin         0\n",
       "apparentTemperatureMinTime     0\n",
       "apparentTemperatureMax         0\n",
       "apparentTemperatureMaxTime     0\n",
       "dtype: int64"
      ]
     },
     "execution_count": 64,
     "metadata": {},
     "output_type": "execute_result"
    }
   ],
   "source": [
    "missing_values = df_can.isnull().sum()\n",
    "missing_values"
   ]
  },
  {
   "cell_type": "code",
   "execution_count": 65,
   "id": "bff6a403",
   "metadata": {},
   "outputs": [
    {
     "name": "stdout",
     "output_type": "stream",
     "text": [
      "['Lyft' 'Uber']\n"
     ]
    }
   ],
   "source": [
    "unique_cab_types = df_can['cab_type'].unique()\n",
    "print(unique_cab_types)"
   ]
  },
  {
   "cell_type": "code",
   "execution_count": 66,
   "id": "d1ed84cd",
   "metadata": {},
   "outputs": [],
   "source": [
    "# Mengubah tipe data menjadi timeseries dengan pandas\n",
    "df_can['datetime'] = pd.to_datetime(df_can['datetime'])"
   ]
  },
  {
   "cell_type": "code",
   "execution_count": 67,
   "id": "0c0776a9",
   "metadata": {},
   "outputs": [],
   "source": [
    "# Menjumlahkan data berdasrkan jam\n",
    "hour_counts = df_can.groupby([df_can['datetime'].dt.hour, 'cab_type'])['id'].count().unstack().fillna(0)"
   ]
  },
  {
   "cell_type": "code",
   "execution_count": 68,
   "id": "3496e37f",
   "metadata": {},
   "outputs": [
    {
     "data": {
      "text/plain": [
       "0   2018-12-16 09:30:07\n",
       "1   2018-11-27 02:00:23\n",
       "2   2018-11-28 01:00:22\n",
       "3   2018-11-30 04:53:02\n",
       "4   2018-11-29 03:49:20\n",
       "Name: datetime, dtype: datetime64[ns]"
      ]
     },
     "execution_count": 68,
     "metadata": {},
     "output_type": "execute_result"
    }
   ],
   "source": [
    "df_can['datetime'].head()"
   ]
  },
  {
   "cell_type": "code",
   "execution_count": 69,
   "id": "82ce2a2d",
   "metadata": {},
   "outputs": [
    {
     "data": {
      "image/png": "[encoded data removed]",
      "text/plain": [
       "<Figure size 1000x500 with 1 Axes>"
      ]
     },
     "metadata": {},
     "output_type": "display_data"
    }
   ],
   "source": [
    "# Plotting Data\n",
    "plt.figure(figsize=(10, 5))\n",
    "sns.barplot(x=hour_counts.index, y=hour_counts['Uber'], label='Uber', color='red')\n",
    "sns.barplot(x=hour_counts.index, y=hour_counts['Lyft'], label='Lyft', color='black', alpha=0.7)\n",
    "plt.xlabel('Hour of the Day')\n",
    "plt.ylabel('Number of Rides')\n",
    "plt.title('Distribution of Rides by Hour')\n",
    "plt.legend()\n",
    "plt.show()"
   ]
  },
  {
   "cell_type": "markdown",
   "id": "509f5a01",
   "metadata": {},
   "source": [
    "Dari data diatas kita dapat mengetahui bahwa jumlah frekuensi \"Distribution of Rides by Hour\" paling tinggi adalah pukul 23 dan 00"
   ]
  },
  {
   "cell_type": "code",
   "execution_count": 70,
   "id": "6f188018",
   "metadata": {},
   "outputs": [],
   "source": [
    "# Mengelompokkan data berdasarkan hari dan cab_type\n",
    "daily_counts = df_can.groupby([df_can['datetime'].dt.day, 'cab_type'])['id'].count().unstack().fillna(0)"
   ]
  },
  {
   "cell_type": "code",
   "execution_count": 71,
   "id": "cb50378e",
   "metadata": {},
   "outputs": [
    {
     "data": {
      "image/png": "[encoded data removed]",
      "text/plain": [
       "<Figure size 1000x500 with 1 Axes>"
      ]
     },
     "metadata": {},
     "output_type": "display_data"
    }
   ],
   "source": [
    "plt.figure(figsize=(10, 5))\n",
    "sns.barplot(x=daily_counts.index, y=daily_counts['Uber'], label='Uber', color='black')\n",
    "sns.barplot(x=daily_counts.index, y=daily_counts['Lyft'], label='Lyft', color='red', alpha=0.7)\n",
    "plt.xlabel('Day of the Month')\n",
    "plt.ylabel('Number of Rides')\n",
    "plt.title('Distribution of Rides by Day')\n",
    "plt.legend()\n",
    "plt.show()"
   ]
  },
  {
   "cell_type": "code",
   "execution_count": null,
   "id": "00e288c1",
   "metadata": {},
   "outputs": [],
   "source": []
  },
  {
   "cell_type": "code",
   "execution_count": 72,
   "id": "a52b1818",
   "metadata": {},
   "outputs": [],
   "source": [
    "monthly_counts = df_can.groupby([df_can['datetime'].dt.month, 'cab_type'])['id'].count().unstack().fillna(0)"
   ]
  },
  {
   "cell_type": "code",
   "execution_count": 73,
   "id": "0a18e090",
   "metadata": {},
   "outputs": [
    {
     "data": {
      "image/png": "[encoded data removed]",
      "text/plain": [
       "<Figure size 1000x500 with 1 Axes>"
      ]
     },
     "metadata": {},
     "output_type": "display_data"
    }
   ],
   "source": [
    "plt.figure(figsize=(10, 5))\n",
    "sns.barplot(x=monthly_counts.index, y=monthly_counts['Uber'], label='Uber', color='black')\n",
    "sns.barplot(x=monthly_counts.index, y=monthly_counts['Lyft'], label='Lyft', color='red', alpha=0.7)\n",
    "plt.xlabel('Month')\n",
    "plt.ylabel('Number of Rides')\n",
    "plt.title('Distribution of Rides by Month')\n",
    "plt.legend()\n",
    "plt.show()"
   ]
  },
  {
   "cell_type": "code",
   "execution_count": 74,
   "id": "7ed0078b",
   "metadata": {},
   "outputs": [],
   "source": [
    "source_counts = df_can.groupby(['source', 'cab_type'])['id'].count().unstack().fillna(0)"
   ]
  },
  {
   "cell_type": "code",
   "execution_count": 75,
   "id": "29fa2768",
   "metadata": {},
   "outputs": [
    {
     "data": {
      "image/png": "[encoded data removed]",
      "text/plain": [
       "<Figure size 1000x500 with 1 Axes>"
      ]
     },
     "metadata": {},
     "output_type": "display_data"
    }
   ],
   "source": [
    "plt.figure(figsize=(10, 5))\n",
    "sns.barplot(x=source_counts.index, y=source_counts['Uber'], label='Uber', color='black')\n",
    "sns.barplot(x=source_counts.index, y=source_counts['Lyft'], label='Lyft', color='red', alpha=0.7)\n",
    "plt.xlabel('Source Location')\n",
    "plt.ylabel('Number of Rides')\n",
    "plt.title('Distribution of Rides by Source Location')\n",
    "plt.xticks(rotation=90)\n",
    "plt.legend()\n",
    "plt.show()"
   ]
  },
  {
   "cell_type": "code",
   "execution_count": 76,
   "id": "4917edbf",
   "metadata": {},
   "outputs": [],
   "source": [
    "destination_counts = df_can.groupby(['destination', 'cab_type'])['id'].count().unstack().fillna(0)"
   ]
  },
  {
   "cell_type": "code",
   "execution_count": 77,
   "id": "6951aba8",
   "metadata": {},
   "outputs": [
    {
     "data": {
      "image/png": "[encoded data removed]",
      "text/plain": [
       "<Figure size 1000x500 with 1 Axes>"
      ]
     },
     "metadata": {},
     "output_type": "display_data"
    }
   ],
   "source": [
    "plt.figure(figsize=(10, 5))\n",
    "sns.barplot(x=destination_counts.index, y=destination_counts['Uber'], label='Uber', color='black')\n",
    "sns.barplot(x=destination_counts.index, y=destination_counts['Lyft'], label='Lyft', color='red', alpha=0.7)\n",
    "plt.xlabel('Destination Location')\n",
    "plt.ylabel('Number of Rides')\n",
    "plt.title('Distribution of Rides by Destination Location')\n",
    "plt.xticks(rotation=90)\n",
    "plt.legend()\n",
    "plt.show()"
   ]
  },
  {
   "cell_type": "code",
   "execution_count": 78,
   "id": "aabe3271",
   "metadata": {},
   "outputs": [],
   "source": [
    "cab_type_counts = df_can['cab_type'].value_counts()"
   ]
  },
  {
   "cell_type": "code",
   "execution_count": 79,
   "id": "c387a177",
   "metadata": {},
   "outputs": [
    {
     "name": "stdout",
     "output_type": "stream",
     "text": [
      "['Lyft' 'Uber']\n"
     ]
    }
   ],
   "source": [
    "unique_cab_types = df_can['cab_type'].unique()\n",
    "print(unique_cab_types)"
   ]
  },
  {
   "cell_type": "code",
   "execution_count": 80,
   "id": "243c45ba",
   "metadata": {},
   "outputs": [
    {
     "name": "stdout",
     "output_type": "stream",
     "text": [
      "Counts of each 'cab_type':\n",
      "cab_type\n",
      "Uber    330568\n",
      "Lyft    307408\n",
      "Name: count, dtype: int64\n"
     ]
    }
   ],
   "source": [
    "print(\"Counts of each 'cab_type':\")\n",
    "print(cab_type_counts)"
   ]
  },
  {
   "cell_type": "code",
   "execution_count": 81,
   "id": "014518b9",
   "metadata": {},
   "outputs": [],
   "source": [
    "total_count = cab_type_counts.sum()\n",
    "percentage_distribution = (cab_type_counts / total_count) * 100\n",
    "summary_statistics = cab_type_counts.describe()"
   ]
  },
  {
   "cell_type": "code",
   "execution_count": 82,
   "id": "386d9bec",
   "metadata": {},
   "outputs": [
    {
     "name": "stdout",
     "output_type": "stream",
     "text": [
      "\n",
      "Summary Statistics:\n",
      "Total Count: 637976\n",
      "Percentage Distribution:\n",
      "cab_type\n",
      "Uber    51.815115\n",
      "Lyft    48.184885\n",
      "Name: count, dtype: float64\n",
      "\n",
      "Summary Statistics for Count:\n",
      "count         2.000000\n",
      "mean     318988.000000\n",
      "std       16376.593052\n",
      "min      307408.000000\n",
      "25%      313198.000000\n",
      "50%      318988.000000\n",
      "75%      324778.000000\n",
      "max      330568.000000\n",
      "Name: count, dtype: float64\n"
     ]
    }
   ],
   "source": [
    "print(\"\\nSummary Statistics:\")\n",
    "print(f\"Total Count: {total_count}\")\n",
    "print(f\"Percentage Distribution:\\n{percentage_distribution}\")\n",
    "print(\"\\nSummary Statistics for Count:\")\n",
    "print(summary_statistics)"
   ]
  },
  {
   "cell_type": "markdown",
   "id": "d1e257db",
   "metadata": {},
   "source": [
    "# Decision Tree\n",
    "Decision tree adalah flowchart-like tree structure di mana internal node mewakili feature(atau atribute), branch mewakili decision rule, dan setiap leaf node mewakili outcome."
   ]
  },
  {
   "cell_type": "markdown",
   "id": "66453666",
   "metadata": {},
   "source": [
    "### 1. Tujuan Analisis:\n",
    "\n",
    "**Prediksi Jenis Taksi:** cab_type adalah variabel dependen atau label yang tepat. Tujuannya adalah memahami bagaimana atribut-atribut lain memengaruhi atau memprediksi jenis taksi yang dipilih oleh pelanggan.\n",
    "### 2. Klasifikasi Kategori:\n",
    "\n",
    "**Penentuan Kategori:** Ketika memprediksi kategori atau label, seperti jenis taksi, dalam sebuah tugas klasifikasi memerlukan variabel dependen yang merupakan target prediksi. Dalam hal ini, cab_type akan menjadi label yang akan diprediksi oleh model.\n",
    "### 3. Penentuan Jenis Taksi:\n",
    "\n",
    "**Rekomendasi Jenis Taksi:** Model ini memungkinkan untuk memberikan rekomendasi tentang jenis taksi yang paling sesuai berdasarkan atribut lainnya. Misalnya, model dapat membantu pelanggan dalam memilih taksi yang paling efisien atau ekonomis berdasarkan waktu, harga, cuaca, atau faktor lainnya.\n",
    "### 4. Analisis Pola Konsumen:\n",
    "\n",
    "**Memahami Preferensi Konsumen:** Dengan menjadikan cab_type sebagai variabel dependen, memungkinkan untuk dapat menganalisis preferensi konsumen terhadap jenis taksi tertentu dan mengidentifikasi pola atau faktor-faktor yang memengaruhi pilihan mereka. Ini dapat membantu dalam pengambilan keputusan bisnis, pemasaran, dan perbaikan layanan.\n",
    "Dengan menjadikan cab_type sebagai variabel dependen, ini memungkinkan model untuk belajar dari data historis dan melakukan prediksi atau klasifikasi jenis taksi berdasarkan atribut-atribut lainnya. Ini membantu dalam pemahaman lebih mendalam tentang perilaku konsumen dan memberikan landasan untuk pengambilan keputusan yang lebih baik dalam bisnis atau aplikasi yang melibatkan transportasi."
   ]
  },
  {
   "cell_type": "code",
   "execution_count": 83,
   "id": "499ab629",
   "metadata": {},
   "outputs": [],
   "source": [
    "df = df_can.drop(['id','source', 'destination', 'product_id','name', 'latitude', 'longitude', 'apparentTemperature', 'short_summary', 'long_summary',\n",
    "            'temperatureHigh', 'temperatureHighTime', 'temperatureLow', 'temperatureLowTime', 'apparentTemperatureHigh', 'apparentTemperatureHighTime',\n",
    "            'apparentTemperatureLow', 'apparentTemperatureLowTime', 'icon', 'dewPoint', 'pressure', 'windBearing', 'cloudCover', 'uvIndex', 'visibility.1', 'ozone',\n",
    "            'sunriseTime', 'sunsetTime', 'moonPhase', 'temperatureMinTime', 'temperatureMaxTime', 'apparentTemperatureMinTime', 'apparentTemperatureMaxTime'], axis = 1)"
   ]
  },
  {
   "cell_type": "code",
   "execution_count": 84,
   "id": "c1ff563b",
   "metadata": {},
   "outputs": [
    {
     "data": {
      "text/html": [
       "<div>\n",
       "<style scoped>\n",
       "    .dataframe tbody tr th:only-of-type {\n",
       "        vertical-align: middle;\n",
       "    }\n",
       "\n",
       "    .dataframe tbody tr th {\n",
       "        vertical-align: top;\n",
       "    }\n",
       "\n",
       "    .dataframe thead th {\n",
       "        text-align: right;\n",
       "    }\n",
       "</style>\n",
       "<table border=\"1\" class=\"dataframe\">\n",
       "  <thead>\n",
       "    <tr style=\"text-align: right;\">\n",
       "      <th></th>\n",
       "      <th>timestamp</th>\n",
       "      <th>hour</th>\n",
       "      <th>day</th>\n",
       "      <th>month</th>\n",
       "      <th>datetime</th>\n",
       "      <th>timezone</th>\n",
       "      <th>cab_type</th>\n",
       "      <th>price</th>\n",
       "      <th>distance</th>\n",
       "      <th>surge_multiplier</th>\n",
       "      <th>...</th>\n",
       "      <th>windSpeed</th>\n",
       "      <th>windGust</th>\n",
       "      <th>windGustTime</th>\n",
       "      <th>visibility</th>\n",
       "      <th>precipIntensityMax</th>\n",
       "      <th>uvIndexTime</th>\n",
       "      <th>temperatureMin</th>\n",
       "      <th>temperatureMax</th>\n",
       "      <th>apparentTemperatureMin</th>\n",
       "      <th>apparentTemperatureMax</th>\n",
       "    </tr>\n",
       "  </thead>\n",
       "  <tbody>\n",
       "    <tr>\n",
       "      <th>0</th>\n",
       "      <td>1.544953e+09</td>\n",
       "      <td>9</td>\n",
       "      <td>16</td>\n",
       "      <td>12</td>\n",
       "      <td>2018-12-16 09:30:07</td>\n",
       "      <td>America/New_York</td>\n",
       "      <td>Lyft</td>\n",
       "      <td>5.0</td>\n",
       "      <td>0.44</td>\n",
       "      <td>1.0</td>\n",
       "      <td>...</td>\n",
       "      <td>8.66</td>\n",
       "      <td>9.17</td>\n",
       "      <td>1545015600</td>\n",
       "      <td>10.000</td>\n",
       "      <td>0.1276</td>\n",
       "      <td>1544979600</td>\n",
       "      <td>39.89</td>\n",
       "      <td>43.68</td>\n",
       "      <td>33.73</td>\n",
       "      <td>38.07</td>\n",
       "    </tr>\n",
       "    <tr>\n",
       "      <th>1</th>\n",
       "      <td>1.543284e+09</td>\n",
       "      <td>2</td>\n",
       "      <td>27</td>\n",
       "      <td>11</td>\n",
       "      <td>2018-11-27 02:00:23</td>\n",
       "      <td>America/New_York</td>\n",
       "      <td>Lyft</td>\n",
       "      <td>11.0</td>\n",
       "      <td>0.44</td>\n",
       "      <td>1.0</td>\n",
       "      <td>...</td>\n",
       "      <td>11.98</td>\n",
       "      <td>11.98</td>\n",
       "      <td>1543291200</td>\n",
       "      <td>4.786</td>\n",
       "      <td>0.1300</td>\n",
       "      <td>1543251600</td>\n",
       "      <td>40.49</td>\n",
       "      <td>47.30</td>\n",
       "      <td>36.20</td>\n",
       "      <td>43.92</td>\n",
       "    </tr>\n",
       "    <tr>\n",
       "      <th>2</th>\n",
       "      <td>1.543367e+09</td>\n",
       "      <td>1</td>\n",
       "      <td>28</td>\n",
       "      <td>11</td>\n",
       "      <td>2018-11-28 01:00:22</td>\n",
       "      <td>America/New_York</td>\n",
       "      <td>Lyft</td>\n",
       "      <td>7.0</td>\n",
       "      <td>0.44</td>\n",
       "      <td>1.0</td>\n",
       "      <td>...</td>\n",
       "      <td>7.33</td>\n",
       "      <td>7.33</td>\n",
       "      <td>1543334400</td>\n",
       "      <td>10.000</td>\n",
       "      <td>0.1064</td>\n",
       "      <td>1543338000</td>\n",
       "      <td>35.36</td>\n",
       "      <td>47.55</td>\n",
       "      <td>31.04</td>\n",
       "      <td>44.12</td>\n",
       "    </tr>\n",
       "    <tr>\n",
       "      <th>3</th>\n",
       "      <td>1.543554e+09</td>\n",
       "      <td>4</td>\n",
       "      <td>30</td>\n",
       "      <td>11</td>\n",
       "      <td>2018-11-30 04:53:02</td>\n",
       "      <td>America/New_York</td>\n",
       "      <td>Lyft</td>\n",
       "      <td>26.0</td>\n",
       "      <td>0.44</td>\n",
       "      <td>1.0</td>\n",
       "      <td>...</td>\n",
       "      <td>5.28</td>\n",
       "      <td>5.28</td>\n",
       "      <td>1543514400</td>\n",
       "      <td>10.000</td>\n",
       "      <td>0.0000</td>\n",
       "      <td>1543507200</td>\n",
       "      <td>34.67</td>\n",
       "      <td>45.03</td>\n",
       "      <td>30.30</td>\n",
       "      <td>38.53</td>\n",
       "    </tr>\n",
       "    <tr>\n",
       "      <th>4</th>\n",
       "      <td>1.543463e+09</td>\n",
       "      <td>3</td>\n",
       "      <td>29</td>\n",
       "      <td>11</td>\n",
       "      <td>2018-11-29 03:49:20</td>\n",
       "      <td>America/New_York</td>\n",
       "      <td>Lyft</td>\n",
       "      <td>9.0</td>\n",
       "      <td>0.44</td>\n",
       "      <td>1.0</td>\n",
       "      <td>...</td>\n",
       "      <td>9.14</td>\n",
       "      <td>9.14</td>\n",
       "      <td>1543446000</td>\n",
       "      <td>10.000</td>\n",
       "      <td>0.0001</td>\n",
       "      <td>1543420800</td>\n",
       "      <td>33.10</td>\n",
       "      <td>42.18</td>\n",
       "      <td>29.11</td>\n",
       "      <td>35.75</td>\n",
       "    </tr>\n",
       "  </tbody>\n",
       "</table>\n",
       "<p>5 rows × 24 columns</p>\n",
       "</div>"
      ],
      "text/plain": [
       "      timestamp  hour  day  month            datetime          timezone  \\\n",
       "0  1.544953e+09     9   16     12 2018-12-16 09:30:07  America/New_York   \n",
       "1  1.543284e+09     2   27     11 2018-11-27 02:00:23  America/New_York   \n",
       "2  1.543367e+09     1   28     11 2018-11-28 01:00:22  America/New_York   \n",
       "3  1.543554e+09     4   30     11 2018-11-30 04:53:02  America/New_York   \n",
       "4  1.543463e+09     3   29     11 2018-11-29 03:49:20  America/New_York   \n",
       "\n",
       "  cab_type  price  distance  surge_multiplier  ...  windSpeed  windGust  \\\n",
       "0     Lyft    5.0      0.44               1.0  ...       8.66      9.17   \n",
       "1     Lyft   11.0      0.44               1.0  ...      11.98     11.98   \n",
       "2     Lyft    7.0      0.44               1.0  ...       7.33      7.33   \n",
       "3     Lyft   26.0      0.44               1.0  ...       5.28      5.28   \n",
       "4     Lyft    9.0      0.44               1.0  ...       9.14      9.14   \n",
       "\n",
       "   windGustTime  visibility  precipIntensityMax  uvIndexTime  temperatureMin  \\\n",
       "0    1545015600      10.000              0.1276   1544979600           39.89   \n",
       "1    1543291200       4.786              0.1300   1543251600           40.49   \n",
       "2    1543334400      10.000              0.1064   1543338000           35.36   \n",
       "3    1543514400      10.000              0.0000   1543507200           34.67   \n",
       "4    1543446000      10.000              0.0001   1543420800           33.10   \n",
       "\n",
       "   temperatureMax  apparentTemperatureMin  apparentTemperatureMax  \n",
       "0           43.68                   33.73                   38.07  \n",
       "1           47.30                   36.20                   43.92  \n",
       "2           47.55                   31.04                   44.12  \n",
       "3           45.03                   30.30                   38.53  \n",
       "4           42.18                   29.11                   35.75  \n",
       "\n",
       "[5 rows x 24 columns]"
      ]
     },
     "execution_count": 84,
     "metadata": {},
     "output_type": "execute_result"
    }
   ],
   "source": [
    "df.head()"
   ]
  },
  {
   "cell_type": "code",
   "execution_count": 85,
   "id": "f0cc8e15",
   "metadata": {},
   "outputs": [
    {
     "name": "stdout",
     "output_type": "stream",
     "text": [
      "['Lyft' 'Uber']\n"
     ]
    }
   ],
   "source": [
    "unique_cab_types = df['cab_type'].unique()\n",
    "print(unique_cab_types)"
   ]
  },
  {
   "cell_type": "code",
   "execution_count": 86,
   "id": "e0d430da",
   "metadata": {},
   "outputs": [
    {
     "data": {
      "text/plain": [
       "timestamp                 0\n",
       "hour                      0\n",
       "day                       0\n",
       "month                     0\n",
       "datetime                  0\n",
       "timezone                  0\n",
       "cab_type                  0\n",
       "price                     0\n",
       "distance                  0\n",
       "surge_multiplier          0\n",
       "temperature               0\n",
       "precipIntensity           0\n",
       "precipProbability         0\n",
       "humidity                  0\n",
       "windSpeed                 0\n",
       "windGust                  0\n",
       "windGustTime              0\n",
       "visibility                0\n",
       "precipIntensityMax        0\n",
       "uvIndexTime               0\n",
       "temperatureMin            0\n",
       "temperatureMax            0\n",
       "apparentTemperatureMin    0\n",
       "apparentTemperatureMax    0\n",
       "dtype: int64"
      ]
     },
     "execution_count": 86,
     "metadata": {},
     "output_type": "execute_result"
    }
   ],
   "source": [
    "df.isnull().sum()"
   ]
  },
  {
   "cell_type": "code",
   "execution_count": 87,
   "id": "48d389c3",
   "metadata": {},
   "outputs": [
    {
     "data": {
      "text/plain": [
       "Index(['timestamp', 'hour', 'day', 'month', 'datetime', 'timezone', 'cab_type',\n",
       "       'price', 'distance', 'surge_multiplier', 'temperature',\n",
       "       'precipIntensity', 'precipProbability', 'humidity', 'windSpeed',\n",
       "       'windGust', 'windGustTime', 'visibility', 'precipIntensityMax',\n",
       "       'uvIndexTime', 'temperatureMin', 'temperatureMax',\n",
       "       'apparentTemperatureMin', 'apparentTemperatureMax'],\n",
       "      dtype='object')"
      ]
     },
     "execution_count": 87,
     "metadata": {},
     "output_type": "execute_result"
    }
   ],
   "source": [
    " df.columns"
   ]
  },
  {
   "cell_type": "code",
   "execution_count": 88,
   "id": "2c51fc4f",
   "metadata": {},
   "outputs": [
    {
     "name": "stdout",
     "output_type": "stream",
     "text": [
      "<class 'pandas.core.frame.DataFrame'>\n",
      "Index: 637976 entries, 0 to 693070\n",
      "Data columns (total 24 columns):\n",
      " #   Column                  Non-Null Count   Dtype         \n",
      "---  ------                  --------------   -----         \n",
      " 0   timestamp               637976 non-null  float64       \n",
      " 1   hour                    637976 non-null  int64         \n",
      " 2   day                     637976 non-null  int64         \n",
      " 3   month                   637976 non-null  int64         \n",
      " 4   datetime                637976 non-null  datetime64[ns]\n",
      " 5   timezone                637976 non-null  object        \n",
      " 6   cab_type                637976 non-null  object        \n",
      " 7   price                   637976 non-null  float64       \n",
      " 8   distance                637976 non-null  float64       \n",
      " 9   surge_multiplier        637976 non-null  float64       \n",
      " 10  temperature             637976 non-null  float64       \n",
      " 11  precipIntensity         637976 non-null  float64       \n",
      " 12  precipProbability       637976 non-null  float64       \n",
      " 13  humidity                637976 non-null  float64       \n",
      " 14  windSpeed               637976 non-null  float64       \n",
      " 15  windGust                637976 non-null  float64       \n",
      " 16  windGustTime            637976 non-null  int64         \n",
      " 17  visibility              637976 non-null  float64       \n",
      " 18  precipIntensityMax      637976 non-null  float64       \n",
      " 19  uvIndexTime             637976 non-null  int64         \n",
      " 20  temperatureMin          637976 non-null  float64       \n",
      " 21  temperatureMax          637976 non-null  float64       \n",
      " 22  apparentTemperatureMin  637976 non-null  float64       \n",
      " 23  apparentTemperatureMax  637976 non-null  float64       \n",
      "dtypes: datetime64[ns](1), float64(16), int64(5), object(2)\n",
      "memory usage: 121.7+ MB\n"
     ]
    }
   ],
   "source": [
    "df.info()"
   ]
  },
  {
   "cell_type": "code",
   "execution_count": 89,
   "id": "76638bff",
   "metadata": {},
   "outputs": [],
   "source": [
    "# Transformasi data menjadi numerik\n",
    "from sklearn.preprocessing import LabelEncoder\n",
    "enc = LabelEncoder()\n",
    "df['cab_type'] = enc.fit_transform(df['cab_type'].values)"
   ]
  },
  {
   "cell_type": "code",
   "execution_count": 90,
   "id": "44cbd226",
   "metadata": {},
   "outputs": [],
   "source": [
    "feature_cols = ['hour', 'day', 'month', 'distance', 'price', 'temperature', 'surge_multiplier', 'precipIntensityMax', 'precipIntensity', 'uvIndexTime', 'temperatureMin', 'temperatureMax', 'humidity', 'windSpeed', 'windGust', 'apparentTemperatureMax']\n",
    "X = df[feature_cols]\n",
    "y = df['cab_type']"
   ]
  },
  {
   "cell_type": "code",
   "execution_count": 91,
   "id": "ba94c119",
   "metadata": {},
   "outputs": [],
   "source": [
    "# Split dataset into training set and test set\n",
    "X_train, X_test, y_train, y_test = train_test_split(X, y, test_size=0.3, random_state=5) # 70% training and 30% test\n",
    "\n",
    "# Create Decision Tree classifer object\n",
    "clf = DecisionTreeClassifier()\n"
   ]
  },
  {
   "cell_type": "code",
   "execution_count": 92,
   "id": "6befbdf7",
   "metadata": {},
   "outputs": [
    {
     "name": "stdout",
     "output_type": "stream",
     "text": [
      "Accuracy: 0.9034133954742336\n"
     ]
    }
   ],
   "source": [
    "# Train Decision Tree Classifer\n",
    "clf = clf.fit(X_train,y_train)\n",
    "\n",
    "#Predict the response for test dataset\n",
    "y_pred = clf.predict(X_test)\n",
    "\n",
    "# Model Accuracy, how often is the classifier correct?\n",
    "print(\"Accuracy:\",metrics.accuracy_score(y_test, y_pred))"
   ]
  },
  {
   "cell_type": "markdown",
   "id": "db0622d6",
   "metadata": {},
   "source": [
    "## Visualizing Decision Trees"
   ]
  },
  {
   "cell_type": "code",
   "execution_count": 93,
   "id": "80ae05f0",
   "metadata": {},
   "outputs": [],
   "source": [
    "class_names = df['cab_type'].unique().astype(str)"
   ]
  },
  {
   "cell_type": "markdown",
   "id": "09ce7f96",
   "metadata": {},
   "source": [
    "import sklearn.tree as tree\n",
    "import pydotplus\n",
    "from six import StringIO \n",
    "from IPython.display import Image\n",
    "\n",
    "dot_data = StringIO()\n",
    "tree.export_graphviz(clf, out_file=dot_data, \n",
    " class_names=class_names, # the target names.\n",
    " feature_names=feature_cols, # the feature names.\n",
    " filled=True, # Whether to fill in the boxes with colours.\n",
    " rounded=True, # Whether to round the corners of the boxes.\n",
    " special_characters=True)\n",
    "graph = pydotplus.graph_from_dot_data(dot_data.getvalue()) \n",
    "Image(graph.create_png())"
   ]
  },
  {
   "cell_type": "markdown",
   "id": "71446c7f",
   "metadata": {},
   "source": [
    "## Optimizing Decision Tree Performance"
   ]
  },
  {
   "cell_type": "code",
   "execution_count": 94,
   "id": "734756b4",
   "metadata": {},
   "outputs": [
    {
     "name": "stdout",
     "output_type": "stream",
     "text": [
      "Accuracy : 0.6475785425799272\n"
     ]
    }
   ],
   "source": [
    "# Create Decision Tree classifer object\n",
    "clf = DecisionTreeClassifier(criterion=\"entropy\", max_depth=4)\n",
    "\n",
    "# Train Decision Tree Classifer\n",
    "clf = clf.fit(X_train, y_train)\n",
    "\n",
    "# Predict the response for test dataset\n",
    "y_pred = clf.predict(X_test)\n",
    "\n",
    "# Model Accuracy, how often is the classifer correct?\n",
    "print(\"Accuracy :\", metrics.accuracy_score(y_test, y_pred))"
   ]
  },
  {
   "cell_type": "code",
   "execution_count": 95,
   "id": "8dd5ad6b",
   "metadata": {},
   "outputs": [
    {
     "ename": "ModuleNotFoundError",
     "evalue": "No module named 'pydotplus'",
     "output_type": "error",
     "traceback": [
      "\u001b[1;31m---------------------------------------------------------------------------\u001b[0m",
      "\u001b[1;31mModuleNotFoundError\u001b[0m                       Traceback (most recent call last)",
      "Cell \u001b[1;32mIn[95], line 2\u001b[0m\n\u001b[0;32m      1\u001b[0m \u001b[38;5;28;01mimport\u001b[39;00m \u001b[38;5;21;01msklearn\u001b[39;00m\u001b[38;5;21;01m.\u001b[39;00m\u001b[38;5;21;01mtree\u001b[39;00m \u001b[38;5;28;01mas\u001b[39;00m \u001b[38;5;21;01mtree\u001b[39;00m\n\u001b[1;32m----> 2\u001b[0m \u001b[38;5;28;01mimport\u001b[39;00m \u001b[38;5;21;01mpydotplus\u001b[39;00m\n\u001b[0;32m      3\u001b[0m \u001b[38;5;28;01mfrom\u001b[39;00m \u001b[38;5;21;01msix\u001b[39;00m \u001b[38;5;28;01mimport\u001b[39;00m StringIO\n\u001b[0;32m      4\u001b[0m \u001b[38;5;28;01mfrom\u001b[39;00m \u001b[38;5;21;01mIPython\u001b[39;00m\u001b[38;5;21;01m.\u001b[39;00m\u001b[38;5;21;01mdisplay\u001b[39;00m \u001b[38;5;28;01mimport\u001b[39;00m Image\n",
      "\u001b[1;31mModuleNotFoundError\u001b[0m: No module named 'pydotplus'"
     ]
    }
   ],
   "source": [
    "import sklearn.tree as tree\n",
    "import pydotplus\n",
    "from six import StringIO\n",
    "from IPython.display import Image\n",
    "\n",
    "dot_data = StringIO()\n",
    "tree.export_graphviz(clf, out_file=dot_data, class_names=['0', '1'], feature_names=feature_cols, filled=True,\n",
    "                    rounded=True, special_characters=True)\n",
    "graph = pydotplus.graph_from_dot_data(dot_data.getvalue())\n",
    "Image(graph.create_png())"
   ]
  },
  {
   "cell_type": "code",
   "execution_count": 96,
   "id": "55afd786",
   "metadata": {},
   "outputs": [
    {
     "data": {
      "text/plain": [
       "Index(['timestamp', 'hour', 'day', 'month', 'datetime', 'timezone', 'cab_type',\n",
       "       'price', 'distance', 'surge_multiplier', 'temperature',\n",
       "       'precipIntensity', 'precipProbability', 'humidity', 'windSpeed',\n",
       "       'windGust', 'windGustTime', 'visibility', 'precipIntensityMax',\n",
       "       'uvIndexTime', 'temperatureMin', 'temperatureMax',\n",
       "       'apparentTemperatureMin', 'apparentTemperatureMax'],\n",
       "      dtype='object')"
      ]
     },
     "execution_count": 96,
     "metadata": {},
     "output_type": "execute_result"
    }
   ],
   "source": [
    "df.columns"
   ]
  },
  {
   "cell_type": "code",
   "execution_count": 97,
   "id": "59e756c6",
   "metadata": {},
   "outputs": [
    {
     "data": {
      "text/html": [
       "<div>\n",
       "<style scoped>\n",
       "    .dataframe tbody tr th:only-of-type {\n",
       "        vertical-align: middle;\n",
       "    }\n",
       "\n",
       "    .dataframe tbody tr th {\n",
       "        vertical-align: top;\n",
       "    }\n",
       "\n",
       "    .dataframe thead th {\n",
       "        text-align: right;\n",
       "    }\n",
       "</style>\n",
       "<table border=\"1\" class=\"dataframe\">\n",
       "  <thead>\n",
       "    <tr style=\"text-align: right;\">\n",
       "      <th></th>\n",
       "      <th>timestamp</th>\n",
       "      <th>hour</th>\n",
       "      <th>day</th>\n",
       "      <th>month</th>\n",
       "      <th>datetime</th>\n",
       "      <th>timezone</th>\n",
       "      <th>cab_type</th>\n",
       "      <th>price</th>\n",
       "      <th>distance</th>\n",
       "      <th>surge_multiplier</th>\n",
       "      <th>...</th>\n",
       "      <th>windSpeed</th>\n",
       "      <th>windGust</th>\n",
       "      <th>windGustTime</th>\n",
       "      <th>visibility</th>\n",
       "      <th>precipIntensityMax</th>\n",
       "      <th>uvIndexTime</th>\n",
       "      <th>temperatureMin</th>\n",
       "      <th>temperatureMax</th>\n",
       "      <th>apparentTemperatureMin</th>\n",
       "      <th>apparentTemperatureMax</th>\n",
       "    </tr>\n",
       "  </thead>\n",
       "  <tbody>\n",
       "    <tr>\n",
       "      <th>0</th>\n",
       "      <td>1.544953e+09</td>\n",
       "      <td>9</td>\n",
       "      <td>16</td>\n",
       "      <td>12</td>\n",
       "      <td>2018-12-16 09:30:07</td>\n",
       "      <td>America/New_York</td>\n",
       "      <td>0</td>\n",
       "      <td>5.0</td>\n",
       "      <td>0.44</td>\n",
       "      <td>1.0</td>\n",
       "      <td>...</td>\n",
       "      <td>8.66</td>\n",
       "      <td>9.17</td>\n",
       "      <td>1545015600</td>\n",
       "      <td>10.000</td>\n",
       "      <td>0.1276</td>\n",
       "      <td>1544979600</td>\n",
       "      <td>39.89</td>\n",
       "      <td>43.68</td>\n",
       "      <td>33.73</td>\n",
       "      <td>38.07</td>\n",
       "    </tr>\n",
       "    <tr>\n",
       "      <th>1</th>\n",
       "      <td>1.543284e+09</td>\n",
       "      <td>2</td>\n",
       "      <td>27</td>\n",
       "      <td>11</td>\n",
       "      <td>2018-11-27 02:00:23</td>\n",
       "      <td>America/New_York</td>\n",
       "      <td>0</td>\n",
       "      <td>11.0</td>\n",
       "      <td>0.44</td>\n",
       "      <td>1.0</td>\n",
       "      <td>...</td>\n",
       "      <td>11.98</td>\n",
       "      <td>11.98</td>\n",
       "      <td>1543291200</td>\n",
       "      <td>4.786</td>\n",
       "      <td>0.1300</td>\n",
       "      <td>1543251600</td>\n",
       "      <td>40.49</td>\n",
       "      <td>47.30</td>\n",
       "      <td>36.20</td>\n",
       "      <td>43.92</td>\n",
       "    </tr>\n",
       "    <tr>\n",
       "      <th>2</th>\n",
       "      <td>1.543367e+09</td>\n",
       "      <td>1</td>\n",
       "      <td>28</td>\n",
       "      <td>11</td>\n",
       "      <td>2018-11-28 01:00:22</td>\n",
       "      <td>America/New_York</td>\n",
       "      <td>0</td>\n",
       "      <td>7.0</td>\n",
       "      <td>0.44</td>\n",
       "      <td>1.0</td>\n",
       "      <td>...</td>\n",
       "      <td>7.33</td>\n",
       "      <td>7.33</td>\n",
       "      <td>1543334400</td>\n",
       "      <td>10.000</td>\n",
       "      <td>0.1064</td>\n",
       "      <td>1543338000</td>\n",
       "      <td>35.36</td>\n",
       "      <td>47.55</td>\n",
       "      <td>31.04</td>\n",
       "      <td>44.12</td>\n",
       "    </tr>\n",
       "    <tr>\n",
       "      <th>3</th>\n",
       "      <td>1.543554e+09</td>\n",
       "      <td>4</td>\n",
       "      <td>30</td>\n",
       "      <td>11</td>\n",
       "      <td>2018-11-30 04:53:02</td>\n",
       "      <td>America/New_York</td>\n",
       "      <td>0</td>\n",
       "      <td>26.0</td>\n",
       "      <td>0.44</td>\n",
       "      <td>1.0</td>\n",
       "      <td>...</td>\n",
       "      <td>5.28</td>\n",
       "      <td>5.28</td>\n",
       "      <td>1543514400</td>\n",
       "      <td>10.000</td>\n",
       "      <td>0.0000</td>\n",
       "      <td>1543507200</td>\n",
       "      <td>34.67</td>\n",
       "      <td>45.03</td>\n",
       "      <td>30.30</td>\n",
       "      <td>38.53</td>\n",
       "    </tr>\n",
       "    <tr>\n",
       "      <th>4</th>\n",
       "      <td>1.543463e+09</td>\n",
       "      <td>3</td>\n",
       "      <td>29</td>\n",
       "      <td>11</td>\n",
       "      <td>2018-11-29 03:49:20</td>\n",
       "      <td>America/New_York</td>\n",
       "      <td>0</td>\n",
       "      <td>9.0</td>\n",
       "      <td>0.44</td>\n",
       "      <td>1.0</td>\n",
       "      <td>...</td>\n",
       "      <td>9.14</td>\n",
       "      <td>9.14</td>\n",
       "      <td>1543446000</td>\n",
       "      <td>10.000</td>\n",
       "      <td>0.0001</td>\n",
       "      <td>1543420800</td>\n",
       "      <td>33.10</td>\n",
       "      <td>42.18</td>\n",
       "      <td>29.11</td>\n",
       "      <td>35.75</td>\n",
       "    </tr>\n",
       "    <tr>\n",
       "      <th>...</th>\n",
       "      <td>...</td>\n",
       "      <td>...</td>\n",
       "      <td>...</td>\n",
       "      <td>...</td>\n",
       "      <td>...</td>\n",
       "      <td>...</td>\n",
       "      <td>...</td>\n",
       "      <td>...</td>\n",
       "      <td>...</td>\n",
       "      <td>...</td>\n",
       "      <td>...</td>\n",
       "      <td>...</td>\n",
       "      <td>...</td>\n",
       "      <td>...</td>\n",
       "      <td>...</td>\n",
       "      <td>...</td>\n",
       "      <td>...</td>\n",
       "      <td>...</td>\n",
       "      <td>...</td>\n",
       "      <td>...</td>\n",
       "      <td>...</td>\n",
       "    </tr>\n",
       "    <tr>\n",
       "      <th>693065</th>\n",
       "      <td>1.543708e+09</td>\n",
       "      <td>23</td>\n",
       "      <td>1</td>\n",
       "      <td>12</td>\n",
       "      <td>2018-12-01 23:53:05</td>\n",
       "      <td>America/New_York</td>\n",
       "      <td>1</td>\n",
       "      <td>9.5</td>\n",
       "      <td>1.00</td>\n",
       "      <td>1.0</td>\n",
       "      <td>...</td>\n",
       "      <td>2.34</td>\n",
       "      <td>2.87</td>\n",
       "      <td>1543672800</td>\n",
       "      <td>9.785</td>\n",
       "      <td>0.0000</td>\n",
       "      <td>1543683600</td>\n",
       "      <td>31.42</td>\n",
       "      <td>44.76</td>\n",
       "      <td>27.77</td>\n",
       "      <td>44.09</td>\n",
       "    </tr>\n",
       "    <tr>\n",
       "      <th>693066</th>\n",
       "      <td>1.543708e+09</td>\n",
       "      <td>23</td>\n",
       "      <td>1</td>\n",
       "      <td>12</td>\n",
       "      <td>2018-12-01 23:53:05</td>\n",
       "      <td>America/New_York</td>\n",
       "      <td>1</td>\n",
       "      <td>13.0</td>\n",
       "      <td>1.00</td>\n",
       "      <td>1.0</td>\n",
       "      <td>...</td>\n",
       "      <td>2.34</td>\n",
       "      <td>2.87</td>\n",
       "      <td>1543672800</td>\n",
       "      <td>9.785</td>\n",
       "      <td>0.0000</td>\n",
       "      <td>1543683600</td>\n",
       "      <td>31.42</td>\n",
       "      <td>44.76</td>\n",
       "      <td>27.77</td>\n",
       "      <td>44.09</td>\n",
       "    </tr>\n",
       "    <tr>\n",
       "      <th>693067</th>\n",
       "      <td>1.543708e+09</td>\n",
       "      <td>23</td>\n",
       "      <td>1</td>\n",
       "      <td>12</td>\n",
       "      <td>2018-12-01 23:53:05</td>\n",
       "      <td>America/New_York</td>\n",
       "      <td>1</td>\n",
       "      <td>9.5</td>\n",
       "      <td>1.00</td>\n",
       "      <td>1.0</td>\n",
       "      <td>...</td>\n",
       "      <td>2.34</td>\n",
       "      <td>2.87</td>\n",
       "      <td>1543672800</td>\n",
       "      <td>9.785</td>\n",
       "      <td>0.0000</td>\n",
       "      <td>1543683600</td>\n",
       "      <td>31.42</td>\n",
       "      <td>44.76</td>\n",
       "      <td>27.77</td>\n",
       "      <td>44.09</td>\n",
       "    </tr>\n",
       "    <tr>\n",
       "      <th>693069</th>\n",
       "      <td>1.543708e+09</td>\n",
       "      <td>23</td>\n",
       "      <td>1</td>\n",
       "      <td>12</td>\n",
       "      <td>2018-12-01 23:53:05</td>\n",
       "      <td>America/New_York</td>\n",
       "      <td>1</td>\n",
       "      <td>27.0</td>\n",
       "      <td>1.00</td>\n",
       "      <td>1.0</td>\n",
       "      <td>...</td>\n",
       "      <td>2.34</td>\n",
       "      <td>2.87</td>\n",
       "      <td>1543672800</td>\n",
       "      <td>9.785</td>\n",
       "      <td>0.0000</td>\n",
       "      <td>1543683600</td>\n",
       "      <td>31.42</td>\n",
       "      <td>44.76</td>\n",
       "      <td>27.77</td>\n",
       "      <td>44.09</td>\n",
       "    </tr>\n",
       "    <tr>\n",
       "      <th>693070</th>\n",
       "      <td>1.543708e+09</td>\n",
       "      <td>23</td>\n",
       "      <td>1</td>\n",
       "      <td>12</td>\n",
       "      <td>2018-12-01 23:53:05</td>\n",
       "      <td>America/New_York</td>\n",
       "      <td>1</td>\n",
       "      <td>10.0</td>\n",
       "      <td>1.00</td>\n",
       "      <td>1.0</td>\n",
       "      <td>...</td>\n",
       "      <td>2.34</td>\n",
       "      <td>2.87</td>\n",
       "      <td>1543672800</td>\n",
       "      <td>9.785</td>\n",
       "      <td>0.0000</td>\n",
       "      <td>1543683600</td>\n",
       "      <td>31.42</td>\n",
       "      <td>44.76</td>\n",
       "      <td>27.77</td>\n",
       "      <td>44.09</td>\n",
       "    </tr>\n",
       "  </tbody>\n",
       "</table>\n",
       "<p>637976 rows × 24 columns</p>\n",
       "</div>"
      ],
      "text/plain": [
       "           timestamp  hour  day  month            datetime          timezone  \\\n",
       "0       1.544953e+09     9   16     12 2018-12-16 09:30:07  America/New_York   \n",
       "1       1.543284e+09     2   27     11 2018-11-27 02:00:23  America/New_York   \n",
       "2       1.543367e+09     1   28     11 2018-11-28 01:00:22  America/New_York   \n",
       "3       1.543554e+09     4   30     11 2018-11-30 04:53:02  America/New_York   \n",
       "4       1.543463e+09     3   29     11 2018-11-29 03:49:20  America/New_York   \n",
       "...              ...   ...  ...    ...                 ...               ...   \n",
       "693065  1.543708e+09    23    1     12 2018-12-01 23:53:05  America/New_York   \n",
       "693066  1.543708e+09    23    1     12 2018-12-01 23:53:05  America/New_York   \n",
       "693067  1.543708e+09    23    1     12 2018-12-01 23:53:05  America/New_York   \n",
       "693069  1.543708e+09    23    1     12 2018-12-01 23:53:05  America/New_York   \n",
       "693070  1.543708e+09    23    1     12 2018-12-01 23:53:05  America/New_York   \n",
       "\n",
       "        cab_type  price  distance  surge_multiplier  ...  windSpeed  windGust  \\\n",
       "0              0    5.0      0.44               1.0  ...       8.66      9.17   \n",
       "1              0   11.0      0.44               1.0  ...      11.98     11.98   \n",
       "2              0    7.0      0.44               1.0  ...       7.33      7.33   \n",
       "3              0   26.0      0.44               1.0  ...       5.28      5.28   \n",
       "4              0    9.0      0.44               1.0  ...       9.14      9.14   \n",
       "...          ...    ...       ...               ...  ...        ...       ...   \n",
       "693065         1    9.5      1.00               1.0  ...       2.34      2.87   \n",
       "693066         1   13.0      1.00               1.0  ...       2.34      2.87   \n",
       "693067         1    9.5      1.00               1.0  ...       2.34      2.87   \n",
       "693069         1   27.0      1.00               1.0  ...       2.34      2.87   \n",
       "693070         1   10.0      1.00               1.0  ...       2.34      2.87   \n",
       "\n",
       "        windGustTime  visibility  precipIntensityMax  uvIndexTime  \\\n",
       "0         1545015600      10.000              0.1276   1544979600   \n",
       "1         1543291200       4.786              0.1300   1543251600   \n",
       "2         1543334400      10.000              0.1064   1543338000   \n",
       "3         1543514400      10.000              0.0000   1543507200   \n",
       "4         1543446000      10.000              0.0001   1543420800   \n",
       "...              ...         ...                 ...          ...   \n",
       "693065    1543672800       9.785              0.0000   1543683600   \n",
       "693066    1543672800       9.785              0.0000   1543683600   \n",
       "693067    1543672800       9.785              0.0000   1543683600   \n",
       "693069    1543672800       9.785              0.0000   1543683600   \n",
       "693070    1543672800       9.785              0.0000   1543683600   \n",
       "\n",
       "        temperatureMin  temperatureMax  apparentTemperatureMin  \\\n",
       "0                39.89           43.68                   33.73   \n",
       "1                40.49           47.30                   36.20   \n",
       "2                35.36           47.55                   31.04   \n",
       "3                34.67           45.03                   30.30   \n",
       "4                33.10           42.18                   29.11   \n",
       "...                ...             ...                     ...   \n",
       "693065           31.42           44.76                   27.77   \n",
       "693066           31.42           44.76                   27.77   \n",
       "693067           31.42           44.76                   27.77   \n",
       "693069           31.42           44.76                   27.77   \n",
       "693070           31.42           44.76                   27.77   \n",
       "\n",
       "        apparentTemperatureMax  \n",
       "0                        38.07  \n",
       "1                        43.92  \n",
       "2                        44.12  \n",
       "3                        38.53  \n",
       "4                        35.75  \n",
       "...                        ...  \n",
       "693065                   44.09  \n",
       "693066                   44.09  \n",
       "693067                   44.09  \n",
       "693069                   44.09  \n",
       "693070                   44.09  \n",
       "\n",
       "[637976 rows x 24 columns]"
      ]
     },
     "execution_count": 97,
     "metadata": {},
     "output_type": "execute_result"
    }
   ],
   "source": [
    "df.copy()"
   ]
  },
  {
   "cell_type": "markdown",
   "id": "81bcfb97-fbc4-4933-ade8-5a6eba17cfee",
   "metadata": {},
   "source": [
    "# K-Nearest Neighbors"
   ]
  },
  {
   "cell_type": "markdown",
   "id": "717ff54e-c272-4cfa-a233-791153df4bc3",
   "metadata": {},
   "source": [
    "## Overview Model K-Nearest Neighbors (KNN)\n",
    "\n",
    "K-Nearest Neighbors (KNN) adalah salah satu algoritma pembelajaran mesin yang digunakan untuk masalah klasifikasi dan regresi. Model ini didasarkan pada konsep bahwa objek yang serupa cenderung berada dekat satu sama lain dalam ruang fitur. Berikut beberapa poin penting terkait dengan KNN:\n",
    "\n",
    "### Cara Kerja\n",
    "\n",
    "1. **Menentukan Nilai K**: Pada awalnya, kita harus memilih jumlah tetangga terdekat (K) yang akan digunakan dalam proses klasifikasi atau regresi. Nilai K yang tepat dapat memengaruhi performa model.\n",
    "\n",
    "2. **Perhitungan Jarak**: KNN menghitung jarak antara titik data yang akan diprediksi dan semua titik data dalam set training. Metrik jarak yang umum digunakan adalah Euclidean distance atau Manhattan distance. Kita dapat memilih metrik jarak yang sesuai dengan karakteristik data.\n",
    "\n",
    "3. **Menentukan Tetangga Terdekat**: KNN memilih K titik data dengan jarak terdekat ke titik data yang akan diprediksi.\n",
    "\n",
    "4. **Voting (Klasifikasi) atau Rata-rata (Regresi)**: Dalam klasifikasi, KNN melakukan voting mayoritas dari label neighbors untuk menentukan label dari titik data yang akan diprediksi. Dalam regresi, KNN menghitung rata-rata nilai dari tetangga untuk memprediksi nilai kontinu.\n",
    "\n",
    "### Hyperparameter KNN\n",
    "\n",
    "- **n_neighbors**: Jumlah neighbors terdekat yang akan digunakan dalam proses prediksi. Pemilihan nilai K yang optimal sangat penting, karena nilai yang terlalu kecil dapat menyebabkan model sensitif terhadap noise (outlier), sedangkan nilai yang terlalu besar dapat menghilangkan aspek lokalitas.\n",
    "- **metric**: Metrik jarak yang akan digunakan, seperti 'euclidean' (jarak Euclidean) atau 'manhattan' (jarak Manhattan).\n",
    "- **weights**: Menentukan cara memberi bobot pada tetangga. 'uniform' memberikan bobot yang sama pada semua tetangga, sementara 'distance' memberikan bobot berdasarkan kebalikan jarak.\n",
    "\n",
    "### Keuntungan\n",
    "\n",
    "- Dapat diterapkan terhadap data dengan berbagai macam distribusi\n",
    "- Contoh, data tidak harus dapat dipisahkan dengan garis linear\n",
    "- Sangat mudah dan intuitif\n",
    "- Merupakan klasifikasi yang baik jika jumlah sampel yang tersedia cukup besar.\n",
    "\n",
    "### Kelemahan\n",
    "\n",
    "- Menentukan k dapat menjadi sulit\n",
    "- Tahap testing memerlukan komputasi yang mahal\n",
    "- Tidak memiliki tahapan training, seluruh proses dilakukan pada tahap testing\n",
    "- Hal ini bertolak belakang dengan yang diinginkan. Biasanya tahap training memakan waktu yang lama, sedangkan kita menginginkan tahap testing yang cepat.\n",
    "- Memerlukan sampel dalam jumlah besar untuk memperoleh akurasi yang baik.\n",
    "\n",
    "### Evaluasi\n",
    "\n",
    "- Untuk mengevaluasi performa model KNN, umumnya digunakan metrik seperti akurasi (untuk klasifikasi) atau Mean Squared Error (MSE) (untuk regresi).\n",
    "- Cross-validation sering digunakan untuk menghindari overfitting dan menentukan parameter K yang optimal.\n",
    "\n",
    "KNN adalah algoritma yang sering digunakan untuk melakukan data imputation.\n"
   ]
  },
  {
   "cell_type": "markdown",
   "id": "5eeb67e5-6543-4a6c-aa6b-c123482d6600",
   "metadata": {},
   "source": [
    "### Melakukan Data Preprocessing KNN"
   ]
  },
  {
   "cell_type": "code",
   "execution_count": 98,
   "id": "253c9ee5-689e-44d2-9af3-65bfe92b42bc",
   "metadata": {},
   "outputs": [
    {
     "name": "stdout",
     "output_type": "stream",
     "text": [
      "<class 'pandas.core.frame.DataFrame'>\n",
      "Index: 637976 entries, 0 to 693070\n",
      "Data columns (total 23 columns):\n",
      " #   Column                  Non-Null Count   Dtype  \n",
      "---  ------                  --------------   -----  \n",
      " 0   timestamp               637976 non-null  float64\n",
      " 1   hour                    637976 non-null  int64  \n",
      " 2   day                     637976 non-null  int64  \n",
      " 3   month                   637976 non-null  int64  \n",
      " 4   cab_type                637976 non-null  int32  \n",
      " 5   price                   637976 non-null  float64\n",
      " 6   distance                637976 non-null  float64\n",
      " 7   surge_multiplier        637976 non-null  float64\n",
      " 8   temperature             637976 non-null  float64\n",
      " 9   precipIntensity         637976 non-null  float64\n",
      " 10  precipProbability       637976 non-null  float64\n",
      " 11  humidity                637976 non-null  float64\n",
      " 12  windSpeed               637976 non-null  float64\n",
      " 13  windGust                637976 non-null  float64\n",
      " 14  windGustTime            637976 non-null  int64  \n",
      " 15  visibility              637976 non-null  float64\n",
      " 16  precipIntensityMax      637976 non-null  float64\n",
      " 17  uvIndexTime             637976 non-null  int64  \n",
      " 18  temperatureMin          637976 non-null  float64\n",
      " 19  temperatureMax          637976 non-null  float64\n",
      " 20  apparentTemperatureMin  637976 non-null  float64\n",
      " 21  apparentTemperatureMax  637976 non-null  float64\n",
      " 22  datetime_unix           637976 non-null  float64\n",
      "dtypes: float64(17), int32(1), int64(5)\n",
      "memory usage: 114.4 MB\n"
     ]
    }
   ],
   "source": [
    "df_knn = df.copy()\n",
    "df_knn['datetime_unix'] = df_knn['datetime'].apply(lambda x: x.timestamp())\n",
    "df_knn = df_knn.drop(columns=['datetime', 'timezone'])\n",
    "df_knn.info()"
   ]
  },
  {
   "cell_type": "code",
   "execution_count": 99,
   "id": "07bd486f-bba6-4430-b49e-17055933a87d",
   "metadata": {},
   "outputs": [],
   "source": [
    "X = df_knn.drop('cab_type', axis=1)\n",
    "y = df_knn['cab_type']"
   ]
  },
  {
   "cell_type": "code",
   "execution_count": 100,
   "id": "b73d2419-3d71-4802-8ec8-d3828e2426d5",
   "metadata": {},
   "outputs": [],
   "source": [
    "def count_outliers_iqr(df):\n",
    "    outlier_counts = pd.DataFrame(columns=['Attribute', 'Outlier Count', 'Lower Bound', 'Upper Bound'])\n",
    "\n",
    "    for column in df.columns:\n",
    "        if pd.api.types.is_numeric_dtype(df[column]):\n",
    "            Q1 = df[column].quantile(0.25)\n",
    "            Q3 = df[column].quantile(0.75)\n",
    "            IQR = Q3 - Q1\n",
    "            lower_bound = Q1 - 1.5 * IQR\n",
    "            upper_bound = Q3 + 1.5 * IQR\n",
    "            outliers = df[(df[column] < lower_bound) | (df[column] > upper_bound)]\n",
    "            outlier_count = len(outliers)\n",
    "            outlier_counts = outlier_counts._append({'Attribute': column, 'Outlier Count': outlier_count, 'Lower Bound': lower_bound, 'Upper Bound': upper_bound}, ignore_index=True)\n",
    "\n",
    "    return outlier_counts"
   ]
  },
  {
   "cell_type": "code",
   "execution_count": 101,
   "id": "9a47bdeb-2e59-4fe5-8da6-813bdd1017c4",
   "metadata": {},
   "outputs": [
    {
     "name": "stderr",
     "output_type": "stream",
     "text": [
      "C:\\Users\\VITO\\AppData\\Local\\Temp\\ipykernel_20236\\2281726157.py:13: FutureWarning: The behavior of DataFrame concatenation with empty or all-NA entries is deprecated. In a future version, this will no longer exclude empty or all-NA columns when determining the result dtypes. To retain the old behavior, exclude the relevant entries before the concat operation.\n",
      "  outlier_counts = outlier_counts._append({'Attribute': column, 'Outlier Count': outlier_count, 'Lower Bound': lower_bound, 'Upper Bound': upper_bound}, ignore_index=True)\n"
     ]
    },
    {
     "data": {
      "text/html": [
       "<div>\n",
       "<style scoped>\n",
       "    .dataframe tbody tr th:only-of-type {\n",
       "        vertical-align: middle;\n",
       "    }\n",
       "\n",
       "    .dataframe tbody tr th {\n",
       "        vertical-align: top;\n",
       "    }\n",
       "\n",
       "    .dataframe thead th {\n",
       "        text-align: right;\n",
       "    }\n",
       "</style>\n",
       "<table border=\"1\" class=\"dataframe\">\n",
       "  <thead>\n",
       "    <tr style=\"text-align: right;\">\n",
       "      <th></th>\n",
       "      <th>Attribute</th>\n",
       "      <th>Outlier Count</th>\n",
       "      <th>Lower Bound</th>\n",
       "      <th>Upper Bound</th>\n",
       "    </tr>\n",
       "  </thead>\n",
       "  <tbody>\n",
       "    <tr>\n",
       "      <th>0</th>\n",
       "      <td>timestamp</td>\n",
       "      <td>0</td>\n",
       "      <td>1.541369e+09</td>\n",
       "      <td>1.546903e+09</td>\n",
       "    </tr>\n",
       "    <tr>\n",
       "      <th>1</th>\n",
       "      <td>hour</td>\n",
       "      <td>0</td>\n",
       "      <td>-1.200000e+01</td>\n",
       "      <td>3.600000e+01</td>\n",
       "    </tr>\n",
       "    <tr>\n",
       "      <th>2</th>\n",
       "      <td>day</td>\n",
       "      <td>0</td>\n",
       "      <td>-9.500000e+00</td>\n",
       "      <td>5.050000e+01</td>\n",
       "    </tr>\n",
       "    <tr>\n",
       "      <th>3</th>\n",
       "      <td>month</td>\n",
       "      <td>0</td>\n",
       "      <td>9.500000e+00</td>\n",
       "      <td>1.350000e+01</td>\n",
       "    </tr>\n",
       "    <tr>\n",
       "      <th>4</th>\n",
       "      <td>cab_type</td>\n",
       "      <td>0</td>\n",
       "      <td>-1.500000e+00</td>\n",
       "      <td>2.500000e+00</td>\n",
       "    </tr>\n",
       "    <tr>\n",
       "      <th>5</th>\n",
       "      <td>price</td>\n",
       "      <td>5589</td>\n",
       "      <td>-1.125000e+01</td>\n",
       "      <td>4.275000e+01</td>\n",
       "    </tr>\n",
       "    <tr>\n",
       "      <th>6</th>\n",
       "      <td>distance</td>\n",
       "      <td>6672</td>\n",
       "      <td>-1.220000e+00</td>\n",
       "      <td>5.420000e+00</td>\n",
       "    </tr>\n",
       "    <tr>\n",
       "      <th>7</th>\n",
       "      <td>surge_multiplier</td>\n",
       "      <td>20975</td>\n",
       "      <td>1.000000e+00</td>\n",
       "      <td>1.000000e+00</td>\n",
       "    </tr>\n",
       "    <tr>\n",
       "      <th>8</th>\n",
       "      <td>temperature</td>\n",
       "      <td>33749</td>\n",
       "      <td>2.575500e+01</td>\n",
       "      <td>5.427500e+01</td>\n",
       "    </tr>\n",
       "    <tr>\n",
       "      <th>9</th>\n",
       "      <td>precipIntensity</td>\n",
       "      <td>138748</td>\n",
       "      <td>0.000000e+00</td>\n",
       "      <td>0.000000e+00</td>\n",
       "    </tr>\n",
       "    <tr>\n",
       "      <th>10</th>\n",
       "      <td>precipProbability</td>\n",
       "      <td>138748</td>\n",
       "      <td>0.000000e+00</td>\n",
       "      <td>0.000000e+00</td>\n",
       "    </tr>\n",
       "    <tr>\n",
       "      <th>11</th>\n",
       "      <td>humidity</td>\n",
       "      <td>0</td>\n",
       "      <td>2.800000e-01</td>\n",
       "      <td>1.240000e+00</td>\n",
       "    </tr>\n",
       "    <tr>\n",
       "      <th>12</th>\n",
       "      <td>windSpeed</td>\n",
       "      <td>0</td>\n",
       "      <td>-4.090000e+00</td>\n",
       "      <td>1.591000e+01</td>\n",
       "    </tr>\n",
       "    <tr>\n",
       "      <th>13</th>\n",
       "      <td>windGust</td>\n",
       "      <td>15501</td>\n",
       "      <td>-7.460000e+00</td>\n",
       "      <td>2.326000e+01</td>\n",
       "    </tr>\n",
       "    <tr>\n",
       "      <th>14</th>\n",
       "      <td>windGustTime</td>\n",
       "      <td>0</td>\n",
       "      <td>1.541309e+09</td>\n",
       "      <td>1.546969e+09</td>\n",
       "    </tr>\n",
       "    <tr>\n",
       "      <th>15</th>\n",
       "      <td>visibility</td>\n",
       "      <td>125857</td>\n",
       "      <td>6.086000e+00</td>\n",
       "      <td>1.234200e+01</td>\n",
       "    </tr>\n",
       "    <tr>\n",
       "      <th>16</th>\n",
       "      <td>precipIntensityMax</td>\n",
       "      <td>0</td>\n",
       "      <td>-1.374000e-01</td>\n",
       "      <td>2.290000e-01</td>\n",
       "    </tr>\n",
       "    <tr>\n",
       "      <th>17</th>\n",
       "      <td>uvIndexTime</td>\n",
       "      <td>0</td>\n",
       "      <td>1.541342e+09</td>\n",
       "      <td>1.546886e+09</td>\n",
       "    </tr>\n",
       "    <tr>\n",
       "      <th>18</th>\n",
       "      <td>temperatureMin</td>\n",
       "      <td>4063</td>\n",
       "      <td>1.710500e+01</td>\n",
       "      <td>5.194500e+01</td>\n",
       "    </tr>\n",
       "    <tr>\n",
       "      <th>19</th>\n",
       "      <td>temperatureMax</td>\n",
       "      <td>126107</td>\n",
       "      <td>3.606000e+01</td>\n",
       "      <td>5.342000e+01</td>\n",
       "    </tr>\n",
       "    <tr>\n",
       "      <th>20</th>\n",
       "      <td>apparentTemperatureMin</td>\n",
       "      <td>70016</td>\n",
       "      <td>1.583500e+01</td>\n",
       "      <td>4.763500e+01</td>\n",
       "    </tr>\n",
       "    <tr>\n",
       "      <th>21</th>\n",
       "      <td>apparentTemperatureMax</td>\n",
       "      <td>41201</td>\n",
       "      <td>2.524500e+01</td>\n",
       "      <td>5.544500e+01</td>\n",
       "    </tr>\n",
       "    <tr>\n",
       "      <th>22</th>\n",
       "      <td>datetime_unix</td>\n",
       "      <td>0</td>\n",
       "      <td>1.541369e+09</td>\n",
       "      <td>1.546903e+09</td>\n",
       "    </tr>\n",
       "  </tbody>\n",
       "</table>\n",
       "</div>"
      ],
      "text/plain": [
       "                 Attribute Outlier Count   Lower Bound   Upper Bound\n",
       "0                timestamp             0  1.541369e+09  1.546903e+09\n",
       "1                     hour             0 -1.200000e+01  3.600000e+01\n",
       "2                      day             0 -9.500000e+00  5.050000e+01\n",
       "3                    month             0  9.500000e+00  1.350000e+01\n",
       "4                 cab_type             0 -1.500000e+00  2.500000e+00\n",
       "5                    price          5589 -1.125000e+01  4.275000e+01\n",
       "6                 distance          6672 -1.220000e+00  5.420000e+00\n",
       "7         surge_multiplier         20975  1.000000e+00  1.000000e+00\n",
       "8              temperature         33749  2.575500e+01  5.427500e+01\n",
       "9          precipIntensity        138748  0.000000e+00  0.000000e+00\n",
       "10       precipProbability        138748  0.000000e+00  0.000000e+00\n",
       "11                humidity             0  2.800000e-01  1.240000e+00\n",
       "12               windSpeed             0 -4.090000e+00  1.591000e+01\n",
       "13                windGust         15501 -7.460000e+00  2.326000e+01\n",
       "14            windGustTime             0  1.541309e+09  1.546969e+09\n",
       "15              visibility        125857  6.086000e+00  1.234200e+01\n",
       "16      precipIntensityMax             0 -1.374000e-01  2.290000e-01\n",
       "17             uvIndexTime             0  1.541342e+09  1.546886e+09\n",
       "18          temperatureMin          4063  1.710500e+01  5.194500e+01\n",
       "19          temperatureMax        126107  3.606000e+01  5.342000e+01\n",
       "20  apparentTemperatureMin         70016  1.583500e+01  4.763500e+01\n",
       "21  apparentTemperatureMax         41201  2.524500e+01  5.544500e+01\n",
       "22           datetime_unix             0  1.541369e+09  1.546903e+09"
      ]
     },
     "execution_count": 101,
     "metadata": {},
     "output_type": "execute_result"
    }
   ],
   "source": [
    "data_outlier = count_outliers_iqr(df_knn)\n",
    "data_outlier"
   ]
  },
  {
   "cell_type": "markdown",
   "id": "bb158363-e48c-4c11-bb85-dacda17148d1",
   "metadata": {},
   "source": [
    "Karena data diatas memiliki banyak outlier maka dapat menggunakan minimal 3 neighbors agar data tidak bergabung dengan outlier.<br>\n",
    "k yang lebih besar mungkin memperbaiki performance, namun k yang terlalu \n",
    "besar menghilangkan aspek lokalitas."
   ]
  },
  {
   "cell_type": "markdown",
   "id": "9a458799-c4c3-4bc7-8621-bb0a41c67f45",
   "metadata": {},
   "source": [
    "### Pembuatan Model KNN"
   ]
  },
  {
   "cell_type": "markdown",
   "id": "10465eb3-0421-4f27-a6b1-0f87ff4ac7ce",
   "metadata": {},
   "source": [
    "Train test split dengan size 8:2"
   ]
  },
  {
   "cell_type": "code",
   "execution_count": 102,
   "id": "88d5f457-4a7a-41b5-b3fd-38d0708b0ffd",
   "metadata": {},
   "outputs": [],
   "source": [
    "X_train, X_test, y_train, y_test = train_test_split(X, y, test_size=0.2,random_state=42)"
   ]
  },
  {
   "cell_type": "markdown",
   "id": "efa55a8e-2a23-48fe-8282-2098a943e77f",
   "metadata": {},
   "source": [
    "Menggunakan standardscaler"
   ]
  },
  {
   "cell_type": "code",
   "execution_count": 103,
   "id": "1b1d580f-f4c0-4f36-82ce-ac5a60acf587",
   "metadata": {},
   "outputs": [],
   "source": [
    "scaler = StandardScaler()\n",
    "X_train = scaler.fit_transform(X_train)\n",
    "X_test = scaler.transform(X_test)"
   ]
  },
  {
   "cell_type": "code",
   "execution_count": 104,
   "id": "acbc6a72-fb9f-453c-9408-b58eaad0f8b6",
   "metadata": {},
   "outputs": [
    {
     "data": {
      "text/html": [
       "<style>#sk-container-id-1 {color: black;}#sk-container-id-1 pre{padding: 0;}#sk-container-id-1 div.sk-toggleable {background-color: white;}#sk-container-id-1 label.sk-toggleable__label {cursor: pointer;display: block;width: 100%;margin-bottom: 0;padding: 0.3em;box-sizing: border-box;text-align: center;}#sk-container-id-1 label.sk-toggleable__label-arrow:before {content: \"▸\";float: left;margin-right: 0.25em;color: #696969;}#sk-container-id-1 label.sk-toggleable__label-arrow:hover:before {color: black;}#sk-container-id-1 div.sk-estimator:hover label.sk-toggleable__label-arrow:before {color: black;}#sk-container-id-1 div.sk-toggleable__content {max-height: 0;max-width: 0;overflow: hidden;text-align: left;background-color: #f0f8ff;}#sk-container-id-1 div.sk-toggleable__content pre {margin: 0.2em;color: black;border-radius: 0.25em;background-color: #f0f8ff;}#sk-container-id-1 input.sk-toggleable__control:checked~div.sk-toggleable__content {max-height: 200px;max-width: 100%;overflow: auto;}#sk-container-id-1 input.sk-toggleable__control:checked~label.sk-toggleable__label-arrow:before {content: \"▾\";}#sk-container-id-1 div.sk-estimator input.sk-toggleable__control:checked~label.sk-toggleable__label {background-color: #d4ebff;}#sk-container-id-1 div.sk-label input.sk-toggleable__control:checked~label.sk-toggleable__label {background-color: #d4ebff;}#sk-container-id-1 input.sk-hidden--visually {border: 0;clip: rect(1px 1px 1px 1px);clip: rect(1px, 1px, 1px, 1px);height: 1px;margin: -1px;overflow: hidden;padding: 0;position: absolute;width: 1px;}#sk-container-id-1 div.sk-estimator {font-family: monospace;background-color: #f0f8ff;border: 1px dotted black;border-radius: 0.25em;box-sizing: border-box;margin-bottom: 0.5em;}#sk-container-id-1 div.sk-estimator:hover {background-color: #d4ebff;}#sk-container-id-1 div.sk-parallel-item::after {content: \"\";width: 100%;border-bottom: 1px solid gray;flex-grow: 1;}#sk-container-id-1 div.sk-label:hover label.sk-toggleable__label {background-color: #d4ebff;}#sk-container-id-1 div.sk-serial::before {content: \"\";position: absolute;border-left: 1px solid gray;box-sizing: border-box;top: 0;bottom: 0;left: 50%;z-index: 0;}#sk-container-id-1 div.sk-serial {display: flex;flex-direction: column;align-items: center;background-color: white;padding-right: 0.2em;padding-left: 0.2em;position: relative;}#sk-container-id-1 div.sk-item {position: relative;z-index: 1;}#sk-container-id-1 div.sk-parallel {display: flex;align-items: stretch;justify-content: center;background-color: white;position: relative;}#sk-container-id-1 div.sk-item::before, #sk-container-id-1 div.sk-parallel-item::before {content: \"\";position: absolute;border-left: 1px solid gray;box-sizing: border-box;top: 0;bottom: 0;left: 50%;z-index: -1;}#sk-container-id-1 div.sk-parallel-item {display: flex;flex-direction: column;z-index: 1;position: relative;background-color: white;}#sk-container-id-1 div.sk-parallel-item:first-child::after {align-self: flex-end;width: 50%;}#sk-container-id-1 div.sk-parallel-item:last-child::after {align-self: flex-start;width: 50%;}#sk-container-id-1 div.sk-parallel-item:only-child::after {width: 0;}#sk-container-id-1 div.sk-dashed-wrapped {border: 1px dashed gray;margin: 0 0.4em 0.5em 0.4em;box-sizing: border-box;padding-bottom: 0.4em;background-color: white;}#sk-container-id-1 div.sk-label label {font-family: monospace;font-weight: bold;display: inline-block;line-height: 1.2em;}#sk-container-id-1 div.sk-label-container {text-align: center;}#sk-container-id-1 div.sk-container {/* jupyter's `normalize.less` sets `[hidden] { display: none; }` but bootstrap.min.css set `[hidden] { display: none !important; }` so we also need the `!important` here to be able to override the default hidden behavior on the sphinx rendered scikit-learn.org. See: https://github.com/scikit-learn/scikit-learn/issues/21755 */display: inline-block !important;position: relative;}#sk-container-id-1 div.sk-text-repr-fallback {display: none;}</style><div id=\"sk-container-id-1\" class=\"sk-top-container\"><div class=\"sk-text-repr-fallback\"><pre>KNeighborsClassifier(n_neighbors=3)</pre><b>In a Jupyter environment, please rerun this cell to show the HTML representation or trust the notebook. <br />On GitHub, the HTML representation is unable to render, please try loading this page with nbviewer.org.</b></div><div class=\"sk-container\" hidden><div class=\"sk-item\"><div class=\"sk-estimator sk-toggleable\"><input class=\"sk-toggleable__control sk-hidden--visually\" id=\"sk-estimator-id-1\" type=\"checkbox\" checked><label for=\"sk-estimator-id-1\" class=\"sk-toggleable__label sk-toggleable__label-arrow\">KNeighborsClassifier</label><div class=\"sk-toggleable__content\"><pre>KNeighborsClassifier(n_neighbors=3)</pre></div></div></div></div></div>"
      ],
      "text/plain": [
       "KNeighborsClassifier(n_neighbors=3)"
      ]
     },
     "execution_count": 104,
     "metadata": {},
     "output_type": "execute_result"
    }
   ],
   "source": [
    "knn = KNeighborsClassifier(n_neighbors=3)\n",
    "knn.fit(X_train, y_train)"
   ]
  },
  {
   "cell_type": "markdown",
   "id": "349aa4d9-0f5f-4f5b-92da-c7fcebba9977",
   "metadata": {},
   "source": [
    "Melakukan prediksi knn"
   ]
  },
  {
   "cell_type": "code",
   "execution_count": 105,
   "id": "1d938768-bb81-4c29-a76f-f041e3c06434",
   "metadata": {},
   "outputs": [
    {
     "name": "stdout",
     "output_type": "stream",
     "text": [
      "Accuracy: 0.7751261795040597\n",
      "Precision: 0.8058559145388223\n",
      "Recall: 0.7468795749883032\n"
     ]
    }
   ],
   "source": [
    "y_pred = knn.predict(X_test)\n",
    "\n",
    "accuracy = accuracy_score(y_test, y_pred)\n",
    "precision = precision_score(y_test, y_pred)\n",
    "recall = recall_score(y_test, y_pred)\n",
    "\n",
    "print(\"Accuracy:\", accuracy)\n",
    "print(\"Precision:\", precision)\n",
    "print(\"Recall:\", recall)"
   ]
  },
  {
   "cell_type": "markdown",
   "id": "c2f0e7be-4517-4eaf-9756-e50fc28b257f",
   "metadata": {},
   "source": [
    "Menampilkan confusion matrix"
   ]
  },
  {
   "cell_type": "code",
   "execution_count": 106,
   "id": "008028ef-50e5-4ef9-b7c8-bd8d3ab5b58a",
   "metadata": {},
   "outputs": [
    {
     "data": {
      "image/png": "[encoded data removed]",
      "text/plain": [
       "<Figure size 640x480 with 2 Axes>"
      ]
     },
     "metadata": {},
     "output_type": "display_data"
    }
   ],
   "source": [
    "cm = confusion_matrix(y_test, y_pred)\n",
    "disp = ConfusionMatrixDisplay(confusion_matrix=cm)\n",
    "disp.plot();"
   ]
  },
  {
   "cell_type": "markdown",
   "id": "5aa4c373-b733-4e2a-bc4e-68dc1ee4c868",
   "metadata": {},
   "source": [
    "Dari data tersebut terlihat bahwa,<br>\n",
    "TN (True Negative) = 49417<br>\n",
    "TP (True Positive) = 49486<br>\n",
    "FN (False Negative) = 16771<br>\n",
    "FP (False Positive) = 11922<br>"
   ]
  },
  {
   "cell_type": "markdown",
   "id": "01fdcbb8-91c0-4c9c-9e27-fcd6d684b59b",
   "metadata": {},
   "source": [
    "### Optimisasi KNN"
   ]
  },
  {
   "cell_type": "code",
   "execution_count": null,
   "id": "5f772a67-2379-4d88-b3b5-fd1153cca802",
   "metadata": {},
   "outputs": [],
   "source": [
    "knn_grid = KNeighborsClassifier()\n",
    "\n",
    "param_grid = {\n",
    "    'n_neighbors': [3, 5, 7, 9],\n",
    "    'weights': ['uniform', 'distance'],\n",
    "    'p': [1, 2] \n",
    "}\n",
    "\n",
    "grid_search = GridSearchCV(knn_grid, param_grid, cv=5, scoring='accuracy')\n",
    "grid_search.fit(X, y)"
   ]
  },
  {
   "cell_type": "markdown",
   "id": "51408869-d0d6-4c15-8e19-1f4b750c83ae",
   "metadata": {},
   "source": [
    "Setelah dijalankan, accuracy tertinggi didapatkan pada n_neighbors=5, dan weights='distance'"
   ]
  },
  {
   "cell_type": "code",
   "execution_count": 107,
   "id": "088d4891-bcbf-4f07-8ff0-589768a9b7f9",
   "metadata": {},
   "outputs": [
    {
     "data": {
      "text/html": [
       "<style>#sk-container-id-2 {color: black;}#sk-container-id-2 pre{padding: 0;}#sk-container-id-2 div.sk-toggleable {background-color: white;}#sk-container-id-2 label.sk-toggleable__label {cursor: pointer;display: block;width: 100%;margin-bottom: 0;padding: 0.3em;box-sizing: border-box;text-align: center;}#sk-container-id-2 label.sk-toggleable__label-arrow:before {content: \"▸\";float: left;margin-right: 0.25em;color: #696969;}#sk-container-id-2 label.sk-toggleable__label-arrow:hover:before {color: black;}#sk-container-id-2 div.sk-estimator:hover label.sk-toggleable__label-arrow:before {color: black;}#sk-container-id-2 div.sk-toggleable__content {max-height: 0;max-width: 0;overflow: hidden;text-align: left;background-color: #f0f8ff;}#sk-container-id-2 div.sk-toggleable__content pre {margin: 0.2em;color: black;border-radius: 0.25em;background-color: #f0f8ff;}#sk-container-id-2 input.sk-toggleable__control:checked~div.sk-toggleable__content {max-height: 200px;max-width: 100%;overflow: auto;}#sk-container-id-2 input.sk-toggleable__control:checked~label.sk-toggleable__label-arrow:before {content: \"▾\";}#sk-container-id-2 div.sk-estimator input.sk-toggleable__control:checked~label.sk-toggleable__label {background-color: #d4ebff;}#sk-container-id-2 div.sk-label input.sk-toggleable__control:checked~label.sk-toggleable__label {background-color: #d4ebff;}#sk-container-id-2 input.sk-hidden--visually {border: 0;clip: rect(1px 1px 1px 1px);clip: rect(1px, 1px, 1px, 1px);height: 1px;margin: -1px;overflow: hidden;padding: 0;position: absolute;width: 1px;}#sk-container-id-2 div.sk-estimator {font-family: monospace;background-color: #f0f8ff;border: 1px dotted black;border-radius: 0.25em;box-sizing: border-box;margin-bottom: 0.5em;}#sk-container-id-2 div.sk-estimator:hover {background-color: #d4ebff;}#sk-container-id-2 div.sk-parallel-item::after {content: \"\";width: 100%;border-bottom: 1px solid gray;flex-grow: 1;}#sk-container-id-2 div.sk-label:hover label.sk-toggleable__label {background-color: #d4ebff;}#sk-container-id-2 div.sk-serial::before {content: \"\";position: absolute;border-left: 1px solid gray;box-sizing: border-box;top: 0;bottom: 0;left: 50%;z-index: 0;}#sk-container-id-2 div.sk-serial {display: flex;flex-direction: column;align-items: center;background-color: white;padding-right: 0.2em;padding-left: 0.2em;position: relative;}#sk-container-id-2 div.sk-item {position: relative;z-index: 1;}#sk-container-id-2 div.sk-parallel {display: flex;align-items: stretch;justify-content: center;background-color: white;position: relative;}#sk-container-id-2 div.sk-item::before, #sk-container-id-2 div.sk-parallel-item::before {content: \"\";position: absolute;border-left: 1px solid gray;box-sizing: border-box;top: 0;bottom: 0;left: 50%;z-index: -1;}#sk-container-id-2 div.sk-parallel-item {display: flex;flex-direction: column;z-index: 1;position: relative;background-color: white;}#sk-container-id-2 div.sk-parallel-item:first-child::after {align-self: flex-end;width: 50%;}#sk-container-id-2 div.sk-parallel-item:last-child::after {align-self: flex-start;width: 50%;}#sk-container-id-2 div.sk-parallel-item:only-child::after {width: 0;}#sk-container-id-2 div.sk-dashed-wrapped {border: 1px dashed gray;margin: 0 0.4em 0.5em 0.4em;box-sizing: border-box;padding-bottom: 0.4em;background-color: white;}#sk-container-id-2 div.sk-label label {font-family: monospace;font-weight: bold;display: inline-block;line-height: 1.2em;}#sk-container-id-2 div.sk-label-container {text-align: center;}#sk-container-id-2 div.sk-container {/* jupyter's `normalize.less` sets `[hidden] { display: none; }` but bootstrap.min.css set `[hidden] { display: none !important; }` so we also need the `!important` here to be able to override the default hidden behavior on the sphinx rendered scikit-learn.org. See: https://github.com/scikit-learn/scikit-learn/issues/21755 */display: inline-block !important;position: relative;}#sk-container-id-2 div.sk-text-repr-fallback {display: none;}</style><div id=\"sk-container-id-2\" class=\"sk-top-container\"><div class=\"sk-text-repr-fallback\"><pre>KNeighborsClassifier(weights=&#x27;distance&#x27;)</pre><b>In a Jupyter environment, please rerun this cell to show the HTML representation or trust the notebook. <br />On GitHub, the HTML representation is unable to render, please try loading this page with nbviewer.org.</b></div><div class=\"sk-container\" hidden><div class=\"sk-item\"><div class=\"sk-estimator sk-toggleable\"><input class=\"sk-toggleable__control sk-hidden--visually\" id=\"sk-estimator-id-2\" type=\"checkbox\" checked><label for=\"sk-estimator-id-2\" class=\"sk-toggleable__label sk-toggleable__label-arrow\">KNeighborsClassifier</label><div class=\"sk-toggleable__content\"><pre>KNeighborsClassifier(weights=&#x27;distance&#x27;)</pre></div></div></div></div></div>"
      ],
      "text/plain": [
       "KNeighborsClassifier(weights='distance')"
      ]
     },
     "execution_count": 107,
     "metadata": {},
     "output_type": "execute_result"
    }
   ],
   "source": [
    "knn_best = KNeighborsClassifier(n_neighbors=5, weights='distance')\n",
    "knn_best.fit(X_train, y_train)"
   ]
  },
  {
   "cell_type": "code",
   "execution_count": 108,
   "id": "5675b06f-67d5-4b82-9462-ac8c4c1b2d5f",
   "metadata": {},
   "outputs": [
    {
     "name": "stdout",
     "output_type": "stream",
     "text": [
      "Accuracy: 0.7971409762061507\n",
      "Precision: 0.8220616155331132\n",
      "Recall: 0.7468795749883032\n"
     ]
    }
   ],
   "source": [
    "y_pred_best = knn_best.predict(X_test)\n",
    "\n",
    "accuracy_best = accuracy_score(y_test, y_pred_best)\n",
    "precision_best = precision_score(y_test, y_pred_best)\n",
    "recall_best = recall_score(y_test, y_pred)\n",
    "\n",
    "print(\"Accuracy:\", accuracy_best)\n",
    "print(\"Precision:\", precision_best)\n",
    "print(\"Recall:\", recall_best)"
   ]
  },
  {
   "cell_type": "markdown",
   "id": "d344ef4b-f1ef-4638-9ed7-b76dd2dbb6c6",
   "metadata": {},
   "source": [
    "Terlihat terdapat peningkatan accuracy dari prediksi"
   ]
  },
  {
   "cell_type": "markdown",
   "id": "d2f364a2-35f3-4a7a-baaf-b0ce0ebcfc2e",
   "metadata": {},
   "source": [
    "### Kesimpulan KNN"
   ]
  },
  {
   "cell_type": "markdown",
   "id": "ff46c743-15bb-43b9-8c1d-bacfbcd84067",
   "metadata": {},
   "source": [
    "Setelah dilakukan beberapa pengujian, dapat dilihat bahwa nilai K sangat mempengaruhi keakuratan model. Selain itu, nilai bobot dari jarak tersebut juga mempengaruhi. \n",
    "\n",
    "<img src=\"https://i.ibb.co/KVFkQjM/qewdfs.png\" alt=\"klasifikasi-tes\" width=\"40%\">\n",
    "\n",
    "- Accuracy, ini merupakan tingkat ketepatan antara prediksi dan hasil sebenarnya. Semakin tinggi semakin bagus\n",
    "- F1-Score, F1-score baru akan besar kalau kedua nilai precision dan recall besar. Jika ada salah satu yang rendah, maka nilai F1 juga akan rendah\n",
    "- Recall, merupakan True Positive Rate\n",
    "- Precision, merupakan TP/(TP+FP)\n",
    "\n",
    "Dari data sebelum optimisasi dan setelah optimisasi, didapatkan bahwa nilai accuracy, precision, dan recall meningkat yang menandakan bahwa terjadi peningkatan performa model."
   ]
  },
  {
   "cell_type": "markdown",
   "id": "fc71f37d-3c32-4a92-9148-37cbfe1d692b",
   "metadata": {},
   "source": [
    "## Naive Bayes"
   ]
  },
  {
   "cell_type": "markdown",
   "id": "85335859-b234-4bfd-9887-cce883db65a9",
   "metadata": {},
   "source": [
    "## Summary Naive Bayes\n",
    "\n",
    "Naive Bayes adalah salah satu algoritma klasifikasi dalam machine learning yang berdasarkan teori probabilitas. Gaussian NB adalah variasi dari algoritma Naive Bayes yang digunakan ketika data yang diamati memiliki distribusi Gaussian. Berikut adalah poin-poin terkait Gaussian Naive Bayes:\n",
    "\n",
    "## 1. Dasar Teori\n",
    "\n",
    "![Datacamp](https://images.datacamp.com/image/upload/f_auto,q_auto:best/v1543836882/image_3_ijznzs.png)\n",
    "\n",
    "P(h): probabilitas hipotesis h menjadi benar (tanpa mempertimbangkan data). Ini dikenal sebagai probabilitas prior dari h.<br>\n",
    "P(D): probabilitas data (tanpa mempertimbangkan hipotesis). Ini dikenal sebagai probabilitas prior.<br>\n",
    "P(h|D): probabilitas hipotesis h yang diberikan data D. Ini dikenal sebagai probabilitas posterior.<br>\n",
    "P(D|h): probabilitas data d diberikan bahwa hipotesis h benar. Ini dikenal sebagai probabilitas posterior.<br>\n",
    "\n",
    "Gaussian Naive Bayes mengandalkan Teorema Bayes untuk menghitung probabilitas posterior kelas dari sebuah sampel, dengan asumsi bahwa fitur-fitur yang diamati dalam sampel mengikuti distribusi Gaussian. Dalam hal ini, \"Naive\" berarti asumsi bahwa setiap fitur adalah independen, meskipun dalam dunia nyata, independensi ini seringkali tidak terpenuhi.\n",
    "\n",
    "## 2. Asumsi Distribusi Gaussian\n",
    "\n",
    "Gaussian Naive Bayes bekerja dengan baik ketika data yang diamati memiliki distribusi Gaussian atau mendekati distribusi Gaussian. Ini berarti data kontinu yang terdistribusi normal cenderung memberikan hasil yang baik dengan algoritma ini.\n",
    "\n",
    "## 3. Penggunaan\n",
    "\n",
    "Gaussian Naive Bayes sering digunakan dalam aplikasi klasifikasi, terutama di mana data memiliki sifat distribusi Gaussian. Contoh penggunaan yang umum termasuk klasifikasi email spam atau non-spam, handwriting re, dan identifikasi pola medis.\n",
    "\n",
    "## 4. Kelebihan\n",
    "\n",
    "- Sederhana dan cepat dalam pelatihan dan prediksi.\n",
    "- Cocok untuk data dengan banyak fitur.\n",
    "\n",
    "## 5. Keterbatasan\n",
    "\n",
    "- Mengasumsikan bahwa fitur-fitur adalah independen, yang mungkin tidak benar dalam banyak situasi.\n",
    "- Kinerja buruk jika asumsi distribusi Gaussian tidak terpenuhi.\n",
    "\n",
    "Gaussian Naive Bayes adalah algoritma klasifikasi yang kuat ketika asumsi-asumsi yang mendasarinya terpenuhi. Namun, sangat penting untuk memahami sifat data kita sebelum menggunakannya.\n"
   ]
  },
  {
   "cell_type": "markdown",
   "id": "4c17ab7b-8476-4cbd-b428-2f4be4e4aca7",
   "metadata": {},
   "source": [
    "## Pembuatan Model Naive Bayes"
   ]
  },
  {
   "cell_type": "code",
   "execution_count": 123,
   "id": "98687715-2d00-42b3-8281-82cd470a32c6",
   "metadata": {},
   "outputs": [],
   "source": [
    "X_train, X_test, y_train, y_test = train_test_split(X, y, test_size=0.3,random_state=42)"
   ]
  },
  {
   "cell_type": "code",
   "execution_count": 124,
   "id": "ec386f50-35d1-47e8-b709-69b9babcda09",
   "metadata": {},
   "outputs": [],
   "source": [
    "scaler = StandardScaler()\n",
    "X_train = scaler.fit_transform(X_train)\n",
    "X_test = scaler.transform(X_test)"
   ]
  },
  {
   "cell_type": "code",
   "execution_count": 125,
   "id": "d534219f-26ac-48df-9ba1-4451a7bdb09b",
   "metadata": {},
   "outputs": [
    {
     "data": {
      "text/html": [
       "<style>#sk-container-id-7 {color: black;}#sk-container-id-7 pre{padding: 0;}#sk-container-id-7 div.sk-toggleable {background-color: white;}#sk-container-id-7 label.sk-toggleable__label {cursor: pointer;display: block;width: 100%;margin-bottom: 0;padding: 0.3em;box-sizing: border-box;text-align: center;}#sk-container-id-7 label.sk-toggleable__label-arrow:before {content: \"▸\";float: left;margin-right: 0.25em;color: #696969;}#sk-container-id-7 label.sk-toggleable__label-arrow:hover:before {color: black;}#sk-container-id-7 div.sk-estimator:hover label.sk-toggleable__label-arrow:before {color: black;}#sk-container-id-7 div.sk-toggleable__content {max-height: 0;max-width: 0;overflow: hidden;text-align: left;background-color: #f0f8ff;}#sk-container-id-7 div.sk-toggleable__content pre {margin: 0.2em;color: black;border-radius: 0.25em;background-color: #f0f8ff;}#sk-container-id-7 input.sk-toggleable__control:checked~div.sk-toggleable__content {max-height: 200px;max-width: 100%;overflow: auto;}#sk-container-id-7 input.sk-toggleable__control:checked~label.sk-toggleable__label-arrow:before {content: \"▾\";}#sk-container-id-7 div.sk-estimator input.sk-toggleable__control:checked~label.sk-toggleable__label {background-color: #d4ebff;}#sk-container-id-7 div.sk-label input.sk-toggleable__control:checked~label.sk-toggleable__label {background-color: #d4ebff;}#sk-container-id-7 input.sk-hidden--visually {border: 0;clip: rect(1px 1px 1px 1px);clip: rect(1px, 1px, 1px, 1px);height: 1px;margin: -1px;overflow: hidden;padding: 0;position: absolute;width: 1px;}#sk-container-id-7 div.sk-estimator {font-family: monospace;background-color: #f0f8ff;border: 1px dotted black;border-radius: 0.25em;box-sizing: border-box;margin-bottom: 0.5em;}#sk-container-id-7 div.sk-estimator:hover {background-color: #d4ebff;}#sk-container-id-7 div.sk-parallel-item::after {content: \"\";width: 100%;border-bottom: 1px solid gray;flex-grow: 1;}#sk-container-id-7 div.sk-label:hover label.sk-toggleable__label {background-color: #d4ebff;}#sk-container-id-7 div.sk-serial::before {content: \"\";position: absolute;border-left: 1px solid gray;box-sizing: border-box;top: 0;bottom: 0;left: 50%;z-index: 0;}#sk-container-id-7 div.sk-serial {display: flex;flex-direction: column;align-items: center;background-color: white;padding-right: 0.2em;padding-left: 0.2em;position: relative;}#sk-container-id-7 div.sk-item {position: relative;z-index: 1;}#sk-container-id-7 div.sk-parallel {display: flex;align-items: stretch;justify-content: center;background-color: white;position: relative;}#sk-container-id-7 div.sk-item::before, #sk-container-id-7 div.sk-parallel-item::before {content: \"\";position: absolute;border-left: 1px solid gray;box-sizing: border-box;top: 0;bottom: 0;left: 50%;z-index: -1;}#sk-container-id-7 div.sk-parallel-item {display: flex;flex-direction: column;z-index: 1;position: relative;background-color: white;}#sk-container-id-7 div.sk-parallel-item:first-child::after {align-self: flex-end;width: 50%;}#sk-container-id-7 div.sk-parallel-item:last-child::after {align-self: flex-start;width: 50%;}#sk-container-id-7 div.sk-parallel-item:only-child::after {width: 0;}#sk-container-id-7 div.sk-dashed-wrapped {border: 1px dashed gray;margin: 0 0.4em 0.5em 0.4em;box-sizing: border-box;padding-bottom: 0.4em;background-color: white;}#sk-container-id-7 div.sk-label label {font-family: monospace;font-weight: bold;display: inline-block;line-height: 1.2em;}#sk-container-id-7 div.sk-label-container {text-align: center;}#sk-container-id-7 div.sk-container {/* jupyter's `normalize.less` sets `[hidden] { display: none; }` but bootstrap.min.css set `[hidden] { display: none !important; }` so we also need the `!important` here to be able to override the default hidden behavior on the sphinx rendered scikit-learn.org. See: https://github.com/scikit-learn/scikit-learn/issues/21755 */display: inline-block !important;position: relative;}#sk-container-id-7 div.sk-text-repr-fallback {display: none;}</style><div id=\"sk-container-id-7\" class=\"sk-top-container\"><div class=\"sk-text-repr-fallback\"><pre>GaussianNB()</pre><b>In a Jupyter environment, please rerun this cell to show the HTML representation or trust the notebook. <br />On GitHub, the HTML representation is unable to render, please try loading this page with nbviewer.org.</b></div><div class=\"sk-container\" hidden><div class=\"sk-item\"><div class=\"sk-estimator sk-toggleable\"><input class=\"sk-toggleable__control sk-hidden--visually\" id=\"sk-estimator-id-7\" type=\"checkbox\" checked><label for=\"sk-estimator-id-7\" class=\"sk-toggleable__label sk-toggleable__label-arrow\">GaussianNB</label><div class=\"sk-toggleable__content\"><pre>GaussianNB()</pre></div></div></div></div></div>"
      ],
      "text/plain": [
       "GaussianNB()"
      ]
     },
     "execution_count": 125,
     "metadata": {},
     "output_type": "execute_result"
    }
   ],
   "source": [
    "gnb = GaussianNB()\n",
    "\n",
    "gnb.fit(X_train, y_train)"
   ]
  },
  {
   "cell_type": "markdown",
   "id": "2af7cb4a-680c-4e28-bef5-0c5fd4a9571d",
   "metadata": {},
   "source": [
    "Membuat model evaluation testing"
   ]
  },
  {
   "cell_type": "code",
   "execution_count": 126,
   "id": "55f6e803-73d2-41ca-be3a-3f24fff16aa1",
   "metadata": {},
   "outputs": [
    {
     "name": "stdout",
     "output_type": "stream",
     "text": [
      "Accuracy: 0.5504955771632192\n",
      "F1 Score: 0.6783332419461449\n"
     ]
    }
   ],
   "source": [
    "y_pred = gnb.predict(X_test)\n",
    "accuracy = accuracy_score(y_pred, y_test)\n",
    "f1 = f1_score(y_pred, y_test, average=\"weighted\")\n",
    "\n",
    "print(\"Accuracy:\", accuracy)\n",
    "print(\"F1 Score:\", f1)"
   ]
  },
  {
   "cell_type": "markdown",
   "id": "3cb7449c-1512-4927-9219-3d5a5f1092bb",
   "metadata": {},
   "source": [
    "Melakukan visualisasi confusion matrix"
   ]
  },
  {
   "cell_type": "code",
   "execution_count": 127,
   "id": "5b47ae59-3687-41c5-845a-c2584ba034a9",
   "metadata": {},
   "outputs": [
    {
     "data": {
      "image/png": "[encoded data removed]",
      "text/plain": [
       "<Figure size 640x480 with 2 Axes>"
      ]
     },
     "metadata": {},
     "output_type": "display_data"
    }
   ],
   "source": [
    "cm = confusion_matrix(y_test, y_pred)\n",
    "disp = ConfusionMatrixDisplay(confusion_matrix=cm)\n",
    "disp.plot();"
   ]
  },
  {
   "cell_type": "markdown",
   "id": "91482a39-9b16-499d-80f8-b77f6e4d3046",
   "metadata": {},
   "source": [
    "Dari data tersebut terlihat bahwa, <br>\n",
    "TN (True Negative) = 6335<br>\n",
    "TP (True Positive) = 99026<br>\n",
    "FN (False Negative) = 0<br>\n",
    "FP (False Positive) = 86032<br>"
   ]
  },
  {
   "cell_type": "markdown",
   "id": "9d914264-91b9-4f64-8d1d-09dcc1ceae84",
   "metadata": {},
   "source": [
    "## Optimisasi Naive Bayes"
   ]
  },
  {
   "cell_type": "code",
   "execution_count": 134,
   "id": "3b8e0e6e-b6b9-4177-aa91-81bfa1793bf9",
   "metadata": {},
   "outputs": [
    {
     "name": "stdout",
     "output_type": "stream",
     "text": [
      "Best Parameters: {'priors': [0.8, 0.2], 'var_smoothing': 0.005623413251903491}\n",
      "Best Score (Accuracy): 0.5518660591715157\n"
     ]
    }
   ],
   "source": [
    "gnb_grid = GaussianNB()\n",
    "\n",
    "param_grid = {\n",
    "    'priors': [None, [0.2, 0.8], [0.5, 0.5], [0.8, 0.2]],\n",
    "    'var_smoothing': np.logspace(0,-9, num=5)\n",
    "}\n",
    "\n",
    "grid_search = GridSearchCV(gnb_grid, param_grid, cv=5, scoring='accuracy')\n",
    "grid_search.fit(X_train, y_train)\n",
    "\n",
    "print(\"Best Parameters:\", grid_search.best_params_)\n",
    "print(\"Best Score (Accuracy):\", grid_search.best_score_)"
   ]
  },
  {
   "cell_type": "code",
   "execution_count": 131,
   "id": "9bdda32e-9825-4a43-9ffd-d34bfd3a2c62",
   "metadata": {},
   "outputs": [
    {
     "data": {
      "text/html": [
       "<style>#sk-container-id-9 {color: black;}#sk-container-id-9 pre{padding: 0;}#sk-container-id-9 div.sk-toggleable {background-color: white;}#sk-container-id-9 label.sk-toggleable__label {cursor: pointer;display: block;width: 100%;margin-bottom: 0;padding: 0.3em;box-sizing: border-box;text-align: center;}#sk-container-id-9 label.sk-toggleable__label-arrow:before {content: \"▸\";float: left;margin-right: 0.25em;color: #696969;}#sk-container-id-9 label.sk-toggleable__label-arrow:hover:before {color: black;}#sk-container-id-9 div.sk-estimator:hover label.sk-toggleable__label-arrow:before {color: black;}#sk-container-id-9 div.sk-toggleable__content {max-height: 0;max-width: 0;overflow: hidden;text-align: left;background-color: #f0f8ff;}#sk-container-id-9 div.sk-toggleable__content pre {margin: 0.2em;color: black;border-radius: 0.25em;background-color: #f0f8ff;}#sk-container-id-9 input.sk-toggleable__control:checked~div.sk-toggleable__content {max-height: 200px;max-width: 100%;overflow: auto;}#sk-container-id-9 input.sk-toggleable__control:checked~label.sk-toggleable__label-arrow:before {content: \"▾\";}#sk-container-id-9 div.sk-estimator input.sk-toggleable__control:checked~label.sk-toggleable__label {background-color: #d4ebff;}#sk-container-id-9 div.sk-label input.sk-toggleable__control:checked~label.sk-toggleable__label {background-color: #d4ebff;}#sk-container-id-9 input.sk-hidden--visually {border: 0;clip: rect(1px 1px 1px 1px);clip: rect(1px, 1px, 1px, 1px);height: 1px;margin: -1px;overflow: hidden;padding: 0;position: absolute;width: 1px;}#sk-container-id-9 div.sk-estimator {font-family: monospace;background-color: #f0f8ff;border: 1px dotted black;border-radius: 0.25em;box-sizing: border-box;margin-bottom: 0.5em;}#sk-container-id-9 div.sk-estimator:hover {background-color: #d4ebff;}#sk-container-id-9 div.sk-parallel-item::after {content: \"\";width: 100%;border-bottom: 1px solid gray;flex-grow: 1;}#sk-container-id-9 div.sk-label:hover label.sk-toggleable__label {background-color: #d4ebff;}#sk-container-id-9 div.sk-serial::before {content: \"\";position: absolute;border-left: 1px solid gray;box-sizing: border-box;top: 0;bottom: 0;left: 50%;z-index: 0;}#sk-container-id-9 div.sk-serial {display: flex;flex-direction: column;align-items: center;background-color: white;padding-right: 0.2em;padding-left: 0.2em;position: relative;}#sk-container-id-9 div.sk-item {position: relative;z-index: 1;}#sk-container-id-9 div.sk-parallel {display: flex;align-items: stretch;justify-content: center;background-color: white;position: relative;}#sk-container-id-9 div.sk-item::before, #sk-container-id-9 div.sk-parallel-item::before {content: \"\";position: absolute;border-left: 1px solid gray;box-sizing: border-box;top: 0;bottom: 0;left: 50%;z-index: -1;}#sk-container-id-9 div.sk-parallel-item {display: flex;flex-direction: column;z-index: 1;position: relative;background-color: white;}#sk-container-id-9 div.sk-parallel-item:first-child::after {align-self: flex-end;width: 50%;}#sk-container-id-9 div.sk-parallel-item:last-child::after {align-self: flex-start;width: 50%;}#sk-container-id-9 div.sk-parallel-item:only-child::after {width: 0;}#sk-container-id-9 div.sk-dashed-wrapped {border: 1px dashed gray;margin: 0 0.4em 0.5em 0.4em;box-sizing: border-box;padding-bottom: 0.4em;background-color: white;}#sk-container-id-9 div.sk-label label {font-family: monospace;font-weight: bold;display: inline-block;line-height: 1.2em;}#sk-container-id-9 div.sk-label-container {text-align: center;}#sk-container-id-9 div.sk-container {/* jupyter's `normalize.less` sets `[hidden] { display: none; }` but bootstrap.min.css set `[hidden] { display: none !important; }` so we also need the `!important` here to be able to override the default hidden behavior on the sphinx rendered scikit-learn.org. See: https://github.com/scikit-learn/scikit-learn/issues/21755 */display: inline-block !important;position: relative;}#sk-container-id-9 div.sk-text-repr-fallback {display: none;}</style><div id=\"sk-container-id-9\" class=\"sk-top-container\"><div class=\"sk-text-repr-fallback\"><pre>GaussianNB(priors=[0.8, 0.2], var_smoothing=0.005623413251903491)</pre><b>In a Jupyter environment, please rerun this cell to show the HTML representation or trust the notebook. <br />On GitHub, the HTML representation is unable to render, please try loading this page with nbviewer.org.</b></div><div class=\"sk-container\" hidden><div class=\"sk-item\"><div class=\"sk-estimator sk-toggleable\"><input class=\"sk-toggleable__control sk-hidden--visually\" id=\"sk-estimator-id-9\" type=\"checkbox\" checked><label for=\"sk-estimator-id-9\" class=\"sk-toggleable__label sk-toggleable__label-arrow\">GaussianNB</label><div class=\"sk-toggleable__content\"><pre>GaussianNB(priors=[0.8, 0.2], var_smoothing=0.005623413251903491)</pre></div></div></div></div></div>"
      ],
      "text/plain": [
       "GaussianNB(priors=[0.8, 0.2], var_smoothing=0.005623413251903491)"
      ]
     },
     "execution_count": 131,
     "metadata": {},
     "output_type": "execute_result"
    }
   ],
   "source": [
    "best_gnb = GaussianNB(priors=[0.8, 0.2], var_smoothing=0.005623413251903491)\n",
    "best_gnb.fit(X_train, y_train)"
   ]
  },
  {
   "cell_type": "code",
   "execution_count": 132,
   "id": "b5ca485f-5a63-477e-8075-d2cfc6862152",
   "metadata": {},
   "outputs": [
    {
     "name": "stdout",
     "output_type": "stream",
     "text": [
      "Accuracy: 0.5510494114204804\n",
      "F1 Score: 0.677393978450134\n"
     ]
    }
   ],
   "source": [
    "y_pred = best_gnb.predict(X_test)\n",
    "accuracy = accuracy_score(y_pred, y_test)\n",
    "f1 = f1_score(y_pred, y_test, average=\"weighted\")\n",
    "\n",
    "print(\"Accuracy:\", accuracy)\n",
    "print(\"F1 Score:\", f1)"
   ]
  },
  {
   "cell_type": "markdown",
   "id": "644a51b9-d2ca-44c9-b237-20db6a5b6586",
   "metadata": {},
   "source": [
    "### Kesimpulan"
   ]
  },
  {
   "cell_type": "markdown",
   "id": "5443593d-8936-4e46-8980-da0612f35d6c",
   "metadata": {},
   "source": [
    "Dapat dilihat bahwa akurasi maksimum yang bisa didapatkan hanya sekitar 55.1%. Dengan demikian, bisa dibilang dataset ini kurang baik jika diaplikasikan menggunakan model Gauss. Terdapat beberapa faktor yang dapat mempengaruhi hal ini, seperti model dataset tersebut kurang mengikuti distribusi Gauss dan dataset cenderung kurang terdistribusi secara normal.\n",
    "\n",
    "Untuk mencoba melakukan performa, kami menggunakan GridSearchCV yang melakukan cross validation dengn fold = K. Dengan memasukan parameter, priors dan var_smoothing. Dengan demikian, model tersebut dapat terjadi peningkatan performa walaupun sangat kecil."
   ]
  }
 ],
 "metadata": {
  "kernelspec": {
   "display_name": "Python 3 (ipykernel)",
   "language": "python",
   "name": "python3"
  },
  "language_info": {
   "codemirror_mode": {
    "name": "ipython",
    "version": 3
   },
   "file_extension": ".py",
   "mimetype": "text/x-python",
   "name": "python",
   "nbconvert_exporter": "python",
   "pygments_lexer": "ipython3",
   "version": "3.11.4"
  }
 },
 "nbformat": 4,
 "nbformat_minor": 5
}
