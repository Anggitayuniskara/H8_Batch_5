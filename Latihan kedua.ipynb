{
 "cells": [
  {
   "cell_type": "code",
   "execution_count": 1,
   "id": "a33f9cd5-44b2-4514-99fa-80efbad01e71",
   "metadata": {
    "tags": []
   },
   "outputs": [
    {
     "name": "stdout",
     "output_type": "stream",
     "text": [
      "12345678910\n"
     ]
    }
   ],
   "source": [
    "print(12345678910)"
   ]
  },
  {
   "cell_type": "code",
   "execution_count": 2,
   "id": "1eabedd6-a249-43b5-910c-bdb8ef2b989f",
   "metadata": {
    "tags": []
   },
   "outputs": [
    {
     "data": {
      "text/plain": [
       "True"
      ]
     },
     "execution_count": 2,
     "metadata": {},
     "output_type": "execute_result"
    }
   ],
   "source": [
    "a = 2\n",
    "b = 2\n",
    "\n",
    "a == b \n",
    "a != b \n",
    "a > b \n",
    "a >= b \n",
    "a < b \n",
    "a <= b "
   ]
  },
  {
   "cell_type": "code",
   "execution_count": 6,
   "id": "a78ae49a-6d39-412b-8f42-dc2d2d5c90ae",
   "metadata": {
    "tags": []
   },
   "outputs": [
    {
     "name": "stdout",
     "output_type": "stream",
     "text": [
      "Yes\n",
      "Yes\n",
      "Yes\n"
     ]
    }
   ],
   "source": [
    "if a == b: \n",
    "    print('Yes')\n",
    "    \n",
    "if a != b:\n",
    "    print('Yes')\n",
    "    \n",
    "if a > b: \n",
    "    print('Yes') \n",
    "    \n",
    "if a >= b: \n",
    "    print('Yes')\n",
    "    \n",
    "if a < b: \n",
    "    print('Yes')\n",
    "    \n",
    "if a <= b:\n",
    "    print('Yes')"
   ]
  },
  {
   "cell_type": "code",
   "execution_count": 7,
   "id": "dedc4ad4-2e6d-4cb2-b4d9-19c1b037ba20",
   "metadata": {
    "tags": []
   },
   "outputs": [
    {
     "name": "stdout",
     "output_type": "stream",
     "text": [
      "yes\n",
      "yes\n",
      "yes\n",
      "yes\n"
     ]
    }
   ],
   "source": [
    "x = 0 \n",
    "y = 5 \n",
    "\n",
    "if x < y: \n",
    "    print('yes')\n",
    "if x > y: \n",
    "    print('yes')\n",
    "if x: \n",
    "    print('yes')\n",
    "if y:\n",
    "    print('yes')\n",
    "if 'ul' in 'gaul':\n",
    "    print('yes')\n",
    "if 'bu' in 'ibu':\n",
    "    print('yes')\n",
    "if 'ajik' in 'ibu': \n",
    "    print('yes')"
   ]
  },
  {
   "cell_type": "code",
   "execution_count": 8,
   "id": "e7c57e4a-07f3-4d52-8d79-ba01c661ce2a",
   "metadata": {
    "tags": []
   },
   "outputs": [
    {
     "name": "stdout",
     "output_type": "stream",
     "text": [
      "yes\n",
      "a lebih besar atau sama dengan b\n"
     ]
    }
   ],
   "source": [
    "if a == b: \n",
    "    print('yes')\n",
    "if a > b:\n",
    "    print('a lebih besar dari b')\n",
    "if a >= b:\n",
    "    print('a lebih besar atau sama dengan b') "
   ]
  },
  {
   "cell_type": "code",
   "execution_count": 9,
   "id": "78ea5757-bf0c-4eb1-a09e-fd3dea5b27f9",
   "metadata": {
    "tags": []
   },
   "outputs": [
    {
     "name": "stdout",
     "output_type": "stream",
     "text": [
      "After conditional\n"
     ]
    }
   ],
   "source": [
    "if 'foo' in ['bar', 'baz', 'qux']:\n",
    "    print('Expression was true')\n",
    "    print('Executing statement in suite')\n",
    "    print('....')\n",
    "    print('Done.')\n",
    "    \n",
    "print('After conditional')"
   ]
  },
  {
   "cell_type": "code",
   "execution_count": 10,
   "id": "7571bccd-e8ad-49bf-a59f-cc3af019ebba",
   "metadata": {
    "tags": []
   },
   "outputs": [
    {
     "name": "stdout",
     "output_type": "stream",
     "text": [
      "Outer condition is true\n",
      "Between inner condition\n",
      "Inner condition 2\n",
      "End of outer condition\n",
      "After outer condition\n"
     ]
    }
   ],
   "source": [
    "if 'foo' in ['foo', 'bar', 'baz']:\n",
    "    print('Outer condition is true')\n",
    "    \n",
    "    if 10 > 20:\n",
    "        print('Inner condition 1')\n",
    "    \n",
    "    print('Between inner condition')\n",
    "    \n",
    "    if 10 < 20:\n",
    "        print('Inner condition 2')\n",
    "    \n",
    "    print('End of outer condition')\n",
    "print('After outer condition')"
   ]
  },
  {
   "cell_type": "code",
   "execution_count": 11,
   "id": "f0360bbb-84da-48d0-a09b-6d8f572bbbf5",
   "metadata": {
    "tags": []
   },
   "outputs": [],
   "source": [
    "#if itu untuk decision making\n"
   ]
  },
  {
   "cell_type": "code",
   "execution_count": 12,
   "id": "86acf1ef-3444-4610-8048-063522443260",
   "metadata": {
    "tags": []
   },
   "outputs": [
    {
     "name": "stdout",
     "output_type": "stream",
     "text": [
      "yes\n",
      "a dan b sama\n",
      "paling bawah\n"
     ]
    }
   ],
   "source": [
    "a = 2\n",
    "b = 2\n",
    "\n",
    "if a == b:\n",
    "    print('yes')\n",
    "    print('a dan b sama')\n",
    "    \n",
    "    \n",
    "    \n",
    "    \n",
    "    print('paling bawah')"
   ]
  },
  {
   "cell_type": "code",
   "execution_count": 14,
   "id": "8cd67674-ffc2-4961-ae2d-b33b1b77ec4f",
   "metadata": {
    "tags": []
   },
   "outputs": [
    {
     "name": "stdout",
     "output_type": "stream",
     "text": [
      "jalankan else\n",
      "paling bawah\n"
     ]
    }
   ],
   "source": [
    "if a != b:\n",
    "    print('yes')\n",
    "    print('a dan b sama')\n",
    "else:\n",
    "    print('jalankan else')\n",
    "    \n",
    "print('paling bawah')"
   ]
  },
  {
   "cell_type": "code",
   "execution_count": 15,
   "id": "53903d0c-401a-4ac3-bab2-dabae0e3a538",
   "metadata": {
    "tags": []
   },
   "outputs": [
    {
     "name": "stdout",
     "output_type": "stream",
     "text": [
      "(first suite)\n",
      "x is small\n"
     ]
    }
   ],
   "source": [
    "x = 20 \n",
    "\n",
    "if x < 50:\n",
    "    print('(first suite)')\n",
    "    print('x is small')\n",
    "else: \n",
    "    print('(second suite)')\n",
    "    print('x is large')"
   ]
  },
  {
   "cell_type": "code",
   "execution_count": 16,
   "id": "438ccfb7-d616-43a1-800e-4351e9f76ca7",
   "metadata": {
    "tags": []
   },
   "outputs": [
    {
     "name": "stdout",
     "output_type": "stream",
     "text": [
      "uang tidak cukup\n"
     ]
    }
   ],
   "source": [
    "hargaBuku = 20000\n",
    "hargaMajalah = 5000\n",
    "uang = 2000\n",
    "\n",
    "if uang > hargaBuku:\n",
    "    print('beli buku')\n",
    "else:\n",
    "    print('uang tidak cukup')"
   ]
  },
  {
   "cell_type": "code",
   "execution_count": 17,
   "id": "805823be-e6de-4b34-9992-f5d5ace4196f",
   "metadata": {
    "tags": []
   },
   "outputs": [
    {
     "name": "stdout",
     "output_type": "stream",
     "text": [
      "uang tidak cukup\n"
     ]
    }
   ],
   "source": [
    "hargaBuku = 20000\n",
    "hargaMajalah = 5000\n",
    "uang = 2000\n",
    "\n",
    "if uang > hargaBuku:\n",
    "    print('beli buku')\n",
    "elif uang > hargaMajalah:\n",
    "    print('beli majalah')\n",
    "else:\n",
    "    print('uang tidak cukup')"
   ]
  },
  {
   "cell_type": "code",
   "execution_count": 20,
   "id": "f3da86b7-02df-4742-83a7-7e31ca567efd",
   "metadata": {
    "tags": []
   },
   "outputs": [
    {
     "name": "stdout",
     "output_type": "stream",
     "text": [
      "Hello Hacktiv8\n"
     ]
    }
   ],
   "source": [
    "yourName = 'Hacktiv8'\n",
    "\n",
    "if yourName == 'Fred':\n",
    "    print('Hello Fred')\n",
    "elif yourName == 'Xander':\n",
    "    print('Hello Xander')\n",
    "elif yourName == 'Hacktiv8':\n",
    "    print('Hello Hacktiv8')\n",
    "elif yourName == 'Arnold':\n",
    "    print('Hello Arnold')\n",
    "else:\n",
    "    print(\"I don't know who you are!\")"
   ]
  },
  {
   "cell_type": "code",
   "execution_count": 21,
   "id": "d4159934-658c-45b4-a73f-2b2cfb9a3b4e",
   "metadata": {
    "tags": []
   },
   "outputs": [
    {
     "name": "stdout",
     "output_type": "stream",
     "text": [
      "uang kamu cukup untuk membeli buku\n"
     ]
    }
   ],
   "source": [
    "harga_buku = 15000\n",
    "harga_majalah = 35000\n",
    "uang = 20000\n",
    "\n",
    "if uang >= harga_buku:\n",
    "    print('uang kamu cukup untuk membeli buku')\n",
    "elif uang >= harga_majalah:\n",
    "    print('uang kamu cukup untuk membeli majalah')\n",
    "else:\n",
    "    print('uang kamu tidak cukup untuk berbelanja, nabung lagi ya')"
   ]
  },
  {
   "cell_type": "code",
   "execution_count": null,
   "id": "dd7c231c-20cf-41a9-b440-0b6a4fbb124e",
   "metadata": {},
   "outputs": [],
   "source": []
  },
  {
   "cell_type": "code",
   "execution_count": 22,
   "id": "0af79860-4d9a-4e7a-941d-7256df7e3685",
   "metadata": {
    "tags": []
   },
   "outputs": [
    {
     "name": "stdout",
     "output_type": "stream",
     "text": [
      "uang kamu cukup untuk membeli buku\n"
     ]
    }
   ],
   "source": [
    "harga_buku = 15000\n",
    "harga_majalah = 35000\n",
    "uang = 15000\n",
    "\n",
    "if uang >= harga_buku:\n",
    "    print('uang kamu cukup untuk membeli buku')\n",
    "elif uang >= harga_majalah:\n",
    "    print('uang kamu cukup untuk membeli majalah')\n",
    "elif uang == harga_buku:\n",
    "    print('uang kamu cukup untuk membeli buku dan habis')\n",
    "else:\n",
    "    print('uang kamu tidak cukup untuk berbelanja, nabung lagi ya')"
   ]
  },
  {
   "cell_type": "code",
   "execution_count": 23,
   "id": "b0b6ebc6-9683-4281-9736-bc4e28979aa1",
   "metadata": {
    "tags": []
   },
   "outputs": [
    {
     "name": "stdout",
     "output_type": "stream",
     "text": [
      "1 kecil dari 2\n",
      "2 besar dari 1\n"
     ]
    }
   ],
   "source": [
    "if 1 < 2:\n",
    "    print('1 kecil dari 2')\n",
    "if 2 > 1:\n",
    "    print('2 besar dari 1')"
   ]
  },
  {
   "cell_type": "code",
   "execution_count": 24,
   "id": "10c4ca88-232b-4b79-bac9-4d37ae85ca01",
   "metadata": {
    "tags": []
   },
   "outputs": [
    {
     "name": "stdout",
     "output_type": "stream",
     "text": [
      "1 kecil dari 2\n",
      "1 kecil dari 2\n"
     ]
    }
   ],
   "source": [
    "if 1 < 2:\n",
    "    print('1 kecil dari 2')\n",
    "if 2 == 1:\n",
    "    print('2 sama dengan 1')\n",
    "elif 1 < 2:\n",
    "    print('1 kecil dari 2')"
   ]
  },
  {
   "cell_type": "code",
   "execution_count": 25,
   "id": "d2d53d94-7301-4549-a752-55e54b19e509",
   "metadata": {
    "tags": []
   },
   "outputs": [
    {
     "name": "stdout",
     "output_type": "stream",
     "text": [
      "yes\n"
     ]
    }
   ],
   "source": [
    "if 'a' in 'bar':\n",
    "    print('yes')\n",
    "elif 1/10:\n",
    "    print(\"this won't happen\")\n",
    "elif var:\n",
    "    print(\"this won't happen\")"
   ]
  },
  {
   "cell_type": "code",
   "execution_count": 27,
   "id": "0c5e5fd7-a726-421c-9be1-2dec56b07048",
   "metadata": {
    "tags": []
   },
   "outputs": [
    {
     "name": "stdout",
     "output_type": "stream",
     "text": [
      "1\n",
      "2\n",
      "3\n"
     ]
    }
   ],
   "source": [
    "#multiple statements \n",
    "if 'f' in 'foo': print('1'); print('2'); print('3')"
   ]
  },
  {
   "cell_type": "code",
   "execution_count": 27,
   "id": "daac20d9-337f-4203-9286-7d2c418bd1ba",
   "metadata": {
    "tags": []
   },
   "outputs": [
    {
     "name": "stdout",
     "output_type": "stream",
     "text": [
      "1\n",
      "2\n",
      "3\n"
     ]
    }
   ],
   "source": [
    "#multiple \n",
    "if 'f' in 'foo': print('1'); print('2'); print('3')"
   ]
  },
  {
   "cell_type": "code",
   "execution_count": 28,
   "id": "a2e2d0a3-a0a2-43fd-924c-fd9c1c30b695",
   "metadata": {
    "tags": []
   },
   "outputs": [],
   "source": [
    "if 'z' in 'foo': print('1'); print('2'); print('3')"
   ]
  },
  {
   "cell_type": "code",
   "execution_count": 29,
   "id": "3c84e5ab-d0f8-419b-90d6-08a2c5e4c0d4",
   "metadata": {
    "tags": []
   },
   "outputs": [
    {
     "name": "stdout",
     "output_type": "stream",
     "text": [
      "ada\n",
      "a\n",
      "dalam\n",
      "bara\n"
     ]
    }
   ],
   "source": [
    "if 'a' in 'bara' : print('ada');print('a');print('dalam');print('bara')"
   ]
  },
  {
   "cell_type": "code",
   "execution_count": 31,
   "id": "c7fa23f1-d189-43c1-98fd-cadf769a095e",
   "metadata": {
    "tags": []
   },
   "outputs": [
    {
     "name": "stdout",
     "output_type": "stream",
     "text": [
      "qux\n",
      "quux\n"
     ]
    }
   ],
   "source": [
    "#multiple statements pake baris yang sama sebagai elif atau else \n",
    "x = 2\n",
    "\n",
    "if x == 1 : print('foo'); print('bar'); print('baz')\n",
    "elif x == 2 : print('qux'); print('quux')\n",
    "else : print('corge'); print('grault') "
   ]
  },
  {
   "cell_type": "code",
   "execution_count": 32,
   "id": "629b6d2b-9fff-4df0-a45f-fbfe14b1c60b",
   "metadata": {
    "tags": []
   },
   "outputs": [
    {
     "name": "stdout",
     "output_type": "stream",
     "text": [
      "corge\n",
      "grault\n"
     ]
    }
   ],
   "source": [
    "#tdk disarankan seperti ini karena jadi susah dibaca\n",
    "x = 3 \n",
    "\n",
    "if x == 1 : print('foo'); print('bar'); print('baz')\n",
    "elif x == 2 : print('qux'); print('quux')\n",
    "else : print('corge'); print('grault')"
   ]
  },
  {
   "cell_type": "code",
   "execution_count": 33,
   "id": "800a1445-6af1-40af-9c0f-66bdce461d2e",
   "metadata": {
    "tags": []
   },
   "outputs": [
    {
     "name": "stdout",
     "output_type": "stream",
     "text": [
      "corge\n",
      "grault\n"
     ]
    }
   ],
   "source": [
    "#masih multiple statements \n",
    "x = 3\n",
    "\n",
    "if x == 1:\n",
    "    print('foo')\n",
    "    print('bar')\n",
    "    print('baz')\n",
    "elif x == 2: \n",
    "    print('qux')\n",
    "    print('quux')\n",
    "else: \n",
    "    print('corge')\n",
    "    print('grault') "
   ]
  },
  {
   "cell_type": "code",
   "execution_count": 34,
   "id": "5844cdeb-4d87-4785-88c8-1cf89493ebdf",
   "metadata": {
    "tags": []
   },
   "outputs": [
    {
     "name": "stdout",
     "output_type": "stream",
     "text": [
      "Let's go to the beach\n"
     ]
    }
   ],
   "source": [
    "#pep itu guideline buat python\n",
    "#conditional expression\n",
    "\n",
    "raining = False \n",
    "print(\"Let's go to the\", 'beach' if not raining else 'library')"
   ]
  },
  {
   "cell_type": "code",
   "execution_count": 35,
   "id": "f7b6aaee-06fb-418e-9327-e29e1c87ec47",
   "metadata": {
    "tags": []
   },
   "outputs": [
    {
     "name": "stdout",
     "output_type": "stream",
     "text": [
      "let's go to the library\n"
     ]
    }
   ],
   "source": [
    "raining = True \n",
    "print(\"let's go to the\", 'beach' if not raining else 'library')"
   ]
  },
  {
   "cell_type": "code",
   "execution_count": 37,
   "id": "2a9291fc-1866-46e6-8b50-541887b5339f",
   "metadata": {
    "tags": []
   },
   "outputs": [
    {
     "data": {
      "text/plain": [
       "'teen'"
      ]
     },
     "execution_count": 37,
     "metadata": {},
     "output_type": "execute_result"
    }
   ],
   "source": [
    "age = 12 \n",
    "s = 'teen' if age < 21 else 'adult'\n",
    "s"
   ]
  },
  {
   "cell_type": "code",
   "execution_count": 38,
   "id": "23944423-c9d7-4966-accf-ffd4055f55a9",
   "metadata": {
    "tags": []
   },
   "outputs": [
    {
     "name": "stdout",
     "output_type": "stream",
     "text": [
      "teen\n"
     ]
    }
   ],
   "source": [
    "age = 12 \n",
    "print('teen' if age <21 else 'adult')"
   ]
  },
  {
   "cell_type": "code",
   "execution_count": 39,
   "id": "d24c0675-7091-4fa8-b842-aca48c00981a",
   "metadata": {
    "tags": []
   },
   "outputs": [
    {
     "data": {
      "text/plain": [
       "'no'"
      ]
     },
     "execution_count": 39,
     "metadata": {},
     "output_type": "execute_result"
    }
   ],
   "source": [
    "'yes' if ('qux' in ['foo', 'bar', 'baz']) else 'no'"
   ]
  },
  {
   "cell_type": "code",
   "execution_count": 42,
   "id": "b962439e-0bcd-4e40-a61b-b66dd4df2dc8",
   "metadata": {
    "tags": []
   },
   "outputs": [
    {
     "data": {
      "text/plain": [
       "2"
      ]
     },
     "execution_count": 42,
     "metadata": {},
     "output_type": "execute_result"
    }
   ],
   "source": [
    "#bentuk pertama conditional exp\n",
    "if a > b: \n",
    "    m = a \n",
    "else:\n",
    "    m = b\n",
    "    \n",
    "#bentuk kedua \n",
    "m = a if a > b else b \n",
    "m"
   ]
  },
  {
   "cell_type": "code",
   "execution_count": 43,
   "id": "ae3bea70-5eb4-4244-9ffe-c0b630c06997",
   "metadata": {
    "tags": []
   },
   "outputs": [
    {
     "data": {
      "text/plain": [
       "2"
      ]
     },
     "execution_count": 43,
     "metadata": {},
     "output_type": "execute_result"
    }
   ],
   "source": [
    "a"
   ]
  },
  {
   "cell_type": "code",
   "execution_count": 44,
   "id": "14aee4d9-d1d7-4c20-85d1-af89144b38c5",
   "metadata": {
    "tags": []
   },
   "outputs": [
    {
     "data": {
      "text/plain": [
       "2"
      ]
     },
     "execution_count": 44,
     "metadata": {},
     "output_type": "execute_result"
    }
   ],
   "source": [
    "b"
   ]
  },
  {
   "cell_type": "code",
   "execution_count": 45,
   "id": "81ca9c90-c7a0-4f65-a847-747797fa1b3b",
   "metadata": {
    "tags": []
   },
   "outputs": [
    {
     "data": {
      "text/plain": [
       "3"
      ]
     },
     "execution_count": 45,
     "metadata": {},
     "output_type": "execute_result"
    }
   ],
   "source": [
    "a = 2 \n",
    "b = 3\n",
    "\n",
    "if a > b:\n",
    "    m = a\n",
    "else: \n",
    "    m = b \n",
    "    \n",
    "#atau \n",
    "\n",
    "m = a if a > b else b \n",
    "m "
   ]
  },
  {
   "cell_type": "code",
   "execution_count": 46,
   "id": "f3cf491a-e96a-464b-ac26-987f625558a9",
   "metadata": {
    "tags": []
   },
   "outputs": [],
   "source": [
    "if True:\n",
    "    pass \n",
    "elif True:\n",
    "    print('y')\n",
    "#karna atas dan bawah sama sama 'true' maka yang dijalankan hanya yang paling atas, krn python tdk akan ngecek ke bawah kalau diatas udh ditemuin true, dan kenapa gaada hasilnya? itu karena statement dari expression pertama adalah 'pass'"
   ]
  },
  {
   "cell_type": "code",
   "execution_count": 47,
   "id": "b181a632-9d76-46d9-93cc-1ab3e632ebc3",
   "metadata": {
    "tags": []
   },
   "outputs": [],
   "source": [
    "#while loops dan for loops "
   ]
  },
  {
   "cell_type": "code",
   "execution_count": 48,
   "id": "1304d9b2-b665-45de-a389-76067e92146f",
   "metadata": {
    "tags": []
   },
   "outputs": [
    {
     "ename": "IndentationError",
     "evalue": "unexpected indent (1528907665.py, line 4)",
     "output_type": "error",
     "traceback": [
      "\u001b[1;36m  Cell \u001b[1;32mIn[48], line 4\u001b[1;36m\u001b[0m\n\u001b[1;33m    print('this is a loop')\u001b[0m\n\u001b[1;37m    ^\u001b[0m\n\u001b[1;31mIndentationError\u001b[0m\u001b[1;31m:\u001b[0m unexpected indent\n"
     ]
    }
   ],
   "source": [
    "#WHILE LOOPS ATAU INFINITE LOOPS \n",
    "\n",
    "# ini contoh yg looping trs trsan while True:\n",
    "    print('this is a loop')"
   ]
  },
  {
   "cell_type": "code",
   "execution_count": 49,
   "id": "009132d0-f7c7-421e-9bee-cc5592551036",
   "metadata": {
    "tags": []
   },
   "outputs": [
    {
     "name": "stdout",
     "output_type": "stream",
     "text": [
      "4\n",
      "3\n",
      "2\n",
      "1\n",
      "0\n"
     ]
    }
   ],
   "source": [
    "n = 5 \n",
    "while n > 0: \n",
    "    n = n -1 \n",
    "    print(n)"
   ]
  },
  {
   "cell_type": "code",
   "execution_count": 50,
   "id": "e58dafdb-1e52-4ea4-a046-a6f86cc03f16",
   "metadata": {
    "tags": []
   },
   "outputs": [
    {
     "name": "stdout",
     "output_type": "stream",
     "text": [
      "3\n",
      "5\n",
      "7\n"
     ]
    }
   ],
   "source": [
    "i = 1\n",
    "while i < 6: \n",
    "    i = i+2\n",
    "    print(i)"
   ]
  },
  {
   "cell_type": "code",
   "execution_count": 51,
   "id": "1a371ddc-8d0a-4aaf-9a2d-8f6eaff970a0",
   "metadata": {
    "tags": []
   },
   "outputs": [
    {
     "name": "stdout",
     "output_type": "stream",
     "text": [
      "3\n"
     ]
    }
   ],
   "source": [
    "i = 1\n",
    "while i < 6:\n",
    "    i = i+2 \n",
    "    print(i)\n",
    "    break"
   ]
  },
  {
   "cell_type": "code",
   "execution_count": 55,
   "id": "8b9b88cd-27fb-427d-a3db-5c77e2b10ed6",
   "metadata": {
    "tags": []
   },
   "outputs": [
    {
     "name": "stdout",
     "output_type": "stream",
     "text": [
      "3\n",
      "5\n"
     ]
    }
   ],
   "source": [
    "i = 1\n",
    "while i < 6:\n",
    "    i = i+2\n",
    "    print(i) \n",
    "    \n",
    "    if i == 5:\n",
    "        break"
   ]
  },
  {
   "cell_type": "code",
   "execution_count": 57,
   "id": "d9108c74-fa31-496f-beda-a2d54dedda9d",
   "metadata": {
    "tags": []
   },
   "outputs": [
    {
     "name": "stdout",
     "output_type": "stream",
     "text": [
      "4\n",
      "3\n",
      "loop ended.\n"
     ]
    }
   ],
   "source": [
    "n = 5\n",
    "while n > 0:\n",
    "    n = n-1\n",
    "    \n",
    "    if n == 2:\n",
    "        break\n",
    "    \n",
    "    print(n)\n",
    "print('loop ended.')"
   ]
  },
  {
   "cell_type": "code",
   "execution_count": 58,
   "id": "cdf9fa19-918e-40ca-a230-92f8377a3de9",
   "metadata": {
    "tags": []
   },
   "outputs": [
    {
     "name": "stdout",
     "output_type": "stream",
     "text": [
      "4\n",
      "2\n",
      "1\n",
      "0\n",
      "loop ended.\n"
     ]
    }
   ],
   "source": [
    "n = 5 \n",
    "while n > 0:\n",
    "    n = n-1\n",
    "    \n",
    "    if n == 3:\n",
    "        continue\n",
    "    print(n)\n",
    "print('loop ended.')"
   ]
  },
  {
   "cell_type": "code",
   "execution_count": 59,
   "id": "9cc455a6-b80d-40ec-9822-eedf8e0d584d",
   "metadata": {
    "tags": []
   },
   "outputs": [
    {
     "name": "stdout",
     "output_type": "stream",
     "text": [
      "4\n",
      "2\n",
      "1\n",
      "0\n",
      "while loop selesai\n",
      "ini print di luar loop\n"
     ]
    }
   ],
   "source": [
    "n = 5 \n",
    "while n > 0:\n",
    "    n = n-1\n",
    "    \n",
    "    if n == 3:\n",
    "        continue\n",
    "    print(n)\n",
    "\n",
    "else: \n",
    "    print('while loop selesai')\n",
    "\n",
    "print('ini print di luar loop')"
   ]
  },
  {
   "cell_type": "code",
   "execution_count": 63,
   "id": "2454c295-84f3-4575-9f99-69430c5cc8fc",
   "metadata": {
    "tags": []
   },
   "outputs": [
    {
     "name": "stdout",
     "output_type": "stream",
     "text": [
      "mother\n"
     ]
    }
   ],
   "source": [
    "#NESTED\n",
    "#jd bisa naro loop di dalam loop \n",
    "\n",
    "age = 25\n",
    "gender = 'P'\n",
    "\n",
    "if age < 18:\n",
    "    if gender == 'M':\n",
    "        print('son')\n",
    "    else:\n",
    "        print('daughter')\n",
    "elif age >= 18 and age <65: \n",
    "    if gender == 'M':\n",
    "        print('father')\n",
    "    else:\n",
    "        print('mother')\n",
    "else: \n",
    "    if gender == 'M': \n",
    "        print('grandfather')\n",
    "    else:\n",
    "        print('grandmother') \n"
   ]
  },
  {
   "cell_type": "code",
   "execution_count": 64,
   "id": "b355e5fc-dba6-41fa-8425-14e29b3bdf0a",
   "metadata": {
    "tags": []
   },
   "outputs": [
    {
     "name": "stdout",
     "output_type": "stream",
     "text": [
      "foo\n",
      "> baz\n",
      "> qux\n",
      "bar\n",
      "> baz\n",
      "> qux\n"
     ]
    }
   ],
   "source": [
    "a = ['foo', 'bar']\n",
    "\n",
    "while len(a):\n",
    "    print(a.pop(0))\n",
    "    \n",
    "    b = ['baz', 'qux']\n",
    "    while len(b): \n",
    "        print('>', b.pop(0))"
   ]
  },
  {
   "cell_type": "code",
   "execution_count": 65,
   "id": "ad5593a6-50ca-435f-807b-0f82a2fe95a3",
   "metadata": {
    "tags": []
   },
   "outputs": [
    {
     "name": "stdout",
     "output_type": "stream",
     "text": [
      "4\n",
      "3\n",
      "2\n",
      "1\n",
      "0\n"
     ]
    }
   ],
   "source": [
    "#bisa dibuat one line\n",
    "n = 5 \n",
    "while n>0: n= n -1; print(n)"
   ]
  },
  {
   "cell_type": "code",
   "execution_count": 66,
   "id": "4e8114ea-2730-48f4-ac35-c4d281cf69fb",
   "metadata": {
    "tags": []
   },
   "outputs": [
    {
     "name": "stdout",
     "output_type": "stream",
     "text": [
      "foo\n",
      "bar\n",
      "baz\n"
     ]
    }
   ],
   "source": [
    "a = ['foo', 'bar', 'baz']\n",
    "for i in a:\n",
    "    print(i)"
   ]
  },
  {
   "cell_type": "code",
   "execution_count": 67,
   "id": "96281bc9-31ae-430e-8e81-9be26b0f7b1c",
   "metadata": {
    "tags": []
   },
   "outputs": [
    {
     "name": "stdout",
     "output_type": "stream",
     "text": [
      "foo\n",
      "bar\n",
      "baz\n"
     ]
    }
   ],
   "source": [
    "d = {'foo':1, 'bar':2, 'baz':3}\n",
    "for k in d:\n",
    "    print(k)"
   ]
  },
  {
   "cell_type": "code",
   "execution_count": 68,
   "id": "d36323be-1242-4c6b-b551-37145a55fbff",
   "metadata": {
    "tags": []
   },
   "outputs": [
    {
     "name": "stdout",
     "output_type": "stream",
     "text": [
      "1\n",
      "2\n",
      "3\n"
     ]
    }
   ],
   "source": [
    "for k in d:\n",
    "    print(d[k])"
   ]
  },
  {
   "cell_type": "code",
   "execution_count": 69,
   "id": "9be6fb2c-c9d1-46d7-bc5d-7ac405b3641d",
   "metadata": {
    "tags": []
   },
   "outputs": [
    {
     "name": "stdout",
     "output_type": "stream",
     "text": [
      "1\n",
      "2\n",
      "3\n"
     ]
    }
   ],
   "source": [
    "a = {'foo':1, 'bar':2, 'buzz':3}\n",
    "for i in a.values():\n",
    "    print(i)"
   ]
  },
  {
   "cell_type": "code",
   "execution_count": 70,
   "id": "7baa5477-8964-440d-aec9-4f4a12a04c6b",
   "metadata": {
    "tags": []
   },
   "outputs": [
    {
     "data": {
      "text/plain": [
       "dict_items([('foo', 1), ('bar', 2), ('buzz', 3)])"
      ]
     },
     "execution_count": 70,
     "metadata": {},
     "output_type": "execute_result"
    }
   ],
   "source": [
    "a.items()"
   ]
  },
  {
   "cell_type": "code",
   "execution_count": 71,
   "id": "6d25c270-c3d7-4b2a-beab-7ffbb11bbcf6",
   "metadata": {
    "tags": []
   },
   "outputs": [
    {
     "name": "stdout",
     "output_type": "stream",
     "text": [
      "foo : 1\n",
      "bar : 2\n",
      "buzz : 3\n"
     ]
    }
   ],
   "source": [
    "for i,j in a.items():\n",
    "    print(i, \":\", j)"
   ]
  },
  {
   "cell_type": "code",
   "execution_count": 72,
   "id": "09685ae5-cc3a-4780-8e47-547f5b0af15e",
   "metadata": {
    "tags": []
   },
   "outputs": [
    {
     "name": "stdout",
     "output_type": "stream",
     "text": [
      "0\n",
      "1\n",
      "2\n",
      "3\n",
      "4\n"
     ]
    }
   ],
   "source": [
    "for i in range(5):\n",
    "    print(i)"
   ]
  },
  {
   "cell_type": "code",
   "execution_count": 74,
   "id": "1634b8b5-e240-43d1-a273-cdf4d3449f1a",
   "metadata": {
    "tags": []
   },
   "outputs": [
    {
     "name": "stdout",
     "output_type": "stream",
     "text": [
      "0\n",
      "1\n",
      "2\n",
      "3\n",
      "4\n"
     ]
    }
   ],
   "source": [
    "x = range(5)\n",
    "for n in x:\n",
    "    print(n)"
   ]
  },
  {
   "cell_type": "code",
   "execution_count": 77,
   "id": "045174f1-c9eb-4780-9bf5-13aff2ee5664",
   "metadata": {
    "tags": []
   },
   "outputs": [
    {
     "name": "stdout",
     "output_type": "stream",
     "text": [
      "0\n",
      "1\n",
      "2\n",
      "3\n",
      "4\n"
     ]
    }
   ],
   "source": [
    "#       start, stop, step\n",
    "for i in range(0,5,1):\n",
    "    print(i)\n",
    "\n",
    "#standarnya start itu dimulai 0 dan step itu 1 "
   ]
  },
  {
   "cell_type": "code",
   "execution_count": 78,
   "id": "0d3b097c-b224-4b43-a1fc-fd43e4ff23bc",
   "metadata": {
    "tags": []
   },
   "outputs": [
    {
     "name": "stdout",
     "output_type": "stream",
     "text": [
      "1\n",
      "3\n",
      "5\n",
      "7\n",
      "9\n",
      "11\n",
      "13\n",
      "15\n",
      "17\n",
      "19\n"
     ]
    }
   ],
   "source": [
    "for i in range(1,20,2):\n",
    "    print(i)"
   ]
  },
  {
   "cell_type": "code",
   "execution_count": 79,
   "id": "7da11953-f1f3-4e82-a94b-f06543363e51",
   "metadata": {
    "tags": []
   },
   "outputs": [
    {
     "name": "stdout",
     "output_type": "stream",
     "text": [
      "1\n",
      "5\n",
      "9\n",
      "13\n",
      "17\n"
     ]
    }
   ],
   "source": [
    "for i in range(1,20,4):\n",
    "    print(i)"
   ]
  },
  {
   "cell_type": "code",
   "execution_count": 81,
   "id": "a53a0206-dc56-4445-a05b-e23375e5154f",
   "metadata": {
    "tags": []
   },
   "outputs": [
    {
     "name": "stdout",
     "output_type": "stream",
     "text": [
      "20\n",
      "18\n",
      "16\n",
      "14\n",
      "12\n",
      "10\n",
      "8\n",
      "6\n",
      "4\n",
      "2\n"
     ]
    }
   ],
   "source": [
    "for i in range(20,1,-2):\n",
    "    print(i)"
   ]
  },
  {
   "cell_type": "code",
   "execution_count": 82,
   "id": "da32acd5-ca10-4e47-bd2b-a7ae0f22ea38",
   "metadata": {
    "tags": []
   },
   "outputs": [
    {
     "name": "stdout",
     "output_type": "stream",
     "text": [
      "20\n",
      "19\n",
      "18\n",
      "17\n",
      "16\n"
     ]
    }
   ],
   "source": [
    "for i in range(20,1,-1):\n",
    "    if i == 15:\n",
    "        break\n",
    "    print(i)\n",
    "else:\n",
    "    print('yes')"
   ]
  },
  {
   "cell_type": "code",
   "execution_count": 90,
   "id": "862381b3-696d-4e07-a357-97857979e1e5",
   "metadata": {
    "tags": []
   },
   "outputs": [
    {
     "name": "stdout",
     "output_type": "stream",
     "text": [
      "4\n",
      "3\n"
     ]
    }
   ],
   "source": [
    "a = 5\n",
    "while a>0:\n",
    "    a = a -1\n",
    "    if a == 2:\n",
    "        break\n",
    "    print(a)\n",
    "\n",
    "else:\n",
    "    print('selesai')"
   ]
  },
  {
   "cell_type": "code",
   "execution_count": 91,
   "id": "40f77598-3736-42c8-beb5-2486de90f857",
   "metadata": {
    "tags": []
   },
   "outputs": [
    {
     "name": "stdin",
     "output_type": "stream",
     "text": [
      "siapa nama kamu? anggi\n"
     ]
    },
    {
     "name": "stdout",
     "output_type": "stream",
     "text": [
      "anggi\n"
     ]
    }
   ],
   "source": [
    "nama = input('siapa nama kamu?')\n",
    "print(nama)"
   ]
  },
  {
   "cell_type": "code",
   "execution_count": 93,
   "id": "8f3f1a80-dd62-4aa8-b13f-7bc9a1260083",
   "metadata": {
    "tags": []
   },
   "outputs": [
    {
     "name": "stdin",
     "output_type": "stream",
     "text": [
      "Ketikan temperatur yang ingin dikonversi, eg. 45F, 120C:  100\n"
     ]
    },
    {
     "name": "stdout",
     "output_type": "stream",
     "text": [
      "Masukan data yang benar\n"
     ]
    },
    {
     "ename": "NameError",
     "evalue": "name 'result' is not defined",
     "output_type": "error",
     "traceback": [
      "\u001b[1;31m---------------------------------------------------------------------------\u001b[0m",
      "\u001b[1;31mNameError\u001b[0m                                 Traceback (most recent call last)",
      "Cell \u001b[1;32mIn[93], line 11\u001b[0m\n\u001b[0;32m      9\u001b[0m \u001b[38;5;28;01melse\u001b[39;00m: \n\u001b[0;32m     10\u001b[0m     \u001b[38;5;28mprint\u001b[39m(\u001b[38;5;124m\"\u001b[39m\u001b[38;5;124mMasukan data yang benar\u001b[39m\u001b[38;5;124m\"\u001b[39m)\n\u001b[1;32m---> 11\u001b[0m \u001b[38;5;28mprint\u001b[39m(\u001b[38;5;124m\"\u001b[39m\u001b[38;5;124mtemperaturnya adalah\u001b[39m\u001b[38;5;124m\"\u001b[39m, result, \u001b[38;5;124m'\u001b[39m\u001b[38;5;124mderajat\u001b[39m\u001b[38;5;124m'\u001b[39m)\n",
      "\u001b[1;31mNameError\u001b[0m: name 'result' is not defined"
     ]
    }
   ],
   "source": [
    "temp = input(\"Ketikan temperatur yang ingin dikonversi, eg. 45F, 120C: \")\n",
    "degree = int(temp[:-1])\n",
    "i_convertion = temp[-1]\n",
    "\n",
    "if i_convertion == \"C\":\n",
    "    result = int(round ((9* degree) / 5 + 32))\n",
    "elif i_convertion == \"F\":\n",
    "    result = int(round ((degree - 32) * 5/9))\n",
    "else: \n",
    "    print(\"Masukan data yang benar\")\n",
    "print(\"temperaturnya adalah\", result, 'derajat') "
   ]
  },
  {
   "cell_type": "code",
   "execution_count": 95,
   "id": "4336b513-d7ac-4988-ad5e-4fa614ad0183",
   "metadata": {
    "tags": []
   },
   "outputs": [
    {
     "name": "stdin",
     "output_type": "stream",
     "text": [
      "masukkan password kamu: 1234\n",
      "masukkan password kamu: hacktiv8\n",
      "masukkan password kamu: hacktiv8\n",
      "masukkan password kamu: 111\n",
      "masukkan password kamu: \n",
      "masukkan password kamu: \n"
     ]
    },
    {
     "ename": "KeyboardInterrupt",
     "evalue": "Interrupted by user",
     "output_type": "error",
     "traceback": [
      "\u001b[1;31m---------------------------------------------------------------------------\u001b[0m",
      "\u001b[1;31mKeyboardInterrupt\u001b[0m                         Traceback (most recent call last)",
      "Cell \u001b[1;32mIn[95], line 2\u001b[0m\n\u001b[0;32m      1\u001b[0m \u001b[38;5;28;01mwhile\u001b[39;00m \u001b[38;5;28;01mTrue\u001b[39;00m:\n\u001b[1;32m----> 2\u001b[0m     password \u001b[38;5;241m=\u001b[39m \u001b[38;5;28minput\u001b[39m(\u001b[38;5;124m'\u001b[39m\u001b[38;5;124mmasukkan password kamu:\u001b[39m\u001b[38;5;124m'\u001b[39m)\n\u001b[0;32m      3\u001b[0m \u001b[38;5;28;01mif\u001b[39;00m password \u001b[38;5;241m==\u001b[39m \u001b[38;5;124m'\u001b[39m\u001b[38;5;124mhacktiv8\u001b[39m\u001b[38;5;124m'\u001b[39m:\n\u001b[0;32m      4\u001b[0m     \u001b[38;5;28;01mbreak\u001b[39;00m\n",
      "File \u001b[1;32m~\\anaconda3\\Lib\\site-packages\\ipykernel\\kernelbase.py:1175\u001b[0m, in \u001b[0;36mKernel.raw_input\u001b[1;34m(self, prompt)\u001b[0m\n\u001b[0;32m   1171\u001b[0m \u001b[38;5;28;01mif\u001b[39;00m \u001b[38;5;129;01mnot\u001b[39;00m \u001b[38;5;28mself\u001b[39m\u001b[38;5;241m.\u001b[39m_allow_stdin:\n\u001b[0;32m   1172\u001b[0m     \u001b[38;5;28;01mraise\u001b[39;00m StdinNotImplementedError(\n\u001b[0;32m   1173\u001b[0m         \u001b[38;5;124m\"\u001b[39m\u001b[38;5;124mraw_input was called, but this frontend does not support input requests.\u001b[39m\u001b[38;5;124m\"\u001b[39m\n\u001b[0;32m   1174\u001b[0m     )\n\u001b[1;32m-> 1175\u001b[0m \u001b[38;5;28;01mreturn\u001b[39;00m \u001b[38;5;28mself\u001b[39m\u001b[38;5;241m.\u001b[39m_input_request(\n\u001b[0;32m   1176\u001b[0m     \u001b[38;5;28mstr\u001b[39m(prompt),\n\u001b[0;32m   1177\u001b[0m     \u001b[38;5;28mself\u001b[39m\u001b[38;5;241m.\u001b[39m_parent_ident[\u001b[38;5;124m\"\u001b[39m\u001b[38;5;124mshell\u001b[39m\u001b[38;5;124m\"\u001b[39m],\n\u001b[0;32m   1178\u001b[0m     \u001b[38;5;28mself\u001b[39m\u001b[38;5;241m.\u001b[39mget_parent(\u001b[38;5;124m\"\u001b[39m\u001b[38;5;124mshell\u001b[39m\u001b[38;5;124m\"\u001b[39m),\n\u001b[0;32m   1179\u001b[0m     password\u001b[38;5;241m=\u001b[39m\u001b[38;5;28;01mFalse\u001b[39;00m,\n\u001b[0;32m   1180\u001b[0m )\n",
      "File \u001b[1;32m~\\anaconda3\\Lib\\site-packages\\ipykernel\\kernelbase.py:1217\u001b[0m, in \u001b[0;36mKernel._input_request\u001b[1;34m(self, prompt, ident, parent, password)\u001b[0m\n\u001b[0;32m   1214\u001b[0m             \u001b[38;5;28;01mbreak\u001b[39;00m\n\u001b[0;32m   1215\u001b[0m \u001b[38;5;28;01mexcept\u001b[39;00m \u001b[38;5;167;01mKeyboardInterrupt\u001b[39;00m:\n\u001b[0;32m   1216\u001b[0m     \u001b[38;5;66;03m# re-raise KeyboardInterrupt, to truncate traceback\u001b[39;00m\n\u001b[1;32m-> 1217\u001b[0m     \u001b[38;5;28;01mraise\u001b[39;00m \u001b[38;5;167;01mKeyboardInterrupt\u001b[39;00m(\u001b[38;5;124m\"\u001b[39m\u001b[38;5;124mInterrupted by user\u001b[39m\u001b[38;5;124m\"\u001b[39m) \u001b[38;5;28;01mfrom\u001b[39;00m \u001b[38;5;28;01mNone\u001b[39;00m\n\u001b[0;32m   1218\u001b[0m \u001b[38;5;28;01mexcept\u001b[39;00m \u001b[38;5;167;01mException\u001b[39;00m:\n\u001b[0;32m   1219\u001b[0m     \u001b[38;5;28mself\u001b[39m\u001b[38;5;241m.\u001b[39mlog\u001b[38;5;241m.\u001b[39mwarning(\u001b[38;5;124m\"\u001b[39m\u001b[38;5;124mInvalid Message:\u001b[39m\u001b[38;5;124m\"\u001b[39m, exc_info\u001b[38;5;241m=\u001b[39m\u001b[38;5;28;01mTrue\u001b[39;00m)\n",
      "\u001b[1;31mKeyboardInterrupt\u001b[0m: Interrupted by user"
     ]
    }
   ],
   "source": [
    "while True:\n",
    "    password = input('masukkan password kamu:')\n",
    "    \n",
    "    if password == 'hacktiv8':\n",
    "        break\n",
    "    else:\n",
    "    print('password yang kamu masukkan salah')"
   ]
  },
  {
   "cell_type": "code",
   "execution_count": 96,
   "id": "e48c02e8-cf7b-4193-9b90-d86bba787619",
   "metadata": {
    "tags": []
   },
   "outputs": [
    {
     "name": "stdin",
     "output_type": "stream",
     "text": [
      "masukan password kamu: 1234\n"
     ]
    },
    {
     "name": "stdout",
     "output_type": "stream",
     "text": [
      "password yang kamu masukan salah\n"
     ]
    },
    {
     "name": "stdin",
     "output_type": "stream",
     "text": [
      "masukan password kamu: hacktiv8\n"
     ]
    }
   ],
   "source": [
    "while True:\n",
    "    password = input('masukan password kamu:')\n",
    "    \n",
    "    if password == 'hacktiv8':\n",
    "        break\n",
    "    else:\n",
    "        print('password yang kamu masukan salah')"
   ]
  },
  {
   "cell_type": "code",
   "execution_count": null,
   "id": "36e6d618-66b6-41a2-82b1-8af339f452de",
   "metadata": {},
   "outputs": [],
   "source": []
  }
 ],
 "metadata": {
  "kernelspec": {
   "display_name": "Python 3 (ipykernel)",
   "language": "python",
   "name": "python3"
  },
  "language_info": {
   "codemirror_mode": {
    "name": "ipython",
    "version": 3
   },
   "file_extension": ".py",
   "mimetype": "text/x-python",
   "name": "python",
   "nbconvert_exporter": "python",
   "pygments_lexer": "ipython3",
   "version": "3.11.4"
  }
 },
 "nbformat": 4,
 "nbformat_minor": 5
}
