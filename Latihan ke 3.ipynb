{
 "cells": [
  {
   "cell_type": "code",
   "execution_count": 5,
   "id": "5a027362-11f5-4987-9bce-b82ae7b54b90",
   "metadata": {
    "tags": []
   },
   "outputs": [],
   "source": [
    "def halo(b):\n",
    "    'function ini akan menyapa kamu yang sedang sedih'\n",
    "    a = f'halo {b} yang patah hati'\n",
    "    return a"
   ]
  },
  {
   "cell_type": "code",
   "execution_count": 6,
   "id": "fd8a4f6e-efcb-4a00-8b6b-358eb0066a9b",
   "metadata": {
    "tags": []
   },
   "outputs": [
    {
     "data": {
      "text/plain": [
       "'halo anggi yang patah hati'"
      ]
     },
     "execution_count": 6,
     "metadata": {},
     "output_type": "execute_result"
    }
   ],
   "source": [
    "halo('anggi')"
   ]
  },
  {
   "cell_type": "code",
   "execution_count": 7,
   "id": "d4018009-a82c-48c1-b6e0-ef31777ba65d",
   "metadata": {
    "tags": []
   },
   "outputs": [],
   "source": [
    "def helo(b,v):\n",
    "    'function ini akan menyapa kamu yang sedang sedih'\n",
    "    g = f'halo {b} yang patah hati dan {v} yang berbahagia'\n",
    "    return g"
   ]
  },
  {
   "cell_type": "code",
   "execution_count": 8,
   "id": "30dff531-251f-47c6-be56-55e4bd5c233b",
   "metadata": {
    "tags": []
   },
   "outputs": [
    {
     "data": {
      "text/plain": [
       "'halo anggi yang patah hati dan sinta yang berbahagia'"
      ]
     },
     "execution_count": 8,
     "metadata": {},
     "output_type": "execute_result"
    }
   ],
   "source": [
    "helo('anggi', 'sinta')"
   ]
  },
  {
   "cell_type": "code",
   "execution_count": 6,
   "id": "1474fb03-65cf-422a-a53d-3bd2999d2dd2",
   "metadata": {
    "tags": []
   },
   "outputs": [
    {
     "name": "stdout",
     "output_type": "stream",
     "text": [
      "halo halo\n"
     ]
    }
   ],
   "source": [
    "def printme(str):\n",
    "    print(str)\n",
    "    print\n",
    "    return\n",
    "\n",
    "printme('halo halo')"
   ]
  },
  {
   "cell_type": "code",
   "execution_count": 10,
   "id": "160df4e5-2d63-4ec9-a4db-bd99bf3e184f",
   "metadata": {},
   "outputs": [],
   "source": [
    "def halo(z):\n",
    "    '''function ini akan menyapa kamu yang keren'''\n",
    "    c = f'halo {z} yang habis menang lomba'\n",
    "    return c"
   ]
  },
  {
   "cell_type": "code",
   "execution_count": 11,
   "id": "f40e95f6-17e6-4c31-b18e-d7ccdad7e494",
   "metadata": {
    "tags": []
   },
   "outputs": [
    {
     "data": {
      "text/plain": [
       "'halo anggi yang habis menang lomba'"
      ]
     },
     "execution_count": 11,
     "metadata": {},
     "output_type": "execute_result"
    }
   ],
   "source": [
    "halo('anggi')"
   ]
  },
  {
   "cell_type": "code",
   "execution_count": 18,
   "id": "a826165f-16b7-4553-8005-b0129e7cbe6a",
   "metadata": {
    "tags": []
   },
   "outputs": [],
   "source": [
    "def my_function(a,b):\n",
    "    'function untuk menghitung luas'\n",
    "    print(a * b)"
   ]
  },
  {
   "cell_type": "code",
   "execution_count": 19,
   "id": "32c889ed-12a7-447c-aa77-3067b5e1ffe3",
   "metadata": {
    "tags": []
   },
   "outputs": [
    {
     "name": "stdout",
     "output_type": "stream",
     "text": [
      "8\n"
     ]
    }
   ],
   "source": [
    "my_function(2,4)"
   ]
  },
  {
   "cell_type": "code",
   "execution_count": 31,
   "id": "092c50c5-f0e6-4678-8709-cefa9f183aa3",
   "metadata": {
    "tags": []
   },
   "outputs": [],
   "source": [
    "def printme(str):\n",
    "    'this prints a passed string into this function'\n",
    "    print(str)\n",
    "    return"
   ]
  },
  {
   "cell_type": "code",
   "execution_count": 32,
   "id": "992aebf6-d5e9-4bea-b6c1-6d910bc75c2b",
   "metadata": {
    "tags": []
   },
   "outputs": [
    {
     "name": "stdout",
     "output_type": "stream",
     "text": [
      "<class 'str'>\n"
     ]
    }
   ],
   "source": [
    "printme(str)"
   ]
  },
  {
   "cell_type": "code",
   "execution_count": 41,
   "id": "f6785685-1bbf-4a65-8cf1-4c491976547e",
   "metadata": {
    "tags": []
   },
   "outputs": [],
   "source": [
    "def connect(a):\n",
    "    'function alay'\n",
    "    w = f'loveyouuuu {a}'\n",
    "    return w"
   ]
  },
  {
   "cell_type": "code",
   "execution_count": 44,
   "id": "dbe618ac-dd24-4654-b324-67d1cc153c1a",
   "metadata": {
    "tags": []
   },
   "outputs": [
    {
     "data": {
      "text/plain": [
       "'loveyouuuu anggi'"
      ]
     },
     "execution_count": 44,
     "metadata": {},
     "output_type": "execute_result"
    }
   ],
   "source": [
    "connect('anggi')"
   ]
  },
  {
   "cell_type": "code",
   "execution_count": 46,
   "id": "6aa526d2-2b17-4221-9532-aab460d6a0c9",
   "metadata": {
    "tags": []
   },
   "outputs": [],
   "source": [
    "def connect(z):\n",
    "    'function coba coba'\n",
    "    p = f'anggi {z}'\n",
    "    return p"
   ]
  },
  {
   "cell_type": "code",
   "execution_count": 47,
   "id": "e26f5400-1d15-4602-9f10-aaa3ed1a344c",
   "metadata": {
    "tags": []
   },
   "outputs": [
    {
     "data": {
      "text/plain": [
       "'anggi yuniskara'"
      ]
     },
     "execution_count": 47,
     "metadata": {},
     "output_type": "execute_result"
    }
   ],
   "source": [
    "connect('yuniskara')"
   ]
  },
  {
   "cell_type": "code",
   "execution_count": 51,
   "id": "37f3fb7b-46d6-4c7d-b80f-ec55bc226911",
   "metadata": {
    "tags": []
   },
   "outputs": [
    {
     "name": "stdout",
     "output_type": "stream",
     "text": [
      "i'm first call to user defined function\n",
      "again second call to the same function\n"
     ]
    }
   ],
   "source": [
    "def printme(str):\n",
    "    'this prints a passed string into this function'\n",
    "    print(str)\n",
    "    return\n",
    "\n",
    "printme(\"i'm first call to user defined function\")\n",
    "printme('again second call to the same function')"
   ]
  },
  {
   "cell_type": "code",
   "execution_count": 49,
   "id": "ac5a4448-7d50-40a5-8063-7ccd328768d3",
   "metadata": {
    "tags": []
   },
   "outputs": [
    {
     "name": "stdout",
     "output_type": "stream",
     "text": [
      "halo halo\n",
      "halo halohalo halohalo halo\n"
     ]
    }
   ],
   "source": [
    "#required arguments \n",
    "def printme(str):\n",
    "    print(str)\n",
    "    print(str * 3)\n",
    "    return \n",
    "\n",
    "printme('halo halo')"
   ]
  },
  {
   "cell_type": "code",
   "execution_count": 53,
   "id": "51e796bd-daa5-4a1a-b280-14b8d789fbe1",
   "metadata": {
    "tags": []
   },
   "outputs": [
    {
     "name": "stdout",
     "output_type": "stream",
     "text": [
      "values inside the function: [10, 20, 30, [1, 2, 3, 4]]\n",
      "values outside the function: [10, 20, 30, [1, 2, 3, 4]]\n"
     ]
    }
   ],
   "source": [
    "def changeme(mylist):\n",
    "    'this changes a passed list into this function'\n",
    "    mylist.append([1,2,3,4]);\n",
    "    print('values inside the function:', mylist)\n",
    "    return \n",
    "\n",
    "mylist = [10, 20, 30]; \n",
    "changeme(mylist);\n",
    "print('values outside the function:', mylist)"
   ]
  },
  {
   "cell_type": "code",
   "execution_count": 54,
   "id": "8a38042e-f2e9-44ef-b81e-ec5efed843d5",
   "metadata": {
    "tags": []
   },
   "outputs": [
    {
     "name": "stdout",
     "output_type": "stream",
     "text": [
      "values inside the function: [1, 2, 3, 4]\n",
      "values outside the function: [5, 6, 7, 8]\n"
     ]
    }
   ],
   "source": [
    "def changeme(mylist):\n",
    "    'this changes a passed list into this function'\n",
    "    mylist = [1,2,3,4]\n",
    "    print('values inside the function:', mylist)\n",
    "    \n",
    "mylist = [5,6,7,8]\n",
    "changeme(mylist)\n",
    "print('values outside the function:', mylist)"
   ]
  },
  {
   "cell_type": "code",
   "execution_count": 56,
   "id": "365a8507-f359-45f4-be4b-ff7e64731709",
   "metadata": {
    "tags": []
   },
   "outputs": [
    {
     "name": "stdout",
     "output_type": "stream",
     "text": [
      "<function halo at 0x000001F02C848F40>\n"
     ]
    }
   ],
   "source": [
    "def printme(str):\n",
    "    'this prints a passed string into this function'\n",
    "    print(str)\n",
    "    \n",
    "printme(halo)"
   ]
  },
  {
   "cell_type": "code",
   "execution_count": 58,
   "id": "359b5203-2802-4ab6-959e-566a11fac95d",
   "metadata": {
    "tags": []
   },
   "outputs": [
    {
     "name": "stdout",
     "output_type": "stream",
     "text": [
      "hacktiv8\n"
     ]
    }
   ],
   "source": [
    "#keyword arguments \n",
    "def printme(str):\n",
    "    'iyaaaaa'\n",
    "    print(str)\n",
    "\n",
    "printme(str = 'hacktiv8')"
   ]
  },
  {
   "cell_type": "code",
   "execution_count": 59,
   "id": "db9cfe96-2416-4533-968c-c67f10f4775f",
   "metadata": {
    "tags": []
   },
   "outputs": [
    {
     "name": "stdout",
     "output_type": "stream",
     "text": [
      "hai\n"
     ]
    }
   ],
   "source": [
    "printme(str = 'hai')"
   ]
  },
  {
   "cell_type": "code",
   "execution_count": 68,
   "id": "ce6b0350-b319-4145-93e4-6e9b6309a65a",
   "metadata": {
    "tags": []
   },
   "outputs": [
    {
     "name": "stdout",
     "output_type": "stream",
     "text": [
      "3\n",
      "hai\n"
     ]
    }
   ],
   "source": [
    "def printme(angka, str):\n",
    "    print(angka)\n",
    "    print(str)\n",
    "    \n",
    "printme(angka = 3, str = 'hai')"
   ]
  },
  {
   "cell_type": "code",
   "execution_count": 69,
   "id": "c8121f45-85f8-4b20-a197-5dda9a58f820",
   "metadata": {
    "tags": []
   },
   "outputs": [
    {
     "name": "stdout",
     "output_type": "stream",
     "text": [
      "10\n",
      "cuy\n"
     ]
    }
   ],
   "source": [
    "printme(angka = 10, str = 'cuy')"
   ]
  },
  {
   "cell_type": "code",
   "execution_count": 72,
   "id": "5d853f7a-2cce-4dac-88a8-870e7d66e9c6",
   "metadata": {
    "tags": []
   },
   "outputs": [
    {
     "name": "stdout",
     "output_type": "stream",
     "text": [
      "anggi\n",
      "umur: 20\n"
     ]
    }
   ],
   "source": [
    "def printinfo(name, age):\n",
    "    print(name)\n",
    "    print('umur:', age)\n",
    "    \n",
    "printinfo(name = 'anggi' , age = 20)"
   ]
  },
  {
   "cell_type": "code",
   "execution_count": 73,
   "id": "68f96089-7be7-4889-b154-1e886f9b77b1",
   "metadata": {
    "tags": []
   },
   "outputs": [
    {
     "name": "stdout",
     "output_type": "stream",
     "text": [
      "halo\n",
      "10\n"
     ]
    }
   ],
   "source": [
    "#default arguments \n",
    "def printme(str, angka =10):\n",
    "    print(str)\n",
    "    print(angka)\n",
    "    \n",
    "printme('halo')"
   ]
  },
  {
   "cell_type": "code",
   "execution_count": 74,
   "id": "57a2fc7d-6092-49e1-93c9-f2f08e7470cb",
   "metadata": {
    "tags": []
   },
   "outputs": [
    {
     "name": "stdout",
     "output_type": "stream",
     "text": [
      "halo\n",
      "11\n"
     ]
    }
   ],
   "source": [
    "#default arguments \n",
    "def printme(str, angka =10):\n",
    "    print(str)\n",
    "    print(angka)\n",
    "    \n",
    "printme('halo', angka = 11)"
   ]
  },
  {
   "cell_type": "code",
   "execution_count": 75,
   "id": "1ddbb832-260d-4dff-a549-74acd6991335",
   "metadata": {
    "tags": []
   },
   "outputs": [
    {
     "name": "stdout",
     "output_type": "stream",
     "text": [
      "anggi\n",
      "20\n",
      "anggi\n",
      "19\n"
     ]
    }
   ],
   "source": [
    "def printme(name, age = 20):\n",
    "    print(name)\n",
    "    print(age)\n",
    "\n",
    "printme('anggi')\n",
    "printme('anggi', age = 19)"
   ]
  },
  {
   "cell_type": "code",
   "execution_count": 77,
   "id": "deffb8dd-b638-4fb4-baa6-d09ae73534a4",
   "metadata": {
    "tags": []
   },
   "outputs": [
    {
     "name": "stdout",
     "output_type": "stream",
     "text": [
      "10\n",
      "100\n",
      "90\n",
      "80\n",
      "b\n"
     ]
    }
   ],
   "source": [
    "def printme(arg1, *vartuple):\n",
    "    print(arg1)\n",
    "    for var in vartuple: \n",
    "        print(var)\n",
    "\n",
    "printme(10)\n",
    "printme(100, 90, 80, 'b')"
   ]
  },
  {
   "cell_type": "code",
   "execution_count": 86,
   "id": "bdec8823-084b-4a51-bba3-13ff28e07e81",
   "metadata": {
    "tags": []
   },
   "outputs": [
    {
     "name": "stdout",
     "output_type": "stream",
     "text": [
      "3\n",
      "278\n"
     ]
    }
   ],
   "source": [
    "sum = lambda arg1, arg2 : arg1 + arg2; \n",
    "\n",
    "def sum(arg1, arg2):\n",
    "    return arg1+arg2 \n",
    "    \n",
    "print(sum(1,2))\n",
    "print(sum(100,178))"
   ]
  },
  {
   "cell_type": "code",
   "execution_count": 85,
   "id": "0af6cdd2-f95d-4fa2-8665-e993946085a7",
   "metadata": {
    "tags": []
   },
   "outputs": [
    {
     "data": {
      "text/plain": [
       "3"
      ]
     },
     "execution_count": 85,
     "metadata": {},
     "output_type": "execute_result"
    }
   ],
   "source": [
    "def jumlah(n1, n2):\n",
    "    return n1 + n2 \n",
    "jumlah(1,2)"
   ]
  },
  {
   "cell_type": "code",
   "execution_count": 88,
   "id": "e0b4f77e-0675-4440-810f-f0e70efa1177",
   "metadata": {
    "tags": []
   },
   "outputs": [
    {
     "name": "stdout",
     "output_type": "stream",
     "text": [
      "12\n"
     ]
    }
   ],
   "source": [
    "n1 = 5\n",
    "n2 = 7\n",
    "\n",
    "a = lambda n1,n2:n1+n2\n",
    "print(a(5,7))"
   ]
  },
  {
   "cell_type": "code",
   "execution_count": 5,
   "id": "128d6a29-7d35-4496-bc56-e400f77961aa",
   "metadata": {},
   "outputs": [
    {
     "name": "stdout",
     "output_type": "stream",
     "text": [
      "inside the function: 30\n",
      "outside the function: 40\n"
     ]
    }
   ],
   "source": [
    "#return statement \n",
    "def sum(arg1, arg2):\n",
    "    total = arg1 + arg2 \n",
    "    total2 = total + arg1 \n",
    "    print('inside the function:', total) \n",
    "    return total2 \n",
    "\n",
    "total = sum(10,20)\n",
    "print('outside the function:', total) "
   ]
  },
  {
   "cell_type": "code",
   "execution_count": 7,
   "id": "90d5a893-03b9-4f26-8796-777fd99e17f3",
   "metadata": {},
   "outputs": [
    {
     "name": "stdout",
     "output_type": "stream",
     "text": [
      "inside the function: 30\n",
      "outside the function: 40\n"
     ]
    }
   ],
   "source": [
    "#return statement \n",
    "def sum(arg1, arg2):\n",
    "    total = arg1 + arg2 \n",
    "    total2 = total + arg1 \n",
    "    print('inside the function:', total) \n",
    "    return total2 \n",
    "\n",
    "total = sum(10,20)\n",
    "print('outside the function:', total) "
   ]
  },
  {
   "cell_type": "code",
   "execution_count": 8,
   "id": "c9d6b16e-88d7-4b1d-9744-551053caf9d3",
   "metadata": {
    "tags": []
   },
   "outputs": [
    {
     "name": "stdout",
     "output_type": "stream",
     "text": [
      "penjumlahan dari 2 dan 2 adalah 4\n",
      "None\n",
      "<function <lambda> at 0x000001BF890D8680>\n"
     ]
    }
   ],
   "source": [
    "def jumlah(n1, n2):\n",
    "    print(f'penjumlahan dari {n1} dan {n2} adalah {n1+n2}')\n",
    "    #return n1+n2 \n",
    "    \n",
    "print(jumlah(2,2))\n",
    "\n",
    "a = lambda n1, n2 : n1 + n2 \n",
    "print(a)"
   ]
  },
  {
   "cell_type": "code",
   "execution_count": 9,
   "id": "110331c0-d211-4cbb-bd1b-68a093e60c74",
   "metadata": {
    "tags": []
   },
   "outputs": [
    {
     "name": "stdout",
     "output_type": "stream",
     "text": [
      "variabel di dalam function: 30\n",
      "variabel di luar function: 0\n"
     ]
    }
   ],
   "source": [
    "total = 0 \n",
    "\n",
    "def jumlah(arg1, arg2):\n",
    "    \n",
    "    total = arg1 + arg2 \n",
    "    print('variabel di dalam function:', total)\n",
    "    return total \n",
    "\n",
    "jumlah(10, 20)\n",
    "print('variabel di luar function:', total)"
   ]
  },
  {
   "cell_type": "code",
   "execution_count": 19,
   "id": "65c13eb0-8cf3-43da-bd3d-76f2e133f1e8",
   "metadata": {
    "tags": []
   },
   "outputs": [
    {
     "name": "stdout",
     "output_type": "stream",
     "text": [
      "50\n"
     ]
    }
   ],
   "source": [
    "jumlahKucing = 20 \n",
    "\n",
    "def jumlahHewan(): \n",
    "    jumlahAnjing = 30 \n",
    "    return jumlahKucing + jumlahAnjing\n",
    "\n",
    "def jumlahHewan2():\n",
    "    return jumlahKucing + jumlahKucing\n",
    "\n",
    "print(jumlahHewan())"
   ]
  },
  {
   "cell_type": "code",
   "execution_count": 18,
   "id": "7f9b5234-1f91-44b3-8806-d5026ebff5c7",
   "metadata": {
    "tags": []
   },
   "outputs": [
    {
     "data": {
      "text/plain": [
       "40"
      ]
     },
     "execution_count": 18,
     "metadata": {},
     "output_type": "execute_result"
    }
   ],
   "source": [
    "jumlahHewan2()"
   ]
  },
  {
   "cell_type": "code",
   "execution_count": 20,
   "id": "e2e2b437-3089-488d-8dbb-b6ccf5bcf3ce",
   "metadata": {
    "tags": []
   },
   "outputs": [],
   "source": [
    "s = 'hacktiv8 - PTP python for data science'\n",
    "a = [100,200,300]\n",
    "\n",
    "def foo(arg):\n",
    "    print(f'arg = {arg}')\n",
    "    \n",
    "class Foo:\n",
    "    pass"
   ]
  },
  {
   "cell_type": "code",
   "execution_count": 35,
   "id": "c3be913c-c7bc-4e17-8e0c-24026c3fe662",
   "metadata": {
    "tags": []
   },
   "outputs": [
    {
     "name": "stdout",
     "output_type": "stream",
     "text": [
      "Hacktiv8 Python\n",
      "arg = argumen\n"
     ]
    },
    {
     "data": {
      "text/plain": [
       "<mod.Foo at 0x1bf89e41cd0>"
      ]
     },
     "execution_count": 35,
     "metadata": {},
     "output_type": "execute_result"
    }
   ],
   "source": [
    "import mod\n",
    "\n",
    "print(mod.s)\n",
    "mod.a\n",
    "mod.foo('argumen')\n",
    "x = mod.Foo()\n",
    "x"
   ]
  },
  {
   "cell_type": "code",
   "execution_count": 36,
   "id": "4c91360c-6bb4-4778-b27b-37e43fbab2a2",
   "metadata": {
    "tags": []
   },
   "outputs": [
    {
     "data": {
      "text/plain": [
       "[100, 200, 300]"
      ]
     },
     "execution_count": 36,
     "metadata": {},
     "output_type": "execute_result"
    }
   ],
   "source": [
    "mod.a"
   ]
  },
  {
   "cell_type": "code",
   "execution_count": 38,
   "id": "d86c950b-f15c-47b1-91a4-378975355b53",
   "metadata": {
    "tags": []
   },
   "outputs": [
    {
     "data": {
      "text/plain": [
       "'Hacktiv8 Python'"
      ]
     },
     "execution_count": 38,
     "metadata": {},
     "output_type": "execute_result"
    }
   ],
   "source": [
    "import mod as j\n",
    "\n",
    "j.a \n",
    "j.s"
   ]
  },
  {
   "cell_type": "code",
   "execution_count": 39,
   "id": "9680bf12-5d31-43f1-98c7-b49acd8fe818",
   "metadata": {
    "tags": []
   },
   "outputs": [
    {
     "ename": "ModuleNotFoundError",
     "evalue": "No module named 'docx'",
     "output_type": "error",
     "traceback": [
      "\u001b[1;31m---------------------------------------------------------------------------\u001b[0m",
      "\u001b[1;31mModuleNotFoundError\u001b[0m                       Traceback (most recent call last)",
      "Cell \u001b[1;32mIn[39], line 1\u001b[0m\n\u001b[1;32m----> 1\u001b[0m \u001b[38;5;28;01mimport\u001b[39;00m \u001b[38;5;21;01mdocx\u001b[39;00m\n",
      "\u001b[1;31mModuleNotFoundError\u001b[0m: No module named 'docx'"
     ]
    }
   ],
   "source": [
    "import docx "
   ]
  },
  {
   "cell_type": "code",
   "execution_count": 40,
   "id": "6b2d7c9a-5674-441d-b1f1-b4da914f99a2",
   "metadata": {
    "tags": []
   },
   "outputs": [
    {
     "data": {
      "text/plain": [
       "['C:\\\\Users\\\\Anggita',\n",
       " 'C:\\\\Users\\\\Anggita\\\\anaconda3\\\\python311.zip',\n",
       " 'C:\\\\Users\\\\Anggita\\\\anaconda3\\\\DLLs',\n",
       " 'C:\\\\Users\\\\Anggita\\\\anaconda3\\\\Lib',\n",
       " 'C:\\\\Users\\\\Anggita\\\\anaconda3',\n",
       " '',\n",
       " 'C:\\\\Users\\\\Anggita\\\\anaconda3\\\\Lib\\\\site-packages',\n",
       " 'C:\\\\Users\\\\Anggita\\\\anaconda3\\\\Lib\\\\site-packages\\\\win32',\n",
       " 'C:\\\\Users\\\\Anggita\\\\anaconda3\\\\Lib\\\\site-packages\\\\win32\\\\lib',\n",
       " 'C:\\\\Users\\\\Anggita\\\\anaconda3\\\\Lib\\\\site-packages\\\\Pythonwin']"
      ]
     },
     "execution_count": 40,
     "metadata": {},
     "output_type": "execute_result"
    }
   ],
   "source": [
    "import sys\n",
    "\n",
    "\n",
    "sys.path"
   ]
  },
  {
   "cell_type": "code",
   "execution_count": 41,
   "id": "a6d0189c-3e15-43b3-8811-5234b84855df",
   "metadata": {
    "tags": []
   },
   "outputs": [
    {
     "name": "stdout",
     "output_type": "stream",
     "text": [
      "['C:\\\\Users\\\\Anggita', 'C:\\\\Users\\\\Anggita\\\\anaconda3\\\\python311.zip', 'C:\\\\Users\\\\Anggita\\\\anaconda3\\\\DLLs', 'C:\\\\Users\\\\Anggita\\\\anaconda3\\\\Lib', 'C:\\\\Users\\\\Anggita\\\\anaconda3', '', 'C:\\\\Users\\\\Anggita\\\\anaconda3\\\\Lib\\\\site-packages', 'C:\\\\Users\\\\Anggita\\\\anaconda3\\\\Lib\\\\site-packages\\\\win32', 'C:\\\\Users\\\\Anggita\\\\anaconda3\\\\Lib\\\\site-packages\\\\win32\\\\lib', 'C:\\\\Users\\\\Anggita\\\\anaconda3\\\\Lib\\\\site-packages\\\\Pythonwin']\n"
     ]
    }
   ],
   "source": [
    "print(sys.path)"
   ]
  },
  {
   "cell_type": "code",
   "execution_count": 3,
   "id": "7e52891f-0adf-4c01-ba00-a781a9e7142b",
   "metadata": {},
   "outputs": [
    {
     "ename": "NameError",
     "evalue": "name 'random' is not defined",
     "output_type": "error",
     "traceback": [
      "\u001b[1;31m---------------------------------------------------------------------------\u001b[0m",
      "\u001b[1;31mNameError\u001b[0m                                 Traceback (most recent call last)",
      "Cell \u001b[1;32mIn[3], line 1\u001b[0m\n\u001b[1;32m----> 1\u001b[0m random\u001b[38;5;241m.\u001b[39m\u001b[38;5;18m__file__\u001b[39m\n",
      "\u001b[1;31mNameError\u001b[0m: name 'random' is not defined"
     ]
    }
   ],
   "source": []
  },
  {
   "cell_type": "code",
   "execution_count": 7,
   "id": "7f8fc318-a314-402f-9048-aa2807c75b8d",
   "metadata": {
    "tags": []
   },
   "outputs": [
    {
     "data": {
      "text/plain": [
       "'C:\\\\Users\\\\Anggita\\\\mod.py'"
      ]
     },
     "execution_count": 7,
     "metadata": {},
     "output_type": "execute_result"
    }
   ],
   "source": [
    "import mod\n",
    "mod.__file__"
   ]
  },
  {
   "cell_type": "code",
   "execution_count": 8,
   "id": "cd5af2bb-cbc8-43ee-ad15-c82fca852f5a",
   "metadata": {
    "tags": []
   },
   "outputs": [
    {
     "data": {
      "text/plain": [
       "'C:\\\\Users\\\\Anggita\\\\anaconda3\\\\Lib\\\\random.py'"
      ]
     },
     "execution_count": 8,
     "metadata": {},
     "output_type": "execute_result"
    }
   ],
   "source": [
    "import random\n",
    "random.__file__"
   ]
  },
  {
   "cell_type": "code",
   "execution_count": 9,
   "id": "5c04d5a9-82b2-4f71-9baf-e18a2d0154cb",
   "metadata": {
    "tags": []
   },
   "outputs": [
    {
     "data": {
      "text/plain": [
       "<module 'random' from 'C:\\\\Users\\\\Anggita\\\\anaconda3\\\\Lib\\\\random.py'>"
      ]
     },
     "execution_count": 9,
     "metadata": {},
     "output_type": "execute_result"
    }
   ],
   "source": [
    "import random\n",
    "random"
   ]
  },
  {
   "cell_type": "code",
   "execution_count": 10,
   "id": "74d5d2bc-35b8-434e-843f-596975525a40",
   "metadata": {
    "tags": []
   },
   "outputs": [
    {
     "data": {
      "text/plain": [
       "'Hacktiv8 Python'"
      ]
     },
     "execution_count": 10,
     "metadata": {},
     "output_type": "execute_result"
    }
   ],
   "source": [
    "from mod import s\n",
    "s"
   ]
  },
  {
   "cell_type": "code",
   "execution_count": 11,
   "id": "a97bd13d-4e22-4dba-8a74-6f7e3cbce77e",
   "metadata": {
    "tags": []
   },
   "outputs": [
    {
     "data": {
      "text/plain": [
       "'Hacktiv8 Python'"
      ]
     },
     "execution_count": 11,
     "metadata": {},
     "output_type": "execute_result"
    }
   ],
   "source": [
    "s"
   ]
  },
  {
   "cell_type": "code",
   "execution_count": 12,
   "id": "e5f84b4c-9489-4d54-a33f-60f343d88129",
   "metadata": {
    "tags": []
   },
   "outputs": [
    {
     "name": "stdout",
     "output_type": "stream",
     "text": [
      "arg = quux\n"
     ]
    }
   ],
   "source": [
    "mod.foo('quux')"
   ]
  },
  {
   "cell_type": "code",
   "execution_count": 14,
   "id": "506fe833-96da-4637-93e5-4f6e0f2399e4",
   "metadata": {
    "tags": []
   },
   "outputs": [
    {
     "name": "stdout",
     "output_type": "stream",
     "text": [
      "Hacktiv8 Python\n",
      "[100, 200, 300]\n",
      "arg = 1,2,3\n"
     ]
    },
    {
     "data": {
      "text/plain": [
       "<mod.Foo at 0x1d70c0dab90>"
      ]
     },
     "execution_count": 14,
     "metadata": {},
     "output_type": "execute_result"
    }
   ],
   "source": [
    "from mod import *\n",
    "print(s)\n",
    "print(a)\n",
    "foo('1,2,3')\n",
    "Foo()"
   ]
  },
  {
   "cell_type": "code",
   "execution_count": 17,
   "id": "fe89ffc4-a240-491f-a274-5b5ab8128952",
   "metadata": {
    "tags": []
   },
   "outputs": [
    {
     "name": "stdout",
     "output_type": "stream",
     "text": [
      "10\n",
      "Hacktiv8 Python\n"
     ]
    }
   ],
   "source": [
    "s = 10\n",
    "from mod import s as stri\n",
    "print(s)\n",
    "print(stri)"
   ]
  },
  {
   "cell_type": "code",
   "execution_count": 18,
   "id": "ed393a8d-b313-4d5d-ac5c-d2f0840d586c",
   "metadata": {
    "tags": []
   },
   "outputs": [],
   "source": [
    "import pandas as pd\n",
    "import numpy as np\n",
    "import matplotlib.pyplot as plt"
   ]
  },
  {
   "cell_type": "code",
   "execution_count": 19,
   "id": "2730cb64-dfd9-4076-9ccd-7139e214e279",
   "metadata": {
    "tags": []
   },
   "outputs": [
    {
     "name": "stdout",
     "output_type": "stream",
     "text": [
      "Hacktiv8 Python\n"
     ]
    }
   ],
   "source": [
    "def coba():\n",
    "    from mod import s \n",
    "    print(s)\n",
    "    \n",
    "coba()"
   ]
  },
  {
   "cell_type": "code",
   "execution_count": 22,
   "id": "bece2325-c8e3-4025-b8af-adb127245aeb",
   "metadata": {
    "tags": []
   },
   "outputs": [
    {
     "data": {
      "text/plain": [
       "'Hacktiv8 Python'"
      ]
     },
     "execution_count": 22,
     "metadata": {},
     "output_type": "execute_result"
    }
   ],
   "source": [
    "from mod import s, foo\n",
    "s "
   ]
  },
  {
   "cell_type": "code",
   "execution_count": 23,
   "id": "b89f0940-18c5-4c9f-a3f6-88c995f15117",
   "metadata": {
    "tags": []
   },
   "outputs": [
    {
     "name": "stdout",
     "output_type": "stream",
     "text": [
      "arg = quux\n"
     ]
    }
   ],
   "source": [
    "foo('quux')"
   ]
  },
  {
   "cell_type": "code",
   "execution_count": 24,
   "id": "ea517503-1a00-4051-8a1f-42c0468e3a87",
   "metadata": {
    "tags": []
   },
   "outputs": [
    {
     "data": {
      "text/plain": [
       "<mod.Foo at 0x1d70f63a890>"
      ]
     },
     "execution_count": 24,
     "metadata": {},
     "output_type": "execute_result"
    }
   ],
   "source": [
    "from mod import Foo\n",
    "x = Foo()\n",
    "x"
   ]
  },
  {
   "cell_type": "code",
   "execution_count": 25,
   "id": "b3c01575-c5dd-488d-89ce-d882b04b6d9a",
   "metadata": {
    "tags": []
   },
   "outputs": [
    {
     "data": {
      "text/plain": [
       "['foo', 'bar', 'baz']"
      ]
     },
     "execution_count": 25,
     "metadata": {},
     "output_type": "execute_result"
    }
   ],
   "source": [
    "a = ['foo', 'bar', 'baz']\n",
    "a"
   ]
  },
  {
   "cell_type": "code",
   "execution_count": 27,
   "id": "ac833d01-990d-4669-8fe6-3d5e5397b7bc",
   "metadata": {
    "tags": []
   },
   "outputs": [
    {
     "data": {
      "text/plain": [
       "[100, 200, 300]"
      ]
     },
     "execution_count": 27,
     "metadata": {},
     "output_type": "execute_result"
    }
   ],
   "source": [
    "from mod import a\n",
    "a"
   ]
  },
  {
   "cell_type": "code",
   "execution_count": 28,
   "id": "3fdade43-0742-4fdb-aa1e-02a0026772f6",
   "metadata": {
    "tags": []
   },
   "outputs": [
    {
     "data": {
      "text/plain": [
       "'foo'"
      ]
     },
     "execution_count": 28,
     "metadata": {},
     "output_type": "execute_result"
    }
   ],
   "source": [
    "s = 'foo'\n",
    "a = ['foo', 'bar', 'baz']\n",
    "\n",
    "from mod import s as string, a as alist \n",
    "s"
   ]
  },
  {
   "cell_type": "code",
   "execution_count": 29,
   "id": "80d72894-d03c-44d6-8c4d-8919c819673e",
   "metadata": {
    "tags": []
   },
   "outputs": [
    {
     "data": {
      "text/plain": [
       "'Hacktiv8 Python'"
      ]
     },
     "execution_count": 29,
     "metadata": {},
     "output_type": "execute_result"
    }
   ],
   "source": [
    "string"
   ]
  },
  {
   "cell_type": "code",
   "execution_count": 30,
   "id": "32694432-42aa-44e9-9d05-b08174bf78de",
   "metadata": {
    "tags": []
   },
   "outputs": [
    {
     "data": {
      "text/plain": [
       "['foo', 'bar', 'baz']"
      ]
     },
     "execution_count": 30,
     "metadata": {},
     "output_type": "execute_result"
    }
   ],
   "source": [
    "a "
   ]
  },
  {
   "cell_type": "code",
   "execution_count": 31,
   "id": "9f01612c-e644-447c-9654-40f4096b1e7c",
   "metadata": {
    "tags": []
   },
   "outputs": [
    {
     "data": {
      "text/plain": [
       "[100, 200, 300]"
      ]
     },
     "execution_count": 31,
     "metadata": {},
     "output_type": "execute_result"
    }
   ],
   "source": [
    "alist"
   ]
  },
  {
   "cell_type": "code",
   "execution_count": 32,
   "id": "c61d6397-aba6-4371-85fd-56b0f76d50dc",
   "metadata": {
    "tags": []
   },
   "outputs": [
    {
     "data": {
      "text/plain": [
       "[100, 200, 300]"
      ]
     },
     "execution_count": 32,
     "metadata": {},
     "output_type": "execute_result"
    }
   ],
   "source": [
    "import mod as my_module \n",
    "my_module.a"
   ]
  },
  {
   "cell_type": "code",
   "execution_count": 33,
   "id": "c20ee80b-8ac9-4ed8-a00e-ccbd3df076cd",
   "metadata": {
    "tags": []
   },
   "outputs": [
    {
     "name": "stdout",
     "output_type": "stream",
     "text": [
      "arg = qux\n"
     ]
    }
   ],
   "source": [
    "my_module.foo('qux')"
   ]
  },
  {
   "cell_type": "code",
   "execution_count": 35,
   "id": "9aeff448-bbc2-44f3-b587-a8f9f5c31b06",
   "metadata": {
    "tags": []
   },
   "outputs": [
    {
     "name": "stdout",
     "output_type": "stream",
     "text": [
      "arg = corge\n"
     ]
    }
   ],
   "source": [
    "def bar():\n",
    "    from mod import foo\n",
    "    foo('corge')\n",
    "    \n",
    "bar()"
   ]
  },
  {
   "cell_type": "code",
   "execution_count": 36,
   "id": "8fd6e1d0-094a-4427-95eb-b333f3535f97",
   "metadata": {
    "tags": []
   },
   "outputs": [
    {
     "ename": "SyntaxError",
     "evalue": "import * only allowed at module level (2335527030.py, line 2)",
     "output_type": "error",
     "traceback": [
      "\u001b[1;36m  Cell \u001b[1;32mIn[36], line 2\u001b[1;36m\u001b[0m\n\u001b[1;33m    from mod import *\u001b[0m\n\u001b[1;37m                    ^\u001b[0m\n\u001b[1;31mSyntaxError\u001b[0m\u001b[1;31m:\u001b[0m import * only allowed at module level\n"
     ]
    }
   ],
   "source": [
    "def bar():\n",
    "    from mod import *"
   ]
  },
  {
   "cell_type": "code",
   "execution_count": 37,
   "id": "086acb06-849f-47bb-9958-4d5c371e465e",
   "metadata": {
    "tags": []
   },
   "outputs": [
    {
     "name": "stdout",
     "output_type": "stream",
     "text": [
      "module not found\n"
     ]
    }
   ],
   "source": [
    "try:\n",
    "    import docx \n",
    "except ImportError:\n",
    "    print('module not found')"
   ]
  },
  {
   "cell_type": "code",
   "execution_count": 38,
   "id": "2fe5f5d1-bc25-49b8-894d-4acd198783a6",
   "metadata": {
    "tags": []
   },
   "outputs": [
    {
     "data": {
      "text/plain": [
       "'Hacktiv8 Python'"
      ]
     },
     "execution_count": 38,
     "metadata": {},
     "output_type": "execute_result"
    }
   ],
   "source": [
    "mod.s"
   ]
  },
  {
   "cell_type": "code",
   "execution_count": 40,
   "id": "228ebb55-6ac4-4d13-b30e-9771b5cf45c5",
   "metadata": {
    "tags": []
   },
   "outputs": [
    {
     "name": "stdout",
     "output_type": "stream",
     "text": [
      "module not found\n"
     ]
    }
   ],
   "source": [
    "try:\n",
    "    from mod import b\n",
    "except ImportError:\n",
    "    print('module not found')"
   ]
  },
  {
   "cell_type": "code",
   "execution_count": 41,
   "id": "8c8cfeee-9188-47f9-a358-f9c9b139d479",
   "metadata": {
    "tags": []
   },
   "outputs": [
    {
     "data": {
      "text/plain": [
       "['Foo',\n",
       " 'In',\n",
       " 'Out',\n",
       " '_',\n",
       " '_10',\n",
       " '_11',\n",
       " '_13',\n",
       " '_14',\n",
       " '_22',\n",
       " '_24',\n",
       " '_25',\n",
       " '_27',\n",
       " '_28',\n",
       " '_29',\n",
       " '_30',\n",
       " '_31',\n",
       " '_32',\n",
       " '_38',\n",
       " '_7',\n",
       " '_8',\n",
       " '_9',\n",
       " '__',\n",
       " '___',\n",
       " '__builtin__',\n",
       " '__builtins__',\n",
       " '__doc__',\n",
       " '__loader__',\n",
       " '__name__',\n",
       " '__package__',\n",
       " '__spec__',\n",
       " '_dh',\n",
       " '_i',\n",
       " '_i1',\n",
       " '_i10',\n",
       " '_i11',\n",
       " '_i12',\n",
       " '_i13',\n",
       " '_i14',\n",
       " '_i15',\n",
       " '_i16',\n",
       " '_i17',\n",
       " '_i18',\n",
       " '_i19',\n",
       " '_i2',\n",
       " '_i20',\n",
       " '_i21',\n",
       " '_i22',\n",
       " '_i23',\n",
       " '_i24',\n",
       " '_i25',\n",
       " '_i26',\n",
       " '_i27',\n",
       " '_i28',\n",
       " '_i29',\n",
       " '_i3',\n",
       " '_i30',\n",
       " '_i31',\n",
       " '_i32',\n",
       " '_i33',\n",
       " '_i34',\n",
       " '_i35',\n",
       " '_i36',\n",
       " '_i37',\n",
       " '_i38',\n",
       " '_i39',\n",
       " '_i4',\n",
       " '_i40',\n",
       " '_i41',\n",
       " '_i5',\n",
       " '_i6',\n",
       " '_i7',\n",
       " '_i8',\n",
       " '_i9',\n",
       " '_ih',\n",
       " '_ii',\n",
       " '_iii',\n",
       " '_oh',\n",
       " 'a',\n",
       " 'alist',\n",
       " 'bar',\n",
       " 'coba',\n",
       " 'exit',\n",
       " 'foo',\n",
       " 'get_ipython',\n",
       " 'mod',\n",
       " 'my_module',\n",
       " 'np',\n",
       " 'open',\n",
       " 'pd',\n",
       " 'plt',\n",
       " 'quit',\n",
       " 'random',\n",
       " 's',\n",
       " 'stri',\n",
       " 'string',\n",
       " 'x']"
      ]
     },
     "execution_count": 41,
     "metadata": {},
     "output_type": "execute_result"
    }
   ],
   "source": [
    "dir()"
   ]
  },
  {
   "cell_type": "code",
   "execution_count": 42,
   "id": "c59f51f0-43a8-4cde-acd2-ebcca9e9c463",
   "metadata": {
    "tags": []
   },
   "outputs": [
    {
     "data": {
      "text/plain": [
       "['Foo',\n",
       " 'In',\n",
       " 'Out',\n",
       " '_',\n",
       " '_10',\n",
       " '_11',\n",
       " '_13',\n",
       " '_14',\n",
       " '_22',\n",
       " '_24',\n",
       " '_25',\n",
       " '_27',\n",
       " '_28',\n",
       " '_29',\n",
       " '_30',\n",
       " '_31',\n",
       " '_32',\n",
       " '_38',\n",
       " '_41',\n",
       " '_7',\n",
       " '_8',\n",
       " '_9',\n",
       " '__',\n",
       " '___',\n",
       " '__builtin__',\n",
       " '__builtins__',\n",
       " '__doc__',\n",
       " '__loader__',\n",
       " '__name__',\n",
       " '__package__',\n",
       " '__spec__',\n",
       " '_dh',\n",
       " '_i',\n",
       " '_i1',\n",
       " '_i10',\n",
       " '_i11',\n",
       " '_i12',\n",
       " '_i13',\n",
       " '_i14',\n",
       " '_i15',\n",
       " '_i16',\n",
       " '_i17',\n",
       " '_i18',\n",
       " '_i19',\n",
       " '_i2',\n",
       " '_i20',\n",
       " '_i21',\n",
       " '_i22',\n",
       " '_i23',\n",
       " '_i24',\n",
       " '_i25',\n",
       " '_i26',\n",
       " '_i27',\n",
       " '_i28',\n",
       " '_i29',\n",
       " '_i3',\n",
       " '_i30',\n",
       " '_i31',\n",
       " '_i32',\n",
       " '_i33',\n",
       " '_i34',\n",
       " '_i35',\n",
       " '_i36',\n",
       " '_i37',\n",
       " '_i38',\n",
       " '_i39',\n",
       " '_i4',\n",
       " '_i40',\n",
       " '_i41',\n",
       " '_i42',\n",
       " '_i5',\n",
       " '_i6',\n",
       " '_i7',\n",
       " '_i8',\n",
       " '_i9',\n",
       " '_ih',\n",
       " '_ii',\n",
       " '_iii',\n",
       " '_oh',\n",
       " 'a',\n",
       " 'alist',\n",
       " 'bar',\n",
       " 'coba',\n",
       " 'exit',\n",
       " 'foo',\n",
       " 'get_ipython',\n",
       " 'hack',\n",
       " 'mod',\n",
       " 'my_module',\n",
       " 'np',\n",
       " 'open',\n",
       " 'pd',\n",
       " 'plt',\n",
       " 'quit',\n",
       " 'random',\n",
       " 's',\n",
       " 'stri',\n",
       " 'string',\n",
       " 'x']"
      ]
     },
     "execution_count": 42,
     "metadata": {},
     "output_type": "execute_result"
    }
   ],
   "source": [
    "hack = 8 \n",
    "dir()"
   ]
  },
  {
   "cell_type": "code",
   "execution_count": 43,
   "id": "b98c7c1c-3224-4364-b552-09c7996c7d2e",
   "metadata": {
    "tags": []
   },
   "outputs": [],
   "source": [
    "import pandas \n",
    "import numpy\n",
    "import seaborn"
   ]
  },
  {
   "cell_type": "code",
   "execution_count": 44,
   "id": "0f9a7f5d-a1c9-410b-9123-87115256f9cb",
   "metadata": {
    "tags": []
   },
   "outputs": [
    {
     "data": {
      "text/plain": [
       "['Foo',\n",
       " 'In',\n",
       " 'Out',\n",
       " '_',\n",
       " '_10',\n",
       " '_11',\n",
       " '_13',\n",
       " '_14',\n",
       " '_22',\n",
       " '_24',\n",
       " '_25',\n",
       " '_27',\n",
       " '_28',\n",
       " '_29',\n",
       " '_30',\n",
       " '_31',\n",
       " '_32',\n",
       " '_38',\n",
       " '_41',\n",
       " '_42',\n",
       " '_7',\n",
       " '_8',\n",
       " '_9',\n",
       " '__',\n",
       " '___',\n",
       " '__builtin__',\n",
       " '__builtins__',\n",
       " '__doc__',\n",
       " '__loader__',\n",
       " '__name__',\n",
       " '__package__',\n",
       " '__spec__',\n",
       " '_dh',\n",
       " '_i',\n",
       " '_i1',\n",
       " '_i10',\n",
       " '_i11',\n",
       " '_i12',\n",
       " '_i13',\n",
       " '_i14',\n",
       " '_i15',\n",
       " '_i16',\n",
       " '_i17',\n",
       " '_i18',\n",
       " '_i19',\n",
       " '_i2',\n",
       " '_i20',\n",
       " '_i21',\n",
       " '_i22',\n",
       " '_i23',\n",
       " '_i24',\n",
       " '_i25',\n",
       " '_i26',\n",
       " '_i27',\n",
       " '_i28',\n",
       " '_i29',\n",
       " '_i3',\n",
       " '_i30',\n",
       " '_i31',\n",
       " '_i32',\n",
       " '_i33',\n",
       " '_i34',\n",
       " '_i35',\n",
       " '_i36',\n",
       " '_i37',\n",
       " '_i38',\n",
       " '_i39',\n",
       " '_i4',\n",
       " '_i40',\n",
       " '_i41',\n",
       " '_i42',\n",
       " '_i43',\n",
       " '_i44',\n",
       " '_i5',\n",
       " '_i6',\n",
       " '_i7',\n",
       " '_i8',\n",
       " '_i9',\n",
       " '_ih',\n",
       " '_ii',\n",
       " '_iii',\n",
       " '_oh',\n",
       " 'a',\n",
       " 'alist',\n",
       " 'bar',\n",
       " 'coba',\n",
       " 'exit',\n",
       " 'foo',\n",
       " 'get_ipython',\n",
       " 'hack',\n",
       " 'mod',\n",
       " 'my_module',\n",
       " 'np',\n",
       " 'numpy',\n",
       " 'open',\n",
       " 'pandas',\n",
       " 'pd',\n",
       " 'plt',\n",
       " 'quit',\n",
       " 'random',\n",
       " 's',\n",
       " 'seaborn',\n",
       " 'stri',\n",
       " 'string',\n",
       " 'x']"
      ]
     },
     "execution_count": 44,
     "metadata": {},
     "output_type": "execute_result"
    }
   ],
   "source": [
    "dir()"
   ]
  },
  {
   "cell_type": "code",
   "execution_count": 45,
   "id": "4beaf240-5773-443e-b74b-0bbf5dfe5271",
   "metadata": {
    "tags": []
   },
   "outputs": [
    {
     "data": {
      "text/plain": [
       "['Foo',\n",
       " 'In',\n",
       " 'Out',\n",
       " '_',\n",
       " '_10',\n",
       " '_11',\n",
       " '_13',\n",
       " '_14',\n",
       " '_22',\n",
       " '_24',\n",
       " '_25',\n",
       " '_27',\n",
       " '_28',\n",
       " '_29',\n",
       " '_30',\n",
       " '_31',\n",
       " '_32',\n",
       " '_38',\n",
       " '_41',\n",
       " '_42',\n",
       " '_44',\n",
       " '_7',\n",
       " '_8',\n",
       " '_9',\n",
       " '__',\n",
       " '___',\n",
       " '__builtin__',\n",
       " '__builtins__',\n",
       " '__doc__',\n",
       " '__loader__',\n",
       " '__name__',\n",
       " '__package__',\n",
       " '__spec__',\n",
       " '_dh',\n",
       " '_i',\n",
       " '_i1',\n",
       " '_i10',\n",
       " '_i11',\n",
       " '_i12',\n",
       " '_i13',\n",
       " '_i14',\n",
       " '_i15',\n",
       " '_i16',\n",
       " '_i17',\n",
       " '_i18',\n",
       " '_i19',\n",
       " '_i2',\n",
       " '_i20',\n",
       " '_i21',\n",
       " '_i22',\n",
       " '_i23',\n",
       " '_i24',\n",
       " '_i25',\n",
       " '_i26',\n",
       " '_i27',\n",
       " '_i28',\n",
       " '_i29',\n",
       " '_i3',\n",
       " '_i30',\n",
       " '_i31',\n",
       " '_i32',\n",
       " '_i33',\n",
       " '_i34',\n",
       " '_i35',\n",
       " '_i36',\n",
       " '_i37',\n",
       " '_i38',\n",
       " '_i39',\n",
       " '_i4',\n",
       " '_i40',\n",
       " '_i41',\n",
       " '_i42',\n",
       " '_i43',\n",
       " '_i44',\n",
       " '_i45',\n",
       " '_i5',\n",
       " '_i6',\n",
       " '_i7',\n",
       " '_i8',\n",
       " '_i9',\n",
       " '_ih',\n",
       " '_ii',\n",
       " '_iii',\n",
       " '_oh',\n",
       " 'a',\n",
       " 'alist',\n",
       " 'bar',\n",
       " 'coba',\n",
       " 'exit',\n",
       " 'foo',\n",
       " 'get_ipython',\n",
       " 'hack',\n",
       " 'mod',\n",
       " 'my_module',\n",
       " 'np',\n",
       " 'numpy',\n",
       " 'open',\n",
       " 'pandas',\n",
       " 'pd',\n",
       " 'plt',\n",
       " 'quit',\n",
       " 'qux',\n",
       " 'random',\n",
       " 's',\n",
       " 'seaborn',\n",
       " 'stri',\n",
       " 'string',\n",
       " 'x']"
      ]
     },
     "execution_count": 45,
     "metadata": {},
     "output_type": "execute_result"
    }
   ],
   "source": [
    "qux = [1,2,3,4,5]\n",
    "dir()"
   ]
  },
  {
   "cell_type": "code",
   "execution_count": 46,
   "id": "a34562eb-eb5d-404d-81b3-eee05e94c433",
   "metadata": {
    "tags": []
   },
   "outputs": [
    {
     "data": {
      "text/plain": [
       "['Bar',\n",
       " 'Foo',\n",
       " 'In',\n",
       " 'Out',\n",
       " '_',\n",
       " '_10',\n",
       " '_11',\n",
       " '_13',\n",
       " '_14',\n",
       " '_22',\n",
       " '_24',\n",
       " '_25',\n",
       " '_27',\n",
       " '_28',\n",
       " '_29',\n",
       " '_30',\n",
       " '_31',\n",
       " '_32',\n",
       " '_38',\n",
       " '_41',\n",
       " '_42',\n",
       " '_44',\n",
       " '_45',\n",
       " '_7',\n",
       " '_8',\n",
       " '_9',\n",
       " '__',\n",
       " '___',\n",
       " '__builtin__',\n",
       " '__builtins__',\n",
       " '__doc__',\n",
       " '__loader__',\n",
       " '__name__',\n",
       " '__package__',\n",
       " '__spec__',\n",
       " '_dh',\n",
       " '_i',\n",
       " '_i1',\n",
       " '_i10',\n",
       " '_i11',\n",
       " '_i12',\n",
       " '_i13',\n",
       " '_i14',\n",
       " '_i15',\n",
       " '_i16',\n",
       " '_i17',\n",
       " '_i18',\n",
       " '_i19',\n",
       " '_i2',\n",
       " '_i20',\n",
       " '_i21',\n",
       " '_i22',\n",
       " '_i23',\n",
       " '_i24',\n",
       " '_i25',\n",
       " '_i26',\n",
       " '_i27',\n",
       " '_i28',\n",
       " '_i29',\n",
       " '_i3',\n",
       " '_i30',\n",
       " '_i31',\n",
       " '_i32',\n",
       " '_i33',\n",
       " '_i34',\n",
       " '_i35',\n",
       " '_i36',\n",
       " '_i37',\n",
       " '_i38',\n",
       " '_i39',\n",
       " '_i4',\n",
       " '_i40',\n",
       " '_i41',\n",
       " '_i42',\n",
       " '_i43',\n",
       " '_i44',\n",
       " '_i45',\n",
       " '_i46',\n",
       " '_i5',\n",
       " '_i6',\n",
       " '_i7',\n",
       " '_i8',\n",
       " '_i9',\n",
       " '_ih',\n",
       " '_ii',\n",
       " '_iii',\n",
       " '_oh',\n",
       " 'a',\n",
       " 'alist',\n",
       " 'bar',\n",
       " 'coba',\n",
       " 'exit',\n",
       " 'foo',\n",
       " 'get_ipython',\n",
       " 'hack',\n",
       " 'mod',\n",
       " 'my_module',\n",
       " 'np',\n",
       " 'numpy',\n",
       " 'open',\n",
       " 'pandas',\n",
       " 'pd',\n",
       " 'plt',\n",
       " 'quit',\n",
       " 'qux',\n",
       " 'random',\n",
       " 's',\n",
       " 'seaborn',\n",
       " 'stri',\n",
       " 'string',\n",
       " 'x']"
      ]
     },
     "execution_count": 46,
     "metadata": {},
     "output_type": "execute_result"
    }
   ],
   "source": [
    "class Bar():\n",
    "    pass \n",
    "\n",
    "x = Bar()\n",
    "dir()"
   ]
  },
  {
   "cell_type": "code",
   "execution_count": 47,
   "id": "cac70543-299f-4d3b-b9e9-57a0fb4a2345",
   "metadata": {
    "tags": []
   },
   "outputs": [
    {
     "data": {
      "text/plain": [
       "['Bar',\n",
       " 'Foo',\n",
       " 'In',\n",
       " 'Out',\n",
       " '_',\n",
       " '_10',\n",
       " '_11',\n",
       " '_13',\n",
       " '_14',\n",
       " '_22',\n",
       " '_24',\n",
       " '_25',\n",
       " '_27',\n",
       " '_28',\n",
       " '_29',\n",
       " '_30',\n",
       " '_31',\n",
       " '_32',\n",
       " '_38',\n",
       " '_41',\n",
       " '_42',\n",
       " '_44',\n",
       " '_45',\n",
       " '_46',\n",
       " '_7',\n",
       " '_8',\n",
       " '_9',\n",
       " '__',\n",
       " '___',\n",
       " '__builtin__',\n",
       " '__builtins__',\n",
       " '__doc__',\n",
       " '__loader__',\n",
       " '__name__',\n",
       " '__package__',\n",
       " '__spec__',\n",
       " '_dh',\n",
       " '_i',\n",
       " '_i1',\n",
       " '_i10',\n",
       " '_i11',\n",
       " '_i12',\n",
       " '_i13',\n",
       " '_i14',\n",
       " '_i15',\n",
       " '_i16',\n",
       " '_i17',\n",
       " '_i18',\n",
       " '_i19',\n",
       " '_i2',\n",
       " '_i20',\n",
       " '_i21',\n",
       " '_i22',\n",
       " '_i23',\n",
       " '_i24',\n",
       " '_i25',\n",
       " '_i26',\n",
       " '_i27',\n",
       " '_i28',\n",
       " '_i29',\n",
       " '_i3',\n",
       " '_i30',\n",
       " '_i31',\n",
       " '_i32',\n",
       " '_i33',\n",
       " '_i34',\n",
       " '_i35',\n",
       " '_i36',\n",
       " '_i37',\n",
       " '_i38',\n",
       " '_i39',\n",
       " '_i4',\n",
       " '_i40',\n",
       " '_i41',\n",
       " '_i42',\n",
       " '_i43',\n",
       " '_i44',\n",
       " '_i45',\n",
       " '_i46',\n",
       " '_i47',\n",
       " '_i5',\n",
       " '_i6',\n",
       " '_i7',\n",
       " '_i8',\n",
       " '_i9',\n",
       " '_ih',\n",
       " '_ii',\n",
       " '_iii',\n",
       " '_oh',\n",
       " 'a',\n",
       " 'alist',\n",
       " 'bar',\n",
       " 'coba',\n",
       " 'exit',\n",
       " 'foo',\n",
       " 'get_ipython',\n",
       " 'hack',\n",
       " 'mod',\n",
       " 'my_module',\n",
       " 'np',\n",
       " 'numpy',\n",
       " 'open',\n",
       " 'pandas',\n",
       " 'pd',\n",
       " 'plt',\n",
       " 'quit',\n",
       " 'qux',\n",
       " 'random',\n",
       " 's',\n",
       " 'seaborn',\n",
       " 'stri',\n",
       " 'string',\n",
       " 'x']"
      ]
     },
     "execution_count": 47,
     "metadata": {},
     "output_type": "execute_result"
    }
   ],
   "source": [
    "import mod\n",
    "dir()"
   ]
  },
  {
   "cell_type": "code",
   "execution_count": 48,
   "id": "7bb4fdf5-433e-4a8c-a954-908b26787498",
   "metadata": {
    "tags": []
   },
   "outputs": [
    {
     "data": {
      "text/plain": [
       "['Bar',\n",
       " 'Foo',\n",
       " 'In',\n",
       " 'Out',\n",
       " '_',\n",
       " '_10',\n",
       " '_11',\n",
       " '_13',\n",
       " '_14',\n",
       " '_22',\n",
       " '_24',\n",
       " '_25',\n",
       " '_27',\n",
       " '_28',\n",
       " '_29',\n",
       " '_30',\n",
       " '_31',\n",
       " '_32',\n",
       " '_38',\n",
       " '_41',\n",
       " '_42',\n",
       " '_44',\n",
       " '_45',\n",
       " '_46',\n",
       " '_47',\n",
       " '_7',\n",
       " '_8',\n",
       " '_9',\n",
       " '__',\n",
       " '___',\n",
       " '__builtin__',\n",
       " '__builtins__',\n",
       " '__doc__',\n",
       " '__loader__',\n",
       " '__name__',\n",
       " '__package__',\n",
       " '__spec__',\n",
       " '_dh',\n",
       " '_i',\n",
       " '_i1',\n",
       " '_i10',\n",
       " '_i11',\n",
       " '_i12',\n",
       " '_i13',\n",
       " '_i14',\n",
       " '_i15',\n",
       " '_i16',\n",
       " '_i17',\n",
       " '_i18',\n",
       " '_i19',\n",
       " '_i2',\n",
       " '_i20',\n",
       " '_i21',\n",
       " '_i22',\n",
       " '_i23',\n",
       " '_i24',\n",
       " '_i25',\n",
       " '_i26',\n",
       " '_i27',\n",
       " '_i28',\n",
       " '_i29',\n",
       " '_i3',\n",
       " '_i30',\n",
       " '_i31',\n",
       " '_i32',\n",
       " '_i33',\n",
       " '_i34',\n",
       " '_i35',\n",
       " '_i36',\n",
       " '_i37',\n",
       " '_i38',\n",
       " '_i39',\n",
       " '_i4',\n",
       " '_i40',\n",
       " '_i41',\n",
       " '_i42',\n",
       " '_i43',\n",
       " '_i44',\n",
       " '_i45',\n",
       " '_i46',\n",
       " '_i47',\n",
       " '_i48',\n",
       " '_i5',\n",
       " '_i6',\n",
       " '_i7',\n",
       " '_i8',\n",
       " '_i9',\n",
       " '_ih',\n",
       " '_ii',\n",
       " '_iii',\n",
       " '_oh',\n",
       " 'a',\n",
       " 'alist',\n",
       " 'bar',\n",
       " 'coba',\n",
       " 'exit',\n",
       " 'foo',\n",
       " 'get_ipython',\n",
       " 'hack',\n",
       " 'mod',\n",
       " 'my_module',\n",
       " 'np',\n",
       " 'numpy',\n",
       " 'open',\n",
       " 'pandas',\n",
       " 'pd',\n",
       " 'plt',\n",
       " 'quit',\n",
       " 'qux',\n",
       " 'random',\n",
       " 's',\n",
       " 'seaborn',\n",
       " 'stri',\n",
       " 'string',\n",
       " 'x']"
      ]
     },
     "execution_count": 48,
     "metadata": {},
     "output_type": "execute_result"
    }
   ],
   "source": [
    "from mod import a, Foo\n",
    "dir()"
   ]
  },
  {
   "cell_type": "code",
   "execution_count": 50,
   "id": "e180a1e5-ce01-4610-b04d-faeda2fb439e",
   "metadata": {
    "tags": []
   },
   "outputs": [
    {
     "data": {
      "text/plain": [
       "<module 'mod' from 'C:\\\\Users\\\\Anggita\\\\mod.py'>"
      ]
     },
     "execution_count": 50,
     "metadata": {},
     "output_type": "execute_result"
    }
   ],
   "source": [
    "import mod\n",
    "mod"
   ]
  },
  {
   "cell_type": "code",
   "execution_count": 53,
   "id": "3342b7a1-5b65-4173-b051-c354ab7df007",
   "metadata": {
    "tags": []
   },
   "outputs": [],
   "source": [
    "import mod"
   ]
  },
  {
   "cell_type": "code",
   "execution_count": 56,
   "id": "d948f447-893a-4f51-a53f-70217f2c6516",
   "metadata": {
    "tags": []
   },
   "outputs": [
    {
     "name": "stdout",
     "output_type": "stream",
     "text": [
      "arg = grault\n"
     ]
    }
   ],
   "source": [
    "import mod\n",
    "mod.foo('grault')"
   ]
  },
  {
   "cell_type": "code",
   "execution_count": 58,
   "id": "6400e88c-a16a-4a58-ad06-c660ccf49c17",
   "metadata": {
    "tags": []
   },
   "outputs": [
    {
     "ename": "ValueError",
     "evalue": "invalid literal for int() with base 10: '-f'",
     "output_type": "error",
     "traceback": [
      "\u001b[1;31m---------------------------------------------------------------------------\u001b[0m",
      "\u001b[1;31mValueError\u001b[0m                                Traceback (most recent call last)",
      "Cell \u001b[1;32mIn[58], line 7\u001b[0m\n\u001b[0;32m      5\u001b[0m \u001b[38;5;28;01mimport\u001b[39;00m \u001b[38;5;21;01msys\u001b[39;00m \n\u001b[0;32m      6\u001b[0m \u001b[38;5;28;01mif\u001b[39;00m \u001b[38;5;28mlen\u001b[39m(sys\u001b[38;5;241m.\u001b[39margv) \u001b[38;5;241m>\u001b[39m \u001b[38;5;241m1\u001b[39m:\n\u001b[1;32m----> 7\u001b[0m     \u001b[38;5;28mprint\u001b[39m(fact(\u001b[38;5;28mint\u001b[39m(sys\u001b[38;5;241m.\u001b[39margv[\u001b[38;5;241m1\u001b[39m])))\n",
      "\u001b[1;31mValueError\u001b[0m: invalid literal for int() with base 10: '-f'"
     ]
    }
   ],
   "source": [
    "def fact(n):\n",
    "    return 1 if n == 1 else n * fact(n-1)\n",
    "\n",
    "if (__name__ == '__main__'):\n",
    "    import sys \n",
    "    if len(sys.argv) > 1:\n",
    "        print(fact(int(sys.argv[1])))"
   ]
  },
  {
   "cell_type": "code",
   "execution_count": 60,
   "id": "f4c96900-099d-4050-a005-98fb6550e778",
   "metadata": {
    "tags": []
   },
   "outputs": [
    {
     "ename": "ModuleNotFoundError",
     "evalue": "No module named 'fact'",
     "output_type": "error",
     "traceback": [
      "\u001b[1;31m---------------------------------------------------------------------------\u001b[0m",
      "\u001b[1;31mModuleNotFoundError\u001b[0m                       Traceback (most recent call last)",
      "Cell \u001b[1;32mIn[60], line 1\u001b[0m\n\u001b[1;32m----> 1\u001b[0m \u001b[38;5;28;01mimport\u001b[39;00m \u001b[38;5;21;01mfact\u001b[39;00m\n\u001b[0;32m      2\u001b[0m \u001b[38;5;28;01mfrom\u001b[39;00m \u001b[38;5;21;01mfact\u001b[39;00m \u001b[38;5;28;01mimport\u001b[39;00m fact\n\u001b[0;32m      3\u001b[0m fact(\u001b[38;5;241m6\u001b[39m)\n",
      "\u001b[1;31mModuleNotFoundError\u001b[0m: No module named 'fact'"
     ]
    }
   ],
   "source": [
    "import fact\n",
    "from fact import fact\n",
    "fact(6)"
   ]
  },
  {
   "cell_type": "code",
   "execution_count": 61,
   "id": "4494929a-39d2-4568-9658-64c636523c69",
   "metadata": {
    "tags": []
   },
   "outputs": [
    {
     "name": "stdout",
     "output_type": "stream",
     "text": [
      "a = [100, 200, 300]\n"
     ]
    }
   ],
   "source": [
    "a = [100, 200, 300]\n",
    "print('a =', a)"
   ]
  },
  {
   "cell_type": "code",
   "execution_count": 62,
   "id": "992552d7-d346-400e-baa0-c40f0580414a",
   "metadata": {
    "tags": []
   },
   "outputs": [
    {
     "data": {
      "text/plain": [
       "[100, 200, 300]"
      ]
     },
     "execution_count": 62,
     "metadata": {},
     "output_type": "execute_result"
    }
   ],
   "source": [
    "import mod \n",
    "a = [100, 200, 300]\n",
    "import mod\n",
    "import mod\n",
    "\n",
    "mod.a "
   ]
  },
  {
   "cell_type": "code",
   "execution_count": 63,
   "id": "3993c6fd-c324-4ff0-95ac-55b510567c47",
   "metadata": {
    "tags": []
   },
   "outputs": [
    {
     "ename": "IndentationError",
     "evalue": "expected an indented block after 'if' statement on line 9 (mod.py, line 10)",
     "output_type": "error",
     "traceback": [
      "Traceback \u001b[1;36m(most recent call last)\u001b[0m:\n",
      "\u001b[0m  File \u001b[0;32m~\\anaconda3\\Lib\\site-packages\\IPython\\core\\interactiveshell.py:3505\u001b[0m in \u001b[0;35mrun_code\u001b[0m\n    exec(code_obj, self.user_global_ns, self.user_ns)\u001b[0m\n",
      "\u001b[0m  Cell \u001b[0;32mIn[63], line 2\u001b[0m\n    importlib.reload(mod)\u001b[0m\n",
      "\u001b[0m  File \u001b[0;32m~\\anaconda3\\Lib\\importlib\\__init__.py:169\u001b[0m in \u001b[0;35mreload\u001b[0m\n    _bootstrap._exec(spec, module)\u001b[0m\n",
      "\u001b[0m  File \u001b[0;32m<frozen importlib._bootstrap>:621\u001b[0m in \u001b[0;35m_exec\u001b[0m\n",
      "\u001b[0m  File \u001b[0;32m<frozen importlib._bootstrap_external>:936\u001b[0m in \u001b[0;35mexec_module\u001b[0m\n",
      "\u001b[0m  File \u001b[0;32m<frozen importlib._bootstrap_external>:1074\u001b[0m in \u001b[0;35mget_code\u001b[0m\n",
      "\u001b[0m  File \u001b[0;32m<frozen importlib._bootstrap_external>:1004\u001b[0m in \u001b[0;35msource_to_code\u001b[0m\n",
      "\u001b[1;36m  File \u001b[1;32m<frozen importlib._bootstrap>:241\u001b[1;36m in \u001b[1;35m_call_with_frames_removed\u001b[1;36m\n",
      "\u001b[1;36m  File \u001b[1;32m~\\mod.py:10\u001b[1;36m\u001b[0m\n\u001b[1;33m    print(s)\u001b[0m\n\u001b[1;37m    ^\u001b[0m\n\u001b[1;31mIndentationError\u001b[0m\u001b[1;31m:\u001b[0m expected an indented block after 'if' statement on line 9\n"
     ]
    }
   ],
   "source": [
    "import importlib\n",
    "importlib.reload(mod)"
   ]
  },
  {
   "cell_type": "code",
   "execution_count": 64,
   "id": "2399c2f1-1d72-4e92-ad49-e7c64b900431",
   "metadata": {
    "tags": []
   },
   "outputs": [],
   "source": [
    "def foo():\n",
    "    print('[mod1] foo()')\n",
    "class Foo:\n",
    "    pass"
   ]
  },
  {
   "cell_type": "code",
   "execution_count": 65,
   "id": "13adfbf2-444c-448e-b2e7-5ab6695b522b",
   "metadata": {
    "tags": []
   },
   "outputs": [],
   "source": [
    "def bar():\n",
    "    print('[mod2] bar()')\n",
    "class Bar:\n",
    "    pass"
   ]
  },
  {
   "cell_type": "code",
   "execution_count": 73,
   "id": "24f170ae-12b7-4ca1-bea5-4ae2b5186a47",
   "metadata": {
    "tags": []
   },
   "outputs": [
    {
     "ename": "ModuleNotFoundError",
     "evalue": "No module named 'mod1'",
     "output_type": "error",
     "traceback": [
      "\u001b[1;31m---------------------------------------------------------------------------\u001b[0m",
      "\u001b[1;31mModuleNotFoundError\u001b[0m                       Traceback (most recent call last)",
      "Cell \u001b[1;32mIn[73], line 1\u001b[0m\n\u001b[1;32m----> 1\u001b[0m \u001b[38;5;28;01mimport\u001b[39;00m \u001b[38;5;21;01mmod1\u001b[39;00m\u001b[38;5;241m,\u001b[39m \u001b[38;5;21;01mmod2\u001b[39;00m\n\u001b[0;32m      2\u001b[0m mod1\u001b[38;5;241m.\u001b[39mfoo()\n",
      "\u001b[1;31mModuleNotFoundError\u001b[0m: No module named 'mod1'"
     ]
    }
   ],
   "source": [
    "import mod1, mod2\n",
    "mod1.foo()"
   ]
  },
  {
   "cell_type": "code",
   "execution_count": 71,
   "id": "cfc83245-6ae1-42b0-8f35-4d57c61de052",
   "metadata": {
    "tags": []
   },
   "outputs": [
    {
     "ename": "ModuleNotFoundError",
     "evalue": "No module named 'pkg'",
     "output_type": "error",
     "traceback": [
      "\u001b[1;31m---------------------------------------------------------------------------\u001b[0m",
      "\u001b[1;31mModuleNotFoundError\u001b[0m                       Traceback (most recent call last)",
      "Cell \u001b[1;32mIn[71], line 1\u001b[0m\n\u001b[1;32m----> 1\u001b[0m \u001b[38;5;28;01mimport\u001b[39;00m \u001b[38;5;21;01mpkg\u001b[39;00m\u001b[38;5;21;01m.\u001b[39;00m\u001b[38;5;21;01mmod1\u001b[39;00m\n\u001b[0;32m      2\u001b[0m pkg\u001b[38;5;241m.\u001b[39mmod1\n",
      "\u001b[1;31mModuleNotFoundError\u001b[0m: No module named 'pkg'"
     ]
    }
   ],
   "source": [
    "import pkg.mod1\n",
    "pkg.mod1"
   ]
  },
  {
   "cell_type": "code",
   "execution_count": 70,
   "id": "f70de745-87ad-49dc-9c10-ef3ad4c203a9",
   "metadata": {
    "tags": []
   },
   "outputs": [
    {
     "data": {
      "text/plain": [
       "'$ pip version'"
      ]
     },
     "execution_count": 70,
     "metadata": {},
     "output_type": "execute_result"
    }
   ],
   "source": [
    "\"$ pip version\""
   ]
  },
  {
   "cell_type": "code",
   "execution_count": null,
   "id": "bfbfd268-d8a1-406f-b7a1-9aa97ce0c485",
   "metadata": {},
   "outputs": [],
   "source": []
  }
 ],
 "metadata": {
  "kernelspec": {
   "display_name": "Python 3 (ipykernel)",
   "language": "python",
   "name": "python3"
  },
  "language_info": {
   "codemirror_mode": {
    "name": "ipython",
    "version": 3
   },
   "file_extension": ".py",
   "mimetype": "text/x-python",
   "name": "python",
   "nbconvert_exporter": "python",
   "pygments_lexer": "ipython3",
   "version": "3.11.4"
  }
 },
 "nbformat": 4,
 "nbformat_minor": 5
}
