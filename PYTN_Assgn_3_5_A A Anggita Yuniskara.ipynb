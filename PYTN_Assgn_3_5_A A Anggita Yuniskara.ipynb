{
 "cells": [
  {
   "cell_type": "markdown",
   "id": "a9a2b16a-d08b-405d-b888-2e7a07c17f05",
   "metadata": {},
   "source": [
    "## Project Assignment 3"
   ]
  },
  {
   "cell_type": "markdown",
   "id": "03b679ba-c454-4883-b369-c1c6278a4153",
   "metadata": {
    "tags": []
   },
   "source": [
    "Nama: A. A. Anggita Yuniskara Dewi"
   ]
  },
  {
   "cell_type": "markdown",
   "id": "639f7242-5574-47b0-bffd-d8f19921c00b",
   "metadata": {},
   "source": [
    "Kode Peserta: PYTN-KS19-025"
   ]
  },
  {
   "cell_type": "markdown",
   "id": "712d5729-2a9f-4cf0-99f9-deb4623a694b",
   "metadata": {
    "tags": []
   },
   "source": [
    "Sumber: https://archive.ics.uci.edu/dataset/222/bank+marketing"
   ]
  },
  {
   "cell_type": "markdown",
   "id": "11ade6fc-195c-4ed0-b7bd-69c61dd3a63d",
   "metadata": {},
   "source": [
    "### Import Function "
   ]
  },
  {
   "cell_type": "code",
   "execution_count": 9,
   "id": "c901bae1-60d4-41b5-bcbe-9f2fd5193fa6",
   "metadata": {
    "tags": []
   },
   "outputs": [],
   "source": [
    "import pandas as pd \n",
    "import numpy as np \n",
    "import seaborn as sns \n",
    "import matplotlib.pyplot as plt\n",
    "from sklearn.metrics import confusion_matrix\n",
    "from sklearn.model_selection import train_test_split \n",
    "from sklearn.metrics import accuracy_score, confusion_matrix, precision_score, recall_score, f1_score\n",
    "from sklearn.preprocessing import StandardScaler\n",
    "from sklearn.linear_model import LogisticRegression\n",
    "from sklearn.neighbors import KNeighborsClassifier\n",
    "from sklearn.svm import SVC\n",
    "from sklearn.tree import DecisionTreeClassifier\n",
    "from sklearn.ensemble import RandomForestClassifier\n",
    "from sklearn.naive_bayes import GaussianNB\n",
    "from sklearn.metrics import confusion_matrix"
   ]
  },
  {
   "cell_type": "code",
   "execution_count": 12,
   "id": "e6488ea6-111a-47fc-bb74-80a2ed0938b3",
   "metadata": {
    "tags": []
   },
   "outputs": [],
   "source": [
    "file1 = 'C:\\\\Users\\\\Anggita\\\\bank-additional-full.csv'\n",
    "df_1 = pd.read_csv(file1, delimiter=';')\n",
    "\n",
    "file2 = 'C:\\\\Users\\\\Anggita\\\\bank-additional.csv'\n",
    "df_2 = pd.read_csv(file2, delimiter=';')\n",
    "\n",
    "file3 = 'C:\\\\Users\\\\Anggita\\\\bank-full.csv'\n",
    "df_3 = pd.read_csv(file3, delimiter=';')\n",
    "\n",
    "file4 = 'C:\\\\Users\\\\Anggita\\\\bank.csv'\n",
    "df_4 = pd.read_csv(file4, delimiter=';')"
   ]
  },
  {
   "cell_type": "markdown",
   "id": "cf5040a0-4167-4394-aa5a-53c30ef7cfa6",
   "metadata": {},
   "source": [
    "### Data Cleaning"
   ]
  },
  {
   "cell_type": "code",
   "execution_count": 13,
   "id": "7e11366f-f43f-46b9-ab8a-6afb87bc6639",
   "metadata": {
    "tags": []
   },
   "outputs": [
    {
     "data": {
      "text/html": [
       "<div>\n",
       "<style scoped>\n",
       "    .dataframe tbody tr th:only-of-type {\n",
       "        vertical-align: middle;\n",
       "    }\n",
       "\n",
       "    .dataframe tbody tr th {\n",
       "        vertical-align: top;\n",
       "    }\n",
       "\n",
       "    .dataframe thead th {\n",
       "        text-align: right;\n",
       "    }\n",
       "</style>\n",
       "<table border=\"1\" class=\"dataframe\">\n",
       "  <thead>\n",
       "    <tr style=\"text-align: right;\">\n",
       "      <th></th>\n",
       "      <th>age</th>\n",
       "      <th>job</th>\n",
       "      <th>marital</th>\n",
       "      <th>education</th>\n",
       "      <th>default</th>\n",
       "      <th>housing</th>\n",
       "      <th>loan</th>\n",
       "      <th>contact</th>\n",
       "      <th>month</th>\n",
       "      <th>day_of_week</th>\n",
       "      <th>...</th>\n",
       "      <th>campaign</th>\n",
       "      <th>pdays</th>\n",
       "      <th>previous</th>\n",
       "      <th>poutcome</th>\n",
       "      <th>emp.var.rate</th>\n",
       "      <th>cons.price.idx</th>\n",
       "      <th>cons.conf.idx</th>\n",
       "      <th>euribor3m</th>\n",
       "      <th>nr.employed</th>\n",
       "      <th>y</th>\n",
       "    </tr>\n",
       "  </thead>\n",
       "  <tbody>\n",
       "    <tr>\n",
       "      <th>0</th>\n",
       "      <td>56</td>\n",
       "      <td>housemaid</td>\n",
       "      <td>married</td>\n",
       "      <td>basic.4y</td>\n",
       "      <td>no</td>\n",
       "      <td>no</td>\n",
       "      <td>no</td>\n",
       "      <td>telephone</td>\n",
       "      <td>may</td>\n",
       "      <td>mon</td>\n",
       "      <td>...</td>\n",
       "      <td>1</td>\n",
       "      <td>999</td>\n",
       "      <td>0</td>\n",
       "      <td>nonexistent</td>\n",
       "      <td>1.1</td>\n",
       "      <td>93.994</td>\n",
       "      <td>-36.4</td>\n",
       "      <td>4.857</td>\n",
       "      <td>5191.0</td>\n",
       "      <td>no</td>\n",
       "    </tr>\n",
       "    <tr>\n",
       "      <th>1</th>\n",
       "      <td>57</td>\n",
       "      <td>services</td>\n",
       "      <td>married</td>\n",
       "      <td>high.school</td>\n",
       "      <td>unknown</td>\n",
       "      <td>no</td>\n",
       "      <td>no</td>\n",
       "      <td>telephone</td>\n",
       "      <td>may</td>\n",
       "      <td>mon</td>\n",
       "      <td>...</td>\n",
       "      <td>1</td>\n",
       "      <td>999</td>\n",
       "      <td>0</td>\n",
       "      <td>nonexistent</td>\n",
       "      <td>1.1</td>\n",
       "      <td>93.994</td>\n",
       "      <td>-36.4</td>\n",
       "      <td>4.857</td>\n",
       "      <td>5191.0</td>\n",
       "      <td>no</td>\n",
       "    </tr>\n",
       "    <tr>\n",
       "      <th>2</th>\n",
       "      <td>37</td>\n",
       "      <td>services</td>\n",
       "      <td>married</td>\n",
       "      <td>high.school</td>\n",
       "      <td>no</td>\n",
       "      <td>yes</td>\n",
       "      <td>no</td>\n",
       "      <td>telephone</td>\n",
       "      <td>may</td>\n",
       "      <td>mon</td>\n",
       "      <td>...</td>\n",
       "      <td>1</td>\n",
       "      <td>999</td>\n",
       "      <td>0</td>\n",
       "      <td>nonexistent</td>\n",
       "      <td>1.1</td>\n",
       "      <td>93.994</td>\n",
       "      <td>-36.4</td>\n",
       "      <td>4.857</td>\n",
       "      <td>5191.0</td>\n",
       "      <td>no</td>\n",
       "    </tr>\n",
       "    <tr>\n",
       "      <th>3</th>\n",
       "      <td>40</td>\n",
       "      <td>admin.</td>\n",
       "      <td>married</td>\n",
       "      <td>basic.6y</td>\n",
       "      <td>no</td>\n",
       "      <td>no</td>\n",
       "      <td>no</td>\n",
       "      <td>telephone</td>\n",
       "      <td>may</td>\n",
       "      <td>mon</td>\n",
       "      <td>...</td>\n",
       "      <td>1</td>\n",
       "      <td>999</td>\n",
       "      <td>0</td>\n",
       "      <td>nonexistent</td>\n",
       "      <td>1.1</td>\n",
       "      <td>93.994</td>\n",
       "      <td>-36.4</td>\n",
       "      <td>4.857</td>\n",
       "      <td>5191.0</td>\n",
       "      <td>no</td>\n",
       "    </tr>\n",
       "    <tr>\n",
       "      <th>4</th>\n",
       "      <td>56</td>\n",
       "      <td>services</td>\n",
       "      <td>married</td>\n",
       "      <td>high.school</td>\n",
       "      <td>no</td>\n",
       "      <td>no</td>\n",
       "      <td>yes</td>\n",
       "      <td>telephone</td>\n",
       "      <td>may</td>\n",
       "      <td>mon</td>\n",
       "      <td>...</td>\n",
       "      <td>1</td>\n",
       "      <td>999</td>\n",
       "      <td>0</td>\n",
       "      <td>nonexistent</td>\n",
       "      <td>1.1</td>\n",
       "      <td>93.994</td>\n",
       "      <td>-36.4</td>\n",
       "      <td>4.857</td>\n",
       "      <td>5191.0</td>\n",
       "      <td>no</td>\n",
       "    </tr>\n",
       "    <tr>\n",
       "      <th>...</th>\n",
       "      <td>...</td>\n",
       "      <td>...</td>\n",
       "      <td>...</td>\n",
       "      <td>...</td>\n",
       "      <td>...</td>\n",
       "      <td>...</td>\n",
       "      <td>...</td>\n",
       "      <td>...</td>\n",
       "      <td>...</td>\n",
       "      <td>...</td>\n",
       "      <td>...</td>\n",
       "      <td>...</td>\n",
       "      <td>...</td>\n",
       "      <td>...</td>\n",
       "      <td>...</td>\n",
       "      <td>...</td>\n",
       "      <td>...</td>\n",
       "      <td>...</td>\n",
       "      <td>...</td>\n",
       "      <td>...</td>\n",
       "      <td>...</td>\n",
       "    </tr>\n",
       "    <tr>\n",
       "      <th>41183</th>\n",
       "      <td>73</td>\n",
       "      <td>retired</td>\n",
       "      <td>married</td>\n",
       "      <td>professional.course</td>\n",
       "      <td>no</td>\n",
       "      <td>yes</td>\n",
       "      <td>no</td>\n",
       "      <td>cellular</td>\n",
       "      <td>nov</td>\n",
       "      <td>fri</td>\n",
       "      <td>...</td>\n",
       "      <td>1</td>\n",
       "      <td>999</td>\n",
       "      <td>0</td>\n",
       "      <td>nonexistent</td>\n",
       "      <td>-1.1</td>\n",
       "      <td>94.767</td>\n",
       "      <td>-50.8</td>\n",
       "      <td>1.028</td>\n",
       "      <td>4963.6</td>\n",
       "      <td>yes</td>\n",
       "    </tr>\n",
       "    <tr>\n",
       "      <th>41184</th>\n",
       "      <td>46</td>\n",
       "      <td>blue-collar</td>\n",
       "      <td>married</td>\n",
       "      <td>professional.course</td>\n",
       "      <td>no</td>\n",
       "      <td>no</td>\n",
       "      <td>no</td>\n",
       "      <td>cellular</td>\n",
       "      <td>nov</td>\n",
       "      <td>fri</td>\n",
       "      <td>...</td>\n",
       "      <td>1</td>\n",
       "      <td>999</td>\n",
       "      <td>0</td>\n",
       "      <td>nonexistent</td>\n",
       "      <td>-1.1</td>\n",
       "      <td>94.767</td>\n",
       "      <td>-50.8</td>\n",
       "      <td>1.028</td>\n",
       "      <td>4963.6</td>\n",
       "      <td>no</td>\n",
       "    </tr>\n",
       "    <tr>\n",
       "      <th>41185</th>\n",
       "      <td>56</td>\n",
       "      <td>retired</td>\n",
       "      <td>married</td>\n",
       "      <td>university.degree</td>\n",
       "      <td>no</td>\n",
       "      <td>yes</td>\n",
       "      <td>no</td>\n",
       "      <td>cellular</td>\n",
       "      <td>nov</td>\n",
       "      <td>fri</td>\n",
       "      <td>...</td>\n",
       "      <td>2</td>\n",
       "      <td>999</td>\n",
       "      <td>0</td>\n",
       "      <td>nonexistent</td>\n",
       "      <td>-1.1</td>\n",
       "      <td>94.767</td>\n",
       "      <td>-50.8</td>\n",
       "      <td>1.028</td>\n",
       "      <td>4963.6</td>\n",
       "      <td>no</td>\n",
       "    </tr>\n",
       "    <tr>\n",
       "      <th>41186</th>\n",
       "      <td>44</td>\n",
       "      <td>technician</td>\n",
       "      <td>married</td>\n",
       "      <td>professional.course</td>\n",
       "      <td>no</td>\n",
       "      <td>no</td>\n",
       "      <td>no</td>\n",
       "      <td>cellular</td>\n",
       "      <td>nov</td>\n",
       "      <td>fri</td>\n",
       "      <td>...</td>\n",
       "      <td>1</td>\n",
       "      <td>999</td>\n",
       "      <td>0</td>\n",
       "      <td>nonexistent</td>\n",
       "      <td>-1.1</td>\n",
       "      <td>94.767</td>\n",
       "      <td>-50.8</td>\n",
       "      <td>1.028</td>\n",
       "      <td>4963.6</td>\n",
       "      <td>yes</td>\n",
       "    </tr>\n",
       "    <tr>\n",
       "      <th>41187</th>\n",
       "      <td>74</td>\n",
       "      <td>retired</td>\n",
       "      <td>married</td>\n",
       "      <td>professional.course</td>\n",
       "      <td>no</td>\n",
       "      <td>yes</td>\n",
       "      <td>no</td>\n",
       "      <td>cellular</td>\n",
       "      <td>nov</td>\n",
       "      <td>fri</td>\n",
       "      <td>...</td>\n",
       "      <td>3</td>\n",
       "      <td>999</td>\n",
       "      <td>1</td>\n",
       "      <td>failure</td>\n",
       "      <td>-1.1</td>\n",
       "      <td>94.767</td>\n",
       "      <td>-50.8</td>\n",
       "      <td>1.028</td>\n",
       "      <td>4963.6</td>\n",
       "      <td>no</td>\n",
       "    </tr>\n",
       "  </tbody>\n",
       "</table>\n",
       "<p>41188 rows × 21 columns</p>\n",
       "</div>"
      ],
      "text/plain": [
       "       age          job  marital            education  default housing loan  \\\n",
       "0       56    housemaid  married             basic.4y       no      no   no   \n",
       "1       57     services  married          high.school  unknown      no   no   \n",
       "2       37     services  married          high.school       no     yes   no   \n",
       "3       40       admin.  married             basic.6y       no      no   no   \n",
       "4       56     services  married          high.school       no      no  yes   \n",
       "...    ...          ...      ...                  ...      ...     ...  ...   \n",
       "41183   73      retired  married  professional.course       no     yes   no   \n",
       "41184   46  blue-collar  married  professional.course       no      no   no   \n",
       "41185   56      retired  married    university.degree       no     yes   no   \n",
       "41186   44   technician  married  professional.course       no      no   no   \n",
       "41187   74      retired  married  professional.course       no     yes   no   \n",
       "\n",
       "         contact month day_of_week  ...  campaign  pdays  previous  \\\n",
       "0      telephone   may         mon  ...         1    999         0   \n",
       "1      telephone   may         mon  ...         1    999         0   \n",
       "2      telephone   may         mon  ...         1    999         0   \n",
       "3      telephone   may         mon  ...         1    999         0   \n",
       "4      telephone   may         mon  ...         1    999         0   \n",
       "...          ...   ...         ...  ...       ...    ...       ...   \n",
       "41183   cellular   nov         fri  ...         1    999         0   \n",
       "41184   cellular   nov         fri  ...         1    999         0   \n",
       "41185   cellular   nov         fri  ...         2    999         0   \n",
       "41186   cellular   nov         fri  ...         1    999         0   \n",
       "41187   cellular   nov         fri  ...         3    999         1   \n",
       "\n",
       "          poutcome emp.var.rate  cons.price.idx  cons.conf.idx  euribor3m  \\\n",
       "0      nonexistent          1.1          93.994          -36.4      4.857   \n",
       "1      nonexistent          1.1          93.994          -36.4      4.857   \n",
       "2      nonexistent          1.1          93.994          -36.4      4.857   \n",
       "3      nonexistent          1.1          93.994          -36.4      4.857   \n",
       "4      nonexistent          1.1          93.994          -36.4      4.857   \n",
       "...            ...          ...             ...            ...        ...   \n",
       "41183  nonexistent         -1.1          94.767          -50.8      1.028   \n",
       "41184  nonexistent         -1.1          94.767          -50.8      1.028   \n",
       "41185  nonexistent         -1.1          94.767          -50.8      1.028   \n",
       "41186  nonexistent         -1.1          94.767          -50.8      1.028   \n",
       "41187      failure         -1.1          94.767          -50.8      1.028   \n",
       "\n",
       "       nr.employed    y  \n",
       "0           5191.0   no  \n",
       "1           5191.0   no  \n",
       "2           5191.0   no  \n",
       "3           5191.0   no  \n",
       "4           5191.0   no  \n",
       "...            ...  ...  \n",
       "41183       4963.6  yes  \n",
       "41184       4963.6   no  \n",
       "41185       4963.6   no  \n",
       "41186       4963.6  yes  \n",
       "41187       4963.6   no  \n",
       "\n",
       "[41188 rows x 21 columns]"
      ]
     },
     "execution_count": 13,
     "metadata": {},
     "output_type": "execute_result"
    }
   ],
   "source": [
    "df_1"
   ]
  },
  {
   "cell_type": "markdown",
   "id": "57d52496-a864-4af0-b83f-97f548dafc01",
   "metadata": {},
   "source": [
    "Melihat Jumlah Data Terduplikasi"
   ]
  },
  {
   "cell_type": "code",
   "execution_count": 14,
   "id": "89eaff9e-9172-4726-87d3-6c19427a40b9",
   "metadata": {
    "tags": []
   },
   "outputs": [
    {
     "name": "stdout",
     "output_type": "stream",
     "text": [
      "Duplicated data: 12\n"
     ]
    }
   ],
   "source": [
    "print('Duplicated data:', df_1.duplicated().sum())"
   ]
  },
  {
   "cell_type": "markdown",
   "id": "e2ab0970-8692-4e14-9aa2-c40a1fa2379e",
   "metadata": {},
   "source": [
    "Menghapus data yang terduplikat "
   ]
  },
  {
   "cell_type": "code",
   "execution_count": 15,
   "id": "4ac5d247-eee3-44ac-8721-57339cfaa248",
   "metadata": {
    "tags": []
   },
   "outputs": [
    {
     "name": "stdout",
     "output_type": "stream",
     "text": [
      "Duplicated data: 0\n"
     ]
    }
   ],
   "source": [
    "df_1.drop_duplicates(inplace=True)\n",
    "\n",
    "print('Duplicated data:', df_1.duplicated().sum())"
   ]
  },
  {
   "cell_type": "markdown",
   "id": "383289de-d96a-4968-b46b-51d62a1c841c",
   "metadata": {},
   "source": [
    "Mengetahui missing value dari seluruh kolom"
   ]
  },
  {
   "cell_type": "code",
   "execution_count": 16,
   "id": "c9306750-6372-4d8a-83c3-86b507782ebf",
   "metadata": {
    "tags": []
   },
   "outputs": [
    {
     "data": {
      "text/plain": [
       "age               0\n",
       "job               0\n",
       "marital           0\n",
       "education         0\n",
       "default           0\n",
       "housing           0\n",
       "loan              0\n",
       "contact           0\n",
       "month             0\n",
       "day_of_week       0\n",
       "duration          0\n",
       "campaign          0\n",
       "pdays             0\n",
       "previous          0\n",
       "poutcome          0\n",
       "emp.var.rate      0\n",
       "cons.price.idx    0\n",
       "cons.conf.idx     0\n",
       "euribor3m         0\n",
       "nr.employed       0\n",
       "y                 0\n",
       "dtype: int64"
      ]
     },
     "execution_count": 16,
     "metadata": {},
     "output_type": "execute_result"
    }
   ],
   "source": [
    "df_1.isna().sum()"
   ]
  },
  {
   "cell_type": "markdown",
   "id": "1eb5e396-f2ae-407f-9c4b-7c6656c361c4",
   "metadata": {},
   "source": [
    "Dataframe yang sudah dibersihkan kemudian diduplikasi dengan tujuan agar data tidak rusak"
   ]
  },
  {
   "cell_type": "code",
   "execution_count": 17,
   "id": "6d198b09-957f-4c65-bc4f-a63bd4fcb850",
   "metadata": {
    "tags": []
   },
   "outputs": [],
   "source": [
    "df_af = df_1.copy()"
   ]
  },
  {
   "cell_type": "markdown",
   "id": "20e8f6dc-b665-45ec-b36f-b378be4b52d6",
   "metadata": {},
   "source": [
    "##### Kolom job"
   ]
  },
  {
   "cell_type": "code",
   "execution_count": 18,
   "id": "e1be8f85-4791-48ca-9cc9-f41592ea5c10",
   "metadata": {
    "tags": []
   },
   "outputs": [
    {
     "data": {
      "text/plain": [
       "array(['housemaid', 'services', 'admin.', 'blue-collar', 'technician',\n",
       "       'retired', 'management', 'unemployed', 'self-employed', 'unknown',\n",
       "       'entrepreneur', 'student'], dtype=object)"
      ]
     },
     "execution_count": 18,
     "metadata": {},
     "output_type": "execute_result"
    }
   ],
   "source": [
    "df_af['job'].unique()"
   ]
  },
  {
   "cell_type": "markdown",
   "id": "f9ecdc8b-87c3-4b95-a06b-12de45cd4ad1",
   "metadata": {},
   "source": [
    "Mengganti 'admin.' menjadi 'admin' dalam kolom 'job'"
   ]
  },
  {
   "cell_type": "code",
   "execution_count": 19,
   "id": "484fcd27-cfff-4bfe-a1ff-7abd03c8f267",
   "metadata": {
    "tags": []
   },
   "outputs": [],
   "source": [
    "df_af['job'] = df_af['job'].str.replace('admin.', 'admin', regex=False)"
   ]
  },
  {
   "cell_type": "markdown",
   "id": "a2f0d221-0dce-455e-b9e0-0b0c47f43f9d",
   "metadata": {},
   "source": [
    "##### Kolom marital"
   ]
  },
  {
   "cell_type": "code",
   "execution_count": 20,
   "id": "08700cf0-3150-4413-9f0c-f9364e71139b",
   "metadata": {
    "tags": []
   },
   "outputs": [
    {
     "data": {
      "text/plain": [
       "array(['married', 'single', 'divorced', 'unknown'], dtype=object)"
      ]
     },
     "execution_count": 20,
     "metadata": {},
     "output_type": "execute_result"
    }
   ],
   "source": [
    "df_af['marital'].unique()"
   ]
  },
  {
   "cell_type": "markdown",
   "id": "cdf2ad32-c181-4558-88bc-09e54627002c",
   "metadata": {
    "tags": []
   },
   "source": [
    "Mengidentifikasi missing value dengan menggunakan np.nan menjadi nan"
   ]
  },
  {
   "cell_type": "code",
   "execution_count": 22,
   "id": "15e07eed-f9dd-4f08-b4cc-ec7b0fa38b69",
   "metadata": {
    "tags": []
   },
   "outputs": [],
   "source": [
    "df_af['marital'] = df_af['marital'].replace('unknown', np.nan)"
   ]
  },
  {
   "cell_type": "markdown",
   "id": "62868e8c-c797-4fe1-b2dd-ba37ac2e8fcc",
   "metadata": {},
   "source": [
    "Mengidentifikasi missing value di kolom marital"
   ]
  },
  {
   "cell_type": "code",
   "execution_count": 23,
   "id": "dfb18029-3d67-46c7-932b-c40768ec2c84",
   "metadata": {
    "tags": []
   },
   "outputs": [
    {
     "data": {
      "text/plain": [
       "80"
      ]
     },
     "execution_count": 23,
     "metadata": {},
     "output_type": "execute_result"
    }
   ],
   "source": [
    "df_af['marital'].isna().sum()"
   ]
  },
  {
   "cell_type": "markdown",
   "id": "f932f903-b9e6-4c71-8853-455121db9f69",
   "metadata": {
    "tags": []
   },
   "source": [
    "Missing value tersebut kemudian diisi dengan menggunakan mode() yaitu modus terbanyak pertama [0]"
   ]
  },
  {
   "cell_type": "code",
   "execution_count": 25,
   "id": "d34f98a2-287b-4cbe-9372-03b20d3f7a8b",
   "metadata": {
    "tags": []
   },
   "outputs": [],
   "source": [
    "df_af['marital'].fillna(df_af['marital'].mode()[0], inplace=True)"
   ]
  },
  {
   "cell_type": "markdown",
   "id": "a93cc4d5-beae-41e9-bf41-4d903d832339",
   "metadata": {
    "tags": []
   },
   "source": [
    "Setelah itu kemudian cek missing value yang sudah dibersihkan"
   ]
  },
  {
   "cell_type": "code",
   "execution_count": 27,
   "id": "33aaa20f-f11e-4d5d-b1e6-1bf65ba463c9",
   "metadata": {
    "tags": []
   },
   "outputs": [
    {
     "data": {
      "text/plain": [
       "0"
      ]
     },
     "execution_count": 27,
     "metadata": {},
     "output_type": "execute_result"
    }
   ],
   "source": [
    "df_af['marital'].isna().sum()"
   ]
  },
  {
   "cell_type": "markdown",
   "id": "3dbbafd4-0002-4bb3-96fc-a041b4a7156d",
   "metadata": {},
   "source": [
    "##### Kolom education"
   ]
  },
  {
   "cell_type": "code",
   "execution_count": 28,
   "id": "a08c0cbf-e8a7-4571-a180-36de20a0c12d",
   "metadata": {
    "tags": []
   },
   "outputs": [
    {
     "data": {
      "text/plain": [
       "array(['basic.4y', 'high.school', 'basic.6y', 'basic.9y',\n",
       "       'professional.course', 'unknown', 'university.degree',\n",
       "       'illiterate'], dtype=object)"
      ]
     },
     "execution_count": 28,
     "metadata": {},
     "output_type": "execute_result"
    }
   ],
   "source": [
    "df_af['education'].unique()"
   ]
  },
  {
   "cell_type": "markdown",
   "id": "9bfbcdf3-60d1-4d2e-890e-32f04d1f8b45",
   "metadata": {
    "tags": []
   },
   "source": [
    "Mengidentifikasi missing value dengan menggunakan np.nan menjadi nan"
   ]
  },
  {
   "cell_type": "code",
   "execution_count": 29,
   "id": "6ccd43be-a968-401b-85b1-174a0f9168f4",
   "metadata": {
    "tags": []
   },
   "outputs": [],
   "source": [
    "df_af['education'] = df_af['education'].replace('unknown', np.nan)"
   ]
  },
  {
   "cell_type": "markdown",
   "id": "b7132175-08fa-4c09-856a-05df376f1500",
   "metadata": {},
   "source": [
    "Mengidentifikasi missing value "
   ]
  },
  {
   "cell_type": "code",
   "execution_count": 30,
   "id": "b8b74e76-8061-415f-b3ad-a5f6fc62243b",
   "metadata": {
    "tags": []
   },
   "outputs": [
    {
     "data": {
      "text/plain": [
       "1730"
      ]
     },
     "execution_count": 30,
     "metadata": {},
     "output_type": "execute_result"
    }
   ],
   "source": [
    "df_af['education'].isna().sum()"
   ]
  },
  {
   "cell_type": "markdown",
   "id": "2bcca86e-a6e4-4e3f-8c13-00059a0d3986",
   "metadata": {
    "tags": []
   },
   "source": [
    "Missing value tersebut kemudian diisi dengan menggunakan mode() yaitu modus terbanyak pertama [0]"
   ]
  },
  {
   "cell_type": "code",
   "execution_count": 34,
   "id": "43a77261-8164-4954-a966-654cf8602bba",
   "metadata": {
    "tags": []
   },
   "outputs": [],
   "source": [
    "df_af['education'].fillna(df_af['education'].mode()[0], inplace=True)"
   ]
  },
  {
   "cell_type": "markdown",
   "id": "203cc334-6c75-4e90-b4a0-35d974e34639",
   "metadata": {
    "tags": []
   },
   "source": [
    "Setelah itu kemudian cek missing value yang sudah dibersihkan"
   ]
  },
  {
   "cell_type": "code",
   "execution_count": 35,
   "id": "118ed687-dbb0-40e7-80ec-95c2a6de5dd6",
   "metadata": {
    "tags": []
   },
   "outputs": [
    {
     "data": {
      "text/plain": [
       "0"
      ]
     },
     "execution_count": 35,
     "metadata": {},
     "output_type": "execute_result"
    }
   ],
   "source": [
    "df_af['education'].isna().sum()"
   ]
  },
  {
   "cell_type": "markdown",
   "id": "b8243fff-0742-43d7-8842-e2e8c04a1230",
   "metadata": {},
   "source": [
    "Melihat kategori dari kolom education"
   ]
  },
  {
   "cell_type": "code",
   "execution_count": 36,
   "id": "f1aae72c-a8e8-45d9-bfef-f2ea98fc497b",
   "metadata": {
    "tags": []
   },
   "outputs": [
    {
     "name": "stdout",
     "output_type": "stream",
     "text": [
      "university.degree      13894\n",
      "high.school             9512\n",
      "basic.9y                6045\n",
      "professional.course     5240\n",
      "basic.4y                4176\n",
      "basic.6y                2291\n",
      "illiterate                18\n",
      "Name: education, dtype: int64\n"
     ]
    }
   ],
   "source": [
    "edu_counts = df_af['education'].value_counts()\n",
    "\n",
    "print(edu_counts)"
   ]
  },
  {
   "cell_type": "markdown",
   "id": "22d35ea7-cb47-4ae4-acfe-b2fa584d6e1e",
   "metadata": {
    "tags": []
   },
   "source": [
    "Mengganti nama kategori dalam kolom education"
   ]
  },
  {
   "cell_type": "code",
   "execution_count": 38,
   "id": "a768a507-b7be-4fd9-bb37-609c3233c13b",
   "metadata": {
    "tags": []
   },
   "outputs": [],
   "source": [
    "df_af['education'] = df_af['education'].replace({'basic.4y':'not-graduated',\n",
    "                                                 'basic.6y':'elementary school',\n",
    "                                                 'basic.9y':'junior high school', \n",
    "                                                 'high.school':'high school',\n",
    "                                                 'university.degree':'university degree',\n",
    "                                                 'professional.course':'pre-employment'})"
   ]
  },
  {
   "cell_type": "markdown",
   "id": "0456d0d6-1ea6-4831-a729-e7dbf90c7a65",
   "metadata": {
    "tags": []
   },
   "source": [
    "##### Kolom default"
   ]
  },
  {
   "cell_type": "code",
   "execution_count": 40,
   "id": "a7270c29-a28c-462c-bb7b-0c5d39992263",
   "metadata": {
    "tags": []
   },
   "outputs": [
    {
     "data": {
      "text/plain": [
       "array(['no', 'unknown', 'yes'], dtype=object)"
      ]
     },
     "execution_count": 40,
     "metadata": {},
     "output_type": "execute_result"
    }
   ],
   "source": [
    "df_af['default'].unique()"
   ]
  },
  {
   "cell_type": "markdown",
   "id": "dcf64fa6-c9f0-4eac-8b8f-5b090fb722dc",
   "metadata": {
    "tags": []
   },
   "source": [
    "Mengidentifikasi missing value dengan menggunakan np.nan menjadi nan"
   ]
  },
  {
   "cell_type": "code",
   "execution_count": 41,
   "id": "5da4e9e7-0bb3-4125-bbfe-b51bfa92582c",
   "metadata": {
    "tags": []
   },
   "outputs": [],
   "source": [
    "df_af['default'] = df_af['default'].replace('unknown', np.nan)"
   ]
  },
  {
   "cell_type": "markdown",
   "id": "a938cd0e-16ad-4a2f-90ae-249e63e58436",
   "metadata": {},
   "source": [
    "Mengidentifikasi missing value "
   ]
  },
  {
   "cell_type": "code",
   "execution_count": 42,
   "id": "ea285927-e694-470f-aa53-e30a10003675",
   "metadata": {
    "tags": []
   },
   "outputs": [
    {
     "data": {
      "text/plain": [
       "8596"
      ]
     },
     "execution_count": 42,
     "metadata": {},
     "output_type": "execute_result"
    }
   ],
   "source": [
    "df_af['default'].isna().sum()"
   ]
  },
  {
   "cell_type": "markdown",
   "id": "df75e843-a0a7-411f-907b-1740958aeee9",
   "metadata": {
    "tags": []
   },
   "source": [
    "Missing value tersebut kemudian diisi dengan menggunakan mode() yaitu modus terbanyak pertama [0]"
   ]
  },
  {
   "cell_type": "code",
   "execution_count": 43,
   "id": "39218be4-fda2-48db-ad91-a77fe8864804",
   "metadata": {
    "tags": []
   },
   "outputs": [],
   "source": [
    "df_af['default'].fillna(df_af['default'].mode()[0], inplace=True)"
   ]
  },
  {
   "cell_type": "markdown",
   "id": "dfed763d-fff2-4b43-8fb9-11250b41e541",
   "metadata": {
    "tags": []
   },
   "source": [
    "Setelah itu kemudian cek missing value yang sudah dibersihkan"
   ]
  },
  {
   "cell_type": "code",
   "execution_count": 44,
   "id": "30088c0b-f6da-48b2-8907-a421196578c0",
   "metadata": {
    "tags": []
   },
   "outputs": [
    {
     "data": {
      "text/plain": [
       "0"
      ]
     },
     "execution_count": 44,
     "metadata": {},
     "output_type": "execute_result"
    }
   ],
   "source": [
    "df_af['default'].isna().sum()"
   ]
  },
  {
   "cell_type": "markdown",
   "id": "976b036e-d0e4-44f0-a4eb-2ee1840945b8",
   "metadata": {},
   "source": [
    "##### Kolom housing"
   ]
  },
  {
   "cell_type": "code",
   "execution_count": 45,
   "id": "5852c4e6-7f07-4b0a-97cc-f41abeb09ad8",
   "metadata": {
    "tags": []
   },
   "outputs": [
    {
     "data": {
      "text/plain": [
       "array(['no', 'yes', 'unknown'], dtype=object)"
      ]
     },
     "execution_count": 45,
     "metadata": {},
     "output_type": "execute_result"
    }
   ],
   "source": [
    "df_af['housing'].unique()"
   ]
  },
  {
   "cell_type": "markdown",
   "id": "b6d3d998-878d-4837-8357-53414a307996",
   "metadata": {
    "tags": []
   },
   "source": [
    "Mengidentifikasi missing value dengan menggunakan np.nan menjadi nan"
   ]
  },
  {
   "cell_type": "code",
   "execution_count": 46,
   "id": "05fe5e68-dcc7-47c8-be03-757a3887d84e",
   "metadata": {
    "tags": []
   },
   "outputs": [],
   "source": [
    "df_af['housing'] = df_af['housing'].replace('unknown', np.nan)"
   ]
  },
  {
   "cell_type": "markdown",
   "id": "f3405118-4525-4963-b221-e35555e243e1",
   "metadata": {},
   "source": [
    "Mengidentifikasi missing value "
   ]
  },
  {
   "cell_type": "code",
   "execution_count": 47,
   "id": "72e9a005-1213-4c01-952f-6902bfdf626b",
   "metadata": {
    "tags": []
   },
   "outputs": [
    {
     "data": {
      "text/plain": [
       "990"
      ]
     },
     "execution_count": 47,
     "metadata": {},
     "output_type": "execute_result"
    }
   ],
   "source": [
    "df_af['housing'].isna().sum()"
   ]
  },
  {
   "cell_type": "markdown",
   "id": "03b69a9f-6952-4219-a327-eed30ed01d9f",
   "metadata": {
    "tags": []
   },
   "source": [
    "Missing value tersebut kemudian diisi dengan menggunakan mode() yaitu modus terbanyak pertama [0]"
   ]
  },
  {
   "cell_type": "code",
   "execution_count": 49,
   "id": "249da8f3-b28d-44d1-a2e5-c97e53e87c3d",
   "metadata": {
    "tags": []
   },
   "outputs": [],
   "source": [
    "df_af['housing'].fillna(df_af['housing'].mode()[0], inplace=True)"
   ]
  },
  {
   "cell_type": "markdown",
   "id": "b6f5b027-8cfe-4e90-a7fe-2dd41b27abfa",
   "metadata": {
    "tags": []
   },
   "source": [
    "Setelah itu kemudian cek missing value yang sudah dibersihkan"
   ]
  },
  {
   "cell_type": "code",
   "execution_count": 50,
   "id": "c52c9f3d-5b89-4572-804f-c0017f80cac5",
   "metadata": {
    "tags": []
   },
   "outputs": [
    {
     "data": {
      "text/plain": [
       "0"
      ]
     },
     "execution_count": 50,
     "metadata": {},
     "output_type": "execute_result"
    }
   ],
   "source": [
    "df_af['housing'].isna().sum()"
   ]
  },
  {
   "cell_type": "markdown",
   "id": "b0c96cb3-e86a-4780-ac9f-2742e3b47692",
   "metadata": {},
   "source": [
    "##### Kolom loan "
   ]
  },
  {
   "cell_type": "code",
   "execution_count": 51,
   "id": "6b25f7cb-642d-4cc8-8781-23255a353f4f",
   "metadata": {
    "tags": []
   },
   "outputs": [
    {
     "data": {
      "text/plain": [
       "array(['no', 'yes', 'unknown'], dtype=object)"
      ]
     },
     "execution_count": 51,
     "metadata": {},
     "output_type": "execute_result"
    }
   ],
   "source": [
    "df_af['loan'].unique()"
   ]
  },
  {
   "cell_type": "markdown",
   "id": "ff041bb2-1ddb-4aaf-b102-7bc486ac33e5",
   "metadata": {
    "tags": []
   },
   "source": [
    "Mengidentifikasi missing value dengan menggunakan np.nan menjadi nan"
   ]
  },
  {
   "cell_type": "code",
   "execution_count": 52,
   "id": "0b65dc1a-977e-4580-ad4a-508a66229eb9",
   "metadata": {
    "tags": []
   },
   "outputs": [],
   "source": [
    "df_af['loan'] = df_af['loan'].replace('unknown', np.nan)"
   ]
  },
  {
   "cell_type": "markdown",
   "id": "00f11f32-3d43-41b5-884e-3f653510a4c5",
   "metadata": {},
   "source": [
    "Mengidentifikasi missing value "
   ]
  },
  {
   "cell_type": "code",
   "execution_count": 53,
   "id": "94910764-1192-4de4-9922-856ee9a15da9",
   "metadata": {
    "tags": []
   },
   "outputs": [
    {
     "data": {
      "text/plain": [
       "990"
      ]
     },
     "execution_count": 53,
     "metadata": {},
     "output_type": "execute_result"
    }
   ],
   "source": [
    "df_af['loan'].isna().sum()"
   ]
  },
  {
   "cell_type": "markdown",
   "id": "f22ba705-2e71-4661-bf57-7ed9e613cfc1",
   "metadata": {
    "tags": []
   },
   "source": [
    "Missing value tersebut kemudian diisi dengan menggunakan mode() yaitu modus terbanyak pertama [0]"
   ]
  },
  {
   "cell_type": "code",
   "execution_count": 54,
   "id": "fe4a6b8e-e255-4a78-95ed-ea90f5599e49",
   "metadata": {
    "tags": []
   },
   "outputs": [],
   "source": [
    "df_af['loan'].fillna(df_af['loan'].mode()[0], inplace=True)"
   ]
  },
  {
   "cell_type": "markdown",
   "id": "1b3eece7-415f-4c9c-a7cf-b310f0a903d3",
   "metadata": {
    "tags": []
   },
   "source": [
    "Setelah itu kemudian cek missing value yang sudah dibersihkan"
   ]
  },
  {
   "cell_type": "code",
   "execution_count": 55,
   "id": "5fce4375-0880-4807-b4c8-76beaa641418",
   "metadata": {
    "tags": []
   },
   "outputs": [
    {
     "data": {
      "text/plain": [
       "0"
      ]
     },
     "execution_count": 55,
     "metadata": {},
     "output_type": "execute_result"
    }
   ],
   "source": [
    "df_af['loan'].isna().sum()"
   ]
  },
  {
   "cell_type": "markdown",
   "id": "246a7264-9918-41ef-9c51-202027f42d29",
   "metadata": {},
   "source": [
    "##### Kolom y"
   ]
  },
  {
   "cell_type": "code",
   "execution_count": 56,
   "id": "ec7e2052-40f1-4b44-85c7-a9ef7de988df",
   "metadata": {
    "tags": []
   },
   "outputs": [
    {
     "data": {
      "text/plain": [
       "array(['no', 'yes'], dtype=object)"
      ]
     },
     "execution_count": 56,
     "metadata": {},
     "output_type": "execute_result"
    }
   ],
   "source": [
    "df_af['y'].unique()"
   ]
  },
  {
   "cell_type": "markdown",
   "id": "c697bc66-7953-4b1a-a544-afd7edeaa55e",
   "metadata": {
    "tags": []
   },
   "source": [
    "Mengidentifikasi missing value"
   ]
  },
  {
   "cell_type": "code",
   "execution_count": 57,
   "id": "65065acf-bccc-44fc-86c8-639026c3cf6a",
   "metadata": {
    "tags": []
   },
   "outputs": [
    {
     "data": {
      "text/plain": [
       "0"
      ]
     },
     "execution_count": 57,
     "metadata": {},
     "output_type": "execute_result"
    }
   ],
   "source": [
    "df_af['y'].isna().sum()"
   ]
  },
  {
   "cell_type": "markdown",
   "id": "d0b52078-3240-45b7-b052-0aa68a9c91bd",
   "metadata": {},
   "source": [
    "Mengetahui dtype atau jenis data per kolom"
   ]
  },
  {
   "cell_type": "code",
   "execution_count": 59,
   "id": "f7b626fa-0ee4-4e74-9a78-fd787aee9aee",
   "metadata": {
    "tags": []
   },
   "outputs": [
    {
     "name": "stdout",
     "output_type": "stream",
     "text": [
      "<class 'pandas.core.frame.DataFrame'>\n",
      "Int64Index: 41176 entries, 0 to 41187\n",
      "Data columns (total 21 columns):\n",
      " #   Column          Non-Null Count  Dtype  \n",
      "---  ------          --------------  -----  \n",
      " 0   age             41176 non-null  int64  \n",
      " 1   job             41176 non-null  object \n",
      " 2   marital         41176 non-null  object \n",
      " 3   education       41176 non-null  object \n",
      " 4   default         41176 non-null  object \n",
      " 5   housing         41176 non-null  object \n",
      " 6   loan            41176 non-null  object \n",
      " 7   contact         41176 non-null  object \n",
      " 8   month           41176 non-null  object \n",
      " 9   day_of_week     41176 non-null  object \n",
      " 10  duration        41176 non-null  int64  \n",
      " 11  campaign        41176 non-null  int64  \n",
      " 12  pdays           41176 non-null  int64  \n",
      " 13  previous        41176 non-null  int64  \n",
      " 14  poutcome        41176 non-null  object \n",
      " 15  emp.var.rate    41176 non-null  float64\n",
      " 16  cons.price.idx  41176 non-null  float64\n",
      " 17  cons.conf.idx   41176 non-null  float64\n",
      " 18  euribor3m       41176 non-null  float64\n",
      " 19  nr.employed     41176 non-null  float64\n",
      " 20  y               41176 non-null  object \n",
      "dtypes: float64(5), int64(5), object(11)\n",
      "memory usage: 6.9+ MB\n"
     ]
    }
   ],
   "source": [
    "df_af.info()"
   ]
  },
  {
   "cell_type": "markdown",
   "id": "91e3db1b-0e5d-4e73-8277-2fb0a8ebd3f4",
   "metadata": {},
   "source": [
    "##### Me-mapping kolom dengan tabel yes & no"
   ]
  },
  {
   "cell_type": "markdown",
   "id": "38f46347-1380-4c66-828e-0c9de14022ab",
   "metadata": {
    "tags": []
   },
   "source": [
    "Merubah kategori 'yes' dan 'no' menjadi 'true' dan 'false'"
   ]
  },
  {
   "cell_type": "code",
   "execution_count": 61,
   "id": "90806c24-959f-4323-984e-3721717d2562",
   "metadata": {
    "tags": []
   },
   "outputs": [],
   "source": [
    "df_af['default'] = df_af['default'].replace({'yes':True, 'no':False})\n",
    "df_af['housing'] = df_af['housing'].replace({'yes':True, 'no':False})\n",
    "df_af['loan'] = df_af['loan'].replace({'yes':True, 'no':False})\n",
    "df_af['y'] = df_af['y'].replace({'yes':True, 'no':False})"
   ]
  },
  {
   "cell_type": "code",
   "execution_count": 62,
   "id": "3180bb25-f343-42f7-b4c3-ba5763584ee6",
   "metadata": {
    "tags": []
   },
   "outputs": [],
   "source": [
    "#Melakukan memapping True ke 1 dan False ke 0\n",
    "mapping = {True:1, False:0}"
   ]
  },
  {
   "cell_type": "code",
   "execution_count": 63,
   "id": "3d77c398-3b16-461c-80fa-04af32554baa",
   "metadata": {
    "tags": []
   },
   "outputs": [],
   "source": [
    "#Mengubah kolom label 'yes' dan 'no' menjadi numerik untuk membuat mapping \n",
    "df_af['default'] = df_af['default'].map(mapping)\n",
    "df_af['housing'] = df_af['housing'].map(mapping)\n",
    "df_af['loan'] = df_af['loan'].map(mapping) \n",
    "df_af['y'] = df_af['y'].map(mapping)"
   ]
  },
  {
   "cell_type": "code",
   "execution_count": 64,
   "id": "92abdbb9-6b90-46a8-a3b7-86ca725e227b",
   "metadata": {
    "tags": []
   },
   "outputs": [
    {
     "data": {
      "text/html": [
       "<div>\n",
       "<style scoped>\n",
       "    .dataframe tbody tr th:only-of-type {\n",
       "        vertical-align: middle;\n",
       "    }\n",
       "\n",
       "    .dataframe tbody tr th {\n",
       "        vertical-align: top;\n",
       "    }\n",
       "\n",
       "    .dataframe thead th {\n",
       "        text-align: right;\n",
       "    }\n",
       "</style>\n",
       "<table border=\"1\" class=\"dataframe\">\n",
       "  <thead>\n",
       "    <tr style=\"text-align: right;\">\n",
       "      <th></th>\n",
       "      <th>age</th>\n",
       "      <th>job</th>\n",
       "      <th>marital</th>\n",
       "      <th>education</th>\n",
       "      <th>default</th>\n",
       "      <th>housing</th>\n",
       "      <th>loan</th>\n",
       "      <th>contact</th>\n",
       "      <th>month</th>\n",
       "      <th>day_of_week</th>\n",
       "      <th>...</th>\n",
       "      <th>campaign</th>\n",
       "      <th>pdays</th>\n",
       "      <th>previous</th>\n",
       "      <th>poutcome</th>\n",
       "      <th>emp.var.rate</th>\n",
       "      <th>cons.price.idx</th>\n",
       "      <th>cons.conf.idx</th>\n",
       "      <th>euribor3m</th>\n",
       "      <th>nr.employed</th>\n",
       "      <th>y</th>\n",
       "    </tr>\n",
       "  </thead>\n",
       "  <tbody>\n",
       "    <tr>\n",
       "      <th>0</th>\n",
       "      <td>56</td>\n",
       "      <td>housemaid</td>\n",
       "      <td>married</td>\n",
       "      <td>not-graduated</td>\n",
       "      <td>0</td>\n",
       "      <td>0</td>\n",
       "      <td>0</td>\n",
       "      <td>telephone</td>\n",
       "      <td>may</td>\n",
       "      <td>mon</td>\n",
       "      <td>...</td>\n",
       "      <td>1</td>\n",
       "      <td>999</td>\n",
       "      <td>0</td>\n",
       "      <td>nonexistent</td>\n",
       "      <td>1.1</td>\n",
       "      <td>93.994</td>\n",
       "      <td>-36.4</td>\n",
       "      <td>4.857</td>\n",
       "      <td>5191.0</td>\n",
       "      <td>0</td>\n",
       "    </tr>\n",
       "    <tr>\n",
       "      <th>1</th>\n",
       "      <td>57</td>\n",
       "      <td>services</td>\n",
       "      <td>married</td>\n",
       "      <td>high school</td>\n",
       "      <td>0</td>\n",
       "      <td>0</td>\n",
       "      <td>0</td>\n",
       "      <td>telephone</td>\n",
       "      <td>may</td>\n",
       "      <td>mon</td>\n",
       "      <td>...</td>\n",
       "      <td>1</td>\n",
       "      <td>999</td>\n",
       "      <td>0</td>\n",
       "      <td>nonexistent</td>\n",
       "      <td>1.1</td>\n",
       "      <td>93.994</td>\n",
       "      <td>-36.4</td>\n",
       "      <td>4.857</td>\n",
       "      <td>5191.0</td>\n",
       "      <td>0</td>\n",
       "    </tr>\n",
       "    <tr>\n",
       "      <th>2</th>\n",
       "      <td>37</td>\n",
       "      <td>services</td>\n",
       "      <td>married</td>\n",
       "      <td>high school</td>\n",
       "      <td>0</td>\n",
       "      <td>1</td>\n",
       "      <td>0</td>\n",
       "      <td>telephone</td>\n",
       "      <td>may</td>\n",
       "      <td>mon</td>\n",
       "      <td>...</td>\n",
       "      <td>1</td>\n",
       "      <td>999</td>\n",
       "      <td>0</td>\n",
       "      <td>nonexistent</td>\n",
       "      <td>1.1</td>\n",
       "      <td>93.994</td>\n",
       "      <td>-36.4</td>\n",
       "      <td>4.857</td>\n",
       "      <td>5191.0</td>\n",
       "      <td>0</td>\n",
       "    </tr>\n",
       "    <tr>\n",
       "      <th>3</th>\n",
       "      <td>40</td>\n",
       "      <td>admin</td>\n",
       "      <td>married</td>\n",
       "      <td>elementary school</td>\n",
       "      <td>0</td>\n",
       "      <td>0</td>\n",
       "      <td>0</td>\n",
       "      <td>telephone</td>\n",
       "      <td>may</td>\n",
       "      <td>mon</td>\n",
       "      <td>...</td>\n",
       "      <td>1</td>\n",
       "      <td>999</td>\n",
       "      <td>0</td>\n",
       "      <td>nonexistent</td>\n",
       "      <td>1.1</td>\n",
       "      <td>93.994</td>\n",
       "      <td>-36.4</td>\n",
       "      <td>4.857</td>\n",
       "      <td>5191.0</td>\n",
       "      <td>0</td>\n",
       "    </tr>\n",
       "    <tr>\n",
       "      <th>4</th>\n",
       "      <td>56</td>\n",
       "      <td>services</td>\n",
       "      <td>married</td>\n",
       "      <td>high school</td>\n",
       "      <td>0</td>\n",
       "      <td>0</td>\n",
       "      <td>1</td>\n",
       "      <td>telephone</td>\n",
       "      <td>may</td>\n",
       "      <td>mon</td>\n",
       "      <td>...</td>\n",
       "      <td>1</td>\n",
       "      <td>999</td>\n",
       "      <td>0</td>\n",
       "      <td>nonexistent</td>\n",
       "      <td>1.1</td>\n",
       "      <td>93.994</td>\n",
       "      <td>-36.4</td>\n",
       "      <td>4.857</td>\n",
       "      <td>5191.0</td>\n",
       "      <td>0</td>\n",
       "    </tr>\n",
       "    <tr>\n",
       "      <th>...</th>\n",
       "      <td>...</td>\n",
       "      <td>...</td>\n",
       "      <td>...</td>\n",
       "      <td>...</td>\n",
       "      <td>...</td>\n",
       "      <td>...</td>\n",
       "      <td>...</td>\n",
       "      <td>...</td>\n",
       "      <td>...</td>\n",
       "      <td>...</td>\n",
       "      <td>...</td>\n",
       "      <td>...</td>\n",
       "      <td>...</td>\n",
       "      <td>...</td>\n",
       "      <td>...</td>\n",
       "      <td>...</td>\n",
       "      <td>...</td>\n",
       "      <td>...</td>\n",
       "      <td>...</td>\n",
       "      <td>...</td>\n",
       "      <td>...</td>\n",
       "    </tr>\n",
       "    <tr>\n",
       "      <th>41183</th>\n",
       "      <td>73</td>\n",
       "      <td>retired</td>\n",
       "      <td>married</td>\n",
       "      <td>pre-employment</td>\n",
       "      <td>0</td>\n",
       "      <td>1</td>\n",
       "      <td>0</td>\n",
       "      <td>cellular</td>\n",
       "      <td>nov</td>\n",
       "      <td>fri</td>\n",
       "      <td>...</td>\n",
       "      <td>1</td>\n",
       "      <td>999</td>\n",
       "      <td>0</td>\n",
       "      <td>nonexistent</td>\n",
       "      <td>-1.1</td>\n",
       "      <td>94.767</td>\n",
       "      <td>-50.8</td>\n",
       "      <td>1.028</td>\n",
       "      <td>4963.6</td>\n",
       "      <td>1</td>\n",
       "    </tr>\n",
       "    <tr>\n",
       "      <th>41184</th>\n",
       "      <td>46</td>\n",
       "      <td>blue-collar</td>\n",
       "      <td>married</td>\n",
       "      <td>pre-employment</td>\n",
       "      <td>0</td>\n",
       "      <td>0</td>\n",
       "      <td>0</td>\n",
       "      <td>cellular</td>\n",
       "      <td>nov</td>\n",
       "      <td>fri</td>\n",
       "      <td>...</td>\n",
       "      <td>1</td>\n",
       "      <td>999</td>\n",
       "      <td>0</td>\n",
       "      <td>nonexistent</td>\n",
       "      <td>-1.1</td>\n",
       "      <td>94.767</td>\n",
       "      <td>-50.8</td>\n",
       "      <td>1.028</td>\n",
       "      <td>4963.6</td>\n",
       "      <td>0</td>\n",
       "    </tr>\n",
       "    <tr>\n",
       "      <th>41185</th>\n",
       "      <td>56</td>\n",
       "      <td>retired</td>\n",
       "      <td>married</td>\n",
       "      <td>university degree</td>\n",
       "      <td>0</td>\n",
       "      <td>1</td>\n",
       "      <td>0</td>\n",
       "      <td>cellular</td>\n",
       "      <td>nov</td>\n",
       "      <td>fri</td>\n",
       "      <td>...</td>\n",
       "      <td>2</td>\n",
       "      <td>999</td>\n",
       "      <td>0</td>\n",
       "      <td>nonexistent</td>\n",
       "      <td>-1.1</td>\n",
       "      <td>94.767</td>\n",
       "      <td>-50.8</td>\n",
       "      <td>1.028</td>\n",
       "      <td>4963.6</td>\n",
       "      <td>0</td>\n",
       "    </tr>\n",
       "    <tr>\n",
       "      <th>41186</th>\n",
       "      <td>44</td>\n",
       "      <td>technician</td>\n",
       "      <td>married</td>\n",
       "      <td>pre-employment</td>\n",
       "      <td>0</td>\n",
       "      <td>0</td>\n",
       "      <td>0</td>\n",
       "      <td>cellular</td>\n",
       "      <td>nov</td>\n",
       "      <td>fri</td>\n",
       "      <td>...</td>\n",
       "      <td>1</td>\n",
       "      <td>999</td>\n",
       "      <td>0</td>\n",
       "      <td>nonexistent</td>\n",
       "      <td>-1.1</td>\n",
       "      <td>94.767</td>\n",
       "      <td>-50.8</td>\n",
       "      <td>1.028</td>\n",
       "      <td>4963.6</td>\n",
       "      <td>1</td>\n",
       "    </tr>\n",
       "    <tr>\n",
       "      <th>41187</th>\n",
       "      <td>74</td>\n",
       "      <td>retired</td>\n",
       "      <td>married</td>\n",
       "      <td>pre-employment</td>\n",
       "      <td>0</td>\n",
       "      <td>1</td>\n",
       "      <td>0</td>\n",
       "      <td>cellular</td>\n",
       "      <td>nov</td>\n",
       "      <td>fri</td>\n",
       "      <td>...</td>\n",
       "      <td>3</td>\n",
       "      <td>999</td>\n",
       "      <td>1</td>\n",
       "      <td>failure</td>\n",
       "      <td>-1.1</td>\n",
       "      <td>94.767</td>\n",
       "      <td>-50.8</td>\n",
       "      <td>1.028</td>\n",
       "      <td>4963.6</td>\n",
       "      <td>0</td>\n",
       "    </tr>\n",
       "  </tbody>\n",
       "</table>\n",
       "<p>41176 rows × 21 columns</p>\n",
       "</div>"
      ],
      "text/plain": [
       "       age          job  marital          education  default  housing  loan  \\\n",
       "0       56    housemaid  married      not-graduated        0        0     0   \n",
       "1       57     services  married        high school        0        0     0   \n",
       "2       37     services  married        high school        0        1     0   \n",
       "3       40        admin  married  elementary school        0        0     0   \n",
       "4       56     services  married        high school        0        0     1   \n",
       "...    ...          ...      ...                ...      ...      ...   ...   \n",
       "41183   73      retired  married     pre-employment        0        1     0   \n",
       "41184   46  blue-collar  married     pre-employment        0        0     0   \n",
       "41185   56      retired  married  university degree        0        1     0   \n",
       "41186   44   technician  married     pre-employment        0        0     0   \n",
       "41187   74      retired  married     pre-employment        0        1     0   \n",
       "\n",
       "         contact month day_of_week  ...  campaign  pdays  previous  \\\n",
       "0      telephone   may         mon  ...         1    999         0   \n",
       "1      telephone   may         mon  ...         1    999         0   \n",
       "2      telephone   may         mon  ...         1    999         0   \n",
       "3      telephone   may         mon  ...         1    999         0   \n",
       "4      telephone   may         mon  ...         1    999         0   \n",
       "...          ...   ...         ...  ...       ...    ...       ...   \n",
       "41183   cellular   nov         fri  ...         1    999         0   \n",
       "41184   cellular   nov         fri  ...         1    999         0   \n",
       "41185   cellular   nov         fri  ...         2    999         0   \n",
       "41186   cellular   nov         fri  ...         1    999         0   \n",
       "41187   cellular   nov         fri  ...         3    999         1   \n",
       "\n",
       "          poutcome emp.var.rate  cons.price.idx  cons.conf.idx  euribor3m  \\\n",
       "0      nonexistent          1.1          93.994          -36.4      4.857   \n",
       "1      nonexistent          1.1          93.994          -36.4      4.857   \n",
       "2      nonexistent          1.1          93.994          -36.4      4.857   \n",
       "3      nonexistent          1.1          93.994          -36.4      4.857   \n",
       "4      nonexistent          1.1          93.994          -36.4      4.857   \n",
       "...            ...          ...             ...            ...        ...   \n",
       "41183  nonexistent         -1.1          94.767          -50.8      1.028   \n",
       "41184  nonexistent         -1.1          94.767          -50.8      1.028   \n",
       "41185  nonexistent         -1.1          94.767          -50.8      1.028   \n",
       "41186  nonexistent         -1.1          94.767          -50.8      1.028   \n",
       "41187      failure         -1.1          94.767          -50.8      1.028   \n",
       "\n",
       "       nr.employed  y  \n",
       "0           5191.0  0  \n",
       "1           5191.0  0  \n",
       "2           5191.0  0  \n",
       "3           5191.0  0  \n",
       "4           5191.0  0  \n",
       "...            ... ..  \n",
       "41183       4963.6  1  \n",
       "41184       4963.6  0  \n",
       "41185       4963.6  0  \n",
       "41186       4963.6  1  \n",
       "41187       4963.6  0  \n",
       "\n",
       "[41176 rows x 21 columns]"
      ]
     },
     "execution_count": 64,
     "metadata": {},
     "output_type": "execute_result"
    }
   ],
   "source": [
    "df_af"
   ]
  },
  {
   "cell_type": "markdown",
   "id": "3d04a950-2887-4b03-8e07-29b9797e4adf",
   "metadata": {},
   "source": [
    "### Data Exploration"
   ]
  },
  {
   "cell_type": "markdown",
   "id": "74f14fa9-6e48-4ca9-b4e9-63a1e455a317",
   "metadata": {},
   "source": [
    "visualisasi label 'yes' & 'no'"
   ]
  },
  {
   "cell_type": "code",
   "execution_count": 67,
   "id": "35e6f634-d1e1-4ed4-824d-3221f31b6b59",
   "metadata": {
    "tags": []
   },
   "outputs": [
    {
     "data": {
      "image/png": "[encoded data removed]",
      "text/plain": [
       "<Figure size 500x500 with 1 Axes>"
      ]
     },
     "metadata": {},
     "output_type": "display_data"
    }
   ],
   "source": [
    "sns.catplot(x='default', data=df_af, kind='count')\n",
    "plt.show()"
   ]
  },
  {
   "cell_type": "markdown",
   "id": "f021d251-e034-499f-8924-6fc3f9a0a4e5",
   "metadata": {},
   "source": [
    "Melalui hasil visualisasi data di atas dapat terlihat bahwa kolom default hanya memiliki nilai 'no' yang diwakili dengan nilai 0, sementara nilai 'yes' yang seharusnya tampil dalam visualisasi plot tidak muncul sama sekali. Oleh karena itu, keputusan diambil untuk menghapus kolom 'default', karena tidak ada perbandingan yang dapat digunakan untuk analisis lebih lanjut. "
   ]
  },
  {
   "cell_type": "code",
   "execution_count": 68,
   "id": "5b026421-4905-4de1-9c6d-a2c1d1683617",
   "metadata": {
    "tags": []
   },
   "outputs": [],
   "source": [
    "#Memisahkan kolom numerik dan kolom kategorikal\n",
    "categorical = df_af.select_dtypes(include = ['object']).columns.tolist()\n",
    "numeric = df_af.select_dtypes(include = ['int64', 'float64']).columns.tolist()"
   ]
  },
  {
   "cell_type": "code",
   "execution_count": 72,
   "id": "55ec1151-b58b-4265-9b54-44c1bfd2545a",
   "metadata": {
    "tags": []
   },
   "outputs": [
    {
     "data": {
      "image/png": "[encoded data removed]",
      "text/plain": [
       "<Figure size 850x3500 with 7 Axes>"
      ]
     },
     "metadata": {},
     "output_type": "display_data"
    }
   ],
   "source": [
    "col = categorical \n",
    "\n",
    "n_rows=len(col)\n",
    "n_cols=1\n",
    "\n",
    "fig,axis=plt.subplots(n_rows, figsize=(n_cols*8.5,n_rows*5))\n",
    "\n",
    "for r in range(0, n_rows):\n",
    "    i = r*n_cols\n",
    "    ax = axis[r]\n",
    "    sns.countplot(x=col[i], hue='y', data=df_af, ax=ax)\n",
    "    ax.set_title(col[i])\n",
    "    ax.legend(loc='upper right')\n",
    "    ax.tick_params(axis = 'x', labelrotation=90)\n",
    "    \n",
    "    \n",
    "plt.tight_layout()"
   ]
  },
  {
   "cell_type": "markdown",
   "id": "33e79c65-a8cf-4a9b-b691-27931641aa5c",
   "metadata": {
    "tags": []
   },
   "source": [
    "Melalui visualisasi barplot tersebut tergambarkan bagaimana perbandingan frekuensi antara kategori dalam suatu kolom dengan distribusi baik 'yes' ataupun 'no' dalam menggunakan koordinat 'y'. Melalui visualisasi tersebut juga dapat dipahami bagaimana pengaruh dari masing - masing kategori melalui hasil 'yes' dan 'no' dalam kolom target 'y'."
   ]
  },
  {
   "cell_type": "code",
   "execution_count": 74,
   "id": "88a94dd8-90de-4339-919e-0d5dcb7aab5f",
   "metadata": {
    "tags": []
   },
   "outputs": [
    {
     "data": {
      "image/png": "[encoded data removed]",
      "text/plain": [
       "<Figure size 640x480 with 1 Axes>"
      ]
     },
     "metadata": {},
     "output_type": "display_data"
    }
   ],
   "source": [
    "#Memvisualkan kolom age menggunakan boxplot\n",
    "sns.boxplot(y='age', data=df_af)\n",
    "\n",
    "plt.show()"
   ]
  },
  {
   "cell_type": "markdown",
   "id": "b407131b-eb06-4d1b-84b5-f52e52487a7b",
   "metadata": {},
   "source": [
    "Melalui boxplot kita mendapatkan gambaran bagaimana distribusi dari sebuah data numerik, yang mana di dalamnya memberikan informasi mengenai nilai tengah, kuartil, dan data outlier. Selain itu juga dapat memberikan pemahaman bagaimana sejatinya dalam sebuah dataset distribusi dari sebuah kolom secara keseluruhan."
   ]
  },
  {
   "cell_type": "code",
   "execution_count": 75,
   "id": "81861706-3711-4e95-a067-3ac0648c06fb",
   "metadata": {
    "tags": []
   },
   "outputs": [],
   "source": [
    "#memilah dan mengidentifikasi fitur untuk membangun model\n",
    "features = ['age', 'job']"
   ]
  },
  {
   "cell_type": "code",
   "execution_count": 76,
   "id": "2e6d0cd3-cb62-438a-82d9-3c03d9896b59",
   "metadata": {
    "tags": []
   },
   "outputs": [],
   "source": [
    "#menjadikan salah satu variabel sebagai target, salah satu contohnya adalah variabel 'y'\n",
    "x = df_af[features]\n",
    "y = df_af['y']\n",
    "x = pd.get_dummies(x, columns=['job'])\n",
    "y = pd.get_dummies(y)\n",
    "y = y[1]"
   ]
  },
  {
   "cell_type": "code",
   "execution_count": 82,
   "id": "ba691846-477d-4446-9093-a0e19ff25e37",
   "metadata": {
    "tags": []
   },
   "outputs": [],
   "source": [
    "#Memisahkan dataset menjadi dua yaitu _train dengan rasio 80% dan _test dengan rasio 20%\n",
    "x_train, x_test, y_train, y_test = train_test_split(x,y, test_size=.2, random_state=0)\n",
    "\n",
    "#Melakukan penormalan fitur dengan menggunakan StandardScaler()\n",
    "scaler = StandardScaler()\n",
    "\n",
    "#Menormalkan _train dan _test\n",
    "x_train = scaler.fit_transform(x_train)\n",
    "x_test = scaler.transform(x_test)"
   ]
  },
  {
   "cell_type": "markdown",
   "id": "33b58620-4e94-4b78-988f-e29013e5b609",
   "metadata": {},
   "source": [
    "### Logistic Regression"
   ]
  },
  {
   "cell_type": "code",
   "execution_count": 83,
   "id": "3ad1658a-2adb-4b12-bffa-656f5d7f57c8",
   "metadata": {
    "tags": []
   },
   "outputs": [
    {
     "data": {
      "text/html": [
       "<style>#sk-container-id-1 {color: black;}#sk-container-id-1 pre{padding: 0;}#sk-container-id-1 div.sk-toggleable {background-color: white;}#sk-container-id-1 label.sk-toggleable__label {cursor: pointer;display: block;width: 100%;margin-bottom: 0;padding: 0.3em;box-sizing: border-box;text-align: center;}#sk-container-id-1 label.sk-toggleable__label-arrow:before {content: \"▸\";float: left;margin-right: 0.25em;color: #696969;}#sk-container-id-1 label.sk-toggleable__label-arrow:hover:before {color: black;}#sk-container-id-1 div.sk-estimator:hover label.sk-toggleable__label-arrow:before {color: black;}#sk-container-id-1 div.sk-toggleable__content {max-height: 0;max-width: 0;overflow: hidden;text-align: left;background-color: #f0f8ff;}#sk-container-id-1 div.sk-toggleable__content pre {margin: 0.2em;color: black;border-radius: 0.25em;background-color: #f0f8ff;}#sk-container-id-1 input.sk-toggleable__control:checked~div.sk-toggleable__content {max-height: 200px;max-width: 100%;overflow: auto;}#sk-container-id-1 input.sk-toggleable__control:checked~label.sk-toggleable__label-arrow:before {content: \"▾\";}#sk-container-id-1 div.sk-estimator input.sk-toggleable__control:checked~label.sk-toggleable__label {background-color: #d4ebff;}#sk-container-id-1 div.sk-label input.sk-toggleable__control:checked~label.sk-toggleable__label {background-color: #d4ebff;}#sk-container-id-1 input.sk-hidden--visually {border: 0;clip: rect(1px 1px 1px 1px);clip: rect(1px, 1px, 1px, 1px);height: 1px;margin: -1px;overflow: hidden;padding: 0;position: absolute;width: 1px;}#sk-container-id-1 div.sk-estimator {font-family: monospace;background-color: #f0f8ff;border: 1px dotted black;border-radius: 0.25em;box-sizing: border-box;margin-bottom: 0.5em;}#sk-container-id-1 div.sk-estimator:hover {background-color: #d4ebff;}#sk-container-id-1 div.sk-parallel-item::after {content: \"\";width: 100%;border-bottom: 1px solid gray;flex-grow: 1;}#sk-container-id-1 div.sk-label:hover label.sk-toggleable__label {background-color: #d4ebff;}#sk-container-id-1 div.sk-serial::before {content: \"\";position: absolute;border-left: 1px solid gray;box-sizing: border-box;top: 0;bottom: 0;left: 50%;z-index: 0;}#sk-container-id-1 div.sk-serial {display: flex;flex-direction: column;align-items: center;background-color: white;padding-right: 0.2em;padding-left: 0.2em;position: relative;}#sk-container-id-1 div.sk-item {position: relative;z-index: 1;}#sk-container-id-1 div.sk-parallel {display: flex;align-items: stretch;justify-content: center;background-color: white;position: relative;}#sk-container-id-1 div.sk-item::before, #sk-container-id-1 div.sk-parallel-item::before {content: \"\";position: absolute;border-left: 1px solid gray;box-sizing: border-box;top: 0;bottom: 0;left: 50%;z-index: -1;}#sk-container-id-1 div.sk-parallel-item {display: flex;flex-direction: column;z-index: 1;position: relative;background-color: white;}#sk-container-id-1 div.sk-parallel-item:first-child::after {align-self: flex-end;width: 50%;}#sk-container-id-1 div.sk-parallel-item:last-child::after {align-self: flex-start;width: 50%;}#sk-container-id-1 div.sk-parallel-item:only-child::after {width: 0;}#sk-container-id-1 div.sk-dashed-wrapped {border: 1px dashed gray;margin: 0 0.4em 0.5em 0.4em;box-sizing: border-box;padding-bottom: 0.4em;background-color: white;}#sk-container-id-1 div.sk-label label {font-family: monospace;font-weight: bold;display: inline-block;line-height: 1.2em;}#sk-container-id-1 div.sk-label-container {text-align: center;}#sk-container-id-1 div.sk-container {/* jupyter's `normalize.less` sets `[hidden] { display: none; }` but bootstrap.min.css set `[hidden] { display: none !important; }` so we also need the `!important` here to be able to override the default hidden behavior on the sphinx rendered scikit-learn.org. See: https://github.com/scikit-learn/scikit-learn/issues/21755 */display: inline-block !important;position: relative;}#sk-container-id-1 div.sk-text-repr-fallback {display: none;}</style><div id=\"sk-container-id-1\" class=\"sk-top-container\"><div class=\"sk-text-repr-fallback\"><pre>LogisticRegression()</pre><b>In a Jupyter environment, please rerun this cell to show the HTML representation or trust the notebook. <br />On GitHub, the HTML representation is unable to render, please try loading this page with nbviewer.org.</b></div><div class=\"sk-container\" hidden><div class=\"sk-item\"><div class=\"sk-estimator sk-toggleable\"><input class=\"sk-toggleable__control sk-hidden--visually\" id=\"sk-estimator-id-1\" type=\"checkbox\" checked><label for=\"sk-estimator-id-1\" class=\"sk-toggleable__label sk-toggleable__label-arrow\">LogisticRegression</label><div class=\"sk-toggleable__content\"><pre>LogisticRegression()</pre></div></div></div></div></div>"
      ],
      "text/plain": [
       "LogisticRegression()"
      ]
     },
     "execution_count": 83,
     "metadata": {},
     "output_type": "execute_result"
    }
   ],
   "source": [
    "logreg = LogisticRegression()\n",
    "\n",
    "#Melatih model\n",
    "logreg.fit(x_train, y_train)"
   ]
  },
  {
   "cell_type": "code",
   "execution_count": 86,
   "id": "06db9f92-eb0d-4db7-afe4-3288ad31d0a1",
   "metadata": {
    "tags": []
   },
   "outputs": [
    {
     "name": "stdout",
     "output_type": "stream",
     "text": [
      "Nilai Akurasi Model Logistic Regression sebesar: 88.26%\n"
     ]
    }
   ],
   "source": [
    "#Model yang telah digunakan kemudian digunakan sebagai berikut\n",
    "y_pred = logreg.predict(x_test)\n",
    "\n",
    "#Menghitung hasil dari akurasi model \n",
    "accuracy = accuracy_score(y_test, y_pred)\n",
    "\n",
    "print('Nilai Akurasi Model Logistic Regression sebesar: {:.2f}%'.format(accuracy *100))"
   ]
  },
  {
   "cell_type": "markdown",
   "id": "3f58983e-b1a8-440b-87e2-5d0b32d1f134",
   "metadata": {},
   "source": [
    "Melalui hasil nilai akurasi model di atas dapat terlihat bahwa hasilnya sebesar 88.26% yang bisa digolongkan dalam range cukup baik, yang mana melalui hasil tersebut masih perlu dilakukan evaluasi lebih lanjut untuk dapat meningkatkan performa dari model. Sehingga nantinya dapat memberikan pembuktian bahwa model dapat memprediksi apakah pelanggan dapat memilih 'yes' yang diwakilkan dengan 1 atau 'no' yang diwakilkan dengan nilai (0). Model dengan akurasi tinggi diharapkan memberikan keuntungan dalam mengidentifikasi pelanggan potensial."
   ]
  },
  {
   "cell_type": "markdown",
   "id": "2bbcb5ec-ca92-49ad-acd1-2cedf8981bff",
   "metadata": {},
   "source": [
    "### K-Nearest Neighbors"
   ]
  },
  {
   "cell_type": "code",
   "execution_count": 88,
   "id": "7dc50fc7-13bc-43c7-81bb-251cac1ea681",
   "metadata": {
    "tags": []
   },
   "outputs": [
    {
     "data": {
      "text/html": [
       "<style>#sk-container-id-2 {color: black;}#sk-container-id-2 pre{padding: 0;}#sk-container-id-2 div.sk-toggleable {background-color: white;}#sk-container-id-2 label.sk-toggleable__label {cursor: pointer;display: block;width: 100%;margin-bottom: 0;padding: 0.3em;box-sizing: border-box;text-align: center;}#sk-container-id-2 label.sk-toggleable__label-arrow:before {content: \"▸\";float: left;margin-right: 0.25em;color: #696969;}#sk-container-id-2 label.sk-toggleable__label-arrow:hover:before {color: black;}#sk-container-id-2 div.sk-estimator:hover label.sk-toggleable__label-arrow:before {color: black;}#sk-container-id-2 div.sk-toggleable__content {max-height: 0;max-width: 0;overflow: hidden;text-align: left;background-color: #f0f8ff;}#sk-container-id-2 div.sk-toggleable__content pre {margin: 0.2em;color: black;border-radius: 0.25em;background-color: #f0f8ff;}#sk-container-id-2 input.sk-toggleable__control:checked~div.sk-toggleable__content {max-height: 200px;max-width: 100%;overflow: auto;}#sk-container-id-2 input.sk-toggleable__control:checked~label.sk-toggleable__label-arrow:before {content: \"▾\";}#sk-container-id-2 div.sk-estimator input.sk-toggleable__control:checked~label.sk-toggleable__label {background-color: #d4ebff;}#sk-container-id-2 div.sk-label input.sk-toggleable__control:checked~label.sk-toggleable__label {background-color: #d4ebff;}#sk-container-id-2 input.sk-hidden--visually {border: 0;clip: rect(1px 1px 1px 1px);clip: rect(1px, 1px, 1px, 1px);height: 1px;margin: -1px;overflow: hidden;padding: 0;position: absolute;width: 1px;}#sk-container-id-2 div.sk-estimator {font-family: monospace;background-color: #f0f8ff;border: 1px dotted black;border-radius: 0.25em;box-sizing: border-box;margin-bottom: 0.5em;}#sk-container-id-2 div.sk-estimator:hover {background-color: #d4ebff;}#sk-container-id-2 div.sk-parallel-item::after {content: \"\";width: 100%;border-bottom: 1px solid gray;flex-grow: 1;}#sk-container-id-2 div.sk-label:hover label.sk-toggleable__label {background-color: #d4ebff;}#sk-container-id-2 div.sk-serial::before {content: \"\";position: absolute;border-left: 1px solid gray;box-sizing: border-box;top: 0;bottom: 0;left: 50%;z-index: 0;}#sk-container-id-2 div.sk-serial {display: flex;flex-direction: column;align-items: center;background-color: white;padding-right: 0.2em;padding-left: 0.2em;position: relative;}#sk-container-id-2 div.sk-item {position: relative;z-index: 1;}#sk-container-id-2 div.sk-parallel {display: flex;align-items: stretch;justify-content: center;background-color: white;position: relative;}#sk-container-id-2 div.sk-item::before, #sk-container-id-2 div.sk-parallel-item::before {content: \"\";position: absolute;border-left: 1px solid gray;box-sizing: border-box;top: 0;bottom: 0;left: 50%;z-index: -1;}#sk-container-id-2 div.sk-parallel-item {display: flex;flex-direction: column;z-index: 1;position: relative;background-color: white;}#sk-container-id-2 div.sk-parallel-item:first-child::after {align-self: flex-end;width: 50%;}#sk-container-id-2 div.sk-parallel-item:last-child::after {align-self: flex-start;width: 50%;}#sk-container-id-2 div.sk-parallel-item:only-child::after {width: 0;}#sk-container-id-2 div.sk-dashed-wrapped {border: 1px dashed gray;margin: 0 0.4em 0.5em 0.4em;box-sizing: border-box;padding-bottom: 0.4em;background-color: white;}#sk-container-id-2 div.sk-label label {font-family: monospace;font-weight: bold;display: inline-block;line-height: 1.2em;}#sk-container-id-2 div.sk-label-container {text-align: center;}#sk-container-id-2 div.sk-container {/* jupyter's `normalize.less` sets `[hidden] { display: none; }` but bootstrap.min.css set `[hidden] { display: none !important; }` so we also need the `!important` here to be able to override the default hidden behavior on the sphinx rendered scikit-learn.org. See: https://github.com/scikit-learn/scikit-learn/issues/21755 */display: inline-block !important;position: relative;}#sk-container-id-2 div.sk-text-repr-fallback {display: none;}</style><div id=\"sk-container-id-2\" class=\"sk-top-container\"><div class=\"sk-text-repr-fallback\"><pre>KNeighborsClassifier(n_neighbors=3)</pre><b>In a Jupyter environment, please rerun this cell to show the HTML representation or trust the notebook. <br />On GitHub, the HTML representation is unable to render, please try loading this page with nbviewer.org.</b></div><div class=\"sk-container\" hidden><div class=\"sk-item\"><div class=\"sk-estimator sk-toggleable\"><input class=\"sk-toggleable__control sk-hidden--visually\" id=\"sk-estimator-id-2\" type=\"checkbox\" checked><label for=\"sk-estimator-id-2\" class=\"sk-toggleable__label sk-toggleable__label-arrow\">KNeighborsClassifier</label><div class=\"sk-toggleable__content\"><pre>KNeighborsClassifier(n_neighbors=3)</pre></div></div></div></div></div>"
      ],
      "text/plain": [
       "KNeighborsClassifier(n_neighbors=3)"
      ]
     },
     "execution_count": 88,
     "metadata": {},
     "output_type": "execute_result"
    }
   ],
   "source": [
    "knn = KNeighborsClassifier(n_neighbors=3)\n",
    "\n",
    "#melatih model KNN\n",
    "knn.fit(x_train, y_train)"
   ]
  },
  {
   "cell_type": "code",
   "execution_count": 89,
   "id": "1c7cbc2d-9774-4d58-a790-a3b7f2367015",
   "metadata": {
    "tags": []
   },
   "outputs": [],
   "source": [
    "#Memprediksi data pengujian\n",
    "y_pred_knn = knn.predict(x_test)"
   ]
  },
  {
   "cell_type": "code",
   "execution_count": 90,
   "id": "c438bcd5-7b15-4399-9c6c-5ff40c1b5d34",
   "metadata": {
    "tags": []
   },
   "outputs": [
    {
     "name": "stdout",
     "output_type": "stream",
     "text": [
      "Akurasi Model K-NN: 83.60%\n"
     ]
    }
   ],
   "source": [
    "#Menghitung nilai akurasi \n",
    "accuracy_knn = accuracy_score(y_test, y_pred_knn)\n",
    "\n",
    "print('Akurasi Model K-NN: {:.2f}%'.format(accuracy_knn*100))"
   ]
  },
  {
   "cell_type": "markdown",
   "id": "131a50be-099d-4edd-9dbe-9c6ae0cb1748",
   "metadata": {},
   "source": [
    "Jika dibandingkan dengan model sebelumnya, model ini cenderung memiliki nilai akurasi yang lebih rendah walaupun hanya memiliki perbedaan bekisar 5%, tetapi dengan nilai akurasi sebesar 83.60%, model ini dapat digolongkan memiliki akurasi yang cukup baik.\n",
    "Sama seperti model sebelumnya, model ini juga diharapkan dapat memberikan tingkat akurasi yang tinggi sehingga dapat memberikan keuntungan di dalam mengidentifikasi pelanggan potensial. "
   ]
  },
  {
   "cell_type": "markdown",
   "id": "f77b6718-aa89-4ab6-8619-305a1d93b616",
   "metadata": {
    "tags": []
   },
   "source": [
    "### Support Vector Machine "
   ]
  },
  {
   "cell_type": "code",
   "execution_count": 92,
   "id": "0dfbb49d-512c-4c7e-8627-31d388bd939a",
   "metadata": {
    "tags": []
   },
   "outputs": [],
   "source": [
    "#Membuat model \n",
    "svm = SVC(kernel = 'rbf', C = 1.0, gamma=0.1)"
   ]
  },
  {
   "cell_type": "code",
   "execution_count": 94,
   "id": "b5921678-722c-4f2d-b6ca-ba0bfed4dd0f",
   "metadata": {
    "tags": []
   },
   "outputs": [
    {
     "data": {
      "text/html": [
       "<style>#sk-container-id-4 {color: black;}#sk-container-id-4 pre{padding: 0;}#sk-container-id-4 div.sk-toggleable {background-color: white;}#sk-container-id-4 label.sk-toggleable__label {cursor: pointer;display: block;width: 100%;margin-bottom: 0;padding: 0.3em;box-sizing: border-box;text-align: center;}#sk-container-id-4 label.sk-toggleable__label-arrow:before {content: \"▸\";float: left;margin-right: 0.25em;color: #696969;}#sk-container-id-4 label.sk-toggleable__label-arrow:hover:before {color: black;}#sk-container-id-4 div.sk-estimator:hover label.sk-toggleable__label-arrow:before {color: black;}#sk-container-id-4 div.sk-toggleable__content {max-height: 0;max-width: 0;overflow: hidden;text-align: left;background-color: #f0f8ff;}#sk-container-id-4 div.sk-toggleable__content pre {margin: 0.2em;color: black;border-radius: 0.25em;background-color: #f0f8ff;}#sk-container-id-4 input.sk-toggleable__control:checked~div.sk-toggleable__content {max-height: 200px;max-width: 100%;overflow: auto;}#sk-container-id-4 input.sk-toggleable__control:checked~label.sk-toggleable__label-arrow:before {content: \"▾\";}#sk-container-id-4 div.sk-estimator input.sk-toggleable__control:checked~label.sk-toggleable__label {background-color: #d4ebff;}#sk-container-id-4 div.sk-label input.sk-toggleable__control:checked~label.sk-toggleable__label {background-color: #d4ebff;}#sk-container-id-4 input.sk-hidden--visually {border: 0;clip: rect(1px 1px 1px 1px);clip: rect(1px, 1px, 1px, 1px);height: 1px;margin: -1px;overflow: hidden;padding: 0;position: absolute;width: 1px;}#sk-container-id-4 div.sk-estimator {font-family: monospace;background-color: #f0f8ff;border: 1px dotted black;border-radius: 0.25em;box-sizing: border-box;margin-bottom: 0.5em;}#sk-container-id-4 div.sk-estimator:hover {background-color: #d4ebff;}#sk-container-id-4 div.sk-parallel-item::after {content: \"\";width: 100%;border-bottom: 1px solid gray;flex-grow: 1;}#sk-container-id-4 div.sk-label:hover label.sk-toggleable__label {background-color: #d4ebff;}#sk-container-id-4 div.sk-serial::before {content: \"\";position: absolute;border-left: 1px solid gray;box-sizing: border-box;top: 0;bottom: 0;left: 50%;z-index: 0;}#sk-container-id-4 div.sk-serial {display: flex;flex-direction: column;align-items: center;background-color: white;padding-right: 0.2em;padding-left: 0.2em;position: relative;}#sk-container-id-4 div.sk-item {position: relative;z-index: 1;}#sk-container-id-4 div.sk-parallel {display: flex;align-items: stretch;justify-content: center;background-color: white;position: relative;}#sk-container-id-4 div.sk-item::before, #sk-container-id-4 div.sk-parallel-item::before {content: \"\";position: absolute;border-left: 1px solid gray;box-sizing: border-box;top: 0;bottom: 0;left: 50%;z-index: -1;}#sk-container-id-4 div.sk-parallel-item {display: flex;flex-direction: column;z-index: 1;position: relative;background-color: white;}#sk-container-id-4 div.sk-parallel-item:first-child::after {align-self: flex-end;width: 50%;}#sk-container-id-4 div.sk-parallel-item:last-child::after {align-self: flex-start;width: 50%;}#sk-container-id-4 div.sk-parallel-item:only-child::after {width: 0;}#sk-container-id-4 div.sk-dashed-wrapped {border: 1px dashed gray;margin: 0 0.4em 0.5em 0.4em;box-sizing: border-box;padding-bottom: 0.4em;background-color: white;}#sk-container-id-4 div.sk-label label {font-family: monospace;font-weight: bold;display: inline-block;line-height: 1.2em;}#sk-container-id-4 div.sk-label-container {text-align: center;}#sk-container-id-4 div.sk-container {/* jupyter's `normalize.less` sets `[hidden] { display: none; }` but bootstrap.min.css set `[hidden] { display: none !important; }` so we also need the `!important` here to be able to override the default hidden behavior on the sphinx rendered scikit-learn.org. See: https://github.com/scikit-learn/scikit-learn/issues/21755 */display: inline-block !important;position: relative;}#sk-container-id-4 div.sk-text-repr-fallback {display: none;}</style><div id=\"sk-container-id-4\" class=\"sk-top-container\"><div class=\"sk-text-repr-fallback\"><pre>SVC(gamma=0.1)</pre><b>In a Jupyter environment, please rerun this cell to show the HTML representation or trust the notebook. <br />On GitHub, the HTML representation is unable to render, please try loading this page with nbviewer.org.</b></div><div class=\"sk-container\" hidden><div class=\"sk-item\"><div class=\"sk-estimator sk-toggleable\"><input class=\"sk-toggleable__control sk-hidden--visually\" id=\"sk-estimator-id-4\" type=\"checkbox\" checked><label for=\"sk-estimator-id-4\" class=\"sk-toggleable__label sk-toggleable__label-arrow\">SVC</label><div class=\"sk-toggleable__content\"><pre>SVC(gamma=0.1)</pre></div></div></div></div></div>"
      ],
      "text/plain": [
       "SVC(gamma=0.1)"
      ]
     },
     "execution_count": 94,
     "metadata": {},
     "output_type": "execute_result"
    }
   ],
   "source": [
    "#Melatih model \n",
    "svm.fit(x_train, y_train)"
   ]
  },
  {
   "cell_type": "code",
   "execution_count": 95,
   "id": "2374e235-6a7d-4d1e-b178-41d48dd8e2d7",
   "metadata": {
    "tags": []
   },
   "outputs": [],
   "source": [
    "#Memprediksi data pengujian\n",
    "y_pred_svm = svm.predict(x_test)"
   ]
  },
  {
   "cell_type": "code",
   "execution_count": 96,
   "id": "fc60778f-97c0-4924-a588-6b4d3ebed32e",
   "metadata": {
    "tags": []
   },
   "outputs": [
    {
     "name": "stdout",
     "output_type": "stream",
     "text": [
      "Akurasi Model SVM: 88.26%\n"
     ]
    }
   ],
   "source": [
    "#Menghitung akurasi model\n",
    "accuracy_svm = accuracy_score(y_test, y_pred_svm)\n",
    "\n",
    "print('Akurasi Model SVM: {:.2f}%'.format(accuracy_svm * 100))"
   ]
  },
  {
   "cell_type": "markdown",
   "id": "fdeac6bc-904f-4c8a-8ce8-86e8aa4543d2",
   "metadata": {},
   "source": [
    "Melalui hasil akurasi model Support Vector Machine (SVM) dapat terlihat bahwa tingkat akurasinya menyamai tingkat akurasi dari logistic regression, di mana melalui nilai akurasi yang dihasilkan dapat diketahui bahwa model SVM memiliki tingkat akurasi yang cukup baik juga. Namun, dalam memberikan prediksi yang akurat akan lebih baik juga jika model ini dievaluasi lebih lanjut, sama dengan dua model sebelumnya. "
   ]
  },
  {
   "cell_type": "markdown",
   "id": "1d8f0fff-5955-4527-8599-84a8f8bc8685",
   "metadata": {
    "tags": []
   },
   "source": [
    "### Decision Tree "
   ]
  },
  {
   "cell_type": "code",
   "execution_count": 98,
   "id": "9762d013-89be-48fb-ae38-efad2d6a5469",
   "metadata": {
    "tags": []
   },
   "outputs": [
    {
     "data": {
      "text/html": [
       "<style>#sk-container-id-5 {color: black;}#sk-container-id-5 pre{padding: 0;}#sk-container-id-5 div.sk-toggleable {background-color: white;}#sk-container-id-5 label.sk-toggleable__label {cursor: pointer;display: block;width: 100%;margin-bottom: 0;padding: 0.3em;box-sizing: border-box;text-align: center;}#sk-container-id-5 label.sk-toggleable__label-arrow:before {content: \"▸\";float: left;margin-right: 0.25em;color: #696969;}#sk-container-id-5 label.sk-toggleable__label-arrow:hover:before {color: black;}#sk-container-id-5 div.sk-estimator:hover label.sk-toggleable__label-arrow:before {color: black;}#sk-container-id-5 div.sk-toggleable__content {max-height: 0;max-width: 0;overflow: hidden;text-align: left;background-color: #f0f8ff;}#sk-container-id-5 div.sk-toggleable__content pre {margin: 0.2em;color: black;border-radius: 0.25em;background-color: #f0f8ff;}#sk-container-id-5 input.sk-toggleable__control:checked~div.sk-toggleable__content {max-height: 200px;max-width: 100%;overflow: auto;}#sk-container-id-5 input.sk-toggleable__control:checked~label.sk-toggleable__label-arrow:before {content: \"▾\";}#sk-container-id-5 div.sk-estimator input.sk-toggleable__control:checked~label.sk-toggleable__label {background-color: #d4ebff;}#sk-container-id-5 div.sk-label input.sk-toggleable__control:checked~label.sk-toggleable__label {background-color: #d4ebff;}#sk-container-id-5 input.sk-hidden--visually {border: 0;clip: rect(1px 1px 1px 1px);clip: rect(1px, 1px, 1px, 1px);height: 1px;margin: -1px;overflow: hidden;padding: 0;position: absolute;width: 1px;}#sk-container-id-5 div.sk-estimator {font-family: monospace;background-color: #f0f8ff;border: 1px dotted black;border-radius: 0.25em;box-sizing: border-box;margin-bottom: 0.5em;}#sk-container-id-5 div.sk-estimator:hover {background-color: #d4ebff;}#sk-container-id-5 div.sk-parallel-item::after {content: \"\";width: 100%;border-bottom: 1px solid gray;flex-grow: 1;}#sk-container-id-5 div.sk-label:hover label.sk-toggleable__label {background-color: #d4ebff;}#sk-container-id-5 div.sk-serial::before {content: \"\";position: absolute;border-left: 1px solid gray;box-sizing: border-box;top: 0;bottom: 0;left: 50%;z-index: 0;}#sk-container-id-5 div.sk-serial {display: flex;flex-direction: column;align-items: center;background-color: white;padding-right: 0.2em;padding-left: 0.2em;position: relative;}#sk-container-id-5 div.sk-item {position: relative;z-index: 1;}#sk-container-id-5 div.sk-parallel {display: flex;align-items: stretch;justify-content: center;background-color: white;position: relative;}#sk-container-id-5 div.sk-item::before, #sk-container-id-5 div.sk-parallel-item::before {content: \"\";position: absolute;border-left: 1px solid gray;box-sizing: border-box;top: 0;bottom: 0;left: 50%;z-index: -1;}#sk-container-id-5 div.sk-parallel-item {display: flex;flex-direction: column;z-index: 1;position: relative;background-color: white;}#sk-container-id-5 div.sk-parallel-item:first-child::after {align-self: flex-end;width: 50%;}#sk-container-id-5 div.sk-parallel-item:last-child::after {align-self: flex-start;width: 50%;}#sk-container-id-5 div.sk-parallel-item:only-child::after {width: 0;}#sk-container-id-5 div.sk-dashed-wrapped {border: 1px dashed gray;margin: 0 0.4em 0.5em 0.4em;box-sizing: border-box;padding-bottom: 0.4em;background-color: white;}#sk-container-id-5 div.sk-label label {font-family: monospace;font-weight: bold;display: inline-block;line-height: 1.2em;}#sk-container-id-5 div.sk-label-container {text-align: center;}#sk-container-id-5 div.sk-container {/* jupyter's `normalize.less` sets `[hidden] { display: none; }` but bootstrap.min.css set `[hidden] { display: none !important; }` so we also need the `!important` here to be able to override the default hidden behavior on the sphinx rendered scikit-learn.org. See: https://github.com/scikit-learn/scikit-learn/issues/21755 */display: inline-block !important;position: relative;}#sk-container-id-5 div.sk-text-repr-fallback {display: none;}</style><div id=\"sk-container-id-5\" class=\"sk-top-container\"><div class=\"sk-text-repr-fallback\"><pre>DecisionTreeClassifier()</pre><b>In a Jupyter environment, please rerun this cell to show the HTML representation or trust the notebook. <br />On GitHub, the HTML representation is unable to render, please try loading this page with nbviewer.org.</b></div><div class=\"sk-container\" hidden><div class=\"sk-item\"><div class=\"sk-estimator sk-toggleable\"><input class=\"sk-toggleable__control sk-hidden--visually\" id=\"sk-estimator-id-5\" type=\"checkbox\" checked><label for=\"sk-estimator-id-5\" class=\"sk-toggleable__label sk-toggleable__label-arrow\">DecisionTreeClassifier</label><div class=\"sk-toggleable__content\"><pre>DecisionTreeClassifier()</pre></div></div></div></div></div>"
      ],
      "text/plain": [
       "DecisionTreeClassifier()"
      ]
     },
     "execution_count": 98,
     "metadata": {},
     "output_type": "execute_result"
    }
   ],
   "source": [
    "#Membuat model \n",
    "decision_tree = DecisionTreeClassifier(criterion='gini', max_depth=None)\n",
    "\n",
    "#Melatih model\n",
    "decision_tree.fit(x_train, y_train)"
   ]
  },
  {
   "cell_type": "code",
   "execution_count": 99,
   "id": "a3eacfea-aad2-45ba-8444-215de2ca4913",
   "metadata": {
    "tags": []
   },
   "outputs": [],
   "source": [
    "#Memprediksi data pengujian\n",
    "y_pred_decision_tree = decision_tree.predict(x_test)"
   ]
  },
  {
   "cell_type": "code",
   "execution_count": 100,
   "id": "639430ee-7b49-42df-b301-931324f4e04e",
   "metadata": {
    "tags": []
   },
   "outputs": [
    {
     "name": "stdout",
     "output_type": "stream",
     "text": [
      "Akurasi Model Decision Tree: 88.25%\n"
     ]
    }
   ],
   "source": [
    "#Menghitung akurasi\n",
    "accuracy_decision_tree = accuracy_score(y_test, y_pred_decision_tree)\n",
    "\n",
    "print('Akurasi Model Decision Tree: {:.2f}%'.format(accuracy_decision_tree *100))"
   ]
  },
  {
   "cell_type": "markdown",
   "id": "7eecb988-6cea-4ce8-83b1-ecb1a46a6171",
   "metadata": {
    "tags": []
   },
   "source": [
    "Model Decision Tree memiliki akurasi yang hampir mirip dengan dua model sebelumnya yaitu Logistic Regression dan SVM, di mana nilai hasil akurasi dari Decision Tree yaitu sebesar 88.25% yang mana hal ini memberikan indikasi bahwa model ini memiliki kemampuan prediksi yang kurang lebih menyamai dua model sebelumnya. Namun, beberapa hal yang dapat menjadi perhatian adalah Decision Tree dapat cenderung memiliki kemungkinan overfitting ketika tidak memiliki pengaturan yang tepat dan tidak mempertimbangkan parameter. \n",
    "\n",
    "Jika dihubungkan dengan finansial atau investasi, tingkat akurasi ini telah mencapai standar yang memuaskan. Model ini menghasilkan data yang stabil dan dapat dipercaya, memberikan kontribusi positif dalam proses pengambilan keputusan. Hal ini berarti model dapat memberikan prediksi yang lebih optimal untuk memahami apakah pelanggan akan melakukan pendaftaran atau tidak."
   ]
  },
  {
   "cell_type": "markdown",
   "id": "e0a3eebd-73ac-4867-9dcf-2f4615da1c29",
   "metadata": {},
   "source": [
    "### Random Forest"
   ]
  },
  {
   "cell_type": "code",
   "execution_count": 103,
   "id": "1882bf55-dc51-416f-8d59-298f9864c47b",
   "metadata": {
    "tags": []
   },
   "outputs": [
    {
     "data": {
      "text/html": [
       "<style>#sk-container-id-6 {color: black;}#sk-container-id-6 pre{padding: 0;}#sk-container-id-6 div.sk-toggleable {background-color: white;}#sk-container-id-6 label.sk-toggleable__label {cursor: pointer;display: block;width: 100%;margin-bottom: 0;padding: 0.3em;box-sizing: border-box;text-align: center;}#sk-container-id-6 label.sk-toggleable__label-arrow:before {content: \"▸\";float: left;margin-right: 0.25em;color: #696969;}#sk-container-id-6 label.sk-toggleable__label-arrow:hover:before {color: black;}#sk-container-id-6 div.sk-estimator:hover label.sk-toggleable__label-arrow:before {color: black;}#sk-container-id-6 div.sk-toggleable__content {max-height: 0;max-width: 0;overflow: hidden;text-align: left;background-color: #f0f8ff;}#sk-container-id-6 div.sk-toggleable__content pre {margin: 0.2em;color: black;border-radius: 0.25em;background-color: #f0f8ff;}#sk-container-id-6 input.sk-toggleable__control:checked~div.sk-toggleable__content {max-height: 200px;max-width: 100%;overflow: auto;}#sk-container-id-6 input.sk-toggleable__control:checked~label.sk-toggleable__label-arrow:before {content: \"▾\";}#sk-container-id-6 div.sk-estimator input.sk-toggleable__control:checked~label.sk-toggleable__label {background-color: #d4ebff;}#sk-container-id-6 div.sk-label input.sk-toggleable__control:checked~label.sk-toggleable__label {background-color: #d4ebff;}#sk-container-id-6 input.sk-hidden--visually {border: 0;clip: rect(1px 1px 1px 1px);clip: rect(1px, 1px, 1px, 1px);height: 1px;margin: -1px;overflow: hidden;padding: 0;position: absolute;width: 1px;}#sk-container-id-6 div.sk-estimator {font-family: monospace;background-color: #f0f8ff;border: 1px dotted black;border-radius: 0.25em;box-sizing: border-box;margin-bottom: 0.5em;}#sk-container-id-6 div.sk-estimator:hover {background-color: #d4ebff;}#sk-container-id-6 div.sk-parallel-item::after {content: \"\";width: 100%;border-bottom: 1px solid gray;flex-grow: 1;}#sk-container-id-6 div.sk-label:hover label.sk-toggleable__label {background-color: #d4ebff;}#sk-container-id-6 div.sk-serial::before {content: \"\";position: absolute;border-left: 1px solid gray;box-sizing: border-box;top: 0;bottom: 0;left: 50%;z-index: 0;}#sk-container-id-6 div.sk-serial {display: flex;flex-direction: column;align-items: center;background-color: white;padding-right: 0.2em;padding-left: 0.2em;position: relative;}#sk-container-id-6 div.sk-item {position: relative;z-index: 1;}#sk-container-id-6 div.sk-parallel {display: flex;align-items: stretch;justify-content: center;background-color: white;position: relative;}#sk-container-id-6 div.sk-item::before, #sk-container-id-6 div.sk-parallel-item::before {content: \"\";position: absolute;border-left: 1px solid gray;box-sizing: border-box;top: 0;bottom: 0;left: 50%;z-index: -1;}#sk-container-id-6 div.sk-parallel-item {display: flex;flex-direction: column;z-index: 1;position: relative;background-color: white;}#sk-container-id-6 div.sk-parallel-item:first-child::after {align-self: flex-end;width: 50%;}#sk-container-id-6 div.sk-parallel-item:last-child::after {align-self: flex-start;width: 50%;}#sk-container-id-6 div.sk-parallel-item:only-child::after {width: 0;}#sk-container-id-6 div.sk-dashed-wrapped {border: 1px dashed gray;margin: 0 0.4em 0.5em 0.4em;box-sizing: border-box;padding-bottom: 0.4em;background-color: white;}#sk-container-id-6 div.sk-label label {font-family: monospace;font-weight: bold;display: inline-block;line-height: 1.2em;}#sk-container-id-6 div.sk-label-container {text-align: center;}#sk-container-id-6 div.sk-container {/* jupyter's `normalize.less` sets `[hidden] { display: none; }` but bootstrap.min.css set `[hidden] { display: none !important; }` so we also need the `!important` here to be able to override the default hidden behavior on the sphinx rendered scikit-learn.org. See: https://github.com/scikit-learn/scikit-learn/issues/21755 */display: inline-block !important;position: relative;}#sk-container-id-6 div.sk-text-repr-fallback {display: none;}</style><div id=\"sk-container-id-6\" class=\"sk-top-container\"><div class=\"sk-text-repr-fallback\"><pre>RandomForestClassifier()</pre><b>In a Jupyter environment, please rerun this cell to show the HTML representation or trust the notebook. <br />On GitHub, the HTML representation is unable to render, please try loading this page with nbviewer.org.</b></div><div class=\"sk-container\" hidden><div class=\"sk-item\"><div class=\"sk-estimator sk-toggleable\"><input class=\"sk-toggleable__control sk-hidden--visually\" id=\"sk-estimator-id-6\" type=\"checkbox\" checked><label for=\"sk-estimator-id-6\" class=\"sk-toggleable__label sk-toggleable__label-arrow\">RandomForestClassifier</label><div class=\"sk-toggleable__content\"><pre>RandomForestClassifier()</pre></div></div></div></div></div>"
      ],
      "text/plain": [
       "RandomForestClassifier()"
      ]
     },
     "execution_count": 103,
     "metadata": {},
     "output_type": "execute_result"
    }
   ],
   "source": [
    "#Membuat model \n",
    "random_forest = RandomForestClassifier(n_estimators = 100, criterion = 'gini',max_depth=None)\n",
    "\n",
    "#Melatih model\n",
    "random_forest.fit(x_train, y_train)"
   ]
  },
  {
   "cell_type": "code",
   "execution_count": 104,
   "id": "3a5aa7be-c932-4a31-ba4f-ea640a5ddbd7",
   "metadata": {
    "tags": []
   },
   "outputs": [
    {
     "name": "stdout",
     "output_type": "stream",
     "text": [
      "Akurasi Model Random Forest: 88.25%\n"
     ]
    }
   ],
   "source": [
    "#Memprediksi data pengujian\n",
    "y_pred_random_forest = random_forest.predict(x_test)\n",
    "\n",
    "#Menghitung akurasi model\n",
    "accuracy_random_forest = accuracy_score(y_test, y_pred_random_forest)\n",
    "\n",
    "print('Akurasi Model Random Forest: {:.2f}%'.format(accuracy_random_forest * 100))"
   ]
  },
  {
   "cell_type": "markdown",
   "id": "d50b9b19-2c92-43ec-a0c5-068657aebd9b",
   "metadata": {},
   "source": [
    "Hasil akurasi dari Model Random Forest menunjukkan bahwa tingkat akurasi yang dihasilkan model ini cukup baik, yang mana berada pada angka 88.25% dan tidak begitu jauh dengan tingkat akurasi yang dihasilkan model sebelumnya. \n",
    "\n",
    "Random Forest mampu memberikan prediksi yang lebih akurat dan stabil terkait dengan keputusan pelanggan untuk mendaftar atau tidak. Kemampuannya untuk mengatasi overfitting dan menangani variasi dalam dataset membuat Random Forest menjadi alat yang efektif dalam meningkatkan performa model prediksi, sehingga memberikan hasil yang dapat diandalkan dalam proses pengambilan keputusan terkait pendaftaran pelanggan."
   ]
  },
  {
   "cell_type": "markdown",
   "id": "4fab0630-2709-43d8-ac9d-8a4004677ab4",
   "metadata": {},
   "source": [
    "### Naive Bayes "
   ]
  },
  {
   "cell_type": "code",
   "execution_count": 106,
   "id": "d4ebe936-2148-4b78-8f55-8a707fd4b0b5",
   "metadata": {
    "tags": []
   },
   "outputs": [
    {
     "data": {
      "text/html": [
       "<style>#sk-container-id-7 {color: black;}#sk-container-id-7 pre{padding: 0;}#sk-container-id-7 div.sk-toggleable {background-color: white;}#sk-container-id-7 label.sk-toggleable__label {cursor: pointer;display: block;width: 100%;margin-bottom: 0;padding: 0.3em;box-sizing: border-box;text-align: center;}#sk-container-id-7 label.sk-toggleable__label-arrow:before {content: \"▸\";float: left;margin-right: 0.25em;color: #696969;}#sk-container-id-7 label.sk-toggleable__label-arrow:hover:before {color: black;}#sk-container-id-7 div.sk-estimator:hover label.sk-toggleable__label-arrow:before {color: black;}#sk-container-id-7 div.sk-toggleable__content {max-height: 0;max-width: 0;overflow: hidden;text-align: left;background-color: #f0f8ff;}#sk-container-id-7 div.sk-toggleable__content pre {margin: 0.2em;color: black;border-radius: 0.25em;background-color: #f0f8ff;}#sk-container-id-7 input.sk-toggleable__control:checked~div.sk-toggleable__content {max-height: 200px;max-width: 100%;overflow: auto;}#sk-container-id-7 input.sk-toggleable__control:checked~label.sk-toggleable__label-arrow:before {content: \"▾\";}#sk-container-id-7 div.sk-estimator input.sk-toggleable__control:checked~label.sk-toggleable__label {background-color: #d4ebff;}#sk-container-id-7 div.sk-label input.sk-toggleable__control:checked~label.sk-toggleable__label {background-color: #d4ebff;}#sk-container-id-7 input.sk-hidden--visually {border: 0;clip: rect(1px 1px 1px 1px);clip: rect(1px, 1px, 1px, 1px);height: 1px;margin: -1px;overflow: hidden;padding: 0;position: absolute;width: 1px;}#sk-container-id-7 div.sk-estimator {font-family: monospace;background-color: #f0f8ff;border: 1px dotted black;border-radius: 0.25em;box-sizing: border-box;margin-bottom: 0.5em;}#sk-container-id-7 div.sk-estimator:hover {background-color: #d4ebff;}#sk-container-id-7 div.sk-parallel-item::after {content: \"\";width: 100%;border-bottom: 1px solid gray;flex-grow: 1;}#sk-container-id-7 div.sk-label:hover label.sk-toggleable__label {background-color: #d4ebff;}#sk-container-id-7 div.sk-serial::before {content: \"\";position: absolute;border-left: 1px solid gray;box-sizing: border-box;top: 0;bottom: 0;left: 50%;z-index: 0;}#sk-container-id-7 div.sk-serial {display: flex;flex-direction: column;align-items: center;background-color: white;padding-right: 0.2em;padding-left: 0.2em;position: relative;}#sk-container-id-7 div.sk-item {position: relative;z-index: 1;}#sk-container-id-7 div.sk-parallel {display: flex;align-items: stretch;justify-content: center;background-color: white;position: relative;}#sk-container-id-7 div.sk-item::before, #sk-container-id-7 div.sk-parallel-item::before {content: \"\";position: absolute;border-left: 1px solid gray;box-sizing: border-box;top: 0;bottom: 0;left: 50%;z-index: -1;}#sk-container-id-7 div.sk-parallel-item {display: flex;flex-direction: column;z-index: 1;position: relative;background-color: white;}#sk-container-id-7 div.sk-parallel-item:first-child::after {align-self: flex-end;width: 50%;}#sk-container-id-7 div.sk-parallel-item:last-child::after {align-self: flex-start;width: 50%;}#sk-container-id-7 div.sk-parallel-item:only-child::after {width: 0;}#sk-container-id-7 div.sk-dashed-wrapped {border: 1px dashed gray;margin: 0 0.4em 0.5em 0.4em;box-sizing: border-box;padding-bottom: 0.4em;background-color: white;}#sk-container-id-7 div.sk-label label {font-family: monospace;font-weight: bold;display: inline-block;line-height: 1.2em;}#sk-container-id-7 div.sk-label-container {text-align: center;}#sk-container-id-7 div.sk-container {/* jupyter's `normalize.less` sets `[hidden] { display: none; }` but bootstrap.min.css set `[hidden] { display: none !important; }` so we also need the `!important` here to be able to override the default hidden behavior on the sphinx rendered scikit-learn.org. See: https://github.com/scikit-learn/scikit-learn/issues/21755 */display: inline-block !important;position: relative;}#sk-container-id-7 div.sk-text-repr-fallback {display: none;}</style><div id=\"sk-container-id-7\" class=\"sk-top-container\"><div class=\"sk-text-repr-fallback\"><pre>GaussianNB()</pre><b>In a Jupyter environment, please rerun this cell to show the HTML representation or trust the notebook. <br />On GitHub, the HTML representation is unable to render, please try loading this page with nbviewer.org.</b></div><div class=\"sk-container\" hidden><div class=\"sk-item\"><div class=\"sk-estimator sk-toggleable\"><input class=\"sk-toggleable__control sk-hidden--visually\" id=\"sk-estimator-id-7\" type=\"checkbox\" checked><label for=\"sk-estimator-id-7\" class=\"sk-toggleable__label sk-toggleable__label-arrow\">GaussianNB</label><div class=\"sk-toggleable__content\"><pre>GaussianNB()</pre></div></div></div></div></div>"
      ],
      "text/plain": [
       "GaussianNB()"
      ]
     },
     "execution_count": 106,
     "metadata": {},
     "output_type": "execute_result"
    }
   ],
   "source": [
    "#Membuat model\n",
    "nb = GaussianNB()\n",
    "\n",
    "#Melatih model \n",
    "nb.fit(x_train, y_train)"
   ]
  },
  {
   "cell_type": "code",
   "execution_count": 107,
   "id": "151a9206-a881-4636-98d6-391a42912886",
   "metadata": {
    "tags": []
   },
   "outputs": [
    {
     "name": "stdout",
     "output_type": "stream",
     "text": [
      "Akurasi Model Naive Bayes: 84.35%\n"
     ]
    }
   ],
   "source": [
    "#Memprediksi data pengujian\n",
    "y_pred_nb = nb.predict(x_test)\n",
    "\n",
    "#Menghitung akurasi \n",
    "accuracy_nb = accuracy_score(y_test, y_pred_nb)\n",
    "\n",
    "print('Akurasi Model Naive Bayes: {:.2f}%'.format(accuracy_nb * 100))"
   ]
  },
  {
   "cell_type": "markdown",
   "id": "573ceb9f-6d6f-48de-9518-c1bc05f647b5",
   "metadata": {},
   "source": [
    "melalui hasil di atas dapat terlihat bahwa Model Naive Bayes memiliki tingkat akurasi yang baik juga dengan angka sekitar 84.35%, tetapi angka tersebut cenderung lebih rendah jika dibandingkan dengan tingkat model lainnya yang cenderung berada pada angka 88%. Sehingga dengan ini perli dilakukan evaluasi kembali untuk dapat memastikan apakah model ini benar - benar akurat untuk digunakan di dalam pengambilan keputusan.  "
   ]
  },
  {
   "cell_type": "markdown",
   "id": "471c9b02-9c4d-4faa-90bb-95ac3d3f3c77",
   "metadata": {},
   "source": [
    "### Confusion Matrix"
   ]
  },
  {
   "cell_type": "code",
   "execution_count": 110,
   "id": "b231ffc0-ddef-4dd0-8bfb-35eb51508d23",
   "metadata": {
    "tags": []
   },
   "outputs": [
    {
     "name": "stdout",
     "output_type": "stream",
     "text": [
      "Confusion Matrix menggunakan model Logistic Regression:\n",
      "[[7269    0]\n",
      " [ 967    0]]\n"
     ]
    }
   ],
   "source": [
    "#Membuat model dengan menggunakan logistic regression\n",
    "y_pred_logreg = logreg.predict(x_test)\n",
    "\n",
    "#Mengakumulasikan confusion matrix\n",
    "cm_logreg = confusion_matrix(y_test, y_pred_logreg)\n",
    "\n",
    "print('Confusion Matrix menggunakan model Logistic Regression:')\n",
    "print(cm_logreg)"
   ]
  },
  {
   "cell_type": "code",
   "execution_count": 111,
   "id": "be9d76b5-7fd2-48ba-940b-dc836d674932",
   "metadata": {
    "tags": []
   },
   "outputs": [
    {
     "data": {
      "image/png": "[encoded data removed]",
      "text/plain": [
       "<Figure size 800x600 with 2 Axes>"
      ]
     },
     "metadata": {},
     "output_type": "display_data"
    }
   ],
   "source": [
    "#Memvisualisasikan hasil CM dengan menggunakan heatmap\n",
    "plt.figure(figsize=(8,6))\n",
    "sns.heatmap(cm_logreg, annot = True, fmt='d', cmap ='Blues')\n",
    "plt.xlabel('Predicted')\n",
    "plt.ylabel('Actual')\n",
    "plt.show()"
   ]
  },
  {
   "cell_type": "code",
   "execution_count": 113,
   "id": "18e805c3-be76-49fe-a710-f333514aaa35",
   "metadata": {
    "tags": []
   },
   "outputs": [
    {
     "name": "stdout",
     "output_type": "stream",
     "text": [
      "Confusion Matrix menggunakan model SVM:\n",
      "[[7269    0]\n",
      " [ 967    0]]\n"
     ]
    }
   ],
   "source": [
    "#Membuat model dengan menggunakan SVM\n",
    "y_pred_svm = svm.predict(x_test)\n",
    "\n",
    "#Mengakumulasikan confusion matrix\n",
    "cm_svm = confusion_matrix(y_test, y_pred_svm)\n",
    "\n",
    "print('Confusion Matrix menggunakan model SVM:')\n",
    "print(cm_svm)"
   ]
  },
  {
   "cell_type": "code",
   "execution_count": 114,
   "id": "be482bb3-396b-4867-b232-b0f297a74781",
   "metadata": {
    "tags": []
   },
   "outputs": [
    {
     "data": {
      "image/png": "[encoded data removed]",
      "text/plain": [
       "<Figure size 800x600 with 2 Axes>"
      ]
     },
     "metadata": {},
     "output_type": "display_data"
    }
   ],
   "source": [
    "#Memvisualisasikan hasil CM dengan menggunakan heatmap\n",
    "plt.figure(figsize=(8,6))\n",
    "sns.heatmap(cm_svm, annot = True, fmt='d', cmap ='Blues')\n",
    "plt.xlabel('Predicted')\n",
    "plt.ylabel('Actual')\n",
    "plt.show()"
   ]
  },
  {
   "cell_type": "code",
   "execution_count": 115,
   "id": "f051192d-c579-43bd-9c86-dcd74983118b",
   "metadata": {
    "tags": []
   },
   "outputs": [
    {
     "name": "stdout",
     "output_type": "stream",
     "text": [
      "Confusion Matrix menggunakan model Decision Tree:\n",
      "[[7245   24]\n",
      " [ 944   23]]\n"
     ]
    }
   ],
   "source": [
    "#Membuat model dengan menggunakan Decision Tree\n",
    "y_pred_decision_tree = decision_tree.predict(x_test)\n",
    "\n",
    "#Mengakumulasikan confusion matrix\n",
    "cm_decision_tree = confusion_matrix(y_test, y_pred_decision_tree)\n",
    "\n",
    "print('Confusion Matrix menggunakan model Decision Tree:')\n",
    "print(cm_decision_tree)"
   ]
  },
  {
   "cell_type": "code",
   "execution_count": 116,
   "id": "2eb760cb-6847-4d3b-9f96-8155463ef708",
   "metadata": {
    "tags": []
   },
   "outputs": [
    {
     "data": {
      "image/png": "[encoded data removed]",
      "text/plain": [
       "<Figure size 800x600 with 2 Axes>"
      ]
     },
     "metadata": {},
     "output_type": "display_data"
    }
   ],
   "source": [
    "#Memvisualisasikan hasil CM dengan menggunakan heatmap\n",
    "plt.figure(figsize=(8,6))\n",
    "sns.heatmap(cm_decision_tree, annot = True, fmt='d', cmap ='Blues')\n",
    "plt.xlabel('Predicted')\n",
    "plt.ylabel('Actual')\n",
    "plt.show()"
   ]
  },
  {
   "cell_type": "code",
   "execution_count": 117,
   "id": "a28ab089-7ea0-411a-9dcf-6354bbb374e2",
   "metadata": {
    "tags": []
   },
   "outputs": [
    {
     "name": "stdout",
     "output_type": "stream",
     "text": [
      "Confusion Matrix menggunakan model Random Forest:\n",
      "[[7241   28]\n",
      " [ 940   27]]\n"
     ]
    }
   ],
   "source": [
    "#Membuat model dengan menggunakan Random Forest\n",
    "y_pred_random_forest = random_forest.predict(x_test)\n",
    "\n",
    "#Mengakumulasikan confusion matrix\n",
    "cm_random_forest = confusion_matrix(y_test, y_pred_random_forest)\n",
    "\n",
    "print('Confusion Matrix menggunakan model Random Forest:')\n",
    "print(cm_random_forest)"
   ]
  },
  {
   "cell_type": "code",
   "execution_count": 118,
   "id": "1f9d293b-11db-4d36-bc0f-8a804a220d36",
   "metadata": {
    "tags": []
   },
   "outputs": [
    {
     "data": {
      "image/png": "[encoded data removed]",
      "text/plain": [
       "<Figure size 800x600 with 2 Axes>"
      ]
     },
     "metadata": {},
     "output_type": "display_data"
    }
   ],
   "source": [
    "#Memvisualisasikan hasil CM dengan menggunakan heatmap\n",
    "plt.figure(figsize=(8,6))\n",
    "sns.heatmap(cm_random_forest, annot = True, fmt='d', cmap ='Blues')\n",
    "plt.xlabel('Predicted')\n",
    "plt.ylabel('Actual')\n",
    "plt.show()"
   ]
  },
  {
   "cell_type": "markdown",
   "id": "f4fcf6d2-c546-43a9-9755-427943e9d602",
   "metadata": {},
   "source": [
    "Melalui beberapa visualisasi menggunakan heatmap di atas dapat terlihat bahwa Model Decision Tree memiliki angka-angka yang cenderung dibandingkan dengan yang lainnya. \n",
    "\n",
    "Pada heatmap decision tree, terdapat 7245 True Positives yang melambangkan jawaban 'yes' dari pelanggan yang diprediksi benar oleh model. Kemudian terdapat 27 True Negatives yang melambangkan jawaban 'no' tetapi diprediksi benar juga. Juga terdapat 940 False Positives yang melambangkan 'no' tetapi diprediksi sebagai 'yes'. Terakhir, terdapat 28 False Negatives yang melambangkan jawaban 'yes' tetapi diprediksi sebagai 'no'. \n",
    "\n",
    "Melalui pemodelan ini, dapat diketahui beberapa hal seperti perlunya peningkatan akurasi, upaya mengurangi False Positives dan Negatives untuk semakin baik di dalam memprediksi pendaftaran pelanggan."
   ]
  },
  {
   "cell_type": "markdown",
   "id": "a6845446-c443-44b3-bc93-f2b2c63e87fa",
   "metadata": {},
   "source": [
    "### Algorithm Analysis "
   ]
  },
  {
   "cell_type": "markdown",
   "id": "f7e78adc-6973-4f40-8812-35761e492485",
   "metadata": {},
   "source": [
    "Melalu beberapa visualisasi yang dilakukan tadi maka saya memilih Decision Tree dengan tingkat akurasi sebesar 88.25% dengan beberapa alasan seperti:\n",
    "\n",
    "1. Potensi Akurasi Tinggi\n",
    "- Keputusan saya untuk menggunakan Decision Tree juga didasarkan pada potensi model ini untuk memberikan akurasi yang tinggi. Meskipun fleksibel dalam menangani pola non-linier, Decision Tree masih mampu memberikan tingkat akurasi yang memuaskan, terutama setelah dilakukan transformasi pada data.\n",
    "\n",
    "2. Kemampuan Menangani Masalah Overfitting\n",
    "- Decision Tree dapat mengontrol overfitting dengan pengaturan parameter yang tepat. Hal ini memastikan bahwa model tidak terlalu sesuai dengan data pelatihan dan mampu menggeneralisasi dengan baik pada data baru.\n",
    "\n",
    "3. Potensi Sebagai Bagian dari Ensemble Learning\n",
    "- Saya juga melihat bahwa Decision Tree dapat digunakan sebagai komponen dalam ensemble learning, seperti Random Forest atau Gradient Boosted Trees. Dengan cara ini, model dapat ditingkatkan secara keseluruhan, yang dapat berkontribusi pada peningkatan akurasi dan kinerja keseluruhan."
   ]
  },
  {
   "cell_type": "code",
   "execution_count": null,
   "id": "34f479ce-f6d3-4e4a-a892-da0d18fd23b9",
   "metadata": {},
   "outputs": [],
   "source": []
  }
 ],
 "metadata": {
  "kernelspec": {
   "display_name": "Python 3 (ipykernel)",
   "language": "python",
   "name": "python3"
  },
  "language_info": {
   "codemirror_mode": {
    "name": "ipython",
    "version": 3
   },
   "file_extension": ".py",
   "mimetype": "text/x-python",
   "name": "python",
   "nbconvert_exporter": "python",
   "pygments_lexer": "ipython3",
   "version": "3.11.4"
  }
 },
 "nbformat": 4,
 "nbformat_minor": 5
}
